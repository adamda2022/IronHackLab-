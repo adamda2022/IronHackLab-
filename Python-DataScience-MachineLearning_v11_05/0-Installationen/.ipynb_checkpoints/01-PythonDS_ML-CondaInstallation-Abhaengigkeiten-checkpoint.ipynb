{
 "cells": [
  {
   "cell_type": "markdown",
   "metadata": {},
   "source": [
    "<a href=\"https://akademie.datamics.com/kursliste/\">![title](bg_datamics_top.png)</a>\n",
    "\n",
    "<center><em>© Datamics</em></center><br><center><em>Besuche uns für mehr Informationen auf <a href='https://akademie.datamics.com/kursliste/'>www.akademie.datamics.com</a></em>\n",
    "\n",
    "# Installations-Notebook für alle Abhängigkeiten"
   ]
  },
  {
   "cell_type": "markdown",
   "metadata": {},
   "source": [
    "## Update Conda\n",
    "\n",
    "Um Sicherzugehen, dass du die neueste Version von Conda installiert hast, updaten wir in der nächsten Zeile deine Conda Umgebung. Dies kann einige Minuten dauern, auch wenn du die neuste Conda Version hast.  "
   ]
  },
  {
   "cell_type": "code",
   "execution_count": null,
   "metadata": {},
   "outputs": [],
   "source": [
    "# Dieser Command Update conda auf die neuste stable Version\n",
    "%conda update -n base -c defaults conda"
   ]
  },
  {
   "cell_type": "markdown",
   "metadata": {},
   "source": [
    "### Kapitel: Python Für Data Analysis \n",
    "\n",
    "#### NumPy\n",
    "\n",
    "NumPy (oder Numpy) ist eine Lineare Algebra Library für Python.\n",
    "\n",
    "Anwendung: Mathematische Operationen\n",
    "\n",
    "Vorteile: Schnelligkeit, Weitverbreitet\n",
    "\n",
    "https://docs.scipy.org/doc/numpy/reference/"
   ]
  },
  {
   "cell_type": "code",
   "execution_count": null,
   "metadata": {
    "scrolled": true
   },
   "outputs": [],
   "source": [
    "%conda install numpy"
   ]
  },
  {
   "cell_type": "markdown",
   "metadata": {},
   "source": [
    "#### Pandas\n",
    "pandas ist eine Open-Source-Bibliothek mit BSD-Lizenz, die leistungsstarke, einfach zu bedienende Datenstrukturen und Datenanalysetools für Python bietet.\n",
    "\n",
    "https://pandas.pydata.org/"
   ]
  },
  {
   "cell_type": "code",
   "execution_count": null,
   "metadata": {},
   "outputs": [],
   "source": [
    "%conda install pandas"
   ]
  },
  {
   "cell_type": "markdown",
   "metadata": {},
   "source": [
    "#### xlrd\n",
    "xlrd ist eine Bibliothek zum Lesen von Daten und Formatieren von Informationen aus Excel-Dateien, unabhängig davon, ob es sich um .xls- oder.xlsx-Dateien handelt.\n",
    "\n",
    "Wir verwenden sie, dafür um EXCEL Dateien in einen Pandas Datenframe zu parsen.\n",
    "\n",
    "https://xlrd.readthedocs.io/en/latest/"
   ]
  },
  {
   "cell_type": "code",
   "execution_count": null,
   "metadata": {},
   "outputs": [],
   "source": [
    "%conda install xlrd"
   ]
  },
  {
   "cell_type": "markdown",
   "metadata": {},
   "source": [
    "#### openpyxl\n",
    "Eine Anforderung um EXCEL Dateien zu parsen.\n",
    "\n",
    "https://openpyxl.readthedocs.io/en/stable/"
   ]
  },
  {
   "cell_type": "code",
   "execution_count": null,
   "metadata": {},
   "outputs": [],
   "source": [
    "%conda install openpyxl"
   ]
  },
  {
   "cell_type": "markdown",
   "metadata": {},
   "source": [
    "#### lxml \n",
    "lxml ist eine Funktionsreiche und einfach zu bedienende Bibliothek zur Verarbeitung von XML und HTML in Python.\n",
    "\n",
    "https://lxml.de/"
   ]
  },
  {
   "cell_type": "code",
   "execution_count": null,
   "metadata": {},
   "outputs": [],
   "source": [
    "%conda install lxml"
   ]
  },
  {
   "cell_type": "markdown",
   "metadata": {},
   "source": [
    "#### sqlalchemy\n",
    "SQLAlchemy ist das Python SQL-Toolkit und Object Relational Mapper, das Anwendungsentwicklern die volle Leistung und Flexibilität von SQL bietet.\n",
    "\n",
    "Es bietet eine vollständige Palette bekannter Persistenzmuster auf Enterprise-Ebene, die für einen effizienten und leistungsstarken Datenbankzugriff ausgelegt sind und in eine einfache und pythonische Domänensprache angepasst sind.\n",
    "\n",
    "https://www.sqlalchemy.org/\n",
    "\n",
    "https://docs.sqlalchemy.org/en/13/\n"
   ]
  },
  {
   "cell_type": "code",
   "execution_count": null,
   "metadata": {},
   "outputs": [],
   "source": [
    "%conda install sqlalchemy"
   ]
  },
  {
   "cell_type": "markdown",
   "metadata": {},
   "source": [
    "### Kapitel: Python für Data Visualization "
   ]
  },
  {
   "cell_type": "markdown",
   "metadata": {},
   "source": [
    "#### Matplotlib\n",
    "Matplotlib ist quasi der Großvater der Daten Visualisierung mit Python. Es wurde von John Hunter geschaffen und sollte dazu dienen, die Möglichkeiten, die MatLab (eine weitere Programmiersprache) zur Visualisierung bietet, in Python nachzubilden. Wenn du MatLab kennst, dann wird dir Matplotlib vertraut vorkommen.\n",
    "\n",
    "Es ist eine exzellente 2D und 3D Grafik Library um wissenschaftliche Diagramme zu erzeugen.\n",
    "\n",
    "Einige der größten Vorteile von Matplotlib sind:\n",
    "\n",
    "* Generell ist es einfach mit simplen Plots loszulegen\n",
    "* Es werden eigene Labels und Texte unterstützt\n",
    "* Gute Kontrolle über jedes einzelne Element in einem Diagram\n",
    "* Output in hoher Qualität in viele Formate\n",
    "* Insgesamt sehr anpassbar\n",
    "\n",
    "Matplotlib erlaubt es uns wiederherstellbare Graphen durch Programmieren zu erstellen.\n",
    "\n",
    "[http://matplotlib.org/](http://matplotlib.org/)"
   ]
  },
  {
   "cell_type": "code",
   "execution_count": null,
   "metadata": {},
   "outputs": [],
   "source": [
    "%conda install matplotlib"
   ]
  },
  {
   "cell_type": "markdown",
   "metadata": {},
   "source": [
    "#### Seaborn\n",
    "Seaborn ist eine Python-Datenvisualisierungsbibliothek auf Basis von matplotlib. Sie bietet eine High-Level-Schnittstelle für die Erstellung anschaulicher und aussagekräftiger Statistikgrafiken.\n",
    "\n",
    "https://seaborn.pydata.org/"
   ]
  },
  {
   "cell_type": "code",
   "execution_count": null,
   "metadata": {},
   "outputs": [],
   "source": [
    "%conda install seaborn"
   ]
  },
  {
   "cell_type": "markdown",
   "metadata": {},
   "source": [
    "#### plotly\n",
    "\n",
    "*Plotly* ist eine Library die es uns erlaubt interaktive Plots zu erstellen, die wir in Dashboards oder Webseiten verwenden können. Dazu können sie als HTML-Datei oder statisches Bild gespeichert werden.\n",
    "\n",
    "https://plot.ly/"
   ]
  },
  {
   "cell_type": "code",
   "execution_count": null,
   "metadata": {},
   "outputs": [],
   "source": [
    "%conda install -c plotly chart-studio"
   ]
  },
  {
   "cell_type": "markdown",
   "metadata": {},
   "source": [
    "#### cufflinks\n",
    "\n",
    "Cufflinks verbindet Plotly direkt mit Pandas-Datenrahmen.\n",
    "\n",
    "https://plot.ly/python/v3/ipython-notebooks/cufflinks/"
   ]
  },
  {
   "cell_type": "code",
   "execution_count": null,
   "metadata": {},
   "outputs": [],
   "source": [
    "# Install a pip package in the current Jupyter kernel\n",
    "import sys\n",
    "!{sys.executable} -m pip install cufflinks\n",
    "%conda install -c conda-forge cufflinks-py"
   ]
  },
  {
   "cell_type": "markdown",
   "metadata": {},
   "source": [
    "### Kapitel: Daten Meilenstein Projekte"
   ]
  },
  {
   "cell_type": "markdown",
   "metadata": {},
   "source": [
    "#### pandas_datareader\n",
    "\n",
    "Eine Python Hilfs-Bilbilothek um verschiedene Börsenwerte aus verschiedene Börsen-APIs aufzurufen.\n",
    "\n",
    "https://pandas-datareader.readthedocs.io/en/latest/remote_data.html"
   ]
  },
  {
   "cell_type": "code",
   "execution_count": null,
   "metadata": {},
   "outputs": [],
   "source": [
    "# %conda install -c conda-forge pandas_datareader\n",
    "%conda install pandas-datareader"
   ]
  },
  {
   "cell_type": "markdown",
   "metadata": {},
   "source": [
    "### Kapitel: Machine Learning"
   ]
  },
  {
   "cell_type": "markdown",
   "metadata": {},
   "source": [
    "#### sklearn\n",
    "* Einfache und effiziente Tools für Data Mining und Datenanalyse\n",
    "* Für jedermann zugänglich und in verschiedenen Kontexten wiederverwendbar.\n",
    "* Aufbauend auf NumPy, SciPy und matplotlib\n",
    "* Open Source, kommerziell nutzbar - BSD-Lizenz\n",
    "\n",
    "https://scikit-learn.org/stable/"
   ]
  },
  {
   "cell_type": "code",
   "execution_count": null,
   "metadata": {},
   "outputs": [],
   "source": [
    "%conda install scikit-learn"
   ]
  },
  {
   "cell_type": "markdown",
   "metadata": {},
   "source": [
    "#### pydot\n",
    "* ist eine Schnittstelle zu Graphviz\n",
    "* kann in die von GraphViz verwendete DOT-Sprache analysiert und ausgegeben werden,\n",
    "* ist in reinem Python geschrieben\n",
    "\n",
    "https://pypi.org/project/pydot/"
   ]
  },
  {
   "cell_type": "code",
   "execution_count": null,
   "metadata": {},
   "outputs": [],
   "source": [
    "%conda install pydot"
   ]
  },
  {
   "cell_type": "markdown",
   "metadata": {},
   "source": [
    "#### graphviz\n",
    "Graphviz ist eine Open-Source-Software zur Visualisierung von Graphen. Die Graphenvisualisierung ist eine Möglichkeit, strukturelle Informationen als Diagramme von abstrakten Graphen und Netzwerken darzustellen. \n",
    "\n",
    "https://www.graphviz.org/"
   ]
  },
  {
   "cell_type": "code",
   "execution_count": null,
   "metadata": {},
   "outputs": [],
   "source": [
    "%conda install graphviz"
   ]
  },
  {
   "cell_type": "markdown",
   "metadata": {},
   "source": [
    "## Kapitel: Pyspark und Big Data"
   ]
  },
  {
   "cell_type": "markdown",
   "metadata": {},
   "source": [
    "#### pyspark\n",
    "PySpark ist die Python API für Spark.\n",
    "\n",
    "https://spark.apache.org/docs/latest/api/python/index.html"
   ]
  },
  {
   "cell_type": "code",
   "execution_count": null,
   "metadata": {},
   "outputs": [],
   "source": [
    "# Achtung!Die Pyspark Installation dauert Minuten\n",
    "%conda install -v pyspark"
   ]
  },
  {
   "cell_type": "markdown",
   "metadata": {},
   "source": [
    "## Kapitel: Deep Learning"
   ]
  },
  {
   "cell_type": "markdown",
   "metadata": {},
   "source": [
    "#### Tensorflow\n",
    "TensorFlow ist eine End-to-End-Open-Source-Plattform für maschinelles Lernen. Sie verfügt über ein umfassendes, flexibles Netzwerk von Tools, Bibliotheken und Community-Ressourcen, das es Forschern ermöglicht, den Stand der Technik in ML zu verbessern, und Entwicklern ermöglicht, ML-basierte Anwendungen einfach zu erstellen und bereitzustellen."
   ]
  },
  {
   "cell_type": "code",
   "execution_count": null,
   "metadata": {},
   "outputs": [],
   "source": [
    "%conda install tensorflow"
   ]
  },
  {
   "cell_type": "markdown",
   "metadata": {},
   "source": [
    "### Neustarten des Python-Kernels\n",
    "Um alle installieren Packete und Bibliotheken zu verwenden muss der Python-Kernel von Jupyter Notebook neugestartet werden. "
   ]
  },
  {
   "cell_type": "code",
   "execution_count": null,
   "metadata": {},
   "outputs": [],
   "source": [
    "# Diese Zelle starte den Kernel neu\n",
    "from IPython.display import display_html\n",
    "def restartkernel() :\n",
    "    display_html(\"<script>Jupyter.notebook.kernel.restart()</script>\",raw=True)\n",
    "\n",
    "\n",
    "restartkernel()    "
   ]
  }
 ],
 "metadata": {
  "kernelspec": {
   "display_name": "Python 3 (ipykernel)",
   "language": "python",
   "name": "python3"
  },
  "language_info": {
   "codemirror_mode": {
    "name": "ipython",
    "version": 3
   },
   "file_extension": ".py",
   "mimetype": "text/x-python",
   "name": "python",
   "nbconvert_exporter": "python",
   "pygments_lexer": "ipython3",
   "version": "3.8.10"
  }
 },
 "nbformat": 4,
 "nbformat_minor": 2
}
