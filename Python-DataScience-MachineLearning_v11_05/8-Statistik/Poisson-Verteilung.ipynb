{
 "cells": [
  {
   "cell_type": "markdown",
   "metadata": {},
   "source": [
    "<a href=\"https://akademie.datamics.com/kursliste/\">![title](bg_datamics_top.png)</a><center><em>© Datamics</em></center><br><center><em>Besuche uns für mehr Informationen auf <a href='https://akademie.datamics.com/kursliste/'>www.akademie.datamics.com</a></em>"
   ]
  },
  {
   "cell_type": "markdown",
   "metadata": {},
   "source": [
    "***Hinweis:*** Zuvor sollte man die Binominalverteilung lernen.\n",
    "\n",
    "## Poisson-Verteilung\n",
    "\n",
    "Die Poisson-Verteilung ist eine Wahrscheinlichkeitsverteilung, mit der die Anzahl von Ereignissen modelliert werden kann, die bei konstanter mittlerer Rate unabhängig voneinander in einem festen Zeitintervall oder räumlichen Gebiet eintreten. Sie ist eine univariate diskrete Wahrscheinlichkeitsverteilung, die einen häufig vorkommenden Grenzwert der Binomialverteilung für unendlich viele Versuche darstellt. Sie lässt sich aber auch aus grundlegenden Prozesseigenschaften axiomatisch herleiten.\n",
    "\n",
    "Die Zuwächse eines Poisson-Prozesses sind Poisson-verteilte Zufallsvariablen. Erweiterungen der Poisson-Verteilung wie die verallgemeinerte Poisson-Verteilung und die Gemischte Poisson-Verteilung werden vor allem im Bereich der Versicherungsmathematik angewendet. \n",
    "\n",
    "Wir schauen uns zunächst die Definition an, brechen auf was diese bedeudet, schauen uns ein Beispiel an und erzeugen die Poisson-Verteilung mit Scipy und Matplotlib"
   ]
  },
  {
   "cell_type": "markdown",
   "metadata": {},
   "source": [
    "***Definition:*** Die Poisson-Verteilung Pλ ist eine diskrete Wahrscheinlichkeitsverteilung. Sie wird durch einen reellen Parameter λ > 0 bestimmt, der den Erwartungswert und gleichzeitig die Varianz der Verteilung beschreibt. Sie ordnet den natürlichen Zahlen k = 0 , 1 , 2 , … die Wahrscheinlichkeiten "
   ]
  },
  {
   "cell_type": "markdown",
   "metadata": {},
   "source": [
    "$$Pλ(X=k)=\\frac{\\lambda^ke^{-\\lambda}}{k!}$$"
   ]
  },
  {
   "cell_type": "markdown",
   "metadata": {},
   "source": [
    "zu, wobei e die eulersche Zahl (e=2.718...) und k! die Fakultät von k bezeichnet. Der Parameter λ beschreibt anschaulich die bei einer Beobachtung erwartete Ereignishäufigkeit. Die Poisson-Verteilung gibt dann die Wahrscheinlichkeit einer bestimmten Ereignisanzahl k im Einzelfall an, wenn die mittlere Ereignisrate λ bekannt ist. "
   ]
  },
  {
   "cell_type": "markdown",
   "metadata": {},
   "source": [
    "Die Poisson-Verteilung hat die folgenden Eigenschaften:\n",
    "\n",
    "    1.) Diskrete Ergebnisse (x=0,1,2,3...)\n",
    "    2.) Die Anzahl der Ereignishäufigkeit kann theoretisch von 0 bis unendlich reichen.\n",
    "    3.) Sie beschreibt die Verteilung von seltenen Ereignissen.\n",
    "    4.) Jedes Ereignis ist unabhängig von den anderen.\n",
    "    5.) Beschreibt diskrete Ereignisse über ein Zeit- oder Distanzinterval.\n",
    "    6.) Die erwartete Ereignishäufigkeit E(X) wird während des Experiments als konstant angenommen."
   ]
  },
  {
   "cell_type": "markdown",
   "metadata": {},
   "source": [
    "##### Wie sieht dazu ein Beispiel aus?\n",
    "\n",
    "Nehmen wir an, eine Pizzaria hat eine Mittagszeit von 12:30 bis 13:00 Uhr an der die meisten Kunden kommen. Wenn wir auf die Verkaufsdaten der Vortage schauen, erkennen wir dass durchschnittlich 10 Kunden zwischen 12:30 und 13:00 Uhr kommen. Wie hoch ist die Wahrscheinlichkeit dass *genau* 7 Kunden während dieser Zeit kommen? Wie hoch ist die Wahrscheinlichkeit dass *mehr als* 10 Kunden kommen?\n"
   ]
  },
  {
   "cell_type": "markdown",
   "metadata": {},
   "source": [
    "Überlegen wir uns zunächst wie viele Kunden wir erwarten die zur Mittagszeit in die Pizzeria kommen. Nun, diese Information haben wir schon, nämlich 10. Da der Durchschnitt 10 ist, ist auch unser erwarteter Wert E(x) = 10. In der Poisson-Verteilung ist das λ. "
   ]
  },
  {
   "cell_type": "markdown",
   "metadata": {},
   "source": [
    "Nachdem wir jetzt den Wert für λ kennen, können wir diese für die Wahrscheinlichkeitsfunktion (en. probability mass function) verwenden und die Fragen beantworten. Dazu verwenden wir Python und beginnen mit der ersten Frage: \"Wie hoch ist die Wahrscheinlichkeit dass genau 7 Kunden während dieser Zeit kommen?\"\n",
    "\n",
    "Hinweis: \"lambda\" sollte nicht als Objektname verwendet werden, da es schon eine eingebaute Pythonfunktion ist!"
   ]
  },
  {
   "cell_type": "code",
   "execution_count": 1,
   "metadata": {},
   "outputs": [
    {
     "name": "stdout",
     "output_type": "stream",
     "text": [
      " Die Wahrscheinlichkeit dass genau 7 Kunden während der Mittagszeit kommen ist 9.01 %\n"
     ]
    }
   ],
   "source": [
    "# Definiere lambda\n",
    "lamb = 10\n",
    "\n",
    "# Definiere k mit der Anzahl der Ereignisse\n",
    "k=7\n",
    "\n",
    "# Initialisiere und factorial math statements\n",
    "from math import exp\n",
    "from math import factorial\n",
    "\n",
    "# Erstelle die Wahrscheinlichkeitsfunktion (probability mass function) \n",
    "prob = (lamb**k)*exp(-lamb)/factorial(k)\n",
    "\n",
    "# Ausgabe\n",
    "print (' Die Wahrscheinlichkeit dass genau 7 Kunden während der Mittagszeit kommen ist %2.2f %%' %(100*prob))"
   ]
  },
  {
   "cell_type": "markdown",
   "metadata": {},
   "source": [
    "### Poisson-Verteilung mit Scipy\n",
    "\n",
    "Nachdem wir die Wahrscheinlichkeitsfunktion manuell erstellt haben können wir diese jetzt automatisch mit Scipy erstellen."
   ]
  },
  {
   "cell_type": "code",
   "execution_count": 2,
   "metadata": {},
   "outputs": [
    {
     "name": "stdout",
     "output_type": "stream",
     "text": [
      "Die Wahrscheinlichkeit dass genau 7 Kunden während der Mittagszeit kommen ist 9.01 %\n",
      "Der Durchschnitt ist 10.00 \n"
     ]
    }
   ],
   "source": [
    "\n",
    "from scipy.stats import poisson\n",
    "\n",
    "# Setzte den Druchschnitt = 10 Kundne für das Mittagsessen\n",
    "mu = 10\n",
    "\n",
    "# Dann können wir den Durchschnitt und die Varianz auslesen\n",
    "mean,var = poisson.stats(mu)\n",
    "\n",
    "# Wir können die Wahrscheinlichkeitsfunktion auch für bestimmte Punkte berechnen \n",
    "odds_seven = poisson.pmf(7,mu)\n",
    "\n",
    "#Ausgabe\n",
    "print ('Die Wahrscheinlichkeit dass genau 7 Kunden während der Mittagszeit kommen ist %2.2f %%'  %(100*odds_seven))\n",
    "\n",
    "print ('Der Durchschnitt ist %2.2f ' %mean)"
   ]
  },
  {
   "cell_type": "markdown",
   "metadata": {},
   "source": [
    "Super! Unsere manuelle Berechnung stimmt mit der eingebauten Berechnung von Scipy überein. \n",
    "\n",
    "Jetzt schauen wir uns die ganze Verteilung an, da wir die Informationen zur Beantwortung der zweiten Frage benötigen.\n"
   ]
  },
  {
   "cell_type": "code",
   "execution_count": 3,
   "metadata": {},
   "outputs": [],
   "source": [
    "import numpy as np\n",
    "\n",
    "# Schauen wir uns die Wahrscheinlichkeitsfunktion für 30 Kunden an  \n",
    "# Zur Erinnerung, es können theoretisch unendlich viele Kunden kommen \n",
    "k=np.arange(30)\n",
    "\n",
    "# Der Durchschnitt ist 10 Kunden für dieses Zeitinterval \n",
    "lamb = 10\n",
    "\n",
    "# Erstelle die Wahrscheinlichkeitsfunktion für den Plot\n",
    "pmf_pois = poisson.pmf(k,lamb)\n"
   ]
  },
  {
   "cell_type": "markdown",
   "metadata": {},
   "source": [
    "Wir verwenden Seaborn mit einem einfachen Balkendiagram"
   ]
  },
  {
   "cell_type": "code",
   "execution_count": 4,
   "metadata": {},
   "outputs": [
    {
     "data": {
      "text/plain": [
       "<BarContainer object of 30 artists>"
      ]
     },
     "execution_count": 4,
     "metadata": {},
     "output_type": "execute_result"
    },
    {
     "data": {
      "image/png": "[encoded data removed]",
      "text/plain": [
       "<Figure size 432x288 with 1 Axes>"
      ]
     },
     "metadata": {
      "needs_background": "light"
     },
     "output_type": "display_data"
    }
   ],
   "source": [
    "import matplotlib.pyplot as plt\n",
    "import seaborn as sns\n",
    "%matplotlib inline\n",
    "\n",
    "plt.bar(k,pmf_pois)"
   ]
  },
  {
   "cell_type": "markdown",
   "metadata": {},
   "source": [
    "***Zur Frage:*** \"Wie hoch ist die Wahrscheinlichkeit dass mehr als 10 Kunden kommen?\" Dazu müssen wir die Werte von jeden Balken nach 10 aufsummieren.  \n",
    "\n",
    "Dazu können wir eine Verteilungsfunktion (Cumulative Distribution Function) verwenden. Jeder Wahrscheinlichkeitsverteilung (wie in diesem Fall die Poisson-Verteilung) und jeder reellwertigen Zufallsvariable kann eine Verteilungsfunktion zugeordnet werden. Anschaulich entspricht dabei der Wert der Verteilungsfunktion an der Stelle x der Wahrscheinlichkeit, dass die zugehörige Zufallsvariable X einen Wert kleiner oder gleich x annimmt. Ist beispielsweise die Verteilung der Schuhgrößen in Europa gegeben, so entspricht der Wert der entsprechenden Verteilungsfunktion bei 45 der Wahrscheinlichkeit, dass ein beliebiger Europäer die Schuhgröße 45 oder kleiner besitzt. \n",
    "\n",
    "Dies bedeutet dass wenn wir die CDF verwenden um die Wahrscheinlichkeit von 10 oder weniger Kunden die kommen zu zeigen, können diese Wahrscheinlichkeit nehmen und von dem gesamten Wahrscheinlichkeitsraum subtrahieren. Dieser Wahrscheinlichkeitsraum ist 1, die Summe aller Wahrscheinlichkeiten für jede Anzahl an Kunden.\n",
    "\n",
    "Scipy hat dafür schon eine eingebaute Funktion die wir verwenden:"
   ]
  },
  {
   "cell_type": "code",
   "execution_count": 5,
   "metadata": {},
   "outputs": [
    {
     "name": "stdout",
     "output_type": "stream",
     "text": [
      "Die Wahrscheinlichkeit dass 10 oder weniger Kunden kommen ist die folgende 58.3 %.\n"
     ]
    }
   ],
   "source": [
    "# k = 10 Kunden, mean = 10 für den Durchschnitt von Zehn Kunden währen des Zeitintervals \n",
    "k,mu = 10,10\n",
    "\n",
    "# Die Wahrscheinlichkeit dass 10 oder weniger Kunden kommen: \n",
    "prob_up_to_ten = poisson.cdf(k,mu)\n",
    "\n",
    "# Ausgabe\n",
    "print ('Die Wahrscheinlichkeit dass 10 oder weniger Kunden kommen ist die folgende %2.1f %%.' %(100*prob_up_to_ten))"
   ]
  },
  {
   "cell_type": "markdown",
   "metadata": {},
   "source": [
    "Jetzt müssen wir noch die Frage für *mehr als* 10 Kunden beantworten. "
   ]
  },
  {
   "cell_type": "code",
   "execution_count": 7,
   "metadata": {},
   "outputs": [
    {
     "name": "stdout",
     "output_type": "stream",
     "text": [
      "Die Wahrscheinlichkeit dass mehr als 10 Kunden kommen ist die folgende 41.7 %.\n"
     ]
    }
   ],
   "source": [
    "prob_more_than_ten = 1 - prob_up_to_ten\n",
    "\n",
    "print('Die Wahrscheinlichkeit dass mehr als 10 Kunden kommen ist die folgende %2.1f %%.' %(100*prob_more_than_ten))"
   ]
  },
  {
   "cell_type": "markdown",
   "metadata": {},
   "source": [
    "-----"
   ]
  },
  {
   "cell_type": "markdown",
   "metadata": {},
   "source": [
    "##### Das war eine kurze Übersicht zur Poisson-Verteilung.\n",
    "\n",
    "Es gibt noch sehr viel mehr Literatur zur Poisson-Verteilung, die du dir anschauen kannst. Hier sind ein Paar Links zu weiteren Erklärungen:\n",
    "\n",
    "1.)https://de.wikipedia.org/wiki/Poisson-Verteilung\n",
    "\n",
    "2.)https://www.mathi.uni-heidelberg.de/~thaeter/stochastik08/poissonLu02.pdf\n",
    "\n",
    "3.)http://docs.scipy.org/doc/scipy/reference/generated/scipy.stats.poisson.html"
   ]
  },
  {
   "cell_type": "markdown",
   "metadata": {},
   "source": [
    "# Gut gemacht!"
   ]
  }
 ],
 "metadata": {
  "kernelspec": {
   "display_name": "Python 3",
   "language": "python",
   "name": "python3"
  },
  "language_info": {
   "codemirror_mode": {
    "name": "ipython",
    "version": 3
   },
   "file_extension": ".py",
   "mimetype": "text/x-python",
   "name": "python",
   "nbconvert_exporter": "python",
   "pygments_lexer": "ipython3",
   "version": "3.8.5"
  }
 },
 "nbformat": 4,
 "nbformat_minor": 1
}
