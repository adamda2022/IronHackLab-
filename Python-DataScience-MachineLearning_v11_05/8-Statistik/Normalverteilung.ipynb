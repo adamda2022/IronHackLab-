{
 "cells": [
  {
   "cell_type": "markdown",
   "metadata": {},
   "source": [
    "<a href=\"https://akademie.datamics.com/kursliste/\">![title](bg_datamics_top.png)</a><center><em>© Datamics</em></center><br><center><em>Besuche uns für mehr Informationen auf <a href='https://akademie.datamics.com/kursliste/'>www.akademie.datamics.com</a></em>"
   ]
  },
  {
   "cell_type": "markdown",
   "metadata": {
    "collapsed": true
   },
   "source": [
    "***Hinweis:*** Du solltest zuvor die Binominalverteilung lernen.\n",
    "\n",
    "# Normalverteilung"
   ]
  },
  {
   "cell_type": "markdown",
   "metadata": {},
   "source": [
    "Die Normal- oder Gauß-Verteilung ist ein wichtiger Typ stetiger Wahrscheinlichkeitsverteilungen. Ihre Wahrscheinlichkeitsdichte wird auch Gauß-Funktion, Gaußsche Normalverteilung, Gaußsche Verteilungskurve, Gauß-Kurve, Gaußsche Glockenkurve, Gaußsche Glockenfunktion, Gauß-Glocke oder schlicht Glockenkurve genannt.\n",
    "\n",
    "Beispiele mit einer Normalverteilung:\n",
    "\n",
    "    - Zufällige Messfehler,\n",
    "    - Zufällige Abweichungen vom Sollmaß bei der Fertigung von Werkstücken,\n",
    "    - Beschreibung der brownschen Molekularbewegung.\n",
    "    - In der Versicherungsmathematik ist die Normalverteilung geeignet zur Modellierung von Schadensdaten im Bereich mittlerer Schadenshöhen.\n",
    "    - In der Messtechnik wird häufig eine Normalverteilung angesetzt, die die Streuung der Messfehler beschreibt. Hierbei ist von Bedeutung, wie viele Messpunkte innerhalb einer gewissen Streubreite liegen. \n",
    "\n",
    "Wir schauen uns zunächst die Definition an, erstellen ein Beispiel mit Python indem wir Scipy und Numpy verwenden. Dabei diskutieren wir die Eigenschaften einer Normalverteilung.\n",
    "\n",
    "Die Verteliung wird mit der Wahrscheinlichkeitsdichtefunktion (en. probability density function) beschrieben:\n"
   ]
  },
  {
   "cell_type": "markdown",
   "metadata": {},
   "source": [
    "## $$  f(x,\\mu,\\sigma) = \\frac{1}{\\sigma\\sqrt{2\\pi}}e^\\frac{-1}{2z^2} $$"
   ]
  },
  {
   "cell_type": "markdown",
   "metadata": {},
   "source": [
    "wobei: $$z=\\frac{(X-\\mu)}{\\sigma}$$"
   ]
  },
  {
   "cell_type": "markdown",
   "metadata": {},
   "source": [
    "mit: μ=Durchschnitt , σ=Standardabweichung , π=3.14... , e=2.718... Die Gesamtfläche zwischen der Kurve der Wahrscheinlichkeitsdichtefunktion und der X-Achse ist 1. Daher repräsentiert die Fläche unter der Kurve zweier Ordinaten X=a und X = b, wobei a<b, die Wahrscheinlichkeit dass X zwischen a und b liegt. Diese Wahrscheinlichkeit kann wie folgt ausgedrückt werden: $$Pr(a<X<b)$$"
   ]
  },
  {
   "cell_type": "markdown",
   "metadata": {
    "collapsed": true
   },
   "source": [
    "----------"
   ]
  },
  {
   "cell_type": "markdown",
   "metadata": {},
   "source": [
    "Die Normalverteilung hat die folgenden Eigenschaften:\n",
    "\n",
    "    1.) Die Kurve ist für die theoretische Verteilung symetrisch  \n",
    "    2.) Die Spitze der Kurve ist bei dem Durchschnitt.\n",
    "    3.) Die Standardabweichung gibt der Kurve ihre Form:\n",
    "        -Die Kurve ist für eine höhere Standardabweichung klein und breit.\n",
    "        -Die Kurve ist für eine niedrigere Standardabweichung schmal und hoch.\n",
    "    4.) Die Fläche unter der Kurve ist glecih 1\n",
    "    5.) Der Durchschnitt = Median    "
   ]
  },
  {
   "cell_type": "markdown",
   "metadata": {},
   "source": [
    "Für eine Normalverteilung können wir sehen welcher Prozentsatz der Werte in einer Standardabweichung liegen. 68% der Werte liegen inerhalb einer Standardabweichung (STD) von 1. 95% liegen zwischen 2 STD und 99,7% liegen zwischen 3 STDs. Die Anzahl der Standardabweichungen wird auch Z-Score genannt, den wir oben schon gesehen haben.\n",
    "![title](The_Normal_Distribution.png)"
   ]
  },
  {
   "cell_type": "markdown",
   "metadata": {},
   "source": [
    "Erstellen wir uns selbst eine Normalverteilung mit Scipy."
   ]
  },
  {
   "cell_type": "code",
   "execution_count": 2,
   "metadata": {},
   "outputs": [
    {
     "data": {
      "text/plain": [
       "[<matplotlib.lines.Line2D at 0x2565aa46670>]"
      ]
     },
     "execution_count": 2,
     "metadata": {},
     "output_type": "execute_result"
    },
    {
     "data": {
      "image/png": "[encoded data removed]",
      "text/plain": [
       "<Figure size 432x288 with 1 Axes>"
      ]
     },
     "metadata": {
      "needs_background": "light"
     },
     "output_type": "display_data"
    }
   ],
   "source": [
    "#Import\n",
    "import matplotlib as mpl\n",
    "import matplotlib.pyplot as plt\n",
    "%matplotlib inline\n",
    "from scipy import stats\n",
    "import numpy as np\n",
    "\n",
    "mean = 0\n",
    "std = 1\n",
    "\n",
    "# Erstelle eine range X\n",
    "X = np.arange(-4,4,0.01)\n",
    "\n",
    "# Erstelle eine Normalverteilung für X\n",
    "Y = stats.norm.pdf(X,mean,std)\n",
    "\n",
    "#\n",
    "plt.plot(X,Y)\n"
   ]
  },
  {
   "cell_type": "markdown",
   "metadata": {},
   "source": [
    "Als nächstes schauen wir uns an wie mit Numpy eine Normalverteilung erstellt werden kann."
   ]
  },
  {
   "cell_type": "code",
   "execution_count": 3,
   "metadata": {},
   "outputs": [],
   "source": [
    "mu,sigma = 0,0.1\n",
    "\n",
    "# Jetzt nehmen wir uns 1000 Zufallswerte aus der Normalverteilung\n",
    "norm_set = np.random.normal(mu,sigma,1000)"
   ]
  },
  {
   "cell_type": "markdown",
   "metadata": {},
   "source": [
    "Wir visualisieren die normalverteilten Werte mit einem Seaborn Histogram."
   ]
  },
  {
   "cell_type": "code",
   "execution_count": 4,
   "metadata": {},
   "outputs": [
    {
     "data": {
      "text/plain": [
       "(array([ 1.,  2.,  1.,  0.,  1.,  1.,  3.,  6.,  2.,  4., 13., 10., 16.,\n",
       "        17., 22., 26., 34., 30., 34., 43., 52., 39., 44., 53., 72., 48.,\n",
       "        36., 69., 48., 36., 42., 37., 29., 28., 35., 13., 12., 11.,  7.,\n",
       "         6.,  4.,  4.,  2.,  2.,  0.,  2.,  0.,  2.,  0.,  1.]),\n",
       " array([-0.32976749, -0.31627636, -0.30278522, -0.28929408, -0.27580295,\n",
       "        -0.26231181, -0.24882067, -0.23532954, -0.2218384 , -0.20834726,\n",
       "        -0.19485613, -0.18136499, -0.16787385, -0.15438272, -0.14089158,\n",
       "        -0.12740044, -0.11390931, -0.10041817, -0.08692704, -0.0734359 ,\n",
       "        -0.05994476, -0.04645363, -0.03296249, -0.01947135, -0.00598022,\n",
       "         0.00751092,  0.02100206,  0.03449319,  0.04798433,  0.06147547,\n",
       "         0.0749666 ,  0.08845774,  0.10194888,  0.11544001,  0.12893115,\n",
       "         0.14242228,  0.15591342,  0.16940456,  0.18289569,  0.19638683,\n",
       "         0.20987797,  0.2233691 ,  0.23686024,  0.25035138,  0.26384251,\n",
       "         0.27733365,  0.29082479,  0.30431592,  0.31780706,  0.3312982 ,\n",
       "         0.34478933]),\n",
       " <BarContainer object of 50 artists>)"
      ]
     },
     "execution_count": 4,
     "metadata": {},
     "output_type": "execute_result"
    },
    {
     "data": {
      "image/png": "[encoded data removed]",
      "text/plain": [
       "<Figure size 432x288 with 1 Axes>"
      ]
     },
     "metadata": {
      "needs_background": "light"
     },
     "output_type": "display_data"
    }
   ],
   "source": [
    "import seaborn as sns\n",
    "\n",
    "plt.hist(norm_set,bins=50)"
   ]
  },
  {
   "cell_type": "markdown",
   "metadata": {
    "collapsed": true
   },
   "source": [
    "##### Das war eine kurze Übersicht zur Normalverteilung.\n",
    "\n",
    "Es gibt noch sehr viel mehr Literatur zur Normalverteilung, die du dir anschauen kannst. Hier sind ein paar Links zu weiteren Erklärungen:\n",
    "\n",
    "1.) https://de.wikipedia.org/wiki/Normalverteilung\n",
    "\n",
    "2.) http://mars.wiwi.hu-berlin.de/mediawiki/mmstat3/index.php/Normalverteilung\n",
    "\n",
    "3.) http://mathworld.wolfram.com/NormalDistribution.html"
   ]
  },
  {
   "cell_type": "markdown",
   "metadata": {
    "collapsed": true
   },
   "source": [
    "# Gut gemacht!"
   ]
  }
 ],
 "metadata": {
  "kernelspec": {
   "display_name": "Python 3",
   "language": "python",
   "name": "python3"
  },
  "language_info": {
   "codemirror_mode": {
    "name": "ipython",
    "version": 3
   },
   "file_extension": ".py",
   "mimetype": "text/x-python",
   "name": "python",
   "nbconvert_exporter": "python",
   "pygments_lexer": "ipython3",
   "version": "3.8.5"
  }
 },
 "nbformat": 4,
 "nbformat_minor": 1
}
