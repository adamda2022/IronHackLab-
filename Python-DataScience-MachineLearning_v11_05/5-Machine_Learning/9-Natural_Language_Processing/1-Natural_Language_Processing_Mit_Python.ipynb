{
 "cells": [
  {
   "cell_type": "markdown",
   "metadata": {},
   "source": [
    "<a href=\"https://akademie.datamics.com/kursliste/\">![title](bg_datamics_top.png)</a><center><em>© Datamics</em></center><br><center><em>Besuche uns für mehr Informationen auf <a href='https://akademie.datamics.com/kursliste/'>www.akademie.datamics.com</a></em>"
   ]
  },
  {
   "cell_type": "markdown",
   "metadata": {},
   "source": [
    "# Natural Language Processing mit Python\n",
    "\n",
    "Dieses Notebook gehört zur Lektion über NLP (Natural Language Processing) mit Python.\n",
    "\n",
    "In dieser Lektion werden wir auf einer allgemeinen Ebene über die Funktionsweise von NLP sprechen. Das bedeutet praktisch die Kombination von Machine Learning Techniken und Text. Der Text muss durch mathematische und statistische Methoden so bearbeitet werden, dass unser Machine Learning Algorithmus damit arbeiten kann!\n",
    "\n",
    "Sobald wir diese Lektion abgeschlossen haben widmen wir uns einem Projekt mit Daten der Plattform Yelp.\n",
    "\n",
    "**Voraussetzung:** Zum Durchführen von NLP benötigen wir `NLTK`. Dieses müssen wir zunächst installieren. Mit Anaconda könnt ihr den nachfolgenden Code ausführen und/oder euch auf die Video Lektion beziehen."
   ]
  },
  {
   "cell_type": "code",
   "execution_count": 1,
   "metadata": {},
   "outputs": [],
   "source": [
    "# Nur ausführen wenn du NLTK installieren musst und Anaconda verwendest\n",
    "\n",
    "# Kommentiere die folgenden Zeilen aus (# entfernen) \n",
    "# und führe sie aus!\n",
    "\n",
    "# !conda install nltk\n",
    "# import nltk\n",
    "# nltk.download()"
   ]
  },
  {
   "cell_type": "markdown",
   "metadata": {},
   "source": [
    "## Daten laden\n",
    "\n",
    "Wir werden einen Datensatz von den [UCI Datensätzen](https://archive.ics.uci.edu/ml/datasets/SMS+Spam+Collection) verwenden. Dieser Datensatz ist aber auch schon in den Kursunterlagen enthalten. Genauer gesagt im Ordner, in dem auch dieses Notebook liegt.\n",
    "\n",
    "Die Daten die wir nutzen beinhalten mehr als 5 Tausend SMS Handynachrichten. In der **readme** Datei erfahrt ihr weitere Einzelheiten.\n",
    "\n",
    "Lasst uns beginnen und `rstrip()` in Verbindung mit einer Listen Abstraktion verwenden. So können wir alle Zeilen der Nachrichten erhakten:"
   ]
  },
  {
   "cell_type": "code",
   "execution_count": 2,
   "metadata": {},
   "outputs": [
    {
     "name": "stdout",
     "output_type": "stream",
     "text": [
      "5574\n"
     ]
    }
   ],
   "source": [
    "messages = [line.rstrip() for line in open('smsspamcollection/SMSSpamCollection')]\n",
    "print(len(messages))"
   ]
  },
  {
   "cell_type": "markdown",
   "metadata": {},
   "source": [
    "Eine Sammlung an Text wird auch *Corpus* genannt. Lasst uns die ersten 10 Nachrichten ausgeben und sie mit `enumerate` nummerieren:"
   ]
  },
  {
   "cell_type": "code",
   "execution_count": 3,
   "metadata": {},
   "outputs": [
    {
     "name": "stdout",
     "output_type": "stream",
     "text": [
      "0 ham\tGo until jurong point, crazy.. Available only in bugis n great world la e buffet... Cine there got amore wat...\n",
      "\n",
      "\n",
      "1 ham\tOk lar... Joking wif u oni...\n",
      "\n",
      "\n",
      "2 spam\tFree entry in 2 a wkly comp to win FA Cup final tkts 21st May 2005. Text FA to 87121 to receive entry question(std txt rate)T&C's apply 08452810075over18's\n",
      "\n",
      "\n",
      "3 ham\tU dun say so early hor... U c already then say...\n",
      "\n",
      "\n",
      "4 ham\tNah I don't think he goes to usf, he lives around here though\n",
      "\n",
      "\n",
      "5 spam\tFreeMsg Hey there darling it's been 3 week's now and no word back! I'd like some fun you up for it still? Tb ok! XxX std chgs to send, £1.50 to rcv\n",
      "\n",
      "\n",
      "6 ham\tEven my brother is not like to speak with me. They treat me like aids patent.\n",
      "\n",
      "\n",
      "7 ham\tAs per your request 'Melle Melle (Oru Minnaminunginte Nurungu Vettam)' has been set as your callertune for all Callers. Press *9 to copy your friends Callertune\n",
      "\n",
      "\n",
      "8 spam\tWINNER!! As a valued network customer you have been selected to receivea £900 prize reward! To claim call 09061701461. Claim code KL341. Valid 12 hours only.\n",
      "\n",
      "\n",
      "9 spam\tHad your mobile 11 months or more? U R entitled to Update to the latest colour mobiles with camera for Free! Call The Mobile Update Co FREE on 08002986030\n",
      "\n",
      "\n"
     ]
    }
   ],
   "source": [
    "for message_no, message in enumerate(messages[:10]):\n",
    "    print(message_no, message)\n",
    "    print('\\n')"
   ]
  },
  {
   "cell_type": "markdown",
   "metadata": {},
   "source": [
    "Anhand des Abstands können wir erkennen, dass es sich hier um eine *TSV* (\"tab separated values*) Datei handelt. Die erste Spalte verrät uns, ob es sich um eine normale (\"ham\") oder \"spam\" handelt. Die Zweite Spalte ist die Nachricht selbst. \n",
    "\n",
    "*Denkt daran, dass die Zahlen selbst kein Teil der Daten sind. Wir haben sie manuell zur Ausgabe hinzugefügt.*\n",
    "\n",
    "Indem wir diese ham/spam Unterscheidung nutzen können wir einen Machine Learning Algorithmus trainieren den Unterschied zu erkennen und neue Nachrichten automatisch einzuordnen. \n",
    "\n",
    "Anstatt jetzt die TSV manuell mit Python zu parsen können wir uns die Fähigkeiten von **Pandas** zu nutze machen:"
   ]
  },
  {
   "cell_type": "code",
   "execution_count": 4,
   "metadata": {},
   "outputs": [],
   "source": [
    "import pandas as pd"
   ]
  },
  {
   "cell_type": "markdown",
   "metadata": {},
   "source": [
    "Wir werden `read_csv` verwenden und dann das `sep` Argument spezifizieren. Außerdem können wir die gewünschten Spaltennamen festlegen."
   ]
  },
  {
   "cell_type": "code",
   "execution_count": 5,
   "metadata": {},
   "outputs": [
    {
     "data": {
      "text/html": [
       "<div>\n",
       "<style scoped>\n",
       "    .dataframe tbody tr th:only-of-type {\n",
       "        vertical-align: middle;\n",
       "    }\n",
       "\n",
       "    .dataframe tbody tr th {\n",
       "        vertical-align: top;\n",
       "    }\n",
       "\n",
       "    .dataframe thead th {\n",
       "        text-align: right;\n",
       "    }\n",
       "</style>\n",
       "<table border=\"1\" class=\"dataframe\">\n",
       "  <thead>\n",
       "    <tr style=\"text-align: right;\">\n",
       "      <th></th>\n",
       "      <th>label</th>\n",
       "      <th>message</th>\n",
       "    </tr>\n",
       "  </thead>\n",
       "  <tbody>\n",
       "    <tr>\n",
       "      <th>0</th>\n",
       "      <td>ham</td>\n",
       "      <td>Go until jurong point, crazy.. Available only ...</td>\n",
       "    </tr>\n",
       "    <tr>\n",
       "      <th>1</th>\n",
       "      <td>ham</td>\n",
       "      <td>Ok lar... Joking wif u oni...</td>\n",
       "    </tr>\n",
       "    <tr>\n",
       "      <th>2</th>\n",
       "      <td>spam</td>\n",
       "      <td>Free entry in 2 a wkly comp to win FA Cup fina...</td>\n",
       "    </tr>\n",
       "    <tr>\n",
       "      <th>3</th>\n",
       "      <td>ham</td>\n",
       "      <td>U dun say so early hor... U c already then say...</td>\n",
       "    </tr>\n",
       "    <tr>\n",
       "      <th>4</th>\n",
       "      <td>ham</td>\n",
       "      <td>Nah I don't think he goes to usf, he lives aro...</td>\n",
       "    </tr>\n",
       "  </tbody>\n",
       "</table>\n",
       "</div>"
      ],
      "text/plain": [
       "  label                                            message\n",
       "0   ham  Go until jurong point, crazy.. Available only ...\n",
       "1   ham                      Ok lar... Joking wif u oni...\n",
       "2  spam  Free entry in 2 a wkly comp to win FA Cup fina...\n",
       "3   ham  U dun say so early hor... U c already then say...\n",
       "4   ham  Nah I don't think he goes to usf, he lives aro..."
      ]
     },
     "execution_count": 5,
     "metadata": {},
     "output_type": "execute_result"
    }
   ],
   "source": [
    "messages = pd.read_csv('smsspamcollection/SMSSpamCollection', sep='\\t',\n",
    "                           names=[\"label\", \"message\"])\n",
    "messages.head()"
   ]
  },
  {
   "cell_type": "markdown",
   "metadata": {},
   "source": [
    "## Explorative Datenanalyse\n",
    "\n",
    "Untersuchen wir unsere Daten ein bisschen: einige statistische Auswertungen anschauen und ein paar Visualisierungen!"
   ]
  },
  {
   "cell_type": "code",
   "execution_count": 6,
   "metadata": {},
   "outputs": [
    {
     "data": {
      "text/html": [
       "<div>\n",
       "<style scoped>\n",
       "    .dataframe tbody tr th:only-of-type {\n",
       "        vertical-align: middle;\n",
       "    }\n",
       "\n",
       "    .dataframe tbody tr th {\n",
       "        vertical-align: top;\n",
       "    }\n",
       "\n",
       "    .dataframe thead th {\n",
       "        text-align: right;\n",
       "    }\n",
       "</style>\n",
       "<table border=\"1\" class=\"dataframe\">\n",
       "  <thead>\n",
       "    <tr style=\"text-align: right;\">\n",
       "      <th></th>\n",
       "      <th>label</th>\n",
       "      <th>message</th>\n",
       "    </tr>\n",
       "  </thead>\n",
       "  <tbody>\n",
       "    <tr>\n",
       "      <th>count</th>\n",
       "      <td>5572</td>\n",
       "      <td>5572</td>\n",
       "    </tr>\n",
       "    <tr>\n",
       "      <th>unique</th>\n",
       "      <td>2</td>\n",
       "      <td>5169</td>\n",
       "    </tr>\n",
       "    <tr>\n",
       "      <th>top</th>\n",
       "      <td>ham</td>\n",
       "      <td>Sorry, I'll call later</td>\n",
       "    </tr>\n",
       "    <tr>\n",
       "      <th>freq</th>\n",
       "      <td>4825</td>\n",
       "      <td>30</td>\n",
       "    </tr>\n",
       "  </tbody>\n",
       "</table>\n",
       "</div>"
      ],
      "text/plain": [
       "       label                 message\n",
       "count   5572                    5572\n",
       "unique     2                    5169\n",
       "top      ham  Sorry, I'll call later\n",
       "freq    4825                      30"
      ]
     },
     "execution_count": 6,
     "metadata": {},
     "output_type": "execute_result"
    }
   ],
   "source": [
    "messages.describe()"
   ]
  },
  {
   "cell_type": "markdown",
   "metadata": {},
   "source": [
    "Wir können `groupby` verwenden, um nach dem Label (ham/spam) zu unterscheiden. Bereits jetzt können wir über die Eigenschaften nachdenken, die beides unterscheiden."
   ]
  },
  {
   "cell_type": "code",
   "execution_count": 7,
   "metadata": {},
   "outputs": [
    {
     "data": {
      "text/html": [
       "<div>\n",
       "<style scoped>\n",
       "    .dataframe tbody tr th:only-of-type {\n",
       "        vertical-align: middle;\n",
       "    }\n",
       "\n",
       "    .dataframe tbody tr th {\n",
       "        vertical-align: top;\n",
       "    }\n",
       "\n",
       "    .dataframe thead tr th {\n",
       "        text-align: left;\n",
       "    }\n",
       "\n",
       "    .dataframe thead tr:last-of-type th {\n",
       "        text-align: right;\n",
       "    }\n",
       "</style>\n",
       "<table border=\"1\" class=\"dataframe\">\n",
       "  <thead>\n",
       "    <tr>\n",
       "      <th></th>\n",
       "      <th colspan=\"4\" halign=\"left\">message</th>\n",
       "    </tr>\n",
       "    <tr>\n",
       "      <th></th>\n",
       "      <th>count</th>\n",
       "      <th>unique</th>\n",
       "      <th>top</th>\n",
       "      <th>freq</th>\n",
       "    </tr>\n",
       "    <tr>\n",
       "      <th>label</th>\n",
       "      <th></th>\n",
       "      <th></th>\n",
       "      <th></th>\n",
       "      <th></th>\n",
       "    </tr>\n",
       "  </thead>\n",
       "  <tbody>\n",
       "    <tr>\n",
       "      <th>ham</th>\n",
       "      <td>4825</td>\n",
       "      <td>4516</td>\n",
       "      <td>Sorry, I'll call later</td>\n",
       "      <td>30</td>\n",
       "    </tr>\n",
       "    <tr>\n",
       "      <th>spam</th>\n",
       "      <td>747</td>\n",
       "      <td>653</td>\n",
       "      <td>Please call our customer service representativ...</td>\n",
       "      <td>4</td>\n",
       "    </tr>\n",
       "  </tbody>\n",
       "</table>\n",
       "</div>"
      ],
      "text/plain": [
       "      message                                                               \n",
       "        count unique                                                top freq\n",
       "label                                                                       \n",
       "ham      4825   4516                             Sorry, I'll call later   30\n",
       "spam      747    653  Please call our customer service representativ...    4"
      ]
     },
     "execution_count": 7,
     "metadata": {},
     "output_type": "execute_result"
    }
   ],
   "source": [
    "messages.groupby('label').describe()"
   ]
  },
  {
   "cell_type": "markdown",
   "metadata": {},
   "source": [
    "Wenn wir mit unserer Analyse fortfahren wollen wir über die Eigenschaften nachdenken, die wir zur Differenzierung verwenden werden. Das Konzept dahinter gehört zum \"[Feature Engineering](https://en.wikipedia.org/wiki/Feature_engineering)\". Je besser das Fachwissen über die Daten ist, desto besser wirst du Eigenschaften identifizieren und hearusarbeiten können. Feature Engineering ist im Allgemeinen ein goßer Teil der Spam Erkennung. Ich empfehle euch, etwas über das Thema zu lesen.\n",
    "\n",
    "Wir können eine neue Spalte anlegen, die die Länge der Nachricht beinhaltet:"
   ]
  },
  {
   "cell_type": "code",
   "execution_count": 8,
   "metadata": {},
   "outputs": [
    {
     "data": {
      "text/html": [
       "<div>\n",
       "<style scoped>\n",
       "    .dataframe tbody tr th:only-of-type {\n",
       "        vertical-align: middle;\n",
       "    }\n",
       "\n",
       "    .dataframe tbody tr th {\n",
       "        vertical-align: top;\n",
       "    }\n",
       "\n",
       "    .dataframe thead th {\n",
       "        text-align: right;\n",
       "    }\n",
       "</style>\n",
       "<table border=\"1\" class=\"dataframe\">\n",
       "  <thead>\n",
       "    <tr style=\"text-align: right;\">\n",
       "      <th></th>\n",
       "      <th>label</th>\n",
       "      <th>message</th>\n",
       "      <th>length</th>\n",
       "    </tr>\n",
       "  </thead>\n",
       "  <tbody>\n",
       "    <tr>\n",
       "      <th>0</th>\n",
       "      <td>ham</td>\n",
       "      <td>Go until jurong point, crazy.. Available only ...</td>\n",
       "      <td>111</td>\n",
       "    </tr>\n",
       "    <tr>\n",
       "      <th>1</th>\n",
       "      <td>ham</td>\n",
       "      <td>Ok lar... Joking wif u oni...</td>\n",
       "      <td>29</td>\n",
       "    </tr>\n",
       "    <tr>\n",
       "      <th>2</th>\n",
       "      <td>spam</td>\n",
       "      <td>Free entry in 2 a wkly comp to win FA Cup fina...</td>\n",
       "      <td>155</td>\n",
       "    </tr>\n",
       "    <tr>\n",
       "      <th>3</th>\n",
       "      <td>ham</td>\n",
       "      <td>U dun say so early hor... U c already then say...</td>\n",
       "      <td>49</td>\n",
       "    </tr>\n",
       "    <tr>\n",
       "      <th>4</th>\n",
       "      <td>ham</td>\n",
       "      <td>Nah I don't think he goes to usf, he lives aro...</td>\n",
       "      <td>61</td>\n",
       "    </tr>\n",
       "  </tbody>\n",
       "</table>\n",
       "</div>"
      ],
      "text/plain": [
       "  label                                            message  length\n",
       "0   ham  Go until jurong point, crazy.. Available only ...     111\n",
       "1   ham                      Ok lar... Joking wif u oni...      29\n",
       "2  spam  Free entry in 2 a wkly comp to win FA Cup fina...     155\n",
       "3   ham  U dun say so early hor... U c already then say...      49\n",
       "4   ham  Nah I don't think he goes to usf, he lives aro...      61"
      ]
     },
     "execution_count": 8,
     "metadata": {},
     "output_type": "execute_result"
    }
   ],
   "source": [
    "messages['length'] = messages['message'].apply(len)\n",
    "messages.head()"
   ]
  },
  {
   "cell_type": "markdown",
   "metadata": {},
   "source": [
    "### Daten Visualisierung\n",
    "\n",
    "Visualisiern wir unsere neu gewonnene Eigenschaft!"
   ]
  },
  {
   "cell_type": "code",
   "execution_count": 9,
   "metadata": {},
   "outputs": [],
   "source": [
    "import matplotlib.pyplot as plt\n",
    "import seaborn as sns\n",
    "%matplotlib inline"
   ]
  },
  {
   "cell_type": "code",
   "execution_count": 10,
   "metadata": {},
   "outputs": [
    {
     "data": {
      "text/plain": [
       "<matplotlib.axes._subplots.AxesSubplot at 0x10d573860>"
      ]
     },
     "execution_count": 10,
     "metadata": {},
     "output_type": "execute_result"
    },
    {
     "data": {
      "image/png": "[encoded data removed]",
      "text/plain": [
       "<matplotlib.figure.Figure at 0x10d489b38>"
      ]
     },
     "metadata": {},
     "output_type": "display_data"
    }
   ],
   "source": [
    "messages['length'].plot(bins=50, kind='hist') "
   ]
  },
  {
   "cell_type": "markdown",
   "metadata": {},
   "source": [
    "Ihr könnt auch mit der `bin size` herumspielen, um die Daten besser zu verstehen. Was wir aber gleich sehen ist, dass die Textlänge eine gute Eigenschaft zur Unterscheidung sein könnte. Versuchen wir das noch genauer zu überprüfen: Die x-Achse geht bis 1000, woran liegt das? Es muss einige sehr lange Nachrichten geben..."
   ]
  },
  {
   "cell_type": "code",
   "execution_count": 11,
   "metadata": {},
   "outputs": [
    {
     "data": {
      "text/plain": [
       "count    5572.000000\n",
       "mean       80.489950\n",
       "std        59.942907\n",
       "min         2.000000\n",
       "25%        36.000000\n",
       "50%        62.000000\n",
       "75%       122.000000\n",
       "max       910.000000\n",
       "Name: length, dtype: float64"
      ]
     },
     "execution_count": 11,
     "metadata": {},
     "output_type": "execute_result"
    }
   ],
   "source": [
    "messages.length.describe()"
   ]
  },
  {
   "cell_type": "markdown",
   "metadata": {},
   "source": [
    "Wow, die längste Nachricht hat 910 Zeichen. Schauen wir sie uns an:"
   ]
  },
  {
   "cell_type": "code",
   "execution_count": 12,
   "metadata": {},
   "outputs": [
    {
     "data": {
      "text/plain": [
       "\"For me the love should start with attraction.i should feel that I need her every time around me.she should be the first thing which comes in my thoughts.I would start the day and end it with her.she should be there every time I dream.love will be then when my every breath has her name.my life should happen around her.my life will be named to her.I would cry for her.will give all my happiness and take all her sorrows.I will be ready to fight with anyone for her.I will be in love when I will be doing the craziest things for her.love will be when I don't have to proove anyone that my girl is the most beautiful lady on the whole planet.I will always be singing praises for her.love will be when I start up making chicken curry and end up makiing sambar.life will be the most beautiful then.will get every morning and thank god for the day because she is with me.I would like to say a lot..will tell later..\""
      ]
     },
     "execution_count": 12,
     "metadata": {},
     "output_type": "execute_result"
    }
   ],
   "source": [
    "messages[messages['length'] == 910]['message'].iloc[0]"
   ]
  },
  {
   "cell_type": "markdown",
   "metadata": {},
   "source": [
    "Da hat wohl eine Art Romeo die Nachricht verschickt! Aber lassen wir es gut sein. Eigentlich wollen wir ja herausfinden, ob die Textlänge eine gute Differenzierungsgrundlage ist, um ham von spam zu unterscheiden:"
   ]
  },
  {
   "cell_type": "code",
   "execution_count": 13,
   "metadata": {},
   "outputs": [
    {
     "data": {
      "text/plain": [
       "array([<matplotlib.axes._subplots.AxesSubplot object at 0x1125fe4a8>,\n",
       "       <matplotlib.axes._subplots.AxesSubplot object at 0x1126ae5f8>], dtype=object)"
      ]
     },
     "execution_count": 13,
     "metadata": {},
     "output_type": "execute_result"
    },
    {
     "data": {
      "image/png": "[encoded data removed]",
      "text/plain": [
       "<matplotlib.figure.Figure at 0x1125b7390>"
      ]
     },
     "metadata": {},
     "output_type": "display_data"
    }
   ],
   "source": [
    "messages.hist(column='length', by='label', bins=50,figsize=(12,4))"
   ]
  },
  {
   "cell_type": "markdown",
   "metadata": {},
   "source": [
    "Sehr interessant! Nur durch die EDA konnten wir einen Trend erkennen: Es gibt weniger Spam Nachrichten (juhu!) und diese scheinen mehr Zeichen zu enthalten (Sorry Romeo!).\n",
    "\n",
    "Jetzt können wir damit fortfahren unsere Daten darauf vorzubereiten mit SciKit Learn verarbeitet zu werden!\n",
    "\n",
    "## Text Pre-Processing\n",
    "\n",
    "Unser größtes Problem ist, dass unsere Daten komplett im Text-Format (Strings) vorliegen. Die Klassifizierungsalgorithmen die wir bisher können benötigen eine Form von numerischer Information, um die Klassifikation durchzuführen. Es gibt viele Methoden um den *Corpus* in Vektor-Format zu bringen. Die einfachste ist die \"[bag-of-words](http://en.wikipedia.org/wiki/Bag-of-words_model)\" Methode. Dabei wird jedes einzigartige (unique) Wort in einem Text durch eine Zahl repräsentiert wird. \n",
    "\n",
    "In diesem Teil werden wir die \"rohen\" (en. raw) Nachrichten (Sequenz aus Zeichen) in Vektoren (Sequenz aus Zahlen) umwandeln.\n",
    "\n",
    "Als ersten Schritt trennen wir die Nachrichten in ihre einzelnen Wörter trennen und eine Liste zurückgeben. Wir werden außerdem sehr häufige Wörter (\"the\", \"a\", etc.) entfernen. Um dies zu tun nutzen wir die `NLTK` Library. Es ist gewissermaßen die Standardlibrary um mit Python Text zu verarbeiten und bietet viele nützliche Features. Wir brauchen jetzt nur einige der grundlegenden.\n",
    "\n",
    "Lasst uns eine Funktion erstellen, die den Text der \"Message\"-Spalte verarbeitet. Dann können wir diese mit `apply()` auf den DataFrame anwenden.\n",
    "\n",
    "Zuerst entfernen wir die Zeichensetzung. Wir können dazu von Python's eingebauter `string` Library Gebrauch machen."
   ]
  },
  {
   "cell_type": "code",
   "execution_count": 14,
   "metadata": {},
   "outputs": [
    {
     "name": "stdout",
     "output_type": "stream",
     "text": [
      "Einfache Nachricht Achtung sie beinhaltet Zeichensetzung\n"
     ]
    }
   ],
   "source": [
    "import string\n",
    "\n",
    "mess = 'Einfache Nachricht! Achtung: sie beinhaltet Zeichensetzung.'\n",
    "messEN = 'Sample message! Notice: it has punctuation.'\n",
    "\n",
    "# Wir überprüfen einzelne Zeichen, ob sie zur Zeichensetzung gehören\n",
    "nopunc = [char for char in mess if char not in string.punctuation]\n",
    "nopuncEN = [char for char in messEN if char not in string.punctuation]\n",
    "\n",
    "# Die Zeichen wieder zusammenfügen\n",
    "nopunc = ''.join(nopunc)\n",
    "nopuncEN = ''.join(nopuncEN)\n",
    "\n",
    "print(nopunc)"
   ]
  },
  {
   "cell_type": "markdown",
   "metadata": {},
   "source": [
    "Als nächstes können wir uns anschauen, wie wir Stoppwörter entfernen können. Unsere Nachrichten sind Englisch, weshalb wir die Liste der englischen Stoppwörter aus NLTK verwenden. Es gibt auch Listen für andere Sprachen.\n",
    "\n",
    "*Info: Stoppwörter sind sehr häufig auftauchenden Wörter einer Sprache, die gleichzeitig nicht wichtig für den wesentlichen Gehalt eines Texts sind.*"
   ]
  },
  {
   "cell_type": "code",
   "execution_count": 15,
   "metadata": {},
   "outputs": [
    {
     "data": {
      "text/plain": [
       "['i', 'me', 'my', 'myself', 'we', 'our', 'ours', 'ourselves', 'you', 'your']"
      ]
     },
     "execution_count": 15,
     "metadata": {},
     "output_type": "execute_result"
    }
   ],
   "source": [
    "from nltk.corpus import stopwords\n",
    "stopwords.words('english')[0:10] # Einige Stoppwörter anzeigen"
   ]
  },
  {
   "cell_type": "code",
   "execution_count": 16,
   "metadata": {},
   "outputs": [
    {
     "data": {
      "text/plain": [
       "['Sample', 'message', 'Notice', 'it', 'has', 'punctuation']"
      ]
     },
     "execution_count": 16,
     "metadata": {},
     "output_type": "execute_result"
    }
   ],
   "source": [
    "nopuncEN.split()"
   ]
  },
  {
   "cell_type": "markdown",
   "metadata": {},
   "source": [
    "Jetzt entfernen wir die Stoppwörter:"
   ]
  },
  {
   "cell_type": "code",
   "execution_count": 17,
   "metadata": {},
   "outputs": [],
   "source": [
    "clean_messEN = [word for word in nopuncEN.split() if word.lower() not in stopwords.words('english')]"
   ]
  },
  {
   "cell_type": "code",
   "execution_count": 18,
   "metadata": {},
   "outputs": [
    {
     "data": {
      "text/plain": [
       "['Sample', 'message', 'Notice', 'punctuation']"
      ]
     },
     "execution_count": 18,
     "metadata": {},
     "output_type": "execute_result"
    }
   ],
   "source": [
    "clean_messEN"
   ]
  },
  {
   "cell_type": "markdown",
   "metadata": {},
   "source": [
    "Diese beiden Schritte können wir jetzt in eine Funktion packen, die wir dann auf unseren DataFrame anwenden können."
   ]
  },
  {
   "cell_type": "code",
   "execution_count": 19,
   "metadata": {},
   "outputs": [],
   "source": [
    "def text_process(mess):\n",
    "    \"\"\"\n",
    "    Nimmt einen String von Text und führt das folgende durch:\n",
    "    1. Entferne alle Zeichensetzung\n",
    "    2. Entferne alle Stoppwörter\n",
    "    3. Gebe eine Liste des gesäuberten Texts zurück\n",
    "    \"\"\"\n",
    "    # 1.\n",
    "    nopunc = [char for char in mess if char not in string.punctuation]\n",
    "\n",
    "    # 2.\n",
    "    nopunc = ''.join(nopunc)\n",
    "    \n",
    "    # 3.\n",
    "    return [word for word in nopunc.split() if word.lower() not in stopwords.words('english')]"
   ]
  },
  {
   "cell_type": "markdown",
   "metadata": {},
   "source": [
    "Hier noch einmal der original DataFrame:"
   ]
  },
  {
   "cell_type": "code",
   "execution_count": 20,
   "metadata": {},
   "outputs": [
    {
     "data": {
      "text/html": [
       "<div>\n",
       "<style scoped>\n",
       "    .dataframe tbody tr th:only-of-type {\n",
       "        vertical-align: middle;\n",
       "    }\n",
       "\n",
       "    .dataframe tbody tr th {\n",
       "        vertical-align: top;\n",
       "    }\n",
       "\n",
       "    .dataframe thead th {\n",
       "        text-align: right;\n",
       "    }\n",
       "</style>\n",
       "<table border=\"1\" class=\"dataframe\">\n",
       "  <thead>\n",
       "    <tr style=\"text-align: right;\">\n",
       "      <th></th>\n",
       "      <th>label</th>\n",
       "      <th>message</th>\n",
       "      <th>length</th>\n",
       "    </tr>\n",
       "  </thead>\n",
       "  <tbody>\n",
       "    <tr>\n",
       "      <th>0</th>\n",
       "      <td>ham</td>\n",
       "      <td>Go until jurong point, crazy.. Available only ...</td>\n",
       "      <td>111</td>\n",
       "    </tr>\n",
       "    <tr>\n",
       "      <th>1</th>\n",
       "      <td>ham</td>\n",
       "      <td>Ok lar... Joking wif u oni...</td>\n",
       "      <td>29</td>\n",
       "    </tr>\n",
       "    <tr>\n",
       "      <th>2</th>\n",
       "      <td>spam</td>\n",
       "      <td>Free entry in 2 a wkly comp to win FA Cup fina...</td>\n",
       "      <td>155</td>\n",
       "    </tr>\n",
       "    <tr>\n",
       "      <th>3</th>\n",
       "      <td>ham</td>\n",
       "      <td>U dun say so early hor... U c already then say...</td>\n",
       "      <td>49</td>\n",
       "    </tr>\n",
       "    <tr>\n",
       "      <th>4</th>\n",
       "      <td>ham</td>\n",
       "      <td>Nah I don't think he goes to usf, he lives aro...</td>\n",
       "      <td>61</td>\n",
       "    </tr>\n",
       "  </tbody>\n",
       "</table>\n",
       "</div>"
      ],
      "text/plain": [
       "  label                                            message  length\n",
       "0   ham  Go until jurong point, crazy.. Available only ...     111\n",
       "1   ham                      Ok lar... Joking wif u oni...      29\n",
       "2  spam  Free entry in 2 a wkly comp to win FA Cup fina...     155\n",
       "3   ham  U dun say so early hor... U c already then say...      49\n",
       "4   ham  Nah I don't think he goes to usf, he lives aro...      61"
      ]
     },
     "execution_count": 20,
     "metadata": {},
     "output_type": "execute_result"
    }
   ],
   "source": [
    "messages.head()"
   ]
  },
  {
   "cell_type": "markdown",
   "metadata": {},
   "source": [
    "Jetzt können wir diese Nachrichten \"tokenizen\". *Tokenization* bezeichnet den Prozess der Kovertierung eines normalen Text Strings in eine Liste von Token (Wörter die wir tatsächlich verarbeiten wollen).\n",
    "\n",
    "Schauen wir uns dazu ein Beispiel an.\n",
    "\n",
    "*Hinweis: Für einige Nachrichten könnten wir Warnungen oder Fehler erhalten. Das passiert für Zeichen, die wir bisher nicht beachtet haben. Z.B. solche, die nicht in Unicode enthalten sind (wie das Zeichen für den Britischen Pfund).*"
   ]
  },
  {
   "cell_type": "code",
   "execution_count": 21,
   "metadata": {},
   "outputs": [
    {
     "data": {
      "text/plain": [
       "0    [Go, jurong, point, crazy, Available, bugis, n...\n",
       "1                       [Ok, lar, Joking, wif, u, oni]\n",
       "2    [Free, entry, 2, wkly, comp, win, FA, Cup, fin...\n",
       "3        [U, dun, say, early, hor, U, c, already, say]\n",
       "4    [Nah, dont, think, goes, usf, lives, around, t...\n",
       "Name: message, dtype: object"
      ]
     },
     "execution_count": 21,
     "metadata": {},
     "output_type": "execute_result"
    }
   ],
   "source": [
    "# Überprüfung\n",
    "messages['message'].head(5).apply(text_process)"
   ]
  },
  {
   "cell_type": "code",
   "execution_count": 22,
   "metadata": {},
   "outputs": [
    {
     "data": {
      "text/html": [
       "<div>\n",
       "<style scoped>\n",
       "    .dataframe tbody tr th:only-of-type {\n",
       "        vertical-align: middle;\n",
       "    }\n",
       "\n",
       "    .dataframe tbody tr th {\n",
       "        vertical-align: top;\n",
       "    }\n",
       "\n",
       "    .dataframe thead th {\n",
       "        text-align: right;\n",
       "    }\n",
       "</style>\n",
       "<table border=\"1\" class=\"dataframe\">\n",
       "  <thead>\n",
       "    <tr style=\"text-align: right;\">\n",
       "      <th></th>\n",
       "      <th>label</th>\n",
       "      <th>message</th>\n",
       "      <th>length</th>\n",
       "    </tr>\n",
       "  </thead>\n",
       "  <tbody>\n",
       "    <tr>\n",
       "      <th>0</th>\n",
       "      <td>ham</td>\n",
       "      <td>Go until jurong point, crazy.. Available only ...</td>\n",
       "      <td>111</td>\n",
       "    </tr>\n",
       "    <tr>\n",
       "      <th>1</th>\n",
       "      <td>ham</td>\n",
       "      <td>Ok lar... Joking wif u oni...</td>\n",
       "      <td>29</td>\n",
       "    </tr>\n",
       "    <tr>\n",
       "      <th>2</th>\n",
       "      <td>spam</td>\n",
       "      <td>Free entry in 2 a wkly comp to win FA Cup fina...</td>\n",
       "      <td>155</td>\n",
       "    </tr>\n",
       "    <tr>\n",
       "      <th>3</th>\n",
       "      <td>ham</td>\n",
       "      <td>U dun say so early hor... U c already then say...</td>\n",
       "      <td>49</td>\n",
       "    </tr>\n",
       "    <tr>\n",
       "      <th>4</th>\n",
       "      <td>ham</td>\n",
       "      <td>Nah I don't think he goes to usf, he lives aro...</td>\n",
       "      <td>61</td>\n",
       "    </tr>\n",
       "  </tbody>\n",
       "</table>\n",
       "</div>"
      ],
      "text/plain": [
       "  label                                            message  length\n",
       "0   ham  Go until jurong point, crazy.. Available only ...     111\n",
       "1   ham                      Ok lar... Joking wif u oni...      29\n",
       "2  spam  Free entry in 2 a wkly comp to win FA Cup fina...     155\n",
       "3   ham  U dun say so early hor... U c already then say...      49\n",
       "4   ham  Nah I don't think he goes to usf, he lives aro...      61"
      ]
     },
     "execution_count": 22,
     "metadata": {},
     "output_type": "execute_result"
    }
   ],
   "source": [
    "messages.head()"
   ]
  },
  {
   "cell_type": "markdown",
   "metadata": {},
   "source": [
    "### Fortsetzung Normalisierung\n",
    "\n",
    "Es gibt viele Wege um mit der Normalisierung des Texts fortzufahren. Dazu gehören das \"[Stemming](https://de.wikipedia.org/wiki/Stemming)\" oder Trennung nach dem \"[Part of Speech](http://www.nltk.org/book/ch05.html)\".\n",
    "\n",
    "NLTK bietet viele eingebaute Tools und eine tolle Dokumentation zu vielen dieser Methoden. Manchmal funktionieren sie nicht so gut für Textnachrichten, in denen die Autoren viele Abkürzungen und Umgangssprache verwenden. Ein Beispiel:\n",
    "\n",
    "    'Nah dawg, IDK! Wut time u headin to da club?'\n",
    "    \n",
    "im Vergleich zu\n",
    "\n",
    "    'No dog, I don't know! What time are you heading to the club?'\n",
    "    \n",
    "Einige Text Normalisierungs Methoden werden mit dieser (ersten) Art von Text Probleme haben. Für fortgeschrittenere Methoden ermutige ich euch das [online NLTK Buch](http://www.nltk.org/book/) anzuschauen.\n",
    "\n",
    "Für den Moment (und diese Lektion) werden wir verwenden was wir haben, um unsere Liste an Wörtern in einen tatsächlichen Vektor für SciKit Learn umzuwandeln."
   ]
  },
  {
   "cell_type": "markdown",
   "metadata": {},
   "source": [
    "### Vektorisierung"
   ]
  },
  {
   "cell_type": "markdown",
   "metadata": {},
   "source": [
    "Aktuell liegen uns die Nachrichten als eine Listen von Tokens (auch als \"Lemmas\" bekannt) vor. Wir müssen jetzt jede dieser Nachrichten in einen Vektor umwandeln, mit dem SciKit Learn's Algorithmus arbeiten kann.\n",
    "\n",
    "Wir werden dazu die folgenden drei Schritte nach dem *bag-of-words* (bow) Modell durchführen:\n",
    "\n",
    "1. Zähle wie häufig ein Wort in jeder Nachricht vorkommt (Term Frequency)\n",
    "2. Gewichte die Anzahl, so dass häufige Wörter ein niedrigeres Gewicht erhalten (Inverse Document Frequency)\n",
    "3. Normalisiere den Vektor in Einheitslänge, um von der Länge des Originaltexts zu abstrahieren\n",
    "\n",
    "Beginnen wir die ersten Schritte:\n",
    "\n",
    "Jeder Vekotr wird so viele Dimensionen haben, wie es unique Wörter in der SMS gibt. Wir werden zuerst SciKit Learn's `CountVectorizer` verwenden. Dieses Modell konvertiert eine Sammlung an Text in eine Matrix von Token Anzahlen.\n",
    "\n",
    "Wir können uns das als 2-Dimensionale Matrix vorstellen. Die eine Dimension ist das komplette Vokabular aller Nachrichten (1 Wort pro Zeile). Die zweite Dimension sind die aktuellen Dokumente (1 Nachricht pro Spalte).\n",
    "\n",
    "Zum Beispiel:\n",
    "\n",
    "<table border = “1“>\n",
    "<tr>\n",
    "<th></th> <th>Nachricht 1</th> <th>Nachricht 2</th> <th>...</th> <th>Nachricht N</th> \n",
    "</tr>\n",
    "<tr>\n",
    "<td><b>Wort 1 Anzahl</b></td><td>0</td><td>1</td><td>...</td><td>0</td>\n",
    "</tr>\n",
    "<tr>\n",
    "<td><b>Wort 2 Anzahl</b></td><td>0</td><td>0</td><td>...</td><td>0</td>\n",
    "</tr>\n",
    "<tr>\n",
    "<td><b>...</b></td> <td>1</td><td>2</td><td>...</td><td>0</td>\n",
    "</tr>\n",
    "<tr>\n",
    "<td><b>Wort N Anzahl</b></td> <td>0</td><td>1</td><td>...</td><td>1</td>\n",
    "</tr>\n",
    "</table>\n",
    "\n",
    "Da es so viele Nachrichten gibt können wir häufig die Anzahl 0 erwarten. Deshalb wird SciKit Learn eine [*Sparse Matrix*](https://de.wikipedia.org/wiki/D%C3%BCnnbesetzte_Matrix) ausgeben."
   ]
  },
  {
   "cell_type": "code",
   "execution_count": 23,
   "metadata": {},
   "outputs": [],
   "source": [
    "from sklearn.feature_extraction.text import CountVectorizer"
   ]
  },
  {
   "cell_type": "markdown",
   "metadata": {},
   "source": [
    "Es gibt viele Argumente, die sich an den CountCevtorizer übergeben lassen. In diesem Fall werden wir den `analyzer` spezifizieren. Er soll unserer zuvor definierten Funktion entsprechen:"
   ]
  },
  {
   "cell_type": "code",
   "execution_count": 24,
   "metadata": {},
   "outputs": [
    {
     "name": "stdout",
     "output_type": "stream",
     "text": [
      "11425\n"
     ]
    }
   ],
   "source": [
    "# Kann etwas dauern...\n",
    "bow_transformer = CountVectorizer(analyzer=text_process).fit(messages['message'])\n",
    "\n",
    "# Gebe die Anzahl an Wörtern im Vokabular aus\n",
    "print(len(bow_transformer.vocabulary_))"
   ]
  },
  {
   "cell_type": "markdown",
   "metadata": {},
   "source": [
    "Lasst uns eine Nachricht nehmen und die Anzahl für ihren *bag-of-words* als Vektor ausgeben. Dazu können wir unseren neuen `bow_transformer` nutzen:"
   ]
  },
  {
   "cell_type": "code",
   "execution_count": 25,
   "metadata": {},
   "outputs": [
    {
     "name": "stdout",
     "output_type": "stream",
     "text": [
      "U dun say so early hor... U c already then say...\n"
     ]
    }
   ],
   "source": [
    "message4 = messages['message'][3]\n",
    "print(message4)"
   ]
  },
  {
   "cell_type": "markdown",
   "metadata": {},
   "source": [
    "Jetzt schauen wir uns die Werte im Vektor an:"
   ]
  },
  {
   "cell_type": "code",
   "execution_count": 26,
   "metadata": {},
   "outputs": [
    {
     "name": "stdout",
     "output_type": "stream",
     "text": [
      "  (0, 4068)\t2\n",
      "  (0, 4629)\t1\n",
      "  (0, 5261)\t1\n",
      "  (0, 6204)\t1\n",
      "  (0, 6222)\t1\n",
      "  (0, 7186)\t1\n",
      "  (0, 9554)\t2\n",
      "(1, 11425)\n"
     ]
    }
   ],
   "source": [
    "bow4 = bow_transformer.transform([message4])\n",
    "print(bow4)\n",
    "print(bow4.shape)"
   ]
  },
  {
   "cell_type": "markdown",
   "metadata": {},
   "source": [
    "Das bedeutet, dass es insgesamt 7 unique Wörter in Nachricht 4 gibt (nachdem wir die Stoppwörter entfernt haben). Zwei davon tauchen 2 mal auf, der Rest nur einmal. Gehen wir weiter und schauen, welche davon zwei Mal auftauchen:"
   ]
  },
  {
   "cell_type": "code",
   "execution_count": 27,
   "metadata": {},
   "outputs": [
    {
     "name": "stdout",
     "output_type": "stream",
     "text": [
      "UIN\n",
      "schedule\n"
     ]
    }
   ],
   "source": [
    "print(bow_transformer.get_feature_names()[4073])\n",
    "print(bow_transformer.get_feature_names()[9570])"
   ]
  },
  {
   "cell_type": "markdown",
   "metadata": {},
   "source": [
    "Jetzt können wir `.transform` auf unser *bow* transformiertes Objekt anwenden und den gesamten DataFrame an Nachrichten transformieren. Schauen wir uns dazu noch an, wie die bow Anzahl des gesamten SMS Corpus eine große sparse Matrix ist:"
   ]
  },
  {
   "cell_type": "code",
   "execution_count": 28,
   "metadata": {},
   "outputs": [],
   "source": [
    "messages_bow = bow_transformer.transform(messages['message'])"
   ]
  },
  {
   "cell_type": "code",
   "execution_count": 29,
   "metadata": {},
   "outputs": [
    {
     "name": "stdout",
     "output_type": "stream",
     "text": [
      "Shape of Sparse Matrix:  (5572, 11425)\n",
      "Amount of Non-Zero occurences:  50548\n"
     ]
    }
   ],
   "source": [
    "print('Shape of Sparse Matrix: ', messages_bow.shape)\n",
    "print('Amount of Non-Zero occurences: ', messages_bow.nnz)"
   ]
  },
  {
   "cell_type": "code",
   "execution_count": 30,
   "metadata": {},
   "outputs": [
    {
     "name": "stdout",
     "output_type": "stream",
     "text": [
      "sparsity: 0\n"
     ]
    }
   ],
   "source": [
    "sparsity = (100.0 * messages_bow.nnz / (messages_bow.shape[0] * messages_bow.shape[1]))\n",
    "print('sparsity: {}'.format(round(sparsity)))"
   ]
  },
  {
   "cell_type": "markdown",
   "metadata": {},
   "source": [
    "Nach dem Zählen kann die Gewichtung und Normalisierung mit [TF-IDF](https://de.wikipedia.org/wiki/Tf-idf-Ma%C3%9F)erledigt werden. Dazu dient Scikit Learn's `TfidfTransformer`.\n",
    "\n",
    "___\n",
    "\n",
    "## Was ist TF-IDF?\n",
    "\n",
    "TF-IDF steht für *term frequency-inverse document frequency*. Diese Gewichtung wird häufig in der Informationsgewinnung und im Text Mining eingsetzt. Es ist ein statistisches Maß, das dazu dient auszuwerten, wie wichtig ein Wort in einem Dokument in einem Corpus ist. Die Wichtigkeit steigt proportional zur Anzahl der Erscheinungen des Worts im Dokument doch wird ausgeglichen durch die Häufigkeit des Worts im gesamten Corpus. Varianten der tf-idf Gewichtung werden häufig als wichtiges Tool von Suchmachinen verwendet, um die Wichtigkeit eines Dokuments für eine Nutzerabfrage zu beurteilen.\n",
    "\n",
    "Eine der einfachsten Ranking-Funktionen wird berechnet, indem die tf-idf für jedes Wort in der Suchanfrage summiert werden. Darüber hinaus gibt es deutlich komplexere Ranking-Funktionen basierend auf diesem einfachen Modell.\n",
    "\n",
    "Typischerweise setzt sich das tf-idf Gewicht aus zwei Teilen zusammen:\n",
    "\n",
    "**TF: Term Frequency** - wie häufig erscheint ein Wort in einem Dokument geteilt durch die Anzahl aller Wörter.\n",
    "\n",
    "**IDF: Inverse Document Frequency** - Logarithmus der Gesamtzahl an Dokumenten geteilt durch die Anzahl der Dokumente, die ein bestimmtes Wort enthalten.\n",
    "\n",
    "Für ein numerisches Beispiel schaue hier:\n",
    "\n",
    "**Beispiel**\n",
    "\n",
    "Stelle dir ein Dokument vor, das 100 Wörter beinhaltet. Darin erscheint das Wort \"Katze\" drei mal.\n",
    "\n",
    "Die TF für \"Katze\" ist dann (3/100)=0.03. \n",
    "\n",
    "Stelle dir jetzt weiter vor, dass wir 10 Millionen Dokumente haben. In 1000 davon erscheint das Wort Katze. Dann wird die IDF durch log(10,000,000/1,000) = 4 berechnet. \n",
    "\n",
    "Dementsprechend berechnet sich das TF-IDF Gewicht als das Produkt dieser Zahlen: 0.03* * 4 = 0.12.\n",
    "\n",
    "___\n",
    "\n",
    "Schauen wir uns nun an, wie wir das mit SciKit Learn machen: "
   ]
  },
  {
   "cell_type": "code",
   "execution_count": 31,
   "metadata": {},
   "outputs": [
    {
     "name": "stdout",
     "output_type": "stream",
     "text": [
      "  (0, 9554)\t0.538562626293\n",
      "  (0, 7186)\t0.438936565338\n",
      "  (0, 6222)\t0.318721689295\n",
      "  (0, 6204)\t0.299537997237\n",
      "  (0, 5261)\t0.297299574059\n",
      "  (0, 4629)\t0.266198019061\n",
      "  (0, 4068)\t0.408325899334\n"
     ]
    }
   ],
   "source": [
    "from sklearn.feature_extraction.text import TfidfTransformer\n",
    "\n",
    "tfidf_transformer = TfidfTransformer().fit(messages_bow)\n",
    "tfidf4 = tfidf_transformer.transform(bow4)\n",
    "print(tfidf4)"
   ]
  },
  {
   "cell_type": "markdown",
   "metadata": {},
   "source": [
    "Wir können uns anschauen, was die IDF für die Wörter \"u\" und \"university\" ist:"
   ]
  },
  {
   "cell_type": "code",
   "execution_count": 32,
   "metadata": {},
   "outputs": [
    {
     "name": "stdout",
     "output_type": "stream",
     "text": [
      "3.28005242674\n",
      "8.5270764989\n"
     ]
    }
   ],
   "source": [
    "print(tfidf_transformer.idf_[bow_transformer.vocabulary_['u']])\n",
    "print(tfidf_transformer.idf_[bow_transformer.vocabulary_['university']])"
   ]
  },
  {
   "cell_type": "markdown",
   "metadata": {},
   "source": [
    "Um den gesamten bow Corpus auf einmal in den TF-IDF Corpus zu transformieren:"
   ]
  },
  {
   "cell_type": "code",
   "execution_count": 33,
   "metadata": {},
   "outputs": [
    {
     "name": "stdout",
     "output_type": "stream",
     "text": [
      "(5572, 11425)\n"
     ]
    }
   ],
   "source": [
    "messages_tfidf = tfidf_transformer.transform(messages_bow)\n",
    "print(messages_tfidf.shape)"
   ]
  },
  {
   "cell_type": "markdown",
   "metadata": {},
   "source": [
    "Es gibt viele Wege die Daten zu preprocessen und vektorisieren. Diese Schritte beinhalten Feature Engineering und den Aufbau einer \"Pipeline\" (dt. Leitung). Ich ermutige euch dazu die Dokumentation von SciKit Learn zu lesen. Außerdem gibt es viele Fachtexte zum Thema NLP."
   ]
  },
  {
   "cell_type": "markdown",
   "metadata": {},
   "source": [
    "## Ein Modell trainieren\n",
    "\n",
    "Mit den Vektoren, die unsere Nachrichtne repräsentieren, können wir endlich unser spam/ham Klassifizierer trainieren. Wir können tatsächlich fast jede Art an Klassifizierungs-Algorithmus verwenden. Aus [verschiedenen Gründen](http://www.inf.ed.ac.uk/teaching/courses/inf2b/learnnotes/inf2b-learn-note07-2up.pdf) ist der *Naive Bayes* Klassifzierer eine gute Wahl."
   ]
  },
  {
   "cell_type": "code",
   "execution_count": 34,
   "metadata": {},
   "outputs": [],
   "source": [
    "from sklearn.naive_bayes import MultinomialNB\n",
    "spam_detect_model = MultinomialNB().fit(messages_tfidf, messages['label'])"
   ]
  },
  {
   "cell_type": "markdown",
   "metadata": {},
   "source": [
    "Versuchen wir unsere Beispielnachricht von vorhin zu klassifizieren:"
   ]
  },
  {
   "cell_type": "code",
   "execution_count": 35,
   "metadata": {},
   "outputs": [
    {
     "name": "stdout",
     "output_type": "stream",
     "text": [
      "predicted: ham\n",
      "expected: ham\n"
     ]
    }
   ],
   "source": [
    "print('predicted:', spam_detect_model.predict(tfidf4)[0])\n",
    "print('expected:', messages.label[3])"
   ]
  },
  {
   "cell_type": "markdown",
   "metadata": {},
   "source": [
    "Fantastisch! Wir haben ein Modell entwicklet, dass Spam und Ham unterscheidet!\n",
    "\n",
    "## Modell Auswertung\n",
    "\n",
    "Jetzt wollen wir noch wissen, wie gut unser Modell ist. Beginnen wir damit, alle Vorhersagen zu erhalten:"
   ]
  },
  {
   "cell_type": "code",
   "execution_count": 36,
   "metadata": {},
   "outputs": [
    {
     "name": "stdout",
     "output_type": "stream",
     "text": [
      "['ham' 'ham' 'spam' ..., 'ham' 'ham' 'ham']\n"
     ]
    }
   ],
   "source": [
    "all_predictions = spam_detect_model.predict(messages_tfidf)\n",
    "print(all_predictions)"
   ]
  },
  {
   "cell_type": "markdown",
   "metadata": {},
   "source": [
    "Wir können SciKit Learn's eingebauten Classification Report verwenden. Er gibt [precision, recall](https://en.wikipedia.org/wiki/Precision_and_recall) und [f1-score](https://en.wikipedia.org/wiki/F1_score) aus. Außerdem eine Spalte für den \"Support\", die angibt, wie viele Fälle die Klassifizierung unterstützen. Zur Veranschaulichung kann folgende Grafik dienen:\n",
    "\n",
    "![title](Precisionrecall.png)"
   ]
  },
  {
   "cell_type": "code",
   "execution_count": 37,
   "metadata": {},
   "outputs": [
    {
     "name": "stdout",
     "output_type": "stream",
     "text": [
      "             precision    recall  f1-score   support\n",
      "\n",
      "        ham       0.98      1.00      0.99      4825\n",
      "       spam       1.00      0.85      0.92       747\n",
      "\n",
      "avg / total       0.98      0.98      0.98      5572\n",
      "\n"
     ]
    }
   ],
   "source": [
    "from sklearn.metrics import classification_report\n",
    "print (classification_report(messages['label'], all_predictions))"
   ]
  },
  {
   "cell_type": "markdown",
   "metadata": {},
   "source": [
    "Es gibt einige Werte, die zur Auswertung der Modell Performance dienen. Welche davon die beste ist kommt auf die Aufgabe und die Businessanwendung des Modells an. Zum Beispiel dürften die Kosten einer Fehlklassifizierung von \"Spam\" zu \"Ham\" günstiger sein als \"Ham\" für \"Spam\" zu halten.\n",
    "\n",
    "Im der obrigen Auswertung haben wir das Modell auf den gleichen Daten ausgewertet, die wir auch zum Training benutzt haben. **Man sollte allerdings nie auf den selben Daten trainieren und auswerten!**\n",
    "\n",
    "So eine Auswertung sagt uns nichts über die Vorhersagekraft! Wenn sich das Modell einfach alle Einteilungen merkt, erhalten wir eine Akkuranz von 100%, aber keine Vorhersagekraft. \n",
    "\n",
    "Deshalb sollten wir die Daten - wie wir es zuvor immer gemacht haben - in Trainigns- und Testset aufteilen.\n",
    "\n",
    "## Train Test Split"
   ]
  },
  {
   "cell_type": "code",
   "execution_count": 38,
   "metadata": {},
   "outputs": [
    {
     "name": "stdout",
     "output_type": "stream",
     "text": [
      "4457 1115 5572\n"
     ]
    }
   ],
   "source": [
    "from sklearn.model_selection import train_test_split\n",
    "\n",
    "msg_train, msg_test, label_train, label_test = \\\n",
    "train_test_split(messages['message'], messages['label'], test_size=0.2)\n",
    "\n",
    "print(len(msg_train), len(msg_test), len(msg_train) + len(msg_test))"
   ]
  },
  {
   "cell_type": "markdown",
   "metadata": {},
   "source": [
    "## Eine Daten Pipeline erstellen\n",
    "\n",
    "Lasst uns unser Modell erneut durchführen und dann anhand der Testdaten auswerden. Wir werden außerdem SciKit Learn's `pipeline` verwenden, um die Arbeitsschritte zu speichern. Das erlaubt es uns, die Transformation für zukünftige Anwendungen zu speichern. Schauen wir uns das im Beispiel an:"
   ]
  },
  {
   "cell_type": "code",
   "execution_count": 39,
   "metadata": {},
   "outputs": [],
   "source": [
    "from sklearn.pipeline import Pipeline\n",
    "\n",
    "pipeline = Pipeline([\n",
    "    ('bow', CountVectorizer(analyzer=text_process)),  # strings to token integer counts\n",
    "    ('tfidf', TfidfTransformer()),  # integer counts to weighted TF-IDF scores\n",
    "    ('classifier', MultinomialNB()),  # train on TF-IDF vectors w/ Naive Bayes classifier\n",
    "])"
   ]
  },
  {
   "cell_type": "markdown",
   "metadata": {},
   "source": [
    "Nun können wir unsere Nachrichten direkt an die Pipeline übergeben und sie wird das Pre-Processing für uns erledigen."
   ]
  },
  {
   "cell_type": "code",
   "execution_count": 40,
   "metadata": {},
   "outputs": [
    {
     "data": {
      "text/plain": [
       "Pipeline(memory=None,\n",
       "     steps=[('bow', CountVectorizer(analyzer=<function text_process at 0x1a183c8598>,\n",
       "        binary=False, decode_error='strict', dtype=<class 'numpy.int64'>,\n",
       "        encoding='utf-8', input='content', lowercase=True, max_df=1.0,\n",
       "        max_features=None, min_df=1, ngram_range=(1, 1), preprocessor=None...f=False, use_idf=True)), ('classifier', MultinomialNB(alpha=1.0, class_prior=None, fit_prior=True))])"
      ]
     },
     "execution_count": 40,
     "metadata": {},
     "output_type": "execute_result"
    }
   ],
   "source": [
    "pipeline.fit(msg_train,label_train)"
   ]
  },
  {
   "cell_type": "code",
   "execution_count": 41,
   "metadata": {},
   "outputs": [],
   "source": [
    "predictions = pipeline.predict(msg_test)"
   ]
  },
  {
   "cell_type": "code",
   "execution_count": 42,
   "metadata": {},
   "outputs": [
    {
     "name": "stdout",
     "output_type": "stream",
     "text": [
      "             precision    recall  f1-score   support\n",
      "\n",
      "        ham       1.00      0.96      0.98       995\n",
      "       spam       0.76      1.00      0.86       120\n",
      "\n",
      "avg / total       0.97      0.97      0.97      1115\n",
      "\n"
     ]
    }
   ],
   "source": [
    "print(classification_report(predictions,label_test))"
   ]
  },
  {
   "cell_type": "markdown",
   "metadata": {},
   "source": [
    "Jetzt haben wir einen Classification Report, der auf den Testdaten basiert!\n",
    "\n",
    "Es gibt noch viele weitere Bestandteile des NLP, die den Rahmen dieses Kurses übersteigen. Wenn euch diese Grundlagen gefallen haben und ihr euer Wissen ausbauen möchte empfehle ich euch folgende Ressourcen:\n",
    "\n",
    "[NLTK Book Online](http://www.nltk.org/book/)\n",
    "\n",
    "[Kaggle Walkthrough](https://www.kaggle.com/c/word2vec-nlp-tutorial/details/part-1-for-beginners-bag-of-words)\n",
    "\n",
    "[SciKit Learn's Tutorial](http://scikit-learn.org/stable/tutorial/text_analytics/working_with_text_data.html)\n",
    "\n",
    "# Gut gemacht!"
   ]
  }
 ],
 "metadata": {
  "kernelspec": {
   "display_name": "Python 3",
   "language": "python",
   "name": "python3"
  },
  "language_info": {
   "codemirror_mode": {
    "name": "ipython",
    "version": 3
   },
   "file_extension": ".py",
   "mimetype": "text/x-python",
   "name": "python",
   "nbconvert_exporter": "python",
   "pygments_lexer": "ipython3",
   "version": "3.8.5"
  }
 },
 "nbformat": 4,
 "nbformat_minor": 2
}
