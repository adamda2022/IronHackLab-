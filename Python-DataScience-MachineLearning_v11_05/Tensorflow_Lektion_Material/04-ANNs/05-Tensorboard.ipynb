{
 "cells": [
  {
   "cell_type": "markdown",
   "metadata": {},
   "source": [
    "___\n",
    "\n",
    "<a href='https://akademie.datamics.com/kursliste/'><img src='bg_datamics_top.png'/></a>\n",
    "___\n",
    "<center><em>© Datamics</em></center>\n",
    "<center><em>Besuche uns für mehr Informationen auf <a href='https://akademie.datamics.com/kursliste/'>www.akademie.datamics.com</a></em></center>"
   ]
  },
  {
   "cell_type": "markdown",
   "metadata": {},
   "source": [
    "# Tensorboard\n",
    "\n",
    "---\n",
    "---\n",
    "\n",
    "**BEACHTE: Du musst das zugehörige Video ansehen, um diesen Abschnitt zu verstehen. Dieses Notebook ist keine vollständige Erklärung. Bitte betrachte das Video VOR dem posten von Fragen im forum.**\n",
    "\n",
    "\n",
    "---\n",
    "---\n",
    "\n",
    "Lasst uns die in Tensorboard eingebauten Methoden zur Datenvisualisierung betrachten.\n",
    "\n",
    "\n",
    "Das vollständige, offizielle Tutorial gibt es hier: https://www.tensorflow.org/tensorboard/get_started\n",
    "\n",
    "## Daten"
   ]
  },
  {
   "cell_type": "code",
   "execution_count": 1,
   "metadata": {},
   "outputs": [],
   "source": [
    "import pandas as pd\n",
    "import numpy as np"
   ]
  },
  {
   "cell_type": "code",
   "execution_count": 2,
   "metadata": {},
   "outputs": [],
   "source": [
    "df = pd.read_csv('../DATA/cancer_classification.csv')"
   ]
  },
  {
   "cell_type": "markdown",
   "metadata": {},
   "source": [
    "### Aufteilung in Test- und Trainingsdaten"
   ]
  },
  {
   "cell_type": "code",
   "execution_count": 3,
   "metadata": {},
   "outputs": [],
   "source": [
    "X = df.drop('benign_0__mal_1',axis=1).values\n",
    "y = df['benign_0__mal_1'].values"
   ]
  },
  {
   "cell_type": "code",
   "execution_count": 4,
   "metadata": {},
   "outputs": [],
   "source": [
    "from sklearn.model_selection import train_test_split"
   ]
  },
  {
   "cell_type": "code",
   "execution_count": 5,
   "metadata": {},
   "outputs": [],
   "source": [
    "X_train, X_test, y_train, y_test = train_test_split(X,y,test_size=0.25,random_state=101)"
   ]
  },
  {
   "cell_type": "markdown",
   "metadata": {},
   "source": [
    "\n",
    "### Daten skalieren"
   ]
  },
  {
   "cell_type": "code",
   "execution_count": 6,
   "metadata": {},
   "outputs": [],
   "source": [
    "from sklearn.preprocessing import MinMaxScaler"
   ]
  },
  {
   "cell_type": "code",
   "execution_count": 7,
   "metadata": {},
   "outputs": [],
   "source": [
    "scaler = MinMaxScaler()"
   ]
  },
  {
   "cell_type": "code",
   "execution_count": 8,
   "metadata": {},
   "outputs": [
    {
     "data": {
      "text/plain": [
       "MinMaxScaler(copy=True, feature_range=(0, 1))"
      ]
     },
     "execution_count": 8,
     "metadata": {},
     "output_type": "execute_result"
    }
   ],
   "source": [
    "scaler.fit(X_train)"
   ]
  },
  {
   "cell_type": "code",
   "execution_count": 9,
   "metadata": {},
   "outputs": [],
   "source": [
    "X_train = scaler.transform(X_train)\n",
    "X_test = scaler.transform(X_test)"
   ]
  },
  {
   "cell_type": "markdown",
   "metadata": {},
   "source": [
    "## Modell erzeugen"
   ]
  },
  {
   "cell_type": "code",
   "execution_count": 10,
   "metadata": {},
   "outputs": [],
   "source": [
    "import tensorflow as tf\n",
    "from tensorflow.keras.models import Sequential\n",
    "from tensorflow.keras.layers import Dense, Activation,Dropout"
   ]
  },
  {
   "cell_type": "code",
   "execution_count": 11,
   "metadata": {},
   "outputs": [],
   "source": [
    "from tensorflow.keras.callbacks import EarlyStopping,TensorBoard"
   ]
  },
  {
   "cell_type": "code",
   "execution_count": 12,
   "metadata": {},
   "outputs": [],
   "source": [
    "early_stop = EarlyStopping(monitor='val_loss', mode='min', verbose=1, patience=25)"
   ]
  },
  {
   "cell_type": "code",
   "execution_count": 13,
   "metadata": {},
   "outputs": [
    {
     "data": {
      "text/plain": [
       "'/Users/renebrunner/datamics/05_DE-Notebooks/03-ANNs'"
      ]
     },
     "execution_count": 13,
     "metadata": {},
     "output_type": "execute_result"
    }
   ],
   "source": [
    "pwd"
   ]
  },
  {
   "cell_type": "markdown",
   "metadata": {},
   "source": [
    "## Tensorboard Callback erzeugen\n",
    "\n",
    "TensorBoard ist ein von Tensorflow bereitgestelltes Visualisierungstool.\n",
    "\n",
    "Der Callback loggt Tensorboard-Ereignisse, inklusive:\n",
    "* Zusammenfassungsdiagramme für Metriken\n",
    "* Visualisierung von Trainingsgraphen\n",
    "* Aktivierungshistogramme\n",
    "* Profile aus Stichproben\n",
    "\n",
    "Wenn du TensorFlow mit pip installiert hast, sollte es dir möglich sein, TensorBoard von der Kommandozeile zu starten:\n",
    "\n",
    "```sh\n",
    "tensorboard --logdir=path_to_your_logs\n",
    "```\n",
    "\n",
    "Mehr Informationen über TensorBoard gibt es [hier](https://www.tensorflow.org/tensorboard/).\n",
    "\n",
    "    Argumente:\n",
    "        log_dir: der Pfad des Verzeichnisses, in dem TensorBoard die erzeugten\n",
    "          Log-Dateien speichert.\n",
    "        histogram_freq: Frequenz (in Epochen) der Berechnung der Aktivierung und\n",
    "          Gewichtshistogramme der Layers des Modells. Ein Wert von 0 erzeugt \n",
    "          keine Histogramme. Validierungsdaten oder die Datenaufteilung müssen\n",
    "          für die Visualisierung der Histogramme spezifiziert werden.\n",
    "        write_graph: Bestimmt, ob der Graph mit TensorBoard visualisiert werden\n",
    "          soll. Die Log-Datei kann sehr groß werden, wenn write_graph auf True\n",
    "          gesetzt ist.\n",
    "        write_images: Bestimmt ob Modellgewichte von TensorBoard visualisiert\n",
    "          werden sollen.\n",
    "        update_freq: `'batch'` oder `'epoch'` oder Integerwert. `'batch'`\n",
    "          loggt die Losses und Metriken mit TensorBoard nach jeder Batch. \n",
    "          Selbiges gilt für `'epoch'`. Ein Intergerwert von z.B. `1000` bewirkt,\n",
    "          dass nach jeweils 1000 Samples geloggt wird. Zu häufiges loggen mit\n",
    "          TensorBoard kann dein Training sehr langsam machen.\n",
    "          TensorBoard \n",
    "        profile_batch: Erstelle ein Profil der Batch und berechne Charakteristiken.\n",
    "          Default ist hierbei die Profilierung der zweiten Batch. Setze\n",
    "          profile_batch=0, um die Profilierung auszuschalten. Benötigt den \n",
    "          TensorFlow-Modus eager.\n",
    "        embeddings_freq: Frequenz (in Epochen) mit der eingebettete Layer \n",
    "          visualisiert werden. Ein Wert von 0 unterbindet die Visualierung.\n",
    "       "
   ]
  },
  {
   "cell_type": "code",
   "execution_count": 14,
   "metadata": {},
   "outputs": [],
   "source": [
    "from datetime import datetime"
   ]
  },
  {
   "cell_type": "code",
   "execution_count": 15,
   "metadata": {},
   "outputs": [],
   "source": [
    "# datetime.now().strftime(\"%Y-%m-%d--%H%M\")"
   ]
  },
  {
   "cell_type": "code",
   "execution_count": 16,
   "metadata": {},
   "outputs": [],
   "source": [
    "log_directory = 'logsfit'\n",
    "\n",
    "# OPTIONAL: ADD A TIMESTAMP FOR UNIQUE FOLDER\n",
    "# timestamp = datetime.now().strftime(\"%Y-%m-%d--%H%M\")\n",
    "# log_directory = log_directory + '\\\\' + timestamp\n",
    "\n",
    "\n",
    "board = TensorBoard(log_dir=log_directory,histogram_freq=1,\n",
    "    write_graph=True,\n",
    "    write_images=True,\n",
    "    update_freq='epoch',\n",
    "    profile_batch=2,\n",
    "    embeddings_freq=1)"
   ]
  },
  {
   "cell_type": "markdown",
   "metadata": {},
   "source": [
    "Now create the model layers:"
   ]
  },
  {
   "cell_type": "code",
   "execution_count": 17,
   "metadata": {},
   "outputs": [],
   "source": [
    "model = Sequential()\n",
    "model.add(Dense(units=30,activation='relu'))\n",
    "model.add(Dropout(0.5))\n",
    "model.add(Dense(units=15,activation='relu'))\n",
    "model.add(Dropout(0.5))\n",
    "model.add(Dense(units=1,activation='sigmoid'))\n",
    "model.compile(loss='binary_crossentropy', optimizer='adam')"
   ]
  },
  {
   "cell_type": "markdown",
   "metadata": {},
   "source": [
    "## Modell trainieren"
   ]
  },
  {
   "cell_type": "code",
   "execution_count": 18,
   "metadata": {},
   "outputs": [
    {
     "name": "stdout",
     "output_type": "stream",
     "text": [
      "Epoch 1/600\n",
      "14/14 [==============================] - 0s 13ms/step - loss: 0.6899 - val_loss: 0.6825\n",
      "Epoch 2/600\n",
      "14/14 [==============================] - 0s 3ms/step - loss: 0.6760 - val_loss: 0.6621\n",
      "Epoch 3/600\n",
      "14/14 [==============================] - 0s 3ms/step - loss: 0.6553 - val_loss: 0.6452\n",
      "Epoch 4/600\n",
      "14/14 [==============================] - 0s 3ms/step - loss: 0.6551 - val_loss: 0.6265\n",
      "Epoch 5/600\n",
      "14/14 [==============================] - 0s 3ms/step - loss: 0.6396 - val_loss: 0.6093\n",
      "Epoch 6/600\n",
      "14/14 [==============================] - 0s 3ms/step - loss: 0.6185 - val_loss: 0.5908\n",
      "Epoch 7/600\n",
      "14/14 [==============================] - 0s 3ms/step - loss: 0.6031 - val_loss: 0.5693\n",
      "Epoch 8/600\n",
      "14/14 [==============================] - 0s 3ms/step - loss: 0.5732 - val_loss: 0.5478\n",
      "Epoch 9/600\n",
      "14/14 [==============================] - 0s 3ms/step - loss: 0.5670 - val_loss: 0.5224\n",
      "Epoch 10/600\n",
      "14/14 [==============================] - 0s 3ms/step - loss: 0.5532 - val_loss: 0.4975\n",
      "Epoch 11/600\n",
      "14/14 [==============================] - 0s 3ms/step - loss: 0.5310 - val_loss: 0.4731\n",
      "Epoch 12/600\n",
      "14/14 [==============================] - 0s 3ms/step - loss: 0.4902 - val_loss: 0.4470\n",
      "Epoch 13/600\n",
      "14/14 [==============================] - 0s 3ms/step - loss: 0.5054 - val_loss: 0.4206\n",
      "Epoch 14/600\n",
      "14/14 [==============================] - 0s 3ms/step - loss: 0.4480 - val_loss: 0.3921\n",
      "Epoch 15/600\n",
      "14/14 [==============================] - 0s 3ms/step - loss: 0.4331 - val_loss: 0.3655\n",
      "Epoch 16/600\n",
      "14/14 [==============================] - 0s 3ms/step - loss: 0.4475 - val_loss: 0.3415\n",
      "Epoch 17/600\n",
      "14/14 [==============================] - 0s 3ms/step - loss: 0.4281 - val_loss: 0.3222\n",
      "Epoch 18/600\n",
      "14/14 [==============================] - 0s 3ms/step - loss: 0.4012 - val_loss: 0.3028\n",
      "Epoch 19/600\n",
      "14/14 [==============================] - 0s 3ms/step - loss: 0.3986 - val_loss: 0.2861\n",
      "Epoch 20/600\n",
      "14/14 [==============================] - 0s 3ms/step - loss: 0.3604 - val_loss: 0.2711\n",
      "Epoch 21/600\n",
      "14/14 [==============================] - 0s 3ms/step - loss: 0.3639 - val_loss: 0.2532\n",
      "Epoch 22/600\n",
      "14/14 [==============================] - 0s 3ms/step - loss: 0.3506 - val_loss: 0.2404\n",
      "Epoch 23/600\n",
      "14/14 [==============================] - 0s 3ms/step - loss: 0.3176 - val_loss: 0.2246\n",
      "Epoch 24/600\n",
      "14/14 [==============================] - 0s 3ms/step - loss: 0.3237 - val_loss: 0.2142\n",
      "Epoch 25/600\n",
      "14/14 [==============================] - 0s 3ms/step - loss: 0.3190 - val_loss: 0.2029\n",
      "Epoch 26/600\n",
      "14/14 [==============================] - 0s 3ms/step - loss: 0.3019 - val_loss: 0.1950\n",
      "Epoch 27/600\n",
      "14/14 [==============================] - 0s 3ms/step - loss: 0.2596 - val_loss: 0.1862\n",
      "Epoch 28/600\n",
      "14/14 [==============================] - 0s 3ms/step - loss: 0.2627 - val_loss: 0.1718\n",
      "Epoch 29/600\n",
      "14/14 [==============================] - 0s 3ms/step - loss: 0.2848 - val_loss: 0.1679\n",
      "Epoch 30/600\n",
      "14/14 [==============================] - 0s 3ms/step - loss: 0.2906 - val_loss: 0.1655\n",
      "Epoch 31/600\n",
      "14/14 [==============================] - 0s 3ms/step - loss: 0.2435 - val_loss: 0.1598\n",
      "Epoch 32/600\n",
      "14/14 [==============================] - 0s 3ms/step - loss: 0.2747 - val_loss: 0.1579\n",
      "Epoch 33/600\n",
      "14/14 [==============================] - 0s 3ms/step - loss: 0.2451 - val_loss: 0.1539\n",
      "Epoch 34/600\n",
      "14/14 [==============================] - 0s 3ms/step - loss: 0.2558 - val_loss: 0.1474\n",
      "Epoch 35/600\n",
      "14/14 [==============================] - 0s 3ms/step - loss: 0.2346 - val_loss: 0.1453\n",
      "Epoch 36/600\n",
      "14/14 [==============================] - 0s 3ms/step - loss: 0.2276 - val_loss: 0.1446\n",
      "Epoch 37/600\n",
      "14/14 [==============================] - 0s 3ms/step - loss: 0.2194 - val_loss: 0.1386\n",
      "Epoch 38/600\n",
      "14/14 [==============================] - 0s 3ms/step - loss: 0.2349 - val_loss: 0.1344\n",
      "Epoch 39/600\n",
      "14/14 [==============================] - 0s 3ms/step - loss: 0.2086 - val_loss: 0.1309\n",
      "Epoch 40/600\n",
      "14/14 [==============================] - 0s 3ms/step - loss: 0.2271 - val_loss: 0.1304\n",
      "Epoch 41/600\n",
      "14/14 [==============================] - 0s 3ms/step - loss: 0.2159 - val_loss: 0.1269\n",
      "Epoch 42/600\n",
      "14/14 [==============================] - 0s 3ms/step - loss: 0.2159 - val_loss: 0.1215\n",
      "Epoch 43/600\n",
      "14/14 [==============================] - 0s 3ms/step - loss: 0.2055 - val_loss: 0.1242\n",
      "Epoch 44/600\n",
      "14/14 [==============================] - 0s 3ms/step - loss: 0.2150 - val_loss: 0.1194\n",
      "Epoch 45/600\n",
      "14/14 [==============================] - 0s 3ms/step - loss: 0.1745 - val_loss: 0.1163\n",
      "Epoch 46/600\n",
      "14/14 [==============================] - 0s 3ms/step - loss: 0.1936 - val_loss: 0.1129\n",
      "Epoch 47/600\n",
      "14/14 [==============================] - 0s 3ms/step - loss: 0.1905 - val_loss: 0.1158\n",
      "Epoch 48/600\n",
      "14/14 [==============================] - 0s 3ms/step - loss: 0.1711 - val_loss: 0.1201\n",
      "Epoch 49/600\n",
      "14/14 [==============================] - 0s 3ms/step - loss: 0.1970 - val_loss: 0.1081\n",
      "Epoch 50/600\n",
      "14/14 [==============================] - 0s 3ms/step - loss: 0.1770 - val_loss: 0.1089\n",
      "Epoch 51/600\n",
      "14/14 [==============================] - 0s 3ms/step - loss: 0.1732 - val_loss: 0.1133\n",
      "Epoch 52/600\n",
      "14/14 [==============================] - 0s 3ms/step - loss: 0.1664 - val_loss: 0.1033\n",
      "Epoch 53/600\n",
      "14/14 [==============================] - 0s 3ms/step - loss: 0.1616 - val_loss: 0.1028\n",
      "Epoch 54/600\n",
      "14/14 [==============================] - 0s 3ms/step - loss: 0.1730 - val_loss: 0.1067\n",
      "Epoch 55/600\n",
      "14/14 [==============================] - 0s 3ms/step - loss: 0.1735 - val_loss: 0.1219\n",
      "Epoch 56/600\n",
      "14/14 [==============================] - 0s 3ms/step - loss: 0.1563 - val_loss: 0.1070\n",
      "Epoch 57/600\n",
      "14/14 [==============================] - 0s 3ms/step - loss: 0.1760 - val_loss: 0.1006\n",
      "Epoch 58/600\n",
      "14/14 [==============================] - 0s 8ms/step - loss: 0.1433 - val_loss: 0.1032\n",
      "Epoch 59/600\n",
      "14/14 [==============================] - 0s 3ms/step - loss: 0.1639 - val_loss: 0.1067\n",
      "Epoch 60/600\n",
      "14/14 [==============================] - 0s 3ms/step - loss: 0.1517 - val_loss: 0.0913\n",
      "Epoch 61/600\n",
      "14/14 [==============================] - 0s 3ms/step - loss: 0.1344 - val_loss: 0.1037\n",
      "Epoch 62/600\n",
      "14/14 [==============================] - 0s 3ms/step - loss: 0.1591 - val_loss: 0.1002\n",
      "Epoch 63/600\n",
      "14/14 [==============================] - 0s 3ms/step - loss: 0.1563 - val_loss: 0.0966\n",
      "Epoch 64/600\n",
      "14/14 [==============================] - 0s 3ms/step - loss: 0.1568 - val_loss: 0.0973\n",
      "Epoch 65/600\n",
      "14/14 [==============================] - 0s 3ms/step - loss: 0.1560 - val_loss: 0.1046\n",
      "Epoch 66/600\n",
      "14/14 [==============================] - 0s 3ms/step - loss: 0.1380 - val_loss: 0.0910\n",
      "Epoch 67/600\n",
      "14/14 [==============================] - 0s 3ms/step - loss: 0.1649 - val_loss: 0.1022\n",
      "Epoch 68/600\n",
      "14/14 [==============================] - 0s 3ms/step - loss: 0.1516 - val_loss: 0.0971\n",
      "Epoch 69/600\n",
      "14/14 [==============================] - 0s 3ms/step - loss: 0.1360 - val_loss: 0.0924\n",
      "Epoch 70/600\n",
      "14/14 [==============================] - 0s 3ms/step - loss: 0.1469 - val_loss: 0.0972\n",
      "Epoch 71/600\n",
      "14/14 [==============================] - 0s 3ms/step - loss: 0.1246 - val_loss: 0.0966\n",
      "Epoch 72/600\n",
      "14/14 [==============================] - 0s 3ms/step - loss: 0.1244 - val_loss: 0.0985\n",
      "Epoch 73/600\n",
      "14/14 [==============================] - 0s 3ms/step - loss: 0.1470 - val_loss: 0.0980\n",
      "Epoch 74/600\n",
      "14/14 [==============================] - 0s 3ms/step - loss: 0.1253 - val_loss: 0.0988\n",
      "Epoch 75/600\n",
      "14/14 [==============================] - 0s 3ms/step - loss: 0.1404 - val_loss: 0.0888\n",
      "Epoch 76/600\n",
      "14/14 [==============================] - 0s 3ms/step - loss: 0.1134 - val_loss: 0.0936\n",
      "Epoch 77/600\n",
      "14/14 [==============================] - 0s 3ms/step - loss: 0.1410 - val_loss: 0.0965\n",
      "Epoch 78/600\n",
      "14/14 [==============================] - 0s 3ms/step - loss: 0.1518 - val_loss: 0.0948\n",
      "Epoch 79/600\n",
      "14/14 [==============================] - 0s 3ms/step - loss: 0.1392 - val_loss: 0.0880\n",
      "Epoch 80/600\n",
      "14/14 [==============================] - 0s 3ms/step - loss: 0.1088 - val_loss: 0.0920\n",
      "Epoch 81/600\n",
      "14/14 [==============================] - 0s 3ms/step - loss: 0.1219 - val_loss: 0.0892\n",
      "Epoch 82/600\n",
      "14/14 [==============================] - 0s 3ms/step - loss: 0.1174 - val_loss: 0.0878\n",
      "Epoch 83/600\n"
     ]
    },
    {
     "name": "stdout",
     "output_type": "stream",
     "text": [
      "14/14 [==============================] - 0s 3ms/step - loss: 0.1230 - val_loss: 0.1003\n",
      "Epoch 84/600\n",
      "14/14 [==============================] - 0s 3ms/step - loss: 0.1074 - val_loss: 0.0949\n",
      "Epoch 85/600\n",
      "14/14 [==============================] - 0s 3ms/step - loss: 0.1316 - val_loss: 0.0926\n",
      "Epoch 86/600\n",
      "14/14 [==============================] - 0s 3ms/step - loss: 0.1244 - val_loss: 0.0968\n",
      "Epoch 87/600\n",
      "14/14 [==============================] - 0s 3ms/step - loss: 0.1447 - val_loss: 0.0921\n",
      "Epoch 88/600\n",
      "14/14 [==============================] - 0s 3ms/step - loss: 0.1183 - val_loss: 0.0957\n",
      "Epoch 89/600\n",
      "14/14 [==============================] - 0s 3ms/step - loss: 0.1243 - val_loss: 0.0943\n",
      "Epoch 90/600\n",
      "14/14 [==============================] - 0s 3ms/step - loss: 0.1306 - val_loss: 0.0991\n",
      "Epoch 91/600\n",
      "14/14 [==============================] - 0s 3ms/step - loss: 0.1049 - val_loss: 0.0990\n",
      "Epoch 92/600\n",
      "14/14 [==============================] - 0s 3ms/step - loss: 0.1231 - val_loss: 0.0896\n",
      "Epoch 93/600\n",
      "14/14 [==============================] - 0s 3ms/step - loss: 0.1216 - val_loss: 0.1070\n",
      "Epoch 94/600\n",
      "14/14 [==============================] - 0s 3ms/step - loss: 0.1217 - val_loss: 0.1263\n",
      "Epoch 95/600\n",
      "14/14 [==============================] - 0s 3ms/step - loss: 0.0957 - val_loss: 0.0918\n",
      "Epoch 96/600\n",
      "14/14 [==============================] - 0s 3ms/step - loss: 0.1205 - val_loss: 0.0895\n",
      "Epoch 97/600\n",
      "14/14 [==============================] - 0s 3ms/step - loss: 0.1031 - val_loss: 0.0930\n",
      "Epoch 98/600\n",
      "14/14 [==============================] - 0s 3ms/step - loss: 0.1181 - val_loss: 0.1046\n",
      "Epoch 99/600\n",
      "14/14 [==============================] - 0s 3ms/step - loss: 0.0995 - val_loss: 0.0894\n",
      "Epoch 100/600\n",
      "14/14 [==============================] - 0s 3ms/step - loss: 0.1070 - val_loss: 0.0928\n",
      "Epoch 101/600\n",
      "14/14 [==============================] - 0s 3ms/step - loss: 0.0888 - val_loss: 0.0970\n",
      "Epoch 102/600\n",
      "14/14 [==============================] - 0s 3ms/step - loss: 0.1155 - val_loss: 0.0966\n",
      "Epoch 103/600\n",
      "14/14 [==============================] - 0s 3ms/step - loss: 0.1004 - val_loss: 0.1067\n",
      "Epoch 104/600\n",
      "14/14 [==============================] - 0s 3ms/step - loss: 0.1117 - val_loss: 0.0904\n",
      "Epoch 105/600\n",
      "14/14 [==============================] - 0s 3ms/step - loss: 0.1018 - val_loss: 0.0937\n",
      "Epoch 106/600\n",
      "14/14 [==============================] - 0s 3ms/step - loss: 0.1068 - val_loss: 0.0992\n",
      "Epoch 107/600\n",
      "14/14 [==============================] - 0s 3ms/step - loss: 0.0978 - val_loss: 0.0956\n",
      "Epoch 00107: early stopping\n"
     ]
    },
    {
     "data": {
      "text/plain": [
       "<tensorflow.python.keras.callbacks.History at 0x151d9b4a8>"
      ]
     },
     "execution_count": 18,
     "metadata": {},
     "output_type": "execute_result"
    }
   ],
   "source": [
    "model.fit(x=X_train, \n",
    "          y=y_train, \n",
    "          epochs=600,\n",
    "          validation_data=(X_test, y_test), verbose=1,\n",
    "          callbacks=[early_stop,board]\n",
    "          )"
   ]
  },
  {
   "cell_type": "markdown",
   "metadata": {},
   "source": [
    "# Tensorboad starten\n"
   ]
  },
  {
   "cell_type": "markdown",
   "metadata": {},
   "source": [
    "## Start über die Kommandozeile\n",
    "\n",
    "**Betrachte das Video für Informationen zur Ausführung von Tensorboard über die Kommandozeile.**"
   ]
  },
  {
   "cell_type": "markdown",
   "metadata": {},
   "source": [
    "Tensorboard läuft lokal in deinem Browser auf [http://localhost:6006/](http://localhost:6006/)\n"
   ]
  },
  {
   "cell_type": "code",
   "execution_count": 19,
   "metadata": {},
   "outputs": [
    {
     "name": "stdout",
     "output_type": "stream",
     "text": [
      "logsfit\n"
     ]
    }
   ],
   "source": [
    "print(log_directory)"
   ]
  },
  {
   "cell_type": "code",
   "execution_count": 21,
   "metadata": {},
   "outputs": [
    {
     "data": {
      "text/plain": [
       "'/Users/renebrunner/datamics/05_DE-Notebooks/03-ANNs'"
      ]
     },
     "execution_count": 21,
     "metadata": {},
     "output_type": "execute_result"
    }
   ],
   "source": [
    "pwd"
   ]
  },
  {
   "cell_type": "markdown",
   "metadata": {},
   "source": [
    "### Verwende cd in der Kommandozeile, um in den von pwd ausgegebenen Dateipfad oder dem Pfad deiner .py-Datei zu wechseln.\n",
    "\n",
    "### Führe dann diesen Code in der Kommandozeile aus"
   ]
  },
  {
   "cell_type": "code",
   "execution_count": null,
   "metadata": {},
   "outputs": [],
   "source": [
    "!tensorboard --logdir logsfit "
   ]
  },
  {
   "cell_type": "markdown",
   "metadata": {},
   "source": [
    "# Gut gemacht!"
   ]
  }
 ],
 "metadata": {
  "kernelspec": {
   "display_name": "Python 3 (ipykernel)",
   "language": "python",
   "name": "python3"
  },
  "language_info": {
   "codemirror_mode": {
    "name": "ipython",
    "version": 3
   },
   "file_extension": ".py",
   "mimetype": "text/x-python",
   "name": "python",
   "nbconvert_exporter": "python",
   "pygments_lexer": "ipython3",
   "version": "3.8.10"
  }
 },
 "nbformat": 4,
 "nbformat_minor": 2
}
