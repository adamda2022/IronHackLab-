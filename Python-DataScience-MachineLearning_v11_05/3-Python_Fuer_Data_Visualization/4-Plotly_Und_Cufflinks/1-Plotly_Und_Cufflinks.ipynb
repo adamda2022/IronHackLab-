{
 "cells": [
  {
   "cell_type": "markdown",
   "metadata": {},
   "source": [
    "<a href=\"https://akademie.datamics.com/kursliste/\">![title](bg_datamics_top.png)</a><center><em>© Datamics</em></center><br><center><em>Besuche uns für mehr Informationen auf <a href='https://akademie.datamics.com/kursliste/'>www.akademie.datamics.com</a></em>"
   ]
  },
  {
   "cell_type": "markdown",
   "metadata": {},
   "source": [
    "# Plotly und Cufflinks\n",
    "\n",
    "*Plotly* ist eine Library die es uns erlaubt interaktive Plots zu erstellen, die wir in Dashboards oder Webseiten verwenden können. Dazu können sie als HTML-Datei oder statisches Bild gespeichert werden.\n",
    "\n",
    "## Installation\n",
    "\n",
    "Damit das alles funktioniert müssen wir *Plotly* und *Cufflinks* installieren. So können wir Plotly direkt von einem Pandas DataFrame aus aufrufen. Diese Libraries sind aktuell *nicht* durch Anaconda verfügbar. Wir können sie durch folgende Befehle installieren:\n",
    "\n",
    "    pip install plotly\n",
    "    pip install cufflinks\n",
    "    \n",
    "*Hinweis: Solltet ihr andere Versionen von Python als die im Kurs verwendete Python 3 Version installiert haben kann es zu Problemen kommen.**\n",
    "\n",
    "## Importe und Setup"
   ]
  },
  {
   "cell_type": "code",
   "execution_count": 1,
   "metadata": {},
   "outputs": [],
   "source": [
    "import pandas as pd\n",
    "import numpy as np\n",
    "%matplotlib inline"
   ]
  },
  {
   "cell_type": "code",
   "execution_count": 2,
   "metadata": {},
   "outputs": [
    {
     "name": "stdout",
     "output_type": "stream",
     "text": [
      "4.11.0\n"
     ]
    }
   ],
   "source": [
    "from plotly import __version__\n",
    "from plotly.offline import download_plotlyjs, init_notebook_mode, plot, iplot\n",
    "\n",
    "print(__version__) # requires version >= 1.9.0"
   ]
  },
  {
   "cell_type": "code",
   "execution_count": 3,
   "metadata": {},
   "outputs": [],
   "source": [
    "import cufflinks as cf"
   ]
  },
  {
   "cell_type": "code",
   "execution_count": 4,
   "metadata": {},
   "outputs": [
    {
     "data": {
      "text/html": [
       "        <script type=\"text/javascript\">\n",
       "        window.PlotlyConfig = {MathJaxConfig: 'local'};\n",
       "        if (window.MathJax) {MathJax.Hub.Config({SVG: {font: \"STIX-Web\"}});}\n",
       "        if (typeof require !== 'undefined') {\n",
       "        require.undef(\"plotly\");\n",
       "        requirejs.config({\n",
       "            paths: {\n",
       "                'plotly': ['https://cdn.plot.ly/plotly-latest.min']\n",
       "            }\n",
       "        });\n",
       "        require(['plotly'], function(Plotly) {\n",
       "            window._Plotly = Plotly;\n",
       "        });\n",
       "        }\n",
       "        </script>\n",
       "        "
      ]
     },
     "metadata": {},
     "output_type": "display_data"
    }
   ],
   "source": [
    "# Für Notebooks\n",
    "init_notebook_mode(connected=True)"
   ]
  },
  {
   "cell_type": "code",
   "execution_count": 5,
   "metadata": {},
   "outputs": [
    {
     "data": {
      "text/html": [
       "        <script type=\"text/javascript\">\n",
       "        window.PlotlyConfig = {MathJaxConfig: 'local'};\n",
       "        if (window.MathJax) {MathJax.Hub.Config({SVG: {font: \"STIX-Web\"}});}\n",
       "        if (typeof require !== 'undefined') {\n",
       "        require.undef(\"plotly\");\n",
       "        requirejs.config({\n",
       "            paths: {\n",
       "                'plotly': ['https://cdn.plot.ly/plotly-latest.min']\n",
       "            }\n",
       "        });\n",
       "        require(['plotly'], function(Plotly) {\n",
       "            window._Plotly = Plotly;\n",
       "        });\n",
       "        }\n",
       "        </script>\n",
       "        "
      ]
     },
     "metadata": {},
     "output_type": "display_data"
    }
   ],
   "source": [
    "# Für Offline Nutzung\n",
    "cf.go_offline()"
   ]
  },
  {
   "cell_type": "markdown",
   "metadata": {},
   "source": [
    "## Zufallsdaten"
   ]
  },
  {
   "cell_type": "code",
   "execution_count": 6,
   "metadata": {},
   "outputs": [],
   "source": [
    "df = pd.DataFrame(np.random.randn(100,4), columns=\"A B C D\".split())"
   ]
  },
  {
   "cell_type": "code",
   "execution_count": 7,
   "metadata": {},
   "outputs": [
    {
     "data": {
      "text/html": [
       "<div>\n",
       "<style scoped>\n",
       "    .dataframe tbody tr th:only-of-type {\n",
       "        vertical-align: middle;\n",
       "    }\n",
       "\n",
       "    .dataframe tbody tr th {\n",
       "        vertical-align: top;\n",
       "    }\n",
       "\n",
       "    .dataframe thead th {\n",
       "        text-align: right;\n",
       "    }\n",
       "</style>\n",
       "<table border=\"1\" class=\"dataframe\">\n",
       "  <thead>\n",
       "    <tr style=\"text-align: right;\">\n",
       "      <th></th>\n",
       "      <th>A</th>\n",
       "      <th>B</th>\n",
       "      <th>C</th>\n",
       "      <th>D</th>\n",
       "    </tr>\n",
       "  </thead>\n",
       "  <tbody>\n",
       "    <tr>\n",
       "      <th>0</th>\n",
       "      <td>-0.133570</td>\n",
       "      <td>-1.771315</td>\n",
       "      <td>-1.257959</td>\n",
       "      <td>0.044383</td>\n",
       "    </tr>\n",
       "    <tr>\n",
       "      <th>1</th>\n",
       "      <td>-0.938810</td>\n",
       "      <td>0.283716</td>\n",
       "      <td>0.752817</td>\n",
       "      <td>2.014530</td>\n",
       "    </tr>\n",
       "    <tr>\n",
       "      <th>2</th>\n",
       "      <td>0.511710</td>\n",
       "      <td>1.303980</td>\n",
       "      <td>-0.721225</td>\n",
       "      <td>-0.827752</td>\n",
       "    </tr>\n",
       "    <tr>\n",
       "      <th>3</th>\n",
       "      <td>1.177986</td>\n",
       "      <td>-0.400944</td>\n",
       "      <td>0.304017</td>\n",
       "      <td>-0.480028</td>\n",
       "    </tr>\n",
       "    <tr>\n",
       "      <th>4</th>\n",
       "      <td>-0.495754</td>\n",
       "      <td>-0.842138</td>\n",
       "      <td>0.064052</td>\n",
       "      <td>-1.743471</td>\n",
       "    </tr>\n",
       "  </tbody>\n",
       "</table>\n",
       "</div>"
      ],
      "text/plain": [
       "          A         B         C         D\n",
       "0 -0.133570 -1.771315 -1.257959  0.044383\n",
       "1 -0.938810  0.283716  0.752817  2.014530\n",
       "2  0.511710  1.303980 -0.721225 -0.827752\n",
       "3  1.177986 -0.400944  0.304017 -0.480028\n",
       "4 -0.495754 -0.842138  0.064052 -1.743471"
      ]
     },
     "execution_count": 7,
     "metadata": {},
     "output_type": "execute_result"
    }
   ],
   "source": [
    "df.head()"
   ]
  },
  {
   "cell_type": "code",
   "execution_count": 8,
   "metadata": {},
   "outputs": [],
   "source": [
    "df2 = pd.DataFrame({'Kategorie':['A','B','C'],'Werte':[32,43,50]})"
   ]
  },
  {
   "cell_type": "code",
   "execution_count": 9,
   "metadata": {},
   "outputs": [
    {
     "data": {
      "text/html": [
       "<div>\n",
       "<style scoped>\n",
       "    .dataframe tbody tr th:only-of-type {\n",
       "        vertical-align: middle;\n",
       "    }\n",
       "\n",
       "    .dataframe tbody tr th {\n",
       "        vertical-align: top;\n",
       "    }\n",
       "\n",
       "    .dataframe thead th {\n",
       "        text-align: right;\n",
       "    }\n",
       "</style>\n",
       "<table border=\"1\" class=\"dataframe\">\n",
       "  <thead>\n",
       "    <tr style=\"text-align: right;\">\n",
       "      <th></th>\n",
       "      <th>Kategorie</th>\n",
       "      <th>Werte</th>\n",
       "    </tr>\n",
       "  </thead>\n",
       "  <tbody>\n",
       "    <tr>\n",
       "      <th>0</th>\n",
       "      <td>A</td>\n",
       "      <td>32</td>\n",
       "    </tr>\n",
       "    <tr>\n",
       "      <th>1</th>\n",
       "      <td>B</td>\n",
       "      <td>43</td>\n",
       "    </tr>\n",
       "    <tr>\n",
       "      <th>2</th>\n",
       "      <td>C</td>\n",
       "      <td>50</td>\n",
       "    </tr>\n",
       "  </tbody>\n",
       "</table>\n",
       "</div>"
      ],
      "text/plain": [
       "  Kategorie  Werte\n",
       "0         A     32\n",
       "1         B     43\n",
       "2         C     50"
      ]
     },
     "execution_count": 9,
     "metadata": {},
     "output_type": "execute_result"
    }
   ],
   "source": [
    "df2.head()"
   ]
  },
  {
   "cell_type": "markdown",
   "metadata": {},
   "source": [
    "## Cufflinks und `iplot()` nutzen\n",
    "\n",
    "* scatter\n",
    "* bar\n",
    "* box\n",
    "* spread\n",
    "* ratio\n",
    "* heatmap\n",
    "* surface\n",
    "* histogram\n",
    "* bubble"
   ]
  },
  {
   "cell_type": "markdown",
   "metadata": {},
   "source": [
    "### Scatter"
   ]
  },
  {
   "cell_type": "code",
   "execution_count": 10,
   "metadata": {},
   "outputs": [
    {
     "data": {
      "application/vnd.plotly.v1+json": {
       "config": {
        "linkText": "Export to plot.ly",
        "plotlyServerURL": "https://plot.ly",
        "showLink": true
       },
       "data": [
        {
         "line": {
          "color": "rgba(255, 153, 51, 1.0)",
          "dash": "solid",
          "shape": "linear",
          "width": 1.3
         },
         "marker": {
          "size": 10,
          "symbol": "circle"
         },
         "mode": "markers",
         "name": "B",
         "text": "",
         "type": "scatter",
         "x": [
          -0.13357016322871249,
          -0.9388099126545523,
          0.5117097703051664,
          1.1779855554334155,
          -0.4957539865499914,
          0.7007226194302827,
          -1.618803600536682,
          0.6471942674601291,
          0.18380474352706944,
          -0.8434487884583421,
          -0.14225349702295875,
          -2.0077819846307485,
          0.29759751236156534,
          -1.6326134094630256,
          -1.6519162183269995,
          -0.8539639548069332,
          0.07536835326501973,
          0.40309764714981444,
          1.166158989566912,
          0.46423153191010424,
          1.2319341756988753,
          0.4641824363846118,
          0.05736669686774498,
          0.39587078523377806,
          -0.254006178629848,
          -0.36263870999363906,
          0.6412993423764257,
          -0.3700496398671861,
          -0.13410095704867844,
          0.9817025311756228,
          0.8106484353297797,
          -0.16205295130179306,
          -0.33913108062063313,
          0.057469169391842496,
          -0.26477571549699463,
          0.0024576263945883135,
          -0.7147944079380628,
          -0.9996002696309442,
          0.9184922604899338,
          -1.1992044471144834,
          -0.0014854154246680376,
          0.3345466304861377,
          -0.765893622583983,
          0.10602795313048664,
          -1.591559038672016,
          -1.5312232576890508,
          -0.6366596842954436,
          1.6225309347941257,
          1.7966198104485864,
          2.79022164392135,
          0.27989357476789123,
          -0.4241064293010893,
          0.8388132702372181,
          -1.7267818436917177,
          -0.19362775702521812,
          -0.4368430323944334,
          -0.10776796283523535,
          -0.6502442358995324,
          -1.6219332655111154,
          1.2550106632360527,
          1.1312727057858079,
          -0.14766825632663355,
          -0.8368005671070359,
          -0.3243847866723495,
          -1.2199045625041136,
          -0.23809218291276832,
          -0.08972305687923236,
          -0.05567665301556912,
          0.7666832039503296,
          0.2585425338176482,
          -1.3348907441116726,
          0.6040795355994396,
          0.6531700339950408,
          1.090204612183431,
          -0.6137086038703986,
          0.33791847895736926,
          -1.7392250650949956,
          1.4703656663706586,
          0.27668941996149615,
          0.09627244902315872,
          -0.712464687405788,
          -0.9906689518375307,
          -0.2946382043089493,
          0.5505106266683137,
          -0.7328233537076538,
          0.07719178587171921,
          -0.16515491761973805,
          1.2137032151240978,
          0.6498073142314598,
          -0.36673405463231695,
          0.6143438624170506,
          0.04026987091933534,
          1.7651119672384328,
          2.504762191553729,
          0.19481374841293744,
          -0.695399992508885,
          -0.98880223581316,
          -1.5667214570263932,
          -1.2968714550600573,
          1.4422375463078765
         ],
         "y": [
          -1.771315301053812,
          0.28371580039817207,
          1.303979668017339,
          -0.4009436724652719,
          -0.8421376822919558,
          -1.6465719848911848,
          1.690845020202858,
          1.6249160105450737,
          1.1486402676728138,
          1.2817697377258561,
          -2.3492865826040443,
          -0.7341290536641111,
          -1.0151774783057488,
          1.302160688252516,
          0.3722181611452662,
          -0.2537545153874133,
          1.0733525558023929,
          0.013311297241387236,
          -1.584831941900239,
          -0.08844080273559,
          -0.02523400350880266,
          1.8680368996218724,
          0.7902024783347283,
          -1.1507380031196381,
          1.1533029111144617,
          -0.8117613170967656,
          1.2916717955929897,
          0.16307876825058087,
          -0.08776720246335248,
          -0.7169668323701185,
          0.11547599070899921,
          2.028020398950748,
          2.067971296847705,
          -1.7679586572575203,
          -1.9121303185713443,
          0.22433857797991286,
          -0.05078404839345344,
          -1.6452970856783191,
          -2.2029051986762402,
          0.29089672723102883,
          -0.6098968844301316,
          0.4910994061285502,
          0.3276452956611974,
          -0.8080522613359631,
          0.2261764224509759,
          -1.1643304995513808,
          -0.5139522934290397,
          0.05652292348238001,
          -1.0680631748812215,
          -1.1211463646552,
          -0.4212410832484853,
          -1.0984757835014813,
          0.32938239648772344,
          -0.5500316801652668,
          0.24390634734471617,
          0.06022437056695923,
          0.10340482186120566,
          0.008214440317838802,
          2.0666413091693987,
          -0.6463373272003697,
          0.7164276475627177,
          -0.9353036902858883,
          0.2883519549522942,
          -0.24751466010814432,
          -0.07612973193853989,
          -1.388616457975686,
          0.5765020024178159,
          -0.13743540087202014,
          0.5969159313248671,
          0.4040044827769081,
          1.200730957316366,
          -0.6561027766889078,
          -0.7367026331814217,
          3.182032959872631,
          0.34142892232679933,
          -0.433666546367912,
          -0.45821447025373263,
          1.0097119871725126,
          -0.5871000495758965,
          1.2284393627469177,
          1.1344983010102763,
          -0.13325128842744816,
          -1.1939105257456901,
          -2.043792821545929,
          0.6485531035628525,
          0.027039352355595663,
          0.5899161200710822,
          1.3957133480420012,
          -2.0924818534099088,
          0.05259908472658938,
          -0.3149904271888376,
          -0.3649950991421775,
          1.4506623049311254,
          -0.4616033155387015,
          0.3976292886585956,
          -0.4479181999474117,
          -2.342225753002411,
          -0.6694261707440903,
          1.412374347731571,
          -0.2622402824357615
         ]
        }
       ],
       "layout": {
        "legend": {
         "bgcolor": "#F5F6F9",
         "font": {
          "color": "#4D5663"
         }
        },
        "paper_bgcolor": "#F5F6F9",
        "plot_bgcolor": "#F5F6F9",
        "template": {
         "data": {
          "bar": [
           {
            "error_x": {
             "color": "#2a3f5f"
            },
            "error_y": {
             "color": "#2a3f5f"
            },
            "marker": {
             "line": {
              "color": "#E5ECF6",
              "width": 0.5
             }
            },
            "type": "bar"
           }
          ],
          "barpolar": [
           {
            "marker": {
             "line": {
              "color": "#E5ECF6",
              "width": 0.5
             }
            },
            "type": "barpolar"
           }
          ],
          "carpet": [
           {
            "aaxis": {
             "endlinecolor": "#2a3f5f",
             "gridcolor": "white",
             "linecolor": "white",
             "minorgridcolor": "white",
             "startlinecolor": "#2a3f5f"
            },
            "baxis": {
             "endlinecolor": "#2a3f5f",
             "gridcolor": "white",
             "linecolor": "white",
             "minorgridcolor": "white",
             "startlinecolor": "#2a3f5f"
            },
            "type": "carpet"
           }
          ],
          "choropleth": [
           {
            "colorbar": {
             "outlinewidth": 0,
             "ticks": ""
            },
            "type": "choropleth"
           }
          ],
          "contour": [
           {
            "colorbar": {
             "outlinewidth": 0,
             "ticks": ""
            },
            "colorscale": [
             [
              0,
              "#0d0887"
             ],
             [
              0.1111111111111111,
              "#46039f"
             ],
             [
              0.2222222222222222,
              "#7201a8"
             ],
             [
              0.3333333333333333,
              "#9c179e"
             ],
             [
              0.4444444444444444,
              "#bd3786"
             ],
             [
              0.5555555555555556,
              "#d8576b"
             ],
             [
              0.6666666666666666,
              "#ed7953"
             ],
             [
              0.7777777777777778,
              "#fb9f3a"
             ],
             [
              0.8888888888888888,
              "#fdca26"
             ],
             [
              1,
              "#f0f921"
             ]
            ],
            "type": "contour"
           }
          ],
          "contourcarpet": [
           {
            "colorbar": {
             "outlinewidth": 0,
             "ticks": ""
            },
            "type": "contourcarpet"
           }
          ],
          "heatmap": [
           {
            "colorbar": {
             "outlinewidth": 0,
             "ticks": ""
            },
            "colorscale": [
             [
              0,
              "#0d0887"
             ],
             [
              0.1111111111111111,
              "#46039f"
             ],
             [
              0.2222222222222222,
              "#7201a8"
             ],
             [
              0.3333333333333333,
              "#9c179e"
             ],
             [
              0.4444444444444444,
              "#bd3786"
             ],
             [
              0.5555555555555556,
              "#d8576b"
             ],
             [
              0.6666666666666666,
              "#ed7953"
             ],
             [
              0.7777777777777778,
              "#fb9f3a"
             ],
             [
              0.8888888888888888,
              "#fdca26"
             ],
             [
              1,
              "#f0f921"
             ]
            ],
            "type": "heatmap"
           }
          ],
          "heatmapgl": [
           {
            "colorbar": {
             "outlinewidth": 0,
             "ticks": ""
            },
            "colorscale": [
             [
              0,
              "#0d0887"
             ],
             [
              0.1111111111111111,
              "#46039f"
             ],
             [
              0.2222222222222222,
              "#7201a8"
             ],
             [
              0.3333333333333333,
              "#9c179e"
             ],
             [
              0.4444444444444444,
              "#bd3786"
             ],
             [
              0.5555555555555556,
              "#d8576b"
             ],
             [
              0.6666666666666666,
              "#ed7953"
             ],
             [
              0.7777777777777778,
              "#fb9f3a"
             ],
             [
              0.8888888888888888,
              "#fdca26"
             ],
             [
              1,
              "#f0f921"
             ]
            ],
            "type": "heatmapgl"
           }
          ],
          "histogram": [
           {
            "marker": {
             "colorbar": {
              "outlinewidth": 0,
              "ticks": ""
             }
            },
            "type": "histogram"
           }
          ],
          "histogram2d": [
           {
            "colorbar": {
             "outlinewidth": 0,
             "ticks": ""
            },
            "colorscale": [
             [
              0,
              "#0d0887"
             ],
             [
              0.1111111111111111,
              "#46039f"
             ],
             [
              0.2222222222222222,
              "#7201a8"
             ],
             [
              0.3333333333333333,
              "#9c179e"
             ],
             [
              0.4444444444444444,
              "#bd3786"
             ],
             [
              0.5555555555555556,
              "#d8576b"
             ],
             [
              0.6666666666666666,
              "#ed7953"
             ],
             [
              0.7777777777777778,
              "#fb9f3a"
             ],
             [
              0.8888888888888888,
              "#fdca26"
             ],
             [
              1,
              "#f0f921"
             ]
            ],
            "type": "histogram2d"
           }
          ],
          "histogram2dcontour": [
           {
            "colorbar": {
             "outlinewidth": 0,
             "ticks": ""
            },
            "colorscale": [
             [
              0,
              "#0d0887"
             ],
             [
              0.1111111111111111,
              "#46039f"
             ],
             [
              0.2222222222222222,
              "#7201a8"
             ],
             [
              0.3333333333333333,
              "#9c179e"
             ],
             [
              0.4444444444444444,
              "#bd3786"
             ],
             [
              0.5555555555555556,
              "#d8576b"
             ],
             [
              0.6666666666666666,
              "#ed7953"
             ],
             [
              0.7777777777777778,
              "#fb9f3a"
             ],
             [
              0.8888888888888888,
              "#fdca26"
             ],
             [
              1,
              "#f0f921"
             ]
            ],
            "type": "histogram2dcontour"
           }
          ],
          "mesh3d": [
           {
            "colorbar": {
             "outlinewidth": 0,
             "ticks": ""
            },
            "type": "mesh3d"
           }
          ],
          "parcoords": [
           {
            "line": {
             "colorbar": {
              "outlinewidth": 0,
              "ticks": ""
             }
            },
            "type": "parcoords"
           }
          ],
          "pie": [
           {
            "automargin": true,
            "type": "pie"
           }
          ],
          "scatter": [
           {
            "marker": {
             "colorbar": {
              "outlinewidth": 0,
              "ticks": ""
             }
            },
            "type": "scatter"
           }
          ],
          "scatter3d": [
           {
            "line": {
             "colorbar": {
              "outlinewidth": 0,
              "ticks": ""
             }
            },
            "marker": {
             "colorbar": {
              "outlinewidth": 0,
              "ticks": ""
             }
            },
            "type": "scatter3d"
           }
          ],
          "scattercarpet": [
           {
            "marker": {
             "colorbar": {
              "outlinewidth": 0,
              "ticks": ""
             }
            },
            "type": "scattercarpet"
           }
          ],
          "scattergeo": [
           {
            "marker": {
             "colorbar": {
              "outlinewidth": 0,
              "ticks": ""
             }
            },
            "type": "scattergeo"
           }
          ],
          "scattergl": [
           {
            "marker": {
             "colorbar": {
              "outlinewidth": 0,
              "ticks": ""
             }
            },
            "type": "scattergl"
           }
          ],
          "scattermapbox": [
           {
            "marker": {
             "colorbar": {
              "outlinewidth": 0,
              "ticks": ""
             }
            },
            "type": "scattermapbox"
           }
          ],
          "scatterpolar": [
           {
            "marker": {
             "colorbar": {
              "outlinewidth": 0,
              "ticks": ""
             }
            },
            "type": "scatterpolar"
           }
          ],
          "scatterpolargl": [
           {
            "marker": {
             "colorbar": {
              "outlinewidth": 0,
              "ticks": ""
             }
            },
            "type": "scatterpolargl"
           }
          ],
          "scatterternary": [
           {
            "marker": {
             "colorbar": {
              "outlinewidth": 0,
              "ticks": ""
             }
            },
            "type": "scatterternary"
           }
          ],
          "surface": [
           {
            "colorbar": {
             "outlinewidth": 0,
             "ticks": ""
            },
            "colorscale": [
             [
              0,
              "#0d0887"
             ],
             [
              0.1111111111111111,
              "#46039f"
             ],
             [
              0.2222222222222222,
              "#7201a8"
             ],
             [
              0.3333333333333333,
              "#9c179e"
             ],
             [
              0.4444444444444444,
              "#bd3786"
             ],
             [
              0.5555555555555556,
              "#d8576b"
             ],
             [
              0.6666666666666666,
              "#ed7953"
             ],
             [
              0.7777777777777778,
              "#fb9f3a"
             ],
             [
              0.8888888888888888,
              "#fdca26"
             ],
             [
              1,
              "#f0f921"
             ]
            ],
            "type": "surface"
           }
          ],
          "table": [
           {
            "cells": {
             "fill": {
              "color": "#EBF0F8"
             },
             "line": {
              "color": "white"
             }
            },
            "header": {
             "fill": {
              "color": "#C8D4E3"
             },
             "line": {
              "color": "white"
             }
            },
            "type": "table"
           }
          ]
         },
         "layout": {
          "annotationdefaults": {
           "arrowcolor": "#2a3f5f",
           "arrowhead": 0,
           "arrowwidth": 1
          },
          "coloraxis": {
           "colorbar": {
            "outlinewidth": 0,
            "ticks": ""
           }
          },
          "colorscale": {
           "diverging": [
            [
             0,
             "#8e0152"
            ],
            [
             0.1,
             "#c51b7d"
            ],
            [
             0.2,
             "#de77ae"
            ],
            [
             0.3,
             "#f1b6da"
            ],
            [
             0.4,
             "#fde0ef"
            ],
            [
             0.5,
             "#f7f7f7"
            ],
            [
             0.6,
             "#e6f5d0"
            ],
            [
             0.7,
             "#b8e186"
            ],
            [
             0.8,
             "#7fbc41"
            ],
            [
             0.9,
             "#4d9221"
            ],
            [
             1,
             "#276419"
            ]
           ],
           "sequential": [
            [
             0,
             "#0d0887"
            ],
            [
             0.1111111111111111,
             "#46039f"
            ],
            [
             0.2222222222222222,
             "#7201a8"
            ],
            [
             0.3333333333333333,
             "#9c179e"
            ],
            [
             0.4444444444444444,
             "#bd3786"
            ],
            [
             0.5555555555555556,
             "#d8576b"
            ],
            [
             0.6666666666666666,
             "#ed7953"
            ],
            [
             0.7777777777777778,
             "#fb9f3a"
            ],
            [
             0.8888888888888888,
             "#fdca26"
            ],
            [
             1,
             "#f0f921"
            ]
           ],
           "sequentialminus": [
            [
             0,
             "#0d0887"
            ],
            [
             0.1111111111111111,
             "#46039f"
            ],
            [
             0.2222222222222222,
             "#7201a8"
            ],
            [
             0.3333333333333333,
             "#9c179e"
            ],
            [
             0.4444444444444444,
             "#bd3786"
            ],
            [
             0.5555555555555556,
             "#d8576b"
            ],
            [
             0.6666666666666666,
             "#ed7953"
            ],
            [
             0.7777777777777778,
             "#fb9f3a"
            ],
            [
             0.8888888888888888,
             "#fdca26"
            ],
            [
             1,
             "#f0f921"
            ]
           ]
          },
          "colorway": [
           "#636efa",
           "#EF553B",
           "#00cc96",
           "#ab63fa",
           "#FFA15A",
           "#19d3f3",
           "#FF6692",
           "#B6E880",
           "#FF97FF",
           "#FECB52"
          ],
          "font": {
           "color": "#2a3f5f"
          },
          "geo": {
           "bgcolor": "white",
           "lakecolor": "white",
           "landcolor": "#E5ECF6",
           "showlakes": true,
           "showland": true,
           "subunitcolor": "white"
          },
          "hoverlabel": {
           "align": "left"
          },
          "hovermode": "closest",
          "mapbox": {
           "style": "light"
          },
          "paper_bgcolor": "white",
          "plot_bgcolor": "#E5ECF6",
          "polar": {
           "angularaxis": {
            "gridcolor": "white",
            "linecolor": "white",
            "ticks": ""
           },
           "bgcolor": "#E5ECF6",
           "radialaxis": {
            "gridcolor": "white",
            "linecolor": "white",
            "ticks": ""
           }
          },
          "scene": {
           "xaxis": {
            "backgroundcolor": "#E5ECF6",
            "gridcolor": "white",
            "gridwidth": 2,
            "linecolor": "white",
            "showbackground": true,
            "ticks": "",
            "zerolinecolor": "white"
           },
           "yaxis": {
            "backgroundcolor": "#E5ECF6",
            "gridcolor": "white",
            "gridwidth": 2,
            "linecolor": "white",
            "showbackground": true,
            "ticks": "",
            "zerolinecolor": "white"
           },
           "zaxis": {
            "backgroundcolor": "#E5ECF6",
            "gridcolor": "white",
            "gridwidth": 2,
            "linecolor": "white",
            "showbackground": true,
            "ticks": "",
            "zerolinecolor": "white"
           }
          },
          "shapedefaults": {
           "line": {
            "color": "#2a3f5f"
           }
          },
          "ternary": {
           "aaxis": {
            "gridcolor": "white",
            "linecolor": "white",
            "ticks": ""
           },
           "baxis": {
            "gridcolor": "white",
            "linecolor": "white",
            "ticks": ""
           },
           "bgcolor": "#E5ECF6",
           "caxis": {
            "gridcolor": "white",
            "linecolor": "white",
            "ticks": ""
           }
          },
          "title": {
           "x": 0.05
          },
          "xaxis": {
           "automargin": true,
           "gridcolor": "white",
           "linecolor": "white",
           "ticks": "",
           "title": {
            "standoff": 15
           },
           "zerolinecolor": "white",
           "zerolinewidth": 2
          },
          "yaxis": {
           "automargin": true,
           "gridcolor": "white",
           "linecolor": "white",
           "ticks": "",
           "title": {
            "standoff": 15
           },
           "zerolinecolor": "white",
           "zerolinewidth": 2
          }
         }
        },
        "title": {
         "font": {
          "color": "#4D5663"
         }
        },
        "xaxis": {
         "gridcolor": "#E1E5ED",
         "showgrid": true,
         "tickfont": {
          "color": "#4D5663"
         },
         "title": {
          "font": {
           "color": "#4D5663"
          },
          "text": ""
         },
         "zerolinecolor": "#E1E5ED"
        },
        "yaxis": {
         "gridcolor": "#E1E5ED",
         "showgrid": true,
         "tickfont": {
          "color": "#4D5663"
         },
         "title": {
          "font": {
           "color": "#4D5663"
          },
          "text": ""
         },
         "zerolinecolor": "#E1E5ED"
        }
       }
      },
      "text/html": [
       "<div>                            <div id=\"0532e006-8379-4951-a49b-96396d1daf90\" class=\"plotly-graph-div\" style=\"height:525px; width:100%;\"></div>            <script type=\"text/javascript\">                require([\"plotly\"], function(Plotly) {                    window.PLOTLYENV=window.PLOTLYENV || {};\n",
       "                    window.PLOTLYENV.BASE_URL='https://plot.ly';                                    if (document.getElementById(\"0532e006-8379-4951-a49b-96396d1daf90\")) {                    Plotly.newPlot(                        \"0532e006-8379-4951-a49b-96396d1daf90\",                        [{\"line\": {\"color\": \"rgba(255, 153, 51, 1.0)\", \"dash\": \"solid\", \"shape\": \"linear\", \"width\": 1.3}, \"marker\": {\"size\": 10, \"symbol\": \"circle\"}, \"mode\": \"markers\", \"name\": \"B\", \"text\": \"\", \"type\": \"scatter\", \"x\": [-0.13357016322871249, -0.9388099126545523, 0.5117097703051664, 1.1779855554334155, -0.4957539865499914, 0.7007226194302827, -1.618803600536682, 0.6471942674601291, 0.18380474352706944, -0.8434487884583421, -0.14225349702295875, -2.0077819846307485, 0.29759751236156534, -1.6326134094630256, -1.6519162183269995, -0.8539639548069332, 0.07536835326501973, 0.40309764714981444, 1.166158989566912, 0.46423153191010424, 1.2319341756988753, 0.4641824363846118, 0.05736669686774498, 0.39587078523377806, -0.254006178629848, -0.36263870999363906, 0.6412993423764257, -0.3700496398671861, -0.13410095704867844, 0.9817025311756228, 0.8106484353297797, -0.16205295130179306, -0.33913108062063313, 0.057469169391842496, -0.26477571549699463, 0.0024576263945883135, -0.7147944079380628, -0.9996002696309442, 0.9184922604899338, -1.1992044471144834, -0.0014854154246680376, 0.3345466304861377, -0.765893622583983, 0.10602795313048664, -1.591559038672016, -1.5312232576890508, -0.6366596842954436, 1.6225309347941257, 1.7966198104485864, 2.79022164392135, 0.27989357476789123, -0.4241064293010893, 0.8388132702372181, -1.7267818436917177, -0.19362775702521812, -0.4368430323944334, -0.10776796283523535, -0.6502442358995324, -1.6219332655111154, 1.2550106632360527, 1.1312727057858079, -0.14766825632663355, -0.8368005671070359, -0.3243847866723495, -1.2199045625041136, -0.23809218291276832, -0.08972305687923236, -0.05567665301556912, 0.7666832039503296, 0.2585425338176482, -1.3348907441116726, 0.6040795355994396, 0.6531700339950408, 1.090204612183431, -0.6137086038703986, 0.33791847895736926, -1.7392250650949956, 1.4703656663706586, 0.27668941996149615, 0.09627244902315872, -0.712464687405788, -0.9906689518375307, -0.2946382043089493, 0.5505106266683137, -0.7328233537076538, 0.07719178587171921, -0.16515491761973805, 1.2137032151240978, 0.6498073142314598, -0.36673405463231695, 0.6143438624170506, 0.04026987091933534, 1.7651119672384328, 2.504762191553729, 0.19481374841293744, -0.695399992508885, -0.98880223581316, -1.5667214570263932, -1.2968714550600573, 1.4422375463078765], \"y\": [-1.771315301053812, 0.28371580039817207, 1.303979668017339, -0.4009436724652719, -0.8421376822919558, -1.6465719848911848, 1.690845020202858, 1.6249160105450737, 1.1486402676728138, 1.2817697377258561, -2.3492865826040443, -0.7341290536641111, -1.0151774783057488, 1.302160688252516, 0.3722181611452662, -0.2537545153874133, 1.0733525558023929, 0.013311297241387236, -1.584831941900239, -0.08844080273559, -0.02523400350880266, 1.8680368996218724, 0.7902024783347283, -1.1507380031196381, 1.1533029111144617, -0.8117613170967656, 1.2916717955929897, 0.16307876825058087, -0.08776720246335248, -0.7169668323701185, 0.11547599070899921, 2.028020398950748, 2.067971296847705, -1.7679586572575203, -1.9121303185713443, 0.22433857797991286, -0.05078404839345344, -1.6452970856783191, -2.2029051986762402, 0.29089672723102883, -0.6098968844301316, 0.4910994061285502, 0.3276452956611974, -0.8080522613359631, 0.2261764224509759, -1.1643304995513808, -0.5139522934290397, 0.05652292348238001, -1.0680631748812215, -1.1211463646552, -0.4212410832484853, -1.0984757835014813, 0.32938239648772344, -0.5500316801652668, 0.24390634734471617, 0.06022437056695923, 0.10340482186120566, 0.008214440317838802, 2.0666413091693987, -0.6463373272003697, 0.7164276475627177, -0.9353036902858883, 0.2883519549522942, -0.24751466010814432, -0.07612973193853989, -1.388616457975686, 0.5765020024178159, -0.13743540087202014, 0.5969159313248671, 0.4040044827769081, 1.200730957316366, -0.6561027766889078, -0.7367026331814217, 3.182032959872631, 0.34142892232679933, -0.433666546367912, -0.45821447025373263, 1.0097119871725126, -0.5871000495758965, 1.2284393627469177, 1.1344983010102763, -0.13325128842744816, -1.1939105257456901, -2.043792821545929, 0.6485531035628525, 0.027039352355595663, 0.5899161200710822, 1.3957133480420012, -2.0924818534099088, 0.05259908472658938, -0.3149904271888376, -0.3649950991421775, 1.4506623049311254, -0.4616033155387015, 0.3976292886585956, -0.4479181999474117, -2.342225753002411, -0.6694261707440903, 1.412374347731571, -0.2622402824357615]}],                        {\"legend\": {\"bgcolor\": \"#F5F6F9\", \"font\": {\"color\": \"#4D5663\"}}, \"paper_bgcolor\": \"#F5F6F9\", \"plot_bgcolor\": \"#F5F6F9\", \"template\": {\"data\": {\"bar\": [{\"error_x\": {\"color\": \"#2a3f5f\"}, \"error_y\": {\"color\": \"#2a3f5f\"}, \"marker\": {\"line\": {\"color\": \"#E5ECF6\", \"width\": 0.5}}, \"type\": \"bar\"}], \"barpolar\": [{\"marker\": {\"line\": {\"color\": \"#E5ECF6\", \"width\": 0.5}}, \"type\": \"barpolar\"}], \"carpet\": [{\"aaxis\": {\"endlinecolor\": \"#2a3f5f\", \"gridcolor\": \"white\", \"linecolor\": \"white\", \"minorgridcolor\": \"white\", \"startlinecolor\": \"#2a3f5f\"}, \"baxis\": {\"endlinecolor\": \"#2a3f5f\", \"gridcolor\": \"white\", \"linecolor\": \"white\", \"minorgridcolor\": \"white\", \"startlinecolor\": \"#2a3f5f\"}, \"type\": \"carpet\"}], \"choropleth\": [{\"colorbar\": {\"outlinewidth\": 0, \"ticks\": \"\"}, \"type\": \"choropleth\"}], \"contour\": [{\"colorbar\": {\"outlinewidth\": 0, \"ticks\": \"\"}, \"colorscale\": [[0.0, \"#0d0887\"], [0.1111111111111111, \"#46039f\"], [0.2222222222222222, \"#7201a8\"], [0.3333333333333333, \"#9c179e\"], [0.4444444444444444, \"#bd3786\"], [0.5555555555555556, \"#d8576b\"], [0.6666666666666666, \"#ed7953\"], [0.7777777777777778, \"#fb9f3a\"], [0.8888888888888888, \"#fdca26\"], [1.0, \"#f0f921\"]], \"type\": \"contour\"}], \"contourcarpet\": [{\"colorbar\": {\"outlinewidth\": 0, \"ticks\": \"\"}, \"type\": \"contourcarpet\"}], \"heatmap\": [{\"colorbar\": {\"outlinewidth\": 0, \"ticks\": \"\"}, \"colorscale\": [[0.0, \"#0d0887\"], [0.1111111111111111, \"#46039f\"], [0.2222222222222222, \"#7201a8\"], [0.3333333333333333, \"#9c179e\"], [0.4444444444444444, \"#bd3786\"], [0.5555555555555556, \"#d8576b\"], [0.6666666666666666, \"#ed7953\"], [0.7777777777777778, \"#fb9f3a\"], [0.8888888888888888, \"#fdca26\"], [1.0, \"#f0f921\"]], \"type\": \"heatmap\"}], \"heatmapgl\": [{\"colorbar\": {\"outlinewidth\": 0, \"ticks\": \"\"}, \"colorscale\": [[0.0, \"#0d0887\"], [0.1111111111111111, \"#46039f\"], [0.2222222222222222, \"#7201a8\"], [0.3333333333333333, \"#9c179e\"], [0.4444444444444444, \"#bd3786\"], [0.5555555555555556, \"#d8576b\"], [0.6666666666666666, \"#ed7953\"], [0.7777777777777778, \"#fb9f3a\"], [0.8888888888888888, \"#fdca26\"], [1.0, \"#f0f921\"]], \"type\": \"heatmapgl\"}], \"histogram\": [{\"marker\": {\"colorbar\": {\"outlinewidth\": 0, \"ticks\": \"\"}}, \"type\": \"histogram\"}], \"histogram2d\": [{\"colorbar\": {\"outlinewidth\": 0, \"ticks\": \"\"}, \"colorscale\": [[0.0, \"#0d0887\"], [0.1111111111111111, \"#46039f\"], [0.2222222222222222, \"#7201a8\"], [0.3333333333333333, \"#9c179e\"], [0.4444444444444444, \"#bd3786\"], [0.5555555555555556, \"#d8576b\"], [0.6666666666666666, \"#ed7953\"], [0.7777777777777778, \"#fb9f3a\"], [0.8888888888888888, \"#fdca26\"], [1.0, \"#f0f921\"]], \"type\": \"histogram2d\"}], \"histogram2dcontour\": [{\"colorbar\": {\"outlinewidth\": 0, \"ticks\": \"\"}, \"colorscale\": [[0.0, \"#0d0887\"], [0.1111111111111111, \"#46039f\"], [0.2222222222222222, \"#7201a8\"], [0.3333333333333333, \"#9c179e\"], [0.4444444444444444, \"#bd3786\"], [0.5555555555555556, \"#d8576b\"], [0.6666666666666666, \"#ed7953\"], [0.7777777777777778, \"#fb9f3a\"], [0.8888888888888888, \"#fdca26\"], [1.0, \"#f0f921\"]], \"type\": \"histogram2dcontour\"}], \"mesh3d\": [{\"colorbar\": {\"outlinewidth\": 0, \"ticks\": \"\"}, \"type\": \"mesh3d\"}], \"parcoords\": [{\"line\": {\"colorbar\": {\"outlinewidth\": 0, \"ticks\": \"\"}}, \"type\": \"parcoords\"}], \"pie\": [{\"automargin\": true, \"type\": \"pie\"}], \"scatter\": [{\"marker\": {\"colorbar\": {\"outlinewidth\": 0, \"ticks\": \"\"}}, \"type\": \"scatter\"}], \"scatter3d\": [{\"line\": {\"colorbar\": {\"outlinewidth\": 0, \"ticks\": \"\"}}, \"marker\": {\"colorbar\": {\"outlinewidth\": 0, \"ticks\": \"\"}}, \"type\": \"scatter3d\"}], \"scattercarpet\": [{\"marker\": {\"colorbar\": {\"outlinewidth\": 0, \"ticks\": \"\"}}, \"type\": \"scattercarpet\"}], \"scattergeo\": [{\"marker\": {\"colorbar\": {\"outlinewidth\": 0, \"ticks\": \"\"}}, \"type\": \"scattergeo\"}], \"scattergl\": [{\"marker\": {\"colorbar\": {\"outlinewidth\": 0, \"ticks\": \"\"}}, \"type\": \"scattergl\"}], \"scattermapbox\": [{\"marker\": {\"colorbar\": {\"outlinewidth\": 0, \"ticks\": \"\"}}, \"type\": \"scattermapbox\"}], \"scatterpolar\": [{\"marker\": {\"colorbar\": {\"outlinewidth\": 0, \"ticks\": \"\"}}, \"type\": \"scatterpolar\"}], \"scatterpolargl\": [{\"marker\": {\"colorbar\": {\"outlinewidth\": 0, \"ticks\": \"\"}}, \"type\": \"scatterpolargl\"}], \"scatterternary\": [{\"marker\": {\"colorbar\": {\"outlinewidth\": 0, \"ticks\": \"\"}}, \"type\": \"scatterternary\"}], \"surface\": [{\"colorbar\": {\"outlinewidth\": 0, \"ticks\": \"\"}, \"colorscale\": [[0.0, \"#0d0887\"], [0.1111111111111111, \"#46039f\"], [0.2222222222222222, \"#7201a8\"], [0.3333333333333333, \"#9c179e\"], [0.4444444444444444, \"#bd3786\"], [0.5555555555555556, \"#d8576b\"], [0.6666666666666666, \"#ed7953\"], [0.7777777777777778, \"#fb9f3a\"], [0.8888888888888888, \"#fdca26\"], [1.0, \"#f0f921\"]], \"type\": \"surface\"}], \"table\": [{\"cells\": {\"fill\": {\"color\": \"#EBF0F8\"}, \"line\": {\"color\": \"white\"}}, \"header\": {\"fill\": {\"color\": \"#C8D4E3\"}, \"line\": {\"color\": \"white\"}}, \"type\": \"table\"}]}, \"layout\": {\"annotationdefaults\": {\"arrowcolor\": \"#2a3f5f\", \"arrowhead\": 0, \"arrowwidth\": 1}, \"coloraxis\": {\"colorbar\": {\"outlinewidth\": 0, \"ticks\": \"\"}}, \"colorscale\": {\"diverging\": [[0, \"#8e0152\"], [0.1, \"#c51b7d\"], [0.2, \"#de77ae\"], [0.3, \"#f1b6da\"], [0.4, \"#fde0ef\"], [0.5, \"#f7f7f7\"], [0.6, \"#e6f5d0\"], [0.7, \"#b8e186\"], [0.8, \"#7fbc41\"], [0.9, \"#4d9221\"], [1, \"#276419\"]], \"sequential\": [[0.0, \"#0d0887\"], [0.1111111111111111, \"#46039f\"], [0.2222222222222222, \"#7201a8\"], [0.3333333333333333, \"#9c179e\"], [0.4444444444444444, \"#bd3786\"], [0.5555555555555556, \"#d8576b\"], [0.6666666666666666, \"#ed7953\"], [0.7777777777777778, \"#fb9f3a\"], [0.8888888888888888, \"#fdca26\"], [1.0, \"#f0f921\"]], \"sequentialminus\": [[0.0, \"#0d0887\"], [0.1111111111111111, \"#46039f\"], [0.2222222222222222, \"#7201a8\"], [0.3333333333333333, \"#9c179e\"], [0.4444444444444444, \"#bd3786\"], [0.5555555555555556, \"#d8576b\"], [0.6666666666666666, \"#ed7953\"], [0.7777777777777778, \"#fb9f3a\"], [0.8888888888888888, \"#fdca26\"], [1.0, \"#f0f921\"]]}, \"colorway\": [\"#636efa\", \"#EF553B\", \"#00cc96\", \"#ab63fa\", \"#FFA15A\", \"#19d3f3\", \"#FF6692\", \"#B6E880\", \"#FF97FF\", \"#FECB52\"], \"font\": {\"color\": \"#2a3f5f\"}, \"geo\": {\"bgcolor\": \"white\", \"lakecolor\": \"white\", \"landcolor\": \"#E5ECF6\", \"showlakes\": true, \"showland\": true, \"subunitcolor\": \"white\"}, \"hoverlabel\": {\"align\": \"left\"}, \"hovermode\": \"closest\", \"mapbox\": {\"style\": \"light\"}, \"paper_bgcolor\": \"white\", \"plot_bgcolor\": \"#E5ECF6\", \"polar\": {\"angularaxis\": {\"gridcolor\": \"white\", \"linecolor\": \"white\", \"ticks\": \"\"}, \"bgcolor\": \"#E5ECF6\", \"radialaxis\": {\"gridcolor\": \"white\", \"linecolor\": \"white\", \"ticks\": \"\"}}, \"scene\": {\"xaxis\": {\"backgroundcolor\": \"#E5ECF6\", \"gridcolor\": \"white\", \"gridwidth\": 2, \"linecolor\": \"white\", \"showbackground\": true, \"ticks\": \"\", \"zerolinecolor\": \"white\"}, \"yaxis\": {\"backgroundcolor\": \"#E5ECF6\", \"gridcolor\": \"white\", \"gridwidth\": 2, \"linecolor\": \"white\", \"showbackground\": true, \"ticks\": \"\", \"zerolinecolor\": \"white\"}, \"zaxis\": {\"backgroundcolor\": \"#E5ECF6\", \"gridcolor\": \"white\", \"gridwidth\": 2, \"linecolor\": \"white\", \"showbackground\": true, \"ticks\": \"\", \"zerolinecolor\": \"white\"}}, \"shapedefaults\": {\"line\": {\"color\": \"#2a3f5f\"}}, \"ternary\": {\"aaxis\": {\"gridcolor\": \"white\", \"linecolor\": \"white\", \"ticks\": \"\"}, \"baxis\": {\"gridcolor\": \"white\", \"linecolor\": \"white\", \"ticks\": \"\"}, \"bgcolor\": \"#E5ECF6\", \"caxis\": {\"gridcolor\": \"white\", \"linecolor\": \"white\", \"ticks\": \"\"}}, \"title\": {\"x\": 0.05}, \"xaxis\": {\"automargin\": true, \"gridcolor\": \"white\", \"linecolor\": \"white\", \"ticks\": \"\", \"title\": {\"standoff\": 15}, \"zerolinecolor\": \"white\", \"zerolinewidth\": 2}, \"yaxis\": {\"automargin\": true, \"gridcolor\": \"white\", \"linecolor\": \"white\", \"ticks\": \"\", \"title\": {\"standoff\": 15}, \"zerolinecolor\": \"white\", \"zerolinewidth\": 2}}}, \"title\": {\"font\": {\"color\": \"#4D5663\"}}, \"xaxis\": {\"gridcolor\": \"#E1E5ED\", \"showgrid\": true, \"tickfont\": {\"color\": \"#4D5663\"}, \"title\": {\"font\": {\"color\": \"#4D5663\"}, \"text\": \"\"}, \"zerolinecolor\": \"#E1E5ED\"}, \"yaxis\": {\"gridcolor\": \"#E1E5ED\", \"showgrid\": true, \"tickfont\": {\"color\": \"#4D5663\"}, \"title\": {\"font\": {\"color\": \"#4D5663\"}, \"text\": \"\"}, \"zerolinecolor\": \"#E1E5ED\"}},                        {\"showLink\": true, \"linkText\": \"Export to plot.ly\", \"plotlyServerURL\": \"https://plot.ly\", \"responsive\": true}                    ).then(function(){\n",
       "                            \n",
       "var gd = document.getElementById('0532e006-8379-4951-a49b-96396d1daf90');\n",
       "var x = new MutationObserver(function (mutations, observer) {{\n",
       "        var display = window.getComputedStyle(gd).display;\n",
       "        if (!display || display === 'none') {{\n",
       "            console.log([gd, 'removed!']);\n",
       "            Plotly.purge(gd);\n",
       "            observer.disconnect();\n",
       "        }}\n",
       "}});\n",
       "\n",
       "// Listen for the removal of the full notebook cells\n",
       "var notebookContainer = gd.closest('#notebook-container');\n",
       "if (notebookContainer) {{\n",
       "    x.observe(notebookContainer, {childList: true});\n",
       "}}\n",
       "\n",
       "// Listen for the clearing of the current output cell\n",
       "var outputEl = gd.closest('.output');\n",
       "if (outputEl) {{\n",
       "    x.observe(outputEl, {childList: true});\n",
       "}}\n",
       "\n",
       "                        })                };                });            </script>        </div>"
      ]
     },
     "metadata": {},
     "output_type": "display_data"
    }
   ],
   "source": [
    "df.iplot(kind='scatter',x='A',y='B',mode='markers',size=10)"
   ]
  },
  {
   "cell_type": "markdown",
   "metadata": {},
   "source": [
    "### Bar Plots"
   ]
  },
  {
   "cell_type": "code",
   "execution_count": 11,
   "metadata": {},
   "outputs": [
    {
     "data": {
      "application/vnd.plotly.v1+json": {
       "config": {
        "linkText": "Export to plot.ly",
        "plotlyServerURL": "https://plot.ly",
        "showLink": true
       },
       "data": [
        {
         "marker": {
          "color": "rgba(255, 153, 51, 0.6)",
          "line": {
           "color": "rgba(255, 153, 51, 1.0)",
           "width": 1
          }
         },
         "name": "Werte",
         "orientation": "v",
         "text": "",
         "type": "bar",
         "x": [
          "A",
          "B",
          "C"
         ],
         "y": [
          32,
          43,
          50
         ]
        }
       ],
       "layout": {
        "legend": {
         "bgcolor": "#F5F6F9",
         "font": {
          "color": "#4D5663"
         }
        },
        "paper_bgcolor": "#F5F6F9",
        "plot_bgcolor": "#F5F6F9",
        "template": {
         "data": {
          "bar": [
           {
            "error_x": {
             "color": "#2a3f5f"
            },
            "error_y": {
             "color": "#2a3f5f"
            },
            "marker": {
             "line": {
              "color": "#E5ECF6",
              "width": 0.5
             }
            },
            "type": "bar"
           }
          ],
          "barpolar": [
           {
            "marker": {
             "line": {
              "color": "#E5ECF6",
              "width": 0.5
             }
            },
            "type": "barpolar"
           }
          ],
          "carpet": [
           {
            "aaxis": {
             "endlinecolor": "#2a3f5f",
             "gridcolor": "white",
             "linecolor": "white",
             "minorgridcolor": "white",
             "startlinecolor": "#2a3f5f"
            },
            "baxis": {
             "endlinecolor": "#2a3f5f",
             "gridcolor": "white",
             "linecolor": "white",
             "minorgridcolor": "white",
             "startlinecolor": "#2a3f5f"
            },
            "type": "carpet"
           }
          ],
          "choropleth": [
           {
            "colorbar": {
             "outlinewidth": 0,
             "ticks": ""
            },
            "type": "choropleth"
           }
          ],
          "contour": [
           {
            "colorbar": {
             "outlinewidth": 0,
             "ticks": ""
            },
            "colorscale": [
             [
              0,
              "#0d0887"
             ],
             [
              0.1111111111111111,
              "#46039f"
             ],
             [
              0.2222222222222222,
              "#7201a8"
             ],
             [
              0.3333333333333333,
              "#9c179e"
             ],
             [
              0.4444444444444444,
              "#bd3786"
             ],
             [
              0.5555555555555556,
              "#d8576b"
             ],
             [
              0.6666666666666666,
              "#ed7953"
             ],
             [
              0.7777777777777778,
              "#fb9f3a"
             ],
             [
              0.8888888888888888,
              "#fdca26"
             ],
             [
              1,
              "#f0f921"
             ]
            ],
            "type": "contour"
           }
          ],
          "contourcarpet": [
           {
            "colorbar": {
             "outlinewidth": 0,
             "ticks": ""
            },
            "type": "contourcarpet"
           }
          ],
          "heatmap": [
           {
            "colorbar": {
             "outlinewidth": 0,
             "ticks": ""
            },
            "colorscale": [
             [
              0,
              "#0d0887"
             ],
             [
              0.1111111111111111,
              "#46039f"
             ],
             [
              0.2222222222222222,
              "#7201a8"
             ],
             [
              0.3333333333333333,
              "#9c179e"
             ],
             [
              0.4444444444444444,
              "#bd3786"
             ],
             [
              0.5555555555555556,
              "#d8576b"
             ],
             [
              0.6666666666666666,
              "#ed7953"
             ],
             [
              0.7777777777777778,
              "#fb9f3a"
             ],
             [
              0.8888888888888888,
              "#fdca26"
             ],
             [
              1,
              "#f0f921"
             ]
            ],
            "type": "heatmap"
           }
          ],
          "heatmapgl": [
           {
            "colorbar": {
             "outlinewidth": 0,
             "ticks": ""
            },
            "colorscale": [
             [
              0,
              "#0d0887"
             ],
             [
              0.1111111111111111,
              "#46039f"
             ],
             [
              0.2222222222222222,
              "#7201a8"
             ],
             [
              0.3333333333333333,
              "#9c179e"
             ],
             [
              0.4444444444444444,
              "#bd3786"
             ],
             [
              0.5555555555555556,
              "#d8576b"
             ],
             [
              0.6666666666666666,
              "#ed7953"
             ],
             [
              0.7777777777777778,
              "#fb9f3a"
             ],
             [
              0.8888888888888888,
              "#fdca26"
             ],
             [
              1,
              "#f0f921"
             ]
            ],
            "type": "heatmapgl"
           }
          ],
          "histogram": [
           {
            "marker": {
             "colorbar": {
              "outlinewidth": 0,
              "ticks": ""
             }
            },
            "type": "histogram"
           }
          ],
          "histogram2d": [
           {
            "colorbar": {
             "outlinewidth": 0,
             "ticks": ""
            },
            "colorscale": [
             [
              0,
              "#0d0887"
             ],
             [
              0.1111111111111111,
              "#46039f"
             ],
             [
              0.2222222222222222,
              "#7201a8"
             ],
             [
              0.3333333333333333,
              "#9c179e"
             ],
             [
              0.4444444444444444,
              "#bd3786"
             ],
             [
              0.5555555555555556,
              "#d8576b"
             ],
             [
              0.6666666666666666,
              "#ed7953"
             ],
             [
              0.7777777777777778,
              "#fb9f3a"
             ],
             [
              0.8888888888888888,
              "#fdca26"
             ],
             [
              1,
              "#f0f921"
             ]
            ],
            "type": "histogram2d"
           }
          ],
          "histogram2dcontour": [
           {
            "colorbar": {
             "outlinewidth": 0,
             "ticks": ""
            },
            "colorscale": [
             [
              0,
              "#0d0887"
             ],
             [
              0.1111111111111111,
              "#46039f"
             ],
             [
              0.2222222222222222,
              "#7201a8"
             ],
             [
              0.3333333333333333,
              "#9c179e"
             ],
             [
              0.4444444444444444,
              "#bd3786"
             ],
             [
              0.5555555555555556,
              "#d8576b"
             ],
             [
              0.6666666666666666,
              "#ed7953"
             ],
             [
              0.7777777777777778,
              "#fb9f3a"
             ],
             [
              0.8888888888888888,
              "#fdca26"
             ],
             [
              1,
              "#f0f921"
             ]
            ],
            "type": "histogram2dcontour"
           }
          ],
          "mesh3d": [
           {
            "colorbar": {
             "outlinewidth": 0,
             "ticks": ""
            },
            "type": "mesh3d"
           }
          ],
          "parcoords": [
           {
            "line": {
             "colorbar": {
              "outlinewidth": 0,
              "ticks": ""
             }
            },
            "type": "parcoords"
           }
          ],
          "pie": [
           {
            "automargin": true,
            "type": "pie"
           }
          ],
          "scatter": [
           {
            "marker": {
             "colorbar": {
              "outlinewidth": 0,
              "ticks": ""
             }
            },
            "type": "scatter"
           }
          ],
          "scatter3d": [
           {
            "line": {
             "colorbar": {
              "outlinewidth": 0,
              "ticks": ""
             }
            },
            "marker": {
             "colorbar": {
              "outlinewidth": 0,
              "ticks": ""
             }
            },
            "type": "scatter3d"
           }
          ],
          "scattercarpet": [
           {
            "marker": {
             "colorbar": {
              "outlinewidth": 0,
              "ticks": ""
             }
            },
            "type": "scattercarpet"
           }
          ],
          "scattergeo": [
           {
            "marker": {
             "colorbar": {
              "outlinewidth": 0,
              "ticks": ""
             }
            },
            "type": "scattergeo"
           }
          ],
          "scattergl": [
           {
            "marker": {
             "colorbar": {
              "outlinewidth": 0,
              "ticks": ""
             }
            },
            "type": "scattergl"
           }
          ],
          "scattermapbox": [
           {
            "marker": {
             "colorbar": {
              "outlinewidth": 0,
              "ticks": ""
             }
            },
            "type": "scattermapbox"
           }
          ],
          "scatterpolar": [
           {
            "marker": {
             "colorbar": {
              "outlinewidth": 0,
              "ticks": ""
             }
            },
            "type": "scatterpolar"
           }
          ],
          "scatterpolargl": [
           {
            "marker": {
             "colorbar": {
              "outlinewidth": 0,
              "ticks": ""
             }
            },
            "type": "scatterpolargl"
           }
          ],
          "scatterternary": [
           {
            "marker": {
             "colorbar": {
              "outlinewidth": 0,
              "ticks": ""
             }
            },
            "type": "scatterternary"
           }
          ],
          "surface": [
           {
            "colorbar": {
             "outlinewidth": 0,
             "ticks": ""
            },
            "colorscale": [
             [
              0,
              "#0d0887"
             ],
             [
              0.1111111111111111,
              "#46039f"
             ],
             [
              0.2222222222222222,
              "#7201a8"
             ],
             [
              0.3333333333333333,
              "#9c179e"
             ],
             [
              0.4444444444444444,
              "#bd3786"
             ],
             [
              0.5555555555555556,
              "#d8576b"
             ],
             [
              0.6666666666666666,
              "#ed7953"
             ],
             [
              0.7777777777777778,
              "#fb9f3a"
             ],
             [
              0.8888888888888888,
              "#fdca26"
             ],
             [
              1,
              "#f0f921"
             ]
            ],
            "type": "surface"
           }
          ],
          "table": [
           {
            "cells": {
             "fill": {
              "color": "#EBF0F8"
             },
             "line": {
              "color": "white"
             }
            },
            "header": {
             "fill": {
              "color": "#C8D4E3"
             },
             "line": {
              "color": "white"
             }
            },
            "type": "table"
           }
          ]
         },
         "layout": {
          "annotationdefaults": {
           "arrowcolor": "#2a3f5f",
           "arrowhead": 0,
           "arrowwidth": 1
          },
          "coloraxis": {
           "colorbar": {
            "outlinewidth": 0,
            "ticks": ""
           }
          },
          "colorscale": {
           "diverging": [
            [
             0,
             "#8e0152"
            ],
            [
             0.1,
             "#c51b7d"
            ],
            [
             0.2,
             "#de77ae"
            ],
            [
             0.3,
             "#f1b6da"
            ],
            [
             0.4,
             "#fde0ef"
            ],
            [
             0.5,
             "#f7f7f7"
            ],
            [
             0.6,
             "#e6f5d0"
            ],
            [
             0.7,
             "#b8e186"
            ],
            [
             0.8,
             "#7fbc41"
            ],
            [
             0.9,
             "#4d9221"
            ],
            [
             1,
             "#276419"
            ]
           ],
           "sequential": [
            [
             0,
             "#0d0887"
            ],
            [
             0.1111111111111111,
             "#46039f"
            ],
            [
             0.2222222222222222,
             "#7201a8"
            ],
            [
             0.3333333333333333,
             "#9c179e"
            ],
            [
             0.4444444444444444,
             "#bd3786"
            ],
            [
             0.5555555555555556,
             "#d8576b"
            ],
            [
             0.6666666666666666,
             "#ed7953"
            ],
            [
             0.7777777777777778,
             "#fb9f3a"
            ],
            [
             0.8888888888888888,
             "#fdca26"
            ],
            [
             1,
             "#f0f921"
            ]
           ],
           "sequentialminus": [
            [
             0,
             "#0d0887"
            ],
            [
             0.1111111111111111,
             "#46039f"
            ],
            [
             0.2222222222222222,
             "#7201a8"
            ],
            [
             0.3333333333333333,
             "#9c179e"
            ],
            [
             0.4444444444444444,
             "#bd3786"
            ],
            [
             0.5555555555555556,
             "#d8576b"
            ],
            [
             0.6666666666666666,
             "#ed7953"
            ],
            [
             0.7777777777777778,
             "#fb9f3a"
            ],
            [
             0.8888888888888888,
             "#fdca26"
            ],
            [
             1,
             "#f0f921"
            ]
           ]
          },
          "colorway": [
           "#636efa",
           "#EF553B",
           "#00cc96",
           "#ab63fa",
           "#FFA15A",
           "#19d3f3",
           "#FF6692",
           "#B6E880",
           "#FF97FF",
           "#FECB52"
          ],
          "font": {
           "color": "#2a3f5f"
          },
          "geo": {
           "bgcolor": "white",
           "lakecolor": "white",
           "landcolor": "#E5ECF6",
           "showlakes": true,
           "showland": true,
           "subunitcolor": "white"
          },
          "hoverlabel": {
           "align": "left"
          },
          "hovermode": "closest",
          "mapbox": {
           "style": "light"
          },
          "paper_bgcolor": "white",
          "plot_bgcolor": "#E5ECF6",
          "polar": {
           "angularaxis": {
            "gridcolor": "white",
            "linecolor": "white",
            "ticks": ""
           },
           "bgcolor": "#E5ECF6",
           "radialaxis": {
            "gridcolor": "white",
            "linecolor": "white",
            "ticks": ""
           }
          },
          "scene": {
           "xaxis": {
            "backgroundcolor": "#E5ECF6",
            "gridcolor": "white",
            "gridwidth": 2,
            "linecolor": "white",
            "showbackground": true,
            "ticks": "",
            "zerolinecolor": "white"
           },
           "yaxis": {
            "backgroundcolor": "#E5ECF6",
            "gridcolor": "white",
            "gridwidth": 2,
            "linecolor": "white",
            "showbackground": true,
            "ticks": "",
            "zerolinecolor": "white"
           },
           "zaxis": {
            "backgroundcolor": "#E5ECF6",
            "gridcolor": "white",
            "gridwidth": 2,
            "linecolor": "white",
            "showbackground": true,
            "ticks": "",
            "zerolinecolor": "white"
           }
          },
          "shapedefaults": {
           "line": {
            "color": "#2a3f5f"
           }
          },
          "ternary": {
           "aaxis": {
            "gridcolor": "white",
            "linecolor": "white",
            "ticks": ""
           },
           "baxis": {
            "gridcolor": "white",
            "linecolor": "white",
            "ticks": ""
           },
           "bgcolor": "#E5ECF6",
           "caxis": {
            "gridcolor": "white",
            "linecolor": "white",
            "ticks": ""
           }
          },
          "title": {
           "x": 0.05
          },
          "xaxis": {
           "automargin": true,
           "gridcolor": "white",
           "linecolor": "white",
           "ticks": "",
           "title": {
            "standoff": 15
           },
           "zerolinecolor": "white",
           "zerolinewidth": 2
          },
          "yaxis": {
           "automargin": true,
           "gridcolor": "white",
           "linecolor": "white",
           "ticks": "",
           "title": {
            "standoff": 15
           },
           "zerolinecolor": "white",
           "zerolinewidth": 2
          }
         }
        },
        "title": {
         "font": {
          "color": "#4D5663"
         }
        },
        "xaxis": {
         "gridcolor": "#E1E5ED",
         "showgrid": true,
         "tickfont": {
          "color": "#4D5663"
         },
         "title": {
          "font": {
           "color": "#4D5663"
          },
          "text": ""
         },
         "zerolinecolor": "#E1E5ED"
        },
        "yaxis": {
         "gridcolor": "#E1E5ED",
         "showgrid": true,
         "tickfont": {
          "color": "#4D5663"
         },
         "title": {
          "font": {
           "color": "#4D5663"
          },
          "text": ""
         },
         "zerolinecolor": "#E1E5ED"
        }
       }
      },
      "text/html": [
       "<div>                            <div id=\"431be219-23f1-4f71-858a-97d3fabed6e0\" class=\"plotly-graph-div\" style=\"height:525px; width:100%;\"></div>            <script type=\"text/javascript\">                require([\"plotly\"], function(Plotly) {                    window.PLOTLYENV=window.PLOTLYENV || {};\n",
       "                    window.PLOTLYENV.BASE_URL='https://plot.ly';                                    if (document.getElementById(\"431be219-23f1-4f71-858a-97d3fabed6e0\")) {                    Plotly.newPlot(                        \"431be219-23f1-4f71-858a-97d3fabed6e0\",                        [{\"marker\": {\"color\": \"rgba(255, 153, 51, 0.6)\", \"line\": {\"color\": \"rgba(255, 153, 51, 1.0)\", \"width\": 1}}, \"name\": \"Werte\", \"orientation\": \"v\", \"text\": \"\", \"type\": \"bar\", \"x\": [\"A\", \"B\", \"C\"], \"y\": [32, 43, 50]}],                        {\"legend\": {\"bgcolor\": \"#F5F6F9\", \"font\": {\"color\": \"#4D5663\"}}, \"paper_bgcolor\": \"#F5F6F9\", \"plot_bgcolor\": \"#F5F6F9\", \"template\": {\"data\": {\"bar\": [{\"error_x\": {\"color\": \"#2a3f5f\"}, \"error_y\": {\"color\": \"#2a3f5f\"}, \"marker\": {\"line\": {\"color\": \"#E5ECF6\", \"width\": 0.5}}, \"type\": \"bar\"}], \"barpolar\": [{\"marker\": {\"line\": {\"color\": \"#E5ECF6\", \"width\": 0.5}}, \"type\": \"barpolar\"}], \"carpet\": [{\"aaxis\": {\"endlinecolor\": \"#2a3f5f\", \"gridcolor\": \"white\", \"linecolor\": \"white\", \"minorgridcolor\": \"white\", \"startlinecolor\": \"#2a3f5f\"}, \"baxis\": {\"endlinecolor\": \"#2a3f5f\", \"gridcolor\": \"white\", \"linecolor\": \"white\", \"minorgridcolor\": \"white\", \"startlinecolor\": \"#2a3f5f\"}, \"type\": \"carpet\"}], \"choropleth\": [{\"colorbar\": {\"outlinewidth\": 0, \"ticks\": \"\"}, \"type\": \"choropleth\"}], \"contour\": [{\"colorbar\": {\"outlinewidth\": 0, \"ticks\": \"\"}, \"colorscale\": [[0.0, \"#0d0887\"], [0.1111111111111111, \"#46039f\"], [0.2222222222222222, \"#7201a8\"], [0.3333333333333333, \"#9c179e\"], [0.4444444444444444, \"#bd3786\"], [0.5555555555555556, \"#d8576b\"], [0.6666666666666666, \"#ed7953\"], [0.7777777777777778, \"#fb9f3a\"], [0.8888888888888888, \"#fdca26\"], [1.0, \"#f0f921\"]], \"type\": \"contour\"}], \"contourcarpet\": [{\"colorbar\": {\"outlinewidth\": 0, \"ticks\": \"\"}, \"type\": \"contourcarpet\"}], \"heatmap\": [{\"colorbar\": {\"outlinewidth\": 0, \"ticks\": \"\"}, \"colorscale\": [[0.0, \"#0d0887\"], [0.1111111111111111, \"#46039f\"], [0.2222222222222222, \"#7201a8\"], [0.3333333333333333, \"#9c179e\"], [0.4444444444444444, \"#bd3786\"], [0.5555555555555556, \"#d8576b\"], [0.6666666666666666, \"#ed7953\"], [0.7777777777777778, \"#fb9f3a\"], [0.8888888888888888, \"#fdca26\"], [1.0, \"#f0f921\"]], \"type\": \"heatmap\"}], \"heatmapgl\": [{\"colorbar\": {\"outlinewidth\": 0, \"ticks\": \"\"}, \"colorscale\": [[0.0, \"#0d0887\"], [0.1111111111111111, \"#46039f\"], [0.2222222222222222, \"#7201a8\"], [0.3333333333333333, \"#9c179e\"], [0.4444444444444444, \"#bd3786\"], [0.5555555555555556, \"#d8576b\"], [0.6666666666666666, \"#ed7953\"], [0.7777777777777778, \"#fb9f3a\"], [0.8888888888888888, \"#fdca26\"], [1.0, \"#f0f921\"]], \"type\": \"heatmapgl\"}], \"histogram\": [{\"marker\": {\"colorbar\": {\"outlinewidth\": 0, \"ticks\": \"\"}}, \"type\": \"histogram\"}], \"histogram2d\": [{\"colorbar\": {\"outlinewidth\": 0, \"ticks\": \"\"}, \"colorscale\": [[0.0, \"#0d0887\"], [0.1111111111111111, \"#46039f\"], [0.2222222222222222, \"#7201a8\"], [0.3333333333333333, \"#9c179e\"], [0.4444444444444444, \"#bd3786\"], [0.5555555555555556, \"#d8576b\"], [0.6666666666666666, \"#ed7953\"], [0.7777777777777778, \"#fb9f3a\"], [0.8888888888888888, \"#fdca26\"], [1.0, \"#f0f921\"]], \"type\": \"histogram2d\"}], \"histogram2dcontour\": [{\"colorbar\": {\"outlinewidth\": 0, \"ticks\": \"\"}, \"colorscale\": [[0.0, \"#0d0887\"], [0.1111111111111111, \"#46039f\"], [0.2222222222222222, \"#7201a8\"], [0.3333333333333333, \"#9c179e\"], [0.4444444444444444, \"#bd3786\"], [0.5555555555555556, \"#d8576b\"], [0.6666666666666666, \"#ed7953\"], [0.7777777777777778, \"#fb9f3a\"], [0.8888888888888888, \"#fdca26\"], [1.0, \"#f0f921\"]], \"type\": \"histogram2dcontour\"}], \"mesh3d\": [{\"colorbar\": {\"outlinewidth\": 0, \"ticks\": \"\"}, \"type\": \"mesh3d\"}], \"parcoords\": [{\"line\": {\"colorbar\": {\"outlinewidth\": 0, \"ticks\": \"\"}}, \"type\": \"parcoords\"}], \"pie\": [{\"automargin\": true, \"type\": \"pie\"}], \"scatter\": [{\"marker\": {\"colorbar\": {\"outlinewidth\": 0, \"ticks\": \"\"}}, \"type\": \"scatter\"}], \"scatter3d\": [{\"line\": {\"colorbar\": {\"outlinewidth\": 0, \"ticks\": \"\"}}, \"marker\": {\"colorbar\": {\"outlinewidth\": 0, \"ticks\": \"\"}}, \"type\": \"scatter3d\"}], \"scattercarpet\": [{\"marker\": {\"colorbar\": {\"outlinewidth\": 0, \"ticks\": \"\"}}, \"type\": \"scattercarpet\"}], \"scattergeo\": [{\"marker\": {\"colorbar\": {\"outlinewidth\": 0, \"ticks\": \"\"}}, \"type\": \"scattergeo\"}], \"scattergl\": [{\"marker\": {\"colorbar\": {\"outlinewidth\": 0, \"ticks\": \"\"}}, \"type\": \"scattergl\"}], \"scattermapbox\": [{\"marker\": {\"colorbar\": {\"outlinewidth\": 0, \"ticks\": \"\"}}, \"type\": \"scattermapbox\"}], \"scatterpolar\": [{\"marker\": {\"colorbar\": {\"outlinewidth\": 0, \"ticks\": \"\"}}, \"type\": \"scatterpolar\"}], \"scatterpolargl\": [{\"marker\": {\"colorbar\": {\"outlinewidth\": 0, \"ticks\": \"\"}}, \"type\": \"scatterpolargl\"}], \"scatterternary\": [{\"marker\": {\"colorbar\": {\"outlinewidth\": 0, \"ticks\": \"\"}}, \"type\": \"scatterternary\"}], \"surface\": [{\"colorbar\": {\"outlinewidth\": 0, \"ticks\": \"\"}, \"colorscale\": [[0.0, \"#0d0887\"], [0.1111111111111111, \"#46039f\"], [0.2222222222222222, \"#7201a8\"], [0.3333333333333333, \"#9c179e\"], [0.4444444444444444, \"#bd3786\"], [0.5555555555555556, \"#d8576b\"], [0.6666666666666666, \"#ed7953\"], [0.7777777777777778, \"#fb9f3a\"], [0.8888888888888888, \"#fdca26\"], [1.0, \"#f0f921\"]], \"type\": \"surface\"}], \"table\": [{\"cells\": {\"fill\": {\"color\": \"#EBF0F8\"}, \"line\": {\"color\": \"white\"}}, \"header\": {\"fill\": {\"color\": \"#C8D4E3\"}, \"line\": {\"color\": \"white\"}}, \"type\": \"table\"}]}, \"layout\": {\"annotationdefaults\": {\"arrowcolor\": \"#2a3f5f\", \"arrowhead\": 0, \"arrowwidth\": 1}, \"coloraxis\": {\"colorbar\": {\"outlinewidth\": 0, \"ticks\": \"\"}}, \"colorscale\": {\"diverging\": [[0, \"#8e0152\"], [0.1, \"#c51b7d\"], [0.2, \"#de77ae\"], [0.3, \"#f1b6da\"], [0.4, \"#fde0ef\"], [0.5, \"#f7f7f7\"], [0.6, \"#e6f5d0\"], [0.7, \"#b8e186\"], [0.8, \"#7fbc41\"], [0.9, \"#4d9221\"], [1, \"#276419\"]], \"sequential\": [[0.0, \"#0d0887\"], [0.1111111111111111, \"#46039f\"], [0.2222222222222222, \"#7201a8\"], [0.3333333333333333, \"#9c179e\"], [0.4444444444444444, \"#bd3786\"], [0.5555555555555556, \"#d8576b\"], [0.6666666666666666, \"#ed7953\"], [0.7777777777777778, \"#fb9f3a\"], [0.8888888888888888, \"#fdca26\"], [1.0, \"#f0f921\"]], \"sequentialminus\": [[0.0, \"#0d0887\"], [0.1111111111111111, \"#46039f\"], [0.2222222222222222, \"#7201a8\"], [0.3333333333333333, \"#9c179e\"], [0.4444444444444444, \"#bd3786\"], [0.5555555555555556, \"#d8576b\"], [0.6666666666666666, \"#ed7953\"], [0.7777777777777778, \"#fb9f3a\"], [0.8888888888888888, \"#fdca26\"], [1.0, \"#f0f921\"]]}, \"colorway\": [\"#636efa\", \"#EF553B\", \"#00cc96\", \"#ab63fa\", \"#FFA15A\", \"#19d3f3\", \"#FF6692\", \"#B6E880\", \"#FF97FF\", \"#FECB52\"], \"font\": {\"color\": \"#2a3f5f\"}, \"geo\": {\"bgcolor\": \"white\", \"lakecolor\": \"white\", \"landcolor\": \"#E5ECF6\", \"showlakes\": true, \"showland\": true, \"subunitcolor\": \"white\"}, \"hoverlabel\": {\"align\": \"left\"}, \"hovermode\": \"closest\", \"mapbox\": {\"style\": \"light\"}, \"paper_bgcolor\": \"white\", \"plot_bgcolor\": \"#E5ECF6\", \"polar\": {\"angularaxis\": {\"gridcolor\": \"white\", \"linecolor\": \"white\", \"ticks\": \"\"}, \"bgcolor\": \"#E5ECF6\", \"radialaxis\": {\"gridcolor\": \"white\", \"linecolor\": \"white\", \"ticks\": \"\"}}, \"scene\": {\"xaxis\": {\"backgroundcolor\": \"#E5ECF6\", \"gridcolor\": \"white\", \"gridwidth\": 2, \"linecolor\": \"white\", \"showbackground\": true, \"ticks\": \"\", \"zerolinecolor\": \"white\"}, \"yaxis\": {\"backgroundcolor\": \"#E5ECF6\", \"gridcolor\": \"white\", \"gridwidth\": 2, \"linecolor\": \"white\", \"showbackground\": true, \"ticks\": \"\", \"zerolinecolor\": \"white\"}, \"zaxis\": {\"backgroundcolor\": \"#E5ECF6\", \"gridcolor\": \"white\", \"gridwidth\": 2, \"linecolor\": \"white\", \"showbackground\": true, \"ticks\": \"\", \"zerolinecolor\": \"white\"}}, \"shapedefaults\": {\"line\": {\"color\": \"#2a3f5f\"}}, \"ternary\": {\"aaxis\": {\"gridcolor\": \"white\", \"linecolor\": \"white\", \"ticks\": \"\"}, \"baxis\": {\"gridcolor\": \"white\", \"linecolor\": \"white\", \"ticks\": \"\"}, \"bgcolor\": \"#E5ECF6\", \"caxis\": {\"gridcolor\": \"white\", \"linecolor\": \"white\", \"ticks\": \"\"}}, \"title\": {\"x\": 0.05}, \"xaxis\": {\"automargin\": true, \"gridcolor\": \"white\", \"linecolor\": \"white\", \"ticks\": \"\", \"title\": {\"standoff\": 15}, \"zerolinecolor\": \"white\", \"zerolinewidth\": 2}, \"yaxis\": {\"automargin\": true, \"gridcolor\": \"white\", \"linecolor\": \"white\", \"ticks\": \"\", \"title\": {\"standoff\": 15}, \"zerolinecolor\": \"white\", \"zerolinewidth\": 2}}}, \"title\": {\"font\": {\"color\": \"#4D5663\"}}, \"xaxis\": {\"gridcolor\": \"#E1E5ED\", \"showgrid\": true, \"tickfont\": {\"color\": \"#4D5663\"}, \"title\": {\"font\": {\"color\": \"#4D5663\"}, \"text\": \"\"}, \"zerolinecolor\": \"#E1E5ED\"}, \"yaxis\": {\"gridcolor\": \"#E1E5ED\", \"showgrid\": true, \"tickfont\": {\"color\": \"#4D5663\"}, \"title\": {\"font\": {\"color\": \"#4D5663\"}, \"text\": \"\"}, \"zerolinecolor\": \"#E1E5ED\"}},                        {\"showLink\": true, \"linkText\": \"Export to plot.ly\", \"plotlyServerURL\": \"https://plot.ly\", \"responsive\": true}                    ).then(function(){\n",
       "                            \n",
       "var gd = document.getElementById('431be219-23f1-4f71-858a-97d3fabed6e0');\n",
       "var x = new MutationObserver(function (mutations, observer) {{\n",
       "        var display = window.getComputedStyle(gd).display;\n",
       "        if (!display || display === 'none') {{\n",
       "            console.log([gd, 'removed!']);\n",
       "            Plotly.purge(gd);\n",
       "            observer.disconnect();\n",
       "        }}\n",
       "}});\n",
       "\n",
       "// Listen for the removal of the full notebook cells\n",
       "var notebookContainer = gd.closest('#notebook-container');\n",
       "if (notebookContainer) {{\n",
       "    x.observe(notebookContainer, {childList: true});\n",
       "}}\n",
       "\n",
       "// Listen for the clearing of the current output cell\n",
       "var outputEl = gd.closest('.output');\n",
       "if (outputEl) {{\n",
       "    x.observe(outputEl, {childList: true});\n",
       "}}\n",
       "\n",
       "                        })                };                });            </script>        </div>"
      ]
     },
     "metadata": {},
     "output_type": "display_data"
    }
   ],
   "source": [
    "df2.iplot(kind='bar',x='Kategorie',y='Werte')"
   ]
  },
  {
   "cell_type": "code",
   "execution_count": 12,
   "metadata": {},
   "outputs": [
    {
     "data": {
      "application/vnd.plotly.v1+json": {
       "config": {
        "linkText": "Export to plot.ly",
        "plotlyServerURL": "https://plot.ly",
        "showLink": true
       },
       "data": [
        {
         "marker": {
          "color": "rgba(255, 153, 51, 0.6)",
          "line": {
           "color": "rgba(255, 153, 51, 1.0)",
           "width": 1
          }
         },
         "name": "None",
         "orientation": "v",
         "text": "",
         "type": "bar",
         "x": [
          "A",
          "B",
          "C",
          "D"
         ],
         "y": [
          100,
          100,
          100,
          100
         ]
        }
       ],
       "layout": {
        "legend": {
         "bgcolor": "#F5F6F9",
         "font": {
          "color": "#4D5663"
         }
        },
        "paper_bgcolor": "#F5F6F9",
        "plot_bgcolor": "#F5F6F9",
        "template": {
         "data": {
          "bar": [
           {
            "error_x": {
             "color": "#2a3f5f"
            },
            "error_y": {
             "color": "#2a3f5f"
            },
            "marker": {
             "line": {
              "color": "#E5ECF6",
              "width": 0.5
             }
            },
            "type": "bar"
           }
          ],
          "barpolar": [
           {
            "marker": {
             "line": {
              "color": "#E5ECF6",
              "width": 0.5
             }
            },
            "type": "barpolar"
           }
          ],
          "carpet": [
           {
            "aaxis": {
             "endlinecolor": "#2a3f5f",
             "gridcolor": "white",
             "linecolor": "white",
             "minorgridcolor": "white",
             "startlinecolor": "#2a3f5f"
            },
            "baxis": {
             "endlinecolor": "#2a3f5f",
             "gridcolor": "white",
             "linecolor": "white",
             "minorgridcolor": "white",
             "startlinecolor": "#2a3f5f"
            },
            "type": "carpet"
           }
          ],
          "choropleth": [
           {
            "colorbar": {
             "outlinewidth": 0,
             "ticks": ""
            },
            "type": "choropleth"
           }
          ],
          "contour": [
           {
            "colorbar": {
             "outlinewidth": 0,
             "ticks": ""
            },
            "colorscale": [
             [
              0,
              "#0d0887"
             ],
             [
              0.1111111111111111,
              "#46039f"
             ],
             [
              0.2222222222222222,
              "#7201a8"
             ],
             [
              0.3333333333333333,
              "#9c179e"
             ],
             [
              0.4444444444444444,
              "#bd3786"
             ],
             [
              0.5555555555555556,
              "#d8576b"
             ],
             [
              0.6666666666666666,
              "#ed7953"
             ],
             [
              0.7777777777777778,
              "#fb9f3a"
             ],
             [
              0.8888888888888888,
              "#fdca26"
             ],
             [
              1,
              "#f0f921"
             ]
            ],
            "type": "contour"
           }
          ],
          "contourcarpet": [
           {
            "colorbar": {
             "outlinewidth": 0,
             "ticks": ""
            },
            "type": "contourcarpet"
           }
          ],
          "heatmap": [
           {
            "colorbar": {
             "outlinewidth": 0,
             "ticks": ""
            },
            "colorscale": [
             [
              0,
              "#0d0887"
             ],
             [
              0.1111111111111111,
              "#46039f"
             ],
             [
              0.2222222222222222,
              "#7201a8"
             ],
             [
              0.3333333333333333,
              "#9c179e"
             ],
             [
              0.4444444444444444,
              "#bd3786"
             ],
             [
              0.5555555555555556,
              "#d8576b"
             ],
             [
              0.6666666666666666,
              "#ed7953"
             ],
             [
              0.7777777777777778,
              "#fb9f3a"
             ],
             [
              0.8888888888888888,
              "#fdca26"
             ],
             [
              1,
              "#f0f921"
             ]
            ],
            "type": "heatmap"
           }
          ],
          "heatmapgl": [
           {
            "colorbar": {
             "outlinewidth": 0,
             "ticks": ""
            },
            "colorscale": [
             [
              0,
              "#0d0887"
             ],
             [
              0.1111111111111111,
              "#46039f"
             ],
             [
              0.2222222222222222,
              "#7201a8"
             ],
             [
              0.3333333333333333,
              "#9c179e"
             ],
             [
              0.4444444444444444,
              "#bd3786"
             ],
             [
              0.5555555555555556,
              "#d8576b"
             ],
             [
              0.6666666666666666,
              "#ed7953"
             ],
             [
              0.7777777777777778,
              "#fb9f3a"
             ],
             [
              0.8888888888888888,
              "#fdca26"
             ],
             [
              1,
              "#f0f921"
             ]
            ],
            "type": "heatmapgl"
           }
          ],
          "histogram": [
           {
            "marker": {
             "colorbar": {
              "outlinewidth": 0,
              "ticks": ""
             }
            },
            "type": "histogram"
           }
          ],
          "histogram2d": [
           {
            "colorbar": {
             "outlinewidth": 0,
             "ticks": ""
            },
            "colorscale": [
             [
              0,
              "#0d0887"
             ],
             [
              0.1111111111111111,
              "#46039f"
             ],
             [
              0.2222222222222222,
              "#7201a8"
             ],
             [
              0.3333333333333333,
              "#9c179e"
             ],
             [
              0.4444444444444444,
              "#bd3786"
             ],
             [
              0.5555555555555556,
              "#d8576b"
             ],
             [
              0.6666666666666666,
              "#ed7953"
             ],
             [
              0.7777777777777778,
              "#fb9f3a"
             ],
             [
              0.8888888888888888,
              "#fdca26"
             ],
             [
              1,
              "#f0f921"
             ]
            ],
            "type": "histogram2d"
           }
          ],
          "histogram2dcontour": [
           {
            "colorbar": {
             "outlinewidth": 0,
             "ticks": ""
            },
            "colorscale": [
             [
              0,
              "#0d0887"
             ],
             [
              0.1111111111111111,
              "#46039f"
             ],
             [
              0.2222222222222222,
              "#7201a8"
             ],
             [
              0.3333333333333333,
              "#9c179e"
             ],
             [
              0.4444444444444444,
              "#bd3786"
             ],
             [
              0.5555555555555556,
              "#d8576b"
             ],
             [
              0.6666666666666666,
              "#ed7953"
             ],
             [
              0.7777777777777778,
              "#fb9f3a"
             ],
             [
              0.8888888888888888,
              "#fdca26"
             ],
             [
              1,
              "#f0f921"
             ]
            ],
            "type": "histogram2dcontour"
           }
          ],
          "mesh3d": [
           {
            "colorbar": {
             "outlinewidth": 0,
             "ticks": ""
            },
            "type": "mesh3d"
           }
          ],
          "parcoords": [
           {
            "line": {
             "colorbar": {
              "outlinewidth": 0,
              "ticks": ""
             }
            },
            "type": "parcoords"
           }
          ],
          "pie": [
           {
            "automargin": true,
            "type": "pie"
           }
          ],
          "scatter": [
           {
            "marker": {
             "colorbar": {
              "outlinewidth": 0,
              "ticks": ""
             }
            },
            "type": "scatter"
           }
          ],
          "scatter3d": [
           {
            "line": {
             "colorbar": {
              "outlinewidth": 0,
              "ticks": ""
             }
            },
            "marker": {
             "colorbar": {
              "outlinewidth": 0,
              "ticks": ""
             }
            },
            "type": "scatter3d"
           }
          ],
          "scattercarpet": [
           {
            "marker": {
             "colorbar": {
              "outlinewidth": 0,
              "ticks": ""
             }
            },
            "type": "scattercarpet"
           }
          ],
          "scattergeo": [
           {
            "marker": {
             "colorbar": {
              "outlinewidth": 0,
              "ticks": ""
             }
            },
            "type": "scattergeo"
           }
          ],
          "scattergl": [
           {
            "marker": {
             "colorbar": {
              "outlinewidth": 0,
              "ticks": ""
             }
            },
            "type": "scattergl"
           }
          ],
          "scattermapbox": [
           {
            "marker": {
             "colorbar": {
              "outlinewidth": 0,
              "ticks": ""
             }
            },
            "type": "scattermapbox"
           }
          ],
          "scatterpolar": [
           {
            "marker": {
             "colorbar": {
              "outlinewidth": 0,
              "ticks": ""
             }
            },
            "type": "scatterpolar"
           }
          ],
          "scatterpolargl": [
           {
            "marker": {
             "colorbar": {
              "outlinewidth": 0,
              "ticks": ""
             }
            },
            "type": "scatterpolargl"
           }
          ],
          "scatterternary": [
           {
            "marker": {
             "colorbar": {
              "outlinewidth": 0,
              "ticks": ""
             }
            },
            "type": "scatterternary"
           }
          ],
          "surface": [
           {
            "colorbar": {
             "outlinewidth": 0,
             "ticks": ""
            },
            "colorscale": [
             [
              0,
              "#0d0887"
             ],
             [
              0.1111111111111111,
              "#46039f"
             ],
             [
              0.2222222222222222,
              "#7201a8"
             ],
             [
              0.3333333333333333,
              "#9c179e"
             ],
             [
              0.4444444444444444,
              "#bd3786"
             ],
             [
              0.5555555555555556,
              "#d8576b"
             ],
             [
              0.6666666666666666,
              "#ed7953"
             ],
             [
              0.7777777777777778,
              "#fb9f3a"
             ],
             [
              0.8888888888888888,
              "#fdca26"
             ],
             [
              1,
              "#f0f921"
             ]
            ],
            "type": "surface"
           }
          ],
          "table": [
           {
            "cells": {
             "fill": {
              "color": "#EBF0F8"
             },
             "line": {
              "color": "white"
             }
            },
            "header": {
             "fill": {
              "color": "#C8D4E3"
             },
             "line": {
              "color": "white"
             }
            },
            "type": "table"
           }
          ]
         },
         "layout": {
          "annotationdefaults": {
           "arrowcolor": "#2a3f5f",
           "arrowhead": 0,
           "arrowwidth": 1
          },
          "coloraxis": {
           "colorbar": {
            "outlinewidth": 0,
            "ticks": ""
           }
          },
          "colorscale": {
           "diverging": [
            [
             0,
             "#8e0152"
            ],
            [
             0.1,
             "#c51b7d"
            ],
            [
             0.2,
             "#de77ae"
            ],
            [
             0.3,
             "#f1b6da"
            ],
            [
             0.4,
             "#fde0ef"
            ],
            [
             0.5,
             "#f7f7f7"
            ],
            [
             0.6,
             "#e6f5d0"
            ],
            [
             0.7,
             "#b8e186"
            ],
            [
             0.8,
             "#7fbc41"
            ],
            [
             0.9,
             "#4d9221"
            ],
            [
             1,
             "#276419"
            ]
           ],
           "sequential": [
            [
             0,
             "#0d0887"
            ],
            [
             0.1111111111111111,
             "#46039f"
            ],
            [
             0.2222222222222222,
             "#7201a8"
            ],
            [
             0.3333333333333333,
             "#9c179e"
            ],
            [
             0.4444444444444444,
             "#bd3786"
            ],
            [
             0.5555555555555556,
             "#d8576b"
            ],
            [
             0.6666666666666666,
             "#ed7953"
            ],
            [
             0.7777777777777778,
             "#fb9f3a"
            ],
            [
             0.8888888888888888,
             "#fdca26"
            ],
            [
             1,
             "#f0f921"
            ]
           ],
           "sequentialminus": [
            [
             0,
             "#0d0887"
            ],
            [
             0.1111111111111111,
             "#46039f"
            ],
            [
             0.2222222222222222,
             "#7201a8"
            ],
            [
             0.3333333333333333,
             "#9c179e"
            ],
            [
             0.4444444444444444,
             "#bd3786"
            ],
            [
             0.5555555555555556,
             "#d8576b"
            ],
            [
             0.6666666666666666,
             "#ed7953"
            ],
            [
             0.7777777777777778,
             "#fb9f3a"
            ],
            [
             0.8888888888888888,
             "#fdca26"
            ],
            [
             1,
             "#f0f921"
            ]
           ]
          },
          "colorway": [
           "#636efa",
           "#EF553B",
           "#00cc96",
           "#ab63fa",
           "#FFA15A",
           "#19d3f3",
           "#FF6692",
           "#B6E880",
           "#FF97FF",
           "#FECB52"
          ],
          "font": {
           "color": "#2a3f5f"
          },
          "geo": {
           "bgcolor": "white",
           "lakecolor": "white",
           "landcolor": "#E5ECF6",
           "showlakes": true,
           "showland": true,
           "subunitcolor": "white"
          },
          "hoverlabel": {
           "align": "left"
          },
          "hovermode": "closest",
          "mapbox": {
           "style": "light"
          },
          "paper_bgcolor": "white",
          "plot_bgcolor": "#E5ECF6",
          "polar": {
           "angularaxis": {
            "gridcolor": "white",
            "linecolor": "white",
            "ticks": ""
           },
           "bgcolor": "#E5ECF6",
           "radialaxis": {
            "gridcolor": "white",
            "linecolor": "white",
            "ticks": ""
           }
          },
          "scene": {
           "xaxis": {
            "backgroundcolor": "#E5ECF6",
            "gridcolor": "white",
            "gridwidth": 2,
            "linecolor": "white",
            "showbackground": true,
            "ticks": "",
            "zerolinecolor": "white"
           },
           "yaxis": {
            "backgroundcolor": "#E5ECF6",
            "gridcolor": "white",
            "gridwidth": 2,
            "linecolor": "white",
            "showbackground": true,
            "ticks": "",
            "zerolinecolor": "white"
           },
           "zaxis": {
            "backgroundcolor": "#E5ECF6",
            "gridcolor": "white",
            "gridwidth": 2,
            "linecolor": "white",
            "showbackground": true,
            "ticks": "",
            "zerolinecolor": "white"
           }
          },
          "shapedefaults": {
           "line": {
            "color": "#2a3f5f"
           }
          },
          "ternary": {
           "aaxis": {
            "gridcolor": "white",
            "linecolor": "white",
            "ticks": ""
           },
           "baxis": {
            "gridcolor": "white",
            "linecolor": "white",
            "ticks": ""
           },
           "bgcolor": "#E5ECF6",
           "caxis": {
            "gridcolor": "white",
            "linecolor": "white",
            "ticks": ""
           }
          },
          "title": {
           "x": 0.05
          },
          "xaxis": {
           "automargin": true,
           "gridcolor": "white",
           "linecolor": "white",
           "ticks": "",
           "title": {
            "standoff": 15
           },
           "zerolinecolor": "white",
           "zerolinewidth": 2
          },
          "yaxis": {
           "automargin": true,
           "gridcolor": "white",
           "linecolor": "white",
           "ticks": "",
           "title": {
            "standoff": 15
           },
           "zerolinecolor": "white",
           "zerolinewidth": 2
          }
         }
        },
        "title": {
         "font": {
          "color": "#4D5663"
         }
        },
        "xaxis": {
         "gridcolor": "#E1E5ED",
         "showgrid": true,
         "tickfont": {
          "color": "#4D5663"
         },
         "title": {
          "font": {
           "color": "#4D5663"
          },
          "text": ""
         },
         "zerolinecolor": "#E1E5ED"
        },
        "yaxis": {
         "gridcolor": "#E1E5ED",
         "showgrid": true,
         "tickfont": {
          "color": "#4D5663"
         },
         "title": {
          "font": {
           "color": "#4D5663"
          },
          "text": ""
         },
         "zerolinecolor": "#E1E5ED"
        }
       }
      },
      "text/html": [
       "<div>                            <div id=\"4ace8199-05c1-470b-83d6-728649c5354f\" class=\"plotly-graph-div\" style=\"height:525px; width:100%;\"></div>            <script type=\"text/javascript\">                require([\"plotly\"], function(Plotly) {                    window.PLOTLYENV=window.PLOTLYENV || {};\n",
       "                    window.PLOTLYENV.BASE_URL='https://plot.ly';                                    if (document.getElementById(\"4ace8199-05c1-470b-83d6-728649c5354f\")) {                    Plotly.newPlot(                        \"4ace8199-05c1-470b-83d6-728649c5354f\",                        [{\"marker\": {\"color\": \"rgba(255, 153, 51, 0.6)\", \"line\": {\"color\": \"rgba(255, 153, 51, 1.0)\", \"width\": 1}}, \"name\": \"None\", \"orientation\": \"v\", \"text\": \"\", \"type\": \"bar\", \"x\": [\"A\", \"B\", \"C\", \"D\"], \"y\": [100, 100, 100, 100]}],                        {\"legend\": {\"bgcolor\": \"#F5F6F9\", \"font\": {\"color\": \"#4D5663\"}}, \"paper_bgcolor\": \"#F5F6F9\", \"plot_bgcolor\": \"#F5F6F9\", \"template\": {\"data\": {\"bar\": [{\"error_x\": {\"color\": \"#2a3f5f\"}, \"error_y\": {\"color\": \"#2a3f5f\"}, \"marker\": {\"line\": {\"color\": \"#E5ECF6\", \"width\": 0.5}}, \"type\": \"bar\"}], \"barpolar\": [{\"marker\": {\"line\": {\"color\": \"#E5ECF6\", \"width\": 0.5}}, \"type\": \"barpolar\"}], \"carpet\": [{\"aaxis\": {\"endlinecolor\": \"#2a3f5f\", \"gridcolor\": \"white\", \"linecolor\": \"white\", \"minorgridcolor\": \"white\", \"startlinecolor\": \"#2a3f5f\"}, \"baxis\": {\"endlinecolor\": \"#2a3f5f\", \"gridcolor\": \"white\", \"linecolor\": \"white\", \"minorgridcolor\": \"white\", \"startlinecolor\": \"#2a3f5f\"}, \"type\": \"carpet\"}], \"choropleth\": [{\"colorbar\": {\"outlinewidth\": 0, \"ticks\": \"\"}, \"type\": \"choropleth\"}], \"contour\": [{\"colorbar\": {\"outlinewidth\": 0, \"ticks\": \"\"}, \"colorscale\": [[0.0, \"#0d0887\"], [0.1111111111111111, \"#46039f\"], [0.2222222222222222, \"#7201a8\"], [0.3333333333333333, \"#9c179e\"], [0.4444444444444444, \"#bd3786\"], [0.5555555555555556, \"#d8576b\"], [0.6666666666666666, \"#ed7953\"], [0.7777777777777778, \"#fb9f3a\"], [0.8888888888888888, \"#fdca26\"], [1.0, \"#f0f921\"]], \"type\": \"contour\"}], \"contourcarpet\": [{\"colorbar\": {\"outlinewidth\": 0, \"ticks\": \"\"}, \"type\": \"contourcarpet\"}], \"heatmap\": [{\"colorbar\": {\"outlinewidth\": 0, \"ticks\": \"\"}, \"colorscale\": [[0.0, \"#0d0887\"], [0.1111111111111111, \"#46039f\"], [0.2222222222222222, \"#7201a8\"], [0.3333333333333333, \"#9c179e\"], [0.4444444444444444, \"#bd3786\"], [0.5555555555555556, \"#d8576b\"], [0.6666666666666666, \"#ed7953\"], [0.7777777777777778, \"#fb9f3a\"], [0.8888888888888888, \"#fdca26\"], [1.0, \"#f0f921\"]], \"type\": \"heatmap\"}], \"heatmapgl\": [{\"colorbar\": {\"outlinewidth\": 0, \"ticks\": \"\"}, \"colorscale\": [[0.0, \"#0d0887\"], [0.1111111111111111, \"#46039f\"], [0.2222222222222222, \"#7201a8\"], [0.3333333333333333, \"#9c179e\"], [0.4444444444444444, \"#bd3786\"], [0.5555555555555556, \"#d8576b\"], [0.6666666666666666, \"#ed7953\"], [0.7777777777777778, \"#fb9f3a\"], [0.8888888888888888, \"#fdca26\"], [1.0, \"#f0f921\"]], \"type\": \"heatmapgl\"}], \"histogram\": [{\"marker\": {\"colorbar\": {\"outlinewidth\": 0, \"ticks\": \"\"}}, \"type\": \"histogram\"}], \"histogram2d\": [{\"colorbar\": {\"outlinewidth\": 0, \"ticks\": \"\"}, \"colorscale\": [[0.0, \"#0d0887\"], [0.1111111111111111, \"#46039f\"], [0.2222222222222222, \"#7201a8\"], [0.3333333333333333, \"#9c179e\"], [0.4444444444444444, \"#bd3786\"], [0.5555555555555556, \"#d8576b\"], [0.6666666666666666, \"#ed7953\"], [0.7777777777777778, \"#fb9f3a\"], [0.8888888888888888, \"#fdca26\"], [1.0, \"#f0f921\"]], \"type\": \"histogram2d\"}], \"histogram2dcontour\": [{\"colorbar\": {\"outlinewidth\": 0, \"ticks\": \"\"}, \"colorscale\": [[0.0, \"#0d0887\"], [0.1111111111111111, \"#46039f\"], [0.2222222222222222, \"#7201a8\"], [0.3333333333333333, \"#9c179e\"], [0.4444444444444444, \"#bd3786\"], [0.5555555555555556, \"#d8576b\"], [0.6666666666666666, \"#ed7953\"], [0.7777777777777778, \"#fb9f3a\"], [0.8888888888888888, \"#fdca26\"], [1.0, \"#f0f921\"]], \"type\": \"histogram2dcontour\"}], \"mesh3d\": [{\"colorbar\": {\"outlinewidth\": 0, \"ticks\": \"\"}, \"type\": \"mesh3d\"}], \"parcoords\": [{\"line\": {\"colorbar\": {\"outlinewidth\": 0, \"ticks\": \"\"}}, \"type\": \"parcoords\"}], \"pie\": [{\"automargin\": true, \"type\": \"pie\"}], \"scatter\": [{\"marker\": {\"colorbar\": {\"outlinewidth\": 0, \"ticks\": \"\"}}, \"type\": \"scatter\"}], \"scatter3d\": [{\"line\": {\"colorbar\": {\"outlinewidth\": 0, \"ticks\": \"\"}}, \"marker\": {\"colorbar\": {\"outlinewidth\": 0, \"ticks\": \"\"}}, \"type\": \"scatter3d\"}], \"scattercarpet\": [{\"marker\": {\"colorbar\": {\"outlinewidth\": 0, \"ticks\": \"\"}}, \"type\": \"scattercarpet\"}], \"scattergeo\": [{\"marker\": {\"colorbar\": {\"outlinewidth\": 0, \"ticks\": \"\"}}, \"type\": \"scattergeo\"}], \"scattergl\": [{\"marker\": {\"colorbar\": {\"outlinewidth\": 0, \"ticks\": \"\"}}, \"type\": \"scattergl\"}], \"scattermapbox\": [{\"marker\": {\"colorbar\": {\"outlinewidth\": 0, \"ticks\": \"\"}}, \"type\": \"scattermapbox\"}], \"scatterpolar\": [{\"marker\": {\"colorbar\": {\"outlinewidth\": 0, \"ticks\": \"\"}}, \"type\": \"scatterpolar\"}], \"scatterpolargl\": [{\"marker\": {\"colorbar\": {\"outlinewidth\": 0, \"ticks\": \"\"}}, \"type\": \"scatterpolargl\"}], \"scatterternary\": [{\"marker\": {\"colorbar\": {\"outlinewidth\": 0, \"ticks\": \"\"}}, \"type\": \"scatterternary\"}], \"surface\": [{\"colorbar\": {\"outlinewidth\": 0, \"ticks\": \"\"}, \"colorscale\": [[0.0, \"#0d0887\"], [0.1111111111111111, \"#46039f\"], [0.2222222222222222, \"#7201a8\"], [0.3333333333333333, \"#9c179e\"], [0.4444444444444444, \"#bd3786\"], [0.5555555555555556, \"#d8576b\"], [0.6666666666666666, \"#ed7953\"], [0.7777777777777778, \"#fb9f3a\"], [0.8888888888888888, \"#fdca26\"], [1.0, \"#f0f921\"]], \"type\": \"surface\"}], \"table\": [{\"cells\": {\"fill\": {\"color\": \"#EBF0F8\"}, \"line\": {\"color\": \"white\"}}, \"header\": {\"fill\": {\"color\": \"#C8D4E3\"}, \"line\": {\"color\": \"white\"}}, \"type\": \"table\"}]}, \"layout\": {\"annotationdefaults\": {\"arrowcolor\": \"#2a3f5f\", \"arrowhead\": 0, \"arrowwidth\": 1}, \"coloraxis\": {\"colorbar\": {\"outlinewidth\": 0, \"ticks\": \"\"}}, \"colorscale\": {\"diverging\": [[0, \"#8e0152\"], [0.1, \"#c51b7d\"], [0.2, \"#de77ae\"], [0.3, \"#f1b6da\"], [0.4, \"#fde0ef\"], [0.5, \"#f7f7f7\"], [0.6, \"#e6f5d0\"], [0.7, \"#b8e186\"], [0.8, \"#7fbc41\"], [0.9, \"#4d9221\"], [1, \"#276419\"]], \"sequential\": [[0.0, \"#0d0887\"], [0.1111111111111111, \"#46039f\"], [0.2222222222222222, \"#7201a8\"], [0.3333333333333333, \"#9c179e\"], [0.4444444444444444, \"#bd3786\"], [0.5555555555555556, \"#d8576b\"], [0.6666666666666666, \"#ed7953\"], [0.7777777777777778, \"#fb9f3a\"], [0.8888888888888888, \"#fdca26\"], [1.0, \"#f0f921\"]], \"sequentialminus\": [[0.0, \"#0d0887\"], [0.1111111111111111, \"#46039f\"], [0.2222222222222222, \"#7201a8\"], [0.3333333333333333, \"#9c179e\"], [0.4444444444444444, \"#bd3786\"], [0.5555555555555556, \"#d8576b\"], [0.6666666666666666, \"#ed7953\"], [0.7777777777777778, \"#fb9f3a\"], [0.8888888888888888, \"#fdca26\"], [1.0, \"#f0f921\"]]}, \"colorway\": [\"#636efa\", \"#EF553B\", \"#00cc96\", \"#ab63fa\", \"#FFA15A\", \"#19d3f3\", \"#FF6692\", \"#B6E880\", \"#FF97FF\", \"#FECB52\"], \"font\": {\"color\": \"#2a3f5f\"}, \"geo\": {\"bgcolor\": \"white\", \"lakecolor\": \"white\", \"landcolor\": \"#E5ECF6\", \"showlakes\": true, \"showland\": true, \"subunitcolor\": \"white\"}, \"hoverlabel\": {\"align\": \"left\"}, \"hovermode\": \"closest\", \"mapbox\": {\"style\": \"light\"}, \"paper_bgcolor\": \"white\", \"plot_bgcolor\": \"#E5ECF6\", \"polar\": {\"angularaxis\": {\"gridcolor\": \"white\", \"linecolor\": \"white\", \"ticks\": \"\"}, \"bgcolor\": \"#E5ECF6\", \"radialaxis\": {\"gridcolor\": \"white\", \"linecolor\": \"white\", \"ticks\": \"\"}}, \"scene\": {\"xaxis\": {\"backgroundcolor\": \"#E5ECF6\", \"gridcolor\": \"white\", \"gridwidth\": 2, \"linecolor\": \"white\", \"showbackground\": true, \"ticks\": \"\", \"zerolinecolor\": \"white\"}, \"yaxis\": {\"backgroundcolor\": \"#E5ECF6\", \"gridcolor\": \"white\", \"gridwidth\": 2, \"linecolor\": \"white\", \"showbackground\": true, \"ticks\": \"\", \"zerolinecolor\": \"white\"}, \"zaxis\": {\"backgroundcolor\": \"#E5ECF6\", \"gridcolor\": \"white\", \"gridwidth\": 2, \"linecolor\": \"white\", \"showbackground\": true, \"ticks\": \"\", \"zerolinecolor\": \"white\"}}, \"shapedefaults\": {\"line\": {\"color\": \"#2a3f5f\"}}, \"ternary\": {\"aaxis\": {\"gridcolor\": \"white\", \"linecolor\": \"white\", \"ticks\": \"\"}, \"baxis\": {\"gridcolor\": \"white\", \"linecolor\": \"white\", \"ticks\": \"\"}, \"bgcolor\": \"#E5ECF6\", \"caxis\": {\"gridcolor\": \"white\", \"linecolor\": \"white\", \"ticks\": \"\"}}, \"title\": {\"x\": 0.05}, \"xaxis\": {\"automargin\": true, \"gridcolor\": \"white\", \"linecolor\": \"white\", \"ticks\": \"\", \"title\": {\"standoff\": 15}, \"zerolinecolor\": \"white\", \"zerolinewidth\": 2}, \"yaxis\": {\"automargin\": true, \"gridcolor\": \"white\", \"linecolor\": \"white\", \"ticks\": \"\", \"title\": {\"standoff\": 15}, \"zerolinecolor\": \"white\", \"zerolinewidth\": 2}}}, \"title\": {\"font\": {\"color\": \"#4D5663\"}}, \"xaxis\": {\"gridcolor\": \"#E1E5ED\", \"showgrid\": true, \"tickfont\": {\"color\": \"#4D5663\"}, \"title\": {\"font\": {\"color\": \"#4D5663\"}, \"text\": \"\"}, \"zerolinecolor\": \"#E1E5ED\"}, \"yaxis\": {\"gridcolor\": \"#E1E5ED\", \"showgrid\": true, \"tickfont\": {\"color\": \"#4D5663\"}, \"title\": {\"font\": {\"color\": \"#4D5663\"}, \"text\": \"\"}, \"zerolinecolor\": \"#E1E5ED\"}},                        {\"showLink\": true, \"linkText\": \"Export to plot.ly\", \"plotlyServerURL\": \"https://plot.ly\", \"responsive\": true}                    ).then(function(){\n",
       "                            \n",
       "var gd = document.getElementById('4ace8199-05c1-470b-83d6-728649c5354f');\n",
       "var x = new MutationObserver(function (mutations, observer) {{\n",
       "        var display = window.getComputedStyle(gd).display;\n",
       "        if (!display || display === 'none') {{\n",
       "            console.log([gd, 'removed!']);\n",
       "            Plotly.purge(gd);\n",
       "            observer.disconnect();\n",
       "        }}\n",
       "}});\n",
       "\n",
       "// Listen for the removal of the full notebook cells\n",
       "var notebookContainer = gd.closest('#notebook-container');\n",
       "if (notebookContainer) {{\n",
       "    x.observe(notebookContainer, {childList: true});\n",
       "}}\n",
       "\n",
       "// Listen for the clearing of the current output cell\n",
       "var outputEl = gd.closest('.output');\n",
       "if (outputEl) {{\n",
       "    x.observe(outputEl, {childList: true});\n",
       "}}\n",
       "\n",
       "                        })                };                });            </script>        </div>"
      ]
     },
     "metadata": {},
     "output_type": "display_data"
    }
   ],
   "source": [
    "df.count().iplot(kind='bar')"
   ]
  },
  {
   "cell_type": "markdown",
   "metadata": {},
   "source": [
    "### Box Plots"
   ]
  },
  {
   "cell_type": "code",
   "execution_count": 13,
   "metadata": {},
   "outputs": [
    {
     "data": {
      "application/vnd.plotly.v1+json": {
       "config": {
        "linkText": "Export to plot.ly",
        "plotlyServerURL": "https://plot.ly",
        "showLink": true
       },
       "data": [
        {
         "boxpoints": false,
         "line": {
          "width": 1.3
         },
         "marker": {
          "color": "rgba(255, 153, 51, 1.0)"
         },
         "name": "A",
         "orientation": "v",
         "type": "box",
         "y": [
          -0.13357016322871249,
          -0.9388099126545523,
          0.5117097703051664,
          1.1779855554334155,
          -0.4957539865499914,
          0.7007226194302827,
          -1.618803600536682,
          0.6471942674601291,
          0.18380474352706944,
          -0.8434487884583421,
          -0.14225349702295875,
          -2.0077819846307485,
          0.29759751236156534,
          -1.6326134094630256,
          -1.6519162183269995,
          -0.8539639548069332,
          0.07536835326501973,
          0.40309764714981444,
          1.166158989566912,
          0.46423153191010424,
          1.2319341756988753,
          0.4641824363846118,
          0.05736669686774498,
          0.39587078523377806,
          -0.254006178629848,
          -0.36263870999363906,
          0.6412993423764257,
          -0.3700496398671861,
          -0.13410095704867844,
          0.9817025311756228,
          0.8106484353297797,
          -0.16205295130179306,
          -0.33913108062063313,
          0.057469169391842496,
          -0.26477571549699463,
          0.0024576263945883135,
          -0.7147944079380628,
          -0.9996002696309442,
          0.9184922604899338,
          -1.1992044471144834,
          -0.0014854154246680376,
          0.3345466304861377,
          -0.765893622583983,
          0.10602795313048664,
          -1.591559038672016,
          -1.5312232576890508,
          -0.6366596842954436,
          1.6225309347941257,
          1.7966198104485864,
          2.79022164392135,
          0.27989357476789123,
          -0.4241064293010893,
          0.8388132702372181,
          -1.7267818436917177,
          -0.19362775702521812,
          -0.4368430323944334,
          -0.10776796283523535,
          -0.6502442358995324,
          -1.6219332655111154,
          1.2550106632360527,
          1.1312727057858079,
          -0.14766825632663355,
          -0.8368005671070359,
          -0.3243847866723495,
          -1.2199045625041136,
          -0.23809218291276832,
          -0.08972305687923236,
          -0.05567665301556912,
          0.7666832039503296,
          0.2585425338176482,
          -1.3348907441116726,
          0.6040795355994396,
          0.6531700339950408,
          1.090204612183431,
          -0.6137086038703986,
          0.33791847895736926,
          -1.7392250650949956,
          1.4703656663706586,
          0.27668941996149615,
          0.09627244902315872,
          -0.712464687405788,
          -0.9906689518375307,
          -0.2946382043089493,
          0.5505106266683137,
          -0.7328233537076538,
          0.07719178587171921,
          -0.16515491761973805,
          1.2137032151240978,
          0.6498073142314598,
          -0.36673405463231695,
          0.6143438624170506,
          0.04026987091933534,
          1.7651119672384328,
          2.504762191553729,
          0.19481374841293744,
          -0.695399992508885,
          -0.98880223581316,
          -1.5667214570263932,
          -1.2968714550600573,
          1.4422375463078765
         ]
        },
        {
         "boxpoints": false,
         "line": {
          "width": 1.3
         },
         "marker": {
          "color": "rgba(55, 128, 191, 1.0)"
         },
         "name": "B",
         "orientation": "v",
         "type": "box",
         "y": [
          -1.771315301053812,
          0.28371580039817207,
          1.303979668017339,
          -0.4009436724652719,
          -0.8421376822919558,
          -1.6465719848911848,
          1.690845020202858,
          1.6249160105450737,
          1.1486402676728138,
          1.2817697377258561,
          -2.3492865826040443,
          -0.7341290536641111,
          -1.0151774783057488,
          1.302160688252516,
          0.3722181611452662,
          -0.2537545153874133,
          1.0733525558023929,
          0.013311297241387236,
          -1.584831941900239,
          -0.08844080273559,
          -0.02523400350880266,
          1.8680368996218724,
          0.7902024783347283,
          -1.1507380031196381,
          1.1533029111144617,
          -0.8117613170967656,
          1.2916717955929897,
          0.16307876825058087,
          -0.08776720246335248,
          -0.7169668323701185,
          0.11547599070899921,
          2.028020398950748,
          2.067971296847705,
          -1.7679586572575203,
          -1.9121303185713443,
          0.22433857797991286,
          -0.05078404839345344,
          -1.6452970856783191,
          -2.2029051986762402,
          0.29089672723102883,
          -0.6098968844301316,
          0.4910994061285502,
          0.3276452956611974,
          -0.8080522613359631,
          0.2261764224509759,
          -1.1643304995513808,
          -0.5139522934290397,
          0.05652292348238001,
          -1.0680631748812215,
          -1.1211463646552,
          -0.4212410832484853,
          -1.0984757835014813,
          0.32938239648772344,
          -0.5500316801652668,
          0.24390634734471617,
          0.06022437056695923,
          0.10340482186120566,
          0.008214440317838802,
          2.0666413091693987,
          -0.6463373272003697,
          0.7164276475627177,
          -0.9353036902858883,
          0.2883519549522942,
          -0.24751466010814432,
          -0.07612973193853989,
          -1.388616457975686,
          0.5765020024178159,
          -0.13743540087202014,
          0.5969159313248671,
          0.4040044827769081,
          1.200730957316366,
          -0.6561027766889078,
          -0.7367026331814217,
          3.182032959872631,
          0.34142892232679933,
          -0.433666546367912,
          -0.45821447025373263,
          1.0097119871725126,
          -0.5871000495758965,
          1.2284393627469177,
          1.1344983010102763,
          -0.13325128842744816,
          -1.1939105257456901,
          -2.043792821545929,
          0.6485531035628525,
          0.027039352355595663,
          0.5899161200710822,
          1.3957133480420012,
          -2.0924818534099088,
          0.05259908472658938,
          -0.3149904271888376,
          -0.3649950991421775,
          1.4506623049311254,
          -0.4616033155387015,
          0.3976292886585956,
          -0.4479181999474117,
          -2.342225753002411,
          -0.6694261707440903,
          1.412374347731571,
          -0.2622402824357615
         ]
        },
        {
         "boxpoints": false,
         "line": {
          "width": 1.3
         },
         "marker": {
          "color": "rgba(50, 171, 96, 1.0)"
         },
         "name": "C",
         "orientation": "v",
         "type": "box",
         "y": [
          -1.2579592369558228,
          0.7528169840299983,
          -0.7212252288668569,
          0.3040167880558339,
          0.06405199364242747,
          -0.9794261253256917,
          0.2110250635216258,
          0.8695926420197316,
          -0.5471620336296431,
          0.037644641509716664,
          -1.1279175212907984,
          1.554452868061709,
          -0.8720078626974317,
          -0.010206832100415413,
          0.3959098294577444,
          0.7744721461304633,
          -0.03486702794374062,
          -0.3183871184648832,
          0.4225609493578637,
          0.552122448153061,
          -0.08383964666788961,
          -0.46655386125457127,
          -0.23922394230142296,
          -0.729788466241313,
          -1.3635738098547718,
          0.024262777689102382,
          -0.6662326400440676,
          2.711557508318987,
          1.0497030911463014,
          -0.12120104369763134,
          -0.9314714224706033,
          -0.25335313061922565,
          -0.8706468259824167,
          -0.4646738652540685,
          0.49137998555939516,
          1.4117021072978906,
          -0.13718187470684634,
          -1.615444018765306,
          0.024942414814299662,
          1.3784547189105696,
          -1.762931179346037,
          2.074684529641876,
          0.24551005940638157,
          -1.0266596524872484,
          -1.4051791994362584,
          -1.105473664398208,
          0.19999641366654805,
          0.4336689635382377,
          1.3000851057406768,
          1.1393419618167528,
          0.5490801889968279,
          -1.633631985596189,
          1.1968992342668567,
          -0.6032049920929101,
          -0.5826092395077325,
          -0.2417719225016725,
          -0.9567494384957832,
          0.3284798323601425,
          -2.4402465113975707,
          0.7729841391377279,
          1.553161106113638,
          -0.20333882339927445,
          0.7275606562778946,
          0.8424831941539155,
          0.3420886704554364,
          1.8903511329232836,
          0.36802299677888756,
          -0.5625204226160485,
          0.6096398559747628,
          -0.8744038113144517,
          0.2308186341970769,
          0.24388648034656385,
          0.3219023571744587,
          0.17622540560927966,
          0.0687200798773024,
          -0.5507174486977008,
          -1.2582786139871052,
          -0.24256808812114775,
          -0.9274303682965955,
          1.1977594438659265,
          -0.12240389967362733,
          -0.25759805955960435,
          0.34410471953012245,
          0.24912721791232564,
          0.07636262719982223,
          0.42696823820504093,
          -0.6742097764193655,
          0.6755218777428174,
          0.31694280346361214,
          -0.46585397211821045,
          -1.7707084849884613,
          2.494822526595637,
          1.2801007839658125,
          -0.25980259970521324,
          -0.11055106229552869,
          -0.8455311232198319,
          0.6829304924618667,
          -2.0230467385680986,
          -1.965899318975996,
          0.34957359104221764
         ]
        },
        {
         "boxpoints": false,
         "line": {
          "width": 1.3
         },
         "marker": {
          "color": "rgba(128, 0, 128, 1.0)"
         },
         "name": "D",
         "orientation": "v",
         "type": "box",
         "y": [
          0.04438298901005722,
          2.01453011666514,
          -0.8277517471019805,
          -0.4800275225455572,
          -1.7434713727845639,
          1.6474424537740948,
          -0.16804861158362375,
          -0.3170576263675429,
          0.5394158840204778,
          -0.6924913946106126,
          0.12869584951149501,
          -1.7170079133817846,
          1.5497731352834976,
          -0.22265567730787772,
          -0.20622471639514134,
          -1.3309127324521304,
          -0.39665514276109454,
          0.9067267568798981,
          -1.6387895792807983,
          0.34456287952360554,
          -0.8154378946192437,
          -0.04865944942180593,
          0.5296800149132371,
          1.7698085655284084,
          -0.7880081927964421,
          0.3259051081955611,
          1.5594467061507356,
          0.6108034574271162,
          0.6846999518933515,
          -0.8729485447088208,
          -1.3139050390278892,
          -2.1655041063750904,
          -0.10354913630562142,
          1.4834866655526269,
          -1.6343680314510447,
          0.9356563089852359,
          0.007046310253665561,
          0.4558758136188569,
          0.4765068400389557,
          -1.1706733088019277,
          0.9350676613976643,
          1.4313982313549363,
          0.5954427133350423,
          0.6200068342203038,
          0.009474970656160889,
          1.1797609679208256,
          -1.1671317090374829,
          -1.0701521169839643,
          -1.7284304653292917,
          1.8470078650353527,
          1.1464085645841953,
          0.29458531691626494,
          0.08570935020443918,
          1.1435119918014651,
          -2.1360784359117577,
          0.4556847608350121,
          0.0513175755211297,
          0.42959911087376695,
          2.4045860592752346,
          -0.08207194954384621,
          -0.12435840040726509,
          -2.2452071344640325,
          2.9569042551254454,
          -0.32906049535149867,
          -0.7127842868462987,
          -0.22034371894642682,
          0.9239351909569483,
          -0.02454792415611727,
          0.5194703811559909,
          -0.7094179821624598,
          -0.016326337686232928,
          -0.4082430523401641,
          -0.7058983800826389,
          0.09316726389439584,
          -0.3845163381140667,
          -0.5644378580981232,
          -0.15046839968890366,
          -0.638550744051377,
          -1.164619415415256,
          -1.2838871358316455,
          -0.46186365658641154,
          0.5187898701446411,
          -0.011885183186334015,
          -0.22220901837735701,
          1.2780779627236407,
          -0.7656378388014617,
          -0.02346141562631671,
          -0.4343304313359113,
          -0.6382552883548942,
          -1.5396187274373607,
          -0.780158031098307,
          -0.07763908522978279,
          -1.0985136000226379,
          -0.4206320982439969,
          0.11552039962919004,
          -0.40687614072653705,
          0.17192303628777747,
          0.28869547425579645,
          -0.3195206685415462,
          0.09628554206664476
         ]
        }
       ],
       "layout": {
        "legend": {
         "bgcolor": "#F5F6F9",
         "font": {
          "color": "#4D5663"
         }
        },
        "paper_bgcolor": "#F5F6F9",
        "plot_bgcolor": "#F5F6F9",
        "template": {
         "data": {
          "bar": [
           {
            "error_x": {
             "color": "#2a3f5f"
            },
            "error_y": {
             "color": "#2a3f5f"
            },
            "marker": {
             "line": {
              "color": "#E5ECF6",
              "width": 0.5
             }
            },
            "type": "bar"
           }
          ],
          "barpolar": [
           {
            "marker": {
             "line": {
              "color": "#E5ECF6",
              "width": 0.5
             }
            },
            "type": "barpolar"
           }
          ],
          "carpet": [
           {
            "aaxis": {
             "endlinecolor": "#2a3f5f",
             "gridcolor": "white",
             "linecolor": "white",
             "minorgridcolor": "white",
             "startlinecolor": "#2a3f5f"
            },
            "baxis": {
             "endlinecolor": "#2a3f5f",
             "gridcolor": "white",
             "linecolor": "white",
             "minorgridcolor": "white",
             "startlinecolor": "#2a3f5f"
            },
            "type": "carpet"
           }
          ],
          "choropleth": [
           {
            "colorbar": {
             "outlinewidth": 0,
             "ticks": ""
            },
            "type": "choropleth"
           }
          ],
          "contour": [
           {
            "colorbar": {
             "outlinewidth": 0,
             "ticks": ""
            },
            "colorscale": [
             [
              0,
              "#0d0887"
             ],
             [
              0.1111111111111111,
              "#46039f"
             ],
             [
              0.2222222222222222,
              "#7201a8"
             ],
             [
              0.3333333333333333,
              "#9c179e"
             ],
             [
              0.4444444444444444,
              "#bd3786"
             ],
             [
              0.5555555555555556,
              "#d8576b"
             ],
             [
              0.6666666666666666,
              "#ed7953"
             ],
             [
              0.7777777777777778,
              "#fb9f3a"
             ],
             [
              0.8888888888888888,
              "#fdca26"
             ],
             [
              1,
              "#f0f921"
             ]
            ],
            "type": "contour"
           }
          ],
          "contourcarpet": [
           {
            "colorbar": {
             "outlinewidth": 0,
             "ticks": ""
            },
            "type": "contourcarpet"
           }
          ],
          "heatmap": [
           {
            "colorbar": {
             "outlinewidth": 0,
             "ticks": ""
            },
            "colorscale": [
             [
              0,
              "#0d0887"
             ],
             [
              0.1111111111111111,
              "#46039f"
             ],
             [
              0.2222222222222222,
              "#7201a8"
             ],
             [
              0.3333333333333333,
              "#9c179e"
             ],
             [
              0.4444444444444444,
              "#bd3786"
             ],
             [
              0.5555555555555556,
              "#d8576b"
             ],
             [
              0.6666666666666666,
              "#ed7953"
             ],
             [
              0.7777777777777778,
              "#fb9f3a"
             ],
             [
              0.8888888888888888,
              "#fdca26"
             ],
             [
              1,
              "#f0f921"
             ]
            ],
            "type": "heatmap"
           }
          ],
          "heatmapgl": [
           {
            "colorbar": {
             "outlinewidth": 0,
             "ticks": ""
            },
            "colorscale": [
             [
              0,
              "#0d0887"
             ],
             [
              0.1111111111111111,
              "#46039f"
             ],
             [
              0.2222222222222222,
              "#7201a8"
             ],
             [
              0.3333333333333333,
              "#9c179e"
             ],
             [
              0.4444444444444444,
              "#bd3786"
             ],
             [
              0.5555555555555556,
              "#d8576b"
             ],
             [
              0.6666666666666666,
              "#ed7953"
             ],
             [
              0.7777777777777778,
              "#fb9f3a"
             ],
             [
              0.8888888888888888,
              "#fdca26"
             ],
             [
              1,
              "#f0f921"
             ]
            ],
            "type": "heatmapgl"
           }
          ],
          "histogram": [
           {
            "marker": {
             "colorbar": {
              "outlinewidth": 0,
              "ticks": ""
             }
            },
            "type": "histogram"
           }
          ],
          "histogram2d": [
           {
            "colorbar": {
             "outlinewidth": 0,
             "ticks": ""
            },
            "colorscale": [
             [
              0,
              "#0d0887"
             ],
             [
              0.1111111111111111,
              "#46039f"
             ],
             [
              0.2222222222222222,
              "#7201a8"
             ],
             [
              0.3333333333333333,
              "#9c179e"
             ],
             [
              0.4444444444444444,
              "#bd3786"
             ],
             [
              0.5555555555555556,
              "#d8576b"
             ],
             [
              0.6666666666666666,
              "#ed7953"
             ],
             [
              0.7777777777777778,
              "#fb9f3a"
             ],
             [
              0.8888888888888888,
              "#fdca26"
             ],
             [
              1,
              "#f0f921"
             ]
            ],
            "type": "histogram2d"
           }
          ],
          "histogram2dcontour": [
           {
            "colorbar": {
             "outlinewidth": 0,
             "ticks": ""
            },
            "colorscale": [
             [
              0,
              "#0d0887"
             ],
             [
              0.1111111111111111,
              "#46039f"
             ],
             [
              0.2222222222222222,
              "#7201a8"
             ],
             [
              0.3333333333333333,
              "#9c179e"
             ],
             [
              0.4444444444444444,
              "#bd3786"
             ],
             [
              0.5555555555555556,
              "#d8576b"
             ],
             [
              0.6666666666666666,
              "#ed7953"
             ],
             [
              0.7777777777777778,
              "#fb9f3a"
             ],
             [
              0.8888888888888888,
              "#fdca26"
             ],
             [
              1,
              "#f0f921"
             ]
            ],
            "type": "histogram2dcontour"
           }
          ],
          "mesh3d": [
           {
            "colorbar": {
             "outlinewidth": 0,
             "ticks": ""
            },
            "type": "mesh3d"
           }
          ],
          "parcoords": [
           {
            "line": {
             "colorbar": {
              "outlinewidth": 0,
              "ticks": ""
             }
            },
            "type": "parcoords"
           }
          ],
          "pie": [
           {
            "automargin": true,
            "type": "pie"
           }
          ],
          "scatter": [
           {
            "marker": {
             "colorbar": {
              "outlinewidth": 0,
              "ticks": ""
             }
            },
            "type": "scatter"
           }
          ],
          "scatter3d": [
           {
            "line": {
             "colorbar": {
              "outlinewidth": 0,
              "ticks": ""
             }
            },
            "marker": {
             "colorbar": {
              "outlinewidth": 0,
              "ticks": ""
             }
            },
            "type": "scatter3d"
           }
          ],
          "scattercarpet": [
           {
            "marker": {
             "colorbar": {
              "outlinewidth": 0,
              "ticks": ""
             }
            },
            "type": "scattercarpet"
           }
          ],
          "scattergeo": [
           {
            "marker": {
             "colorbar": {
              "outlinewidth": 0,
              "ticks": ""
             }
            },
            "type": "scattergeo"
           }
          ],
          "scattergl": [
           {
            "marker": {
             "colorbar": {
              "outlinewidth": 0,
              "ticks": ""
             }
            },
            "type": "scattergl"
           }
          ],
          "scattermapbox": [
           {
            "marker": {
             "colorbar": {
              "outlinewidth": 0,
              "ticks": ""
             }
            },
            "type": "scattermapbox"
           }
          ],
          "scatterpolar": [
           {
            "marker": {
             "colorbar": {
              "outlinewidth": 0,
              "ticks": ""
             }
            },
            "type": "scatterpolar"
           }
          ],
          "scatterpolargl": [
           {
            "marker": {
             "colorbar": {
              "outlinewidth": 0,
              "ticks": ""
             }
            },
            "type": "scatterpolargl"
           }
          ],
          "scatterternary": [
           {
            "marker": {
             "colorbar": {
              "outlinewidth": 0,
              "ticks": ""
             }
            },
            "type": "scatterternary"
           }
          ],
          "surface": [
           {
            "colorbar": {
             "outlinewidth": 0,
             "ticks": ""
            },
            "colorscale": [
             [
              0,
              "#0d0887"
             ],
             [
              0.1111111111111111,
              "#46039f"
             ],
             [
              0.2222222222222222,
              "#7201a8"
             ],
             [
              0.3333333333333333,
              "#9c179e"
             ],
             [
              0.4444444444444444,
              "#bd3786"
             ],
             [
              0.5555555555555556,
              "#d8576b"
             ],
             [
              0.6666666666666666,
              "#ed7953"
             ],
             [
              0.7777777777777778,
              "#fb9f3a"
             ],
             [
              0.8888888888888888,
              "#fdca26"
             ],
             [
              1,
              "#f0f921"
             ]
            ],
            "type": "surface"
           }
          ],
          "table": [
           {
            "cells": {
             "fill": {
              "color": "#EBF0F8"
             },
             "line": {
              "color": "white"
             }
            },
            "header": {
             "fill": {
              "color": "#C8D4E3"
             },
             "line": {
              "color": "white"
             }
            },
            "type": "table"
           }
          ]
         },
         "layout": {
          "annotationdefaults": {
           "arrowcolor": "#2a3f5f",
           "arrowhead": 0,
           "arrowwidth": 1
          },
          "coloraxis": {
           "colorbar": {
            "outlinewidth": 0,
            "ticks": ""
           }
          },
          "colorscale": {
           "diverging": [
            [
             0,
             "#8e0152"
            ],
            [
             0.1,
             "#c51b7d"
            ],
            [
             0.2,
             "#de77ae"
            ],
            [
             0.3,
             "#f1b6da"
            ],
            [
             0.4,
             "#fde0ef"
            ],
            [
             0.5,
             "#f7f7f7"
            ],
            [
             0.6,
             "#e6f5d0"
            ],
            [
             0.7,
             "#b8e186"
            ],
            [
             0.8,
             "#7fbc41"
            ],
            [
             0.9,
             "#4d9221"
            ],
            [
             1,
             "#276419"
            ]
           ],
           "sequential": [
            [
             0,
             "#0d0887"
            ],
            [
             0.1111111111111111,
             "#46039f"
            ],
            [
             0.2222222222222222,
             "#7201a8"
            ],
            [
             0.3333333333333333,
             "#9c179e"
            ],
            [
             0.4444444444444444,
             "#bd3786"
            ],
            [
             0.5555555555555556,
             "#d8576b"
            ],
            [
             0.6666666666666666,
             "#ed7953"
            ],
            [
             0.7777777777777778,
             "#fb9f3a"
            ],
            [
             0.8888888888888888,
             "#fdca26"
            ],
            [
             1,
             "#f0f921"
            ]
           ],
           "sequentialminus": [
            [
             0,
             "#0d0887"
            ],
            [
             0.1111111111111111,
             "#46039f"
            ],
            [
             0.2222222222222222,
             "#7201a8"
            ],
            [
             0.3333333333333333,
             "#9c179e"
            ],
            [
             0.4444444444444444,
             "#bd3786"
            ],
            [
             0.5555555555555556,
             "#d8576b"
            ],
            [
             0.6666666666666666,
             "#ed7953"
            ],
            [
             0.7777777777777778,
             "#fb9f3a"
            ],
            [
             0.8888888888888888,
             "#fdca26"
            ],
            [
             1,
             "#f0f921"
            ]
           ]
          },
          "colorway": [
           "#636efa",
           "#EF553B",
           "#00cc96",
           "#ab63fa",
           "#FFA15A",
           "#19d3f3",
           "#FF6692",
           "#B6E880",
           "#FF97FF",
           "#FECB52"
          ],
          "font": {
           "color": "#2a3f5f"
          },
          "geo": {
           "bgcolor": "white",
           "lakecolor": "white",
           "landcolor": "#E5ECF6",
           "showlakes": true,
           "showland": true,
           "subunitcolor": "white"
          },
          "hoverlabel": {
           "align": "left"
          },
          "hovermode": "closest",
          "mapbox": {
           "style": "light"
          },
          "paper_bgcolor": "white",
          "plot_bgcolor": "#E5ECF6",
          "polar": {
           "angularaxis": {
            "gridcolor": "white",
            "linecolor": "white",
            "ticks": ""
           },
           "bgcolor": "#E5ECF6",
           "radialaxis": {
            "gridcolor": "white",
            "linecolor": "white",
            "ticks": ""
           }
          },
          "scene": {
           "xaxis": {
            "backgroundcolor": "#E5ECF6",
            "gridcolor": "white",
            "gridwidth": 2,
            "linecolor": "white",
            "showbackground": true,
            "ticks": "",
            "zerolinecolor": "white"
           },
           "yaxis": {
            "backgroundcolor": "#E5ECF6",
            "gridcolor": "white",
            "gridwidth": 2,
            "linecolor": "white",
            "showbackground": true,
            "ticks": "",
            "zerolinecolor": "white"
           },
           "zaxis": {
            "backgroundcolor": "#E5ECF6",
            "gridcolor": "white",
            "gridwidth": 2,
            "linecolor": "white",
            "showbackground": true,
            "ticks": "",
            "zerolinecolor": "white"
           }
          },
          "shapedefaults": {
           "line": {
            "color": "#2a3f5f"
           }
          },
          "ternary": {
           "aaxis": {
            "gridcolor": "white",
            "linecolor": "white",
            "ticks": ""
           },
           "baxis": {
            "gridcolor": "white",
            "linecolor": "white",
            "ticks": ""
           },
           "bgcolor": "#E5ECF6",
           "caxis": {
            "gridcolor": "white",
            "linecolor": "white",
            "ticks": ""
           }
          },
          "title": {
           "x": 0.05
          },
          "xaxis": {
           "automargin": true,
           "gridcolor": "white",
           "linecolor": "white",
           "ticks": "",
           "title": {
            "standoff": 15
           },
           "zerolinecolor": "white",
           "zerolinewidth": 2
          },
          "yaxis": {
           "automargin": true,
           "gridcolor": "white",
           "linecolor": "white",
           "ticks": "",
           "title": {
            "standoff": 15
           },
           "zerolinecolor": "white",
           "zerolinewidth": 2
          }
         }
        },
        "title": {
         "font": {
          "color": "#4D5663"
         }
        },
        "xaxis": {
         "gridcolor": "#E1E5ED",
         "showgrid": true,
         "tickfont": {
          "color": "#4D5663"
         },
         "title": {
          "font": {
           "color": "#4D5663"
          },
          "text": ""
         },
         "zerolinecolor": "#E1E5ED"
        },
        "yaxis": {
         "gridcolor": "#E1E5ED",
         "showgrid": true,
         "tickfont": {
          "color": "#4D5663"
         },
         "title": {
          "font": {
           "color": "#4D5663"
          },
          "text": ""
         },
         "zerolinecolor": "#E1E5ED"
        }
       }
      },
      "text/html": [
       "<div>                            <div id=\"aca0bb7c-4e32-46a1-b0d1-a3a14bdee9a0\" class=\"plotly-graph-div\" style=\"height:525px; width:100%;\"></div>            <script type=\"text/javascript\">                require([\"plotly\"], function(Plotly) {                    window.PLOTLYENV=window.PLOTLYENV || {};\n",
       "                    window.PLOTLYENV.BASE_URL='https://plot.ly';                                    if (document.getElementById(\"aca0bb7c-4e32-46a1-b0d1-a3a14bdee9a0\")) {                    Plotly.newPlot(                        \"aca0bb7c-4e32-46a1-b0d1-a3a14bdee9a0\",                        [{\"boxpoints\": false, \"line\": {\"width\": 1.3}, \"marker\": {\"color\": \"rgba(255, 153, 51, 1.0)\"}, \"name\": \"A\", \"orientation\": \"v\", \"type\": \"box\", \"y\": [-0.13357016322871249, -0.9388099126545523, 0.5117097703051664, 1.1779855554334155, -0.4957539865499914, 0.7007226194302827, -1.618803600536682, 0.6471942674601291, 0.18380474352706944, -0.8434487884583421, -0.14225349702295875, -2.0077819846307485, 0.29759751236156534, -1.6326134094630256, -1.6519162183269995, -0.8539639548069332, 0.07536835326501973, 0.40309764714981444, 1.166158989566912, 0.46423153191010424, 1.2319341756988753, 0.4641824363846118, 0.05736669686774498, 0.39587078523377806, -0.254006178629848, -0.36263870999363906, 0.6412993423764257, -0.3700496398671861, -0.13410095704867844, 0.9817025311756228, 0.8106484353297797, -0.16205295130179306, -0.33913108062063313, 0.057469169391842496, -0.26477571549699463, 0.0024576263945883135, -0.7147944079380628, -0.9996002696309442, 0.9184922604899338, -1.1992044471144834, -0.0014854154246680376, 0.3345466304861377, -0.765893622583983, 0.10602795313048664, -1.591559038672016, -1.5312232576890508, -0.6366596842954436, 1.6225309347941257, 1.7966198104485864, 2.79022164392135, 0.27989357476789123, -0.4241064293010893, 0.8388132702372181, -1.7267818436917177, -0.19362775702521812, -0.4368430323944334, -0.10776796283523535, -0.6502442358995324, -1.6219332655111154, 1.2550106632360527, 1.1312727057858079, -0.14766825632663355, -0.8368005671070359, -0.3243847866723495, -1.2199045625041136, -0.23809218291276832, -0.08972305687923236, -0.05567665301556912, 0.7666832039503296, 0.2585425338176482, -1.3348907441116726, 0.6040795355994396, 0.6531700339950408, 1.090204612183431, -0.6137086038703986, 0.33791847895736926, -1.7392250650949956, 1.4703656663706586, 0.27668941996149615, 0.09627244902315872, -0.712464687405788, -0.9906689518375307, -0.2946382043089493, 0.5505106266683137, -0.7328233537076538, 0.07719178587171921, -0.16515491761973805, 1.2137032151240978, 0.6498073142314598, -0.36673405463231695, 0.6143438624170506, 0.04026987091933534, 1.7651119672384328, 2.504762191553729, 0.19481374841293744, -0.695399992508885, -0.98880223581316, -1.5667214570263932, -1.2968714550600573, 1.4422375463078765]}, {\"boxpoints\": false, \"line\": {\"width\": 1.3}, \"marker\": {\"color\": \"rgba(55, 128, 191, 1.0)\"}, \"name\": \"B\", \"orientation\": \"v\", \"type\": \"box\", \"y\": [-1.771315301053812, 0.28371580039817207, 1.303979668017339, -0.4009436724652719, -0.8421376822919558, -1.6465719848911848, 1.690845020202858, 1.6249160105450737, 1.1486402676728138, 1.2817697377258561, -2.3492865826040443, -0.7341290536641111, -1.0151774783057488, 1.302160688252516, 0.3722181611452662, -0.2537545153874133, 1.0733525558023929, 0.013311297241387236, -1.584831941900239, -0.08844080273559, -0.02523400350880266, 1.8680368996218724, 0.7902024783347283, -1.1507380031196381, 1.1533029111144617, -0.8117613170967656, 1.2916717955929897, 0.16307876825058087, -0.08776720246335248, -0.7169668323701185, 0.11547599070899921, 2.028020398950748, 2.067971296847705, -1.7679586572575203, -1.9121303185713443, 0.22433857797991286, -0.05078404839345344, -1.6452970856783191, -2.2029051986762402, 0.29089672723102883, -0.6098968844301316, 0.4910994061285502, 0.3276452956611974, -0.8080522613359631, 0.2261764224509759, -1.1643304995513808, -0.5139522934290397, 0.05652292348238001, -1.0680631748812215, -1.1211463646552, -0.4212410832484853, -1.0984757835014813, 0.32938239648772344, -0.5500316801652668, 0.24390634734471617, 0.06022437056695923, 0.10340482186120566, 0.008214440317838802, 2.0666413091693987, -0.6463373272003697, 0.7164276475627177, -0.9353036902858883, 0.2883519549522942, -0.24751466010814432, -0.07612973193853989, -1.388616457975686, 0.5765020024178159, -0.13743540087202014, 0.5969159313248671, 0.4040044827769081, 1.200730957316366, -0.6561027766889078, -0.7367026331814217, 3.182032959872631, 0.34142892232679933, -0.433666546367912, -0.45821447025373263, 1.0097119871725126, -0.5871000495758965, 1.2284393627469177, 1.1344983010102763, -0.13325128842744816, -1.1939105257456901, -2.043792821545929, 0.6485531035628525, 0.027039352355595663, 0.5899161200710822, 1.3957133480420012, -2.0924818534099088, 0.05259908472658938, -0.3149904271888376, -0.3649950991421775, 1.4506623049311254, -0.4616033155387015, 0.3976292886585956, -0.4479181999474117, -2.342225753002411, -0.6694261707440903, 1.412374347731571, -0.2622402824357615]}, {\"boxpoints\": false, \"line\": {\"width\": 1.3}, \"marker\": {\"color\": \"rgba(50, 171, 96, 1.0)\"}, \"name\": \"C\", \"orientation\": \"v\", \"type\": \"box\", \"y\": [-1.2579592369558228, 0.7528169840299983, -0.7212252288668569, 0.3040167880558339, 0.06405199364242747, -0.9794261253256917, 0.2110250635216258, 0.8695926420197316, -0.5471620336296431, 0.037644641509716664, -1.1279175212907984, 1.554452868061709, -0.8720078626974317, -0.010206832100415413, 0.3959098294577444, 0.7744721461304633, -0.03486702794374062, -0.3183871184648832, 0.4225609493578637, 0.552122448153061, -0.08383964666788961, -0.46655386125457127, -0.23922394230142296, -0.729788466241313, -1.3635738098547718, 0.024262777689102382, -0.6662326400440676, 2.711557508318987, 1.0497030911463014, -0.12120104369763134, -0.9314714224706033, -0.25335313061922565, -0.8706468259824167, -0.4646738652540685, 0.49137998555939516, 1.4117021072978906, -0.13718187470684634, -1.615444018765306, 0.024942414814299662, 1.3784547189105696, -1.762931179346037, 2.074684529641876, 0.24551005940638157, -1.0266596524872484, -1.4051791994362584, -1.105473664398208, 0.19999641366654805, 0.4336689635382377, 1.3000851057406768, 1.1393419618167528, 0.5490801889968279, -1.633631985596189, 1.1968992342668567, -0.6032049920929101, -0.5826092395077325, -0.2417719225016725, -0.9567494384957832, 0.3284798323601425, -2.4402465113975707, 0.7729841391377279, 1.553161106113638, -0.20333882339927445, 0.7275606562778946, 0.8424831941539155, 0.3420886704554364, 1.8903511329232836, 0.36802299677888756, -0.5625204226160485, 0.6096398559747628, -0.8744038113144517, 0.2308186341970769, 0.24388648034656385, 0.3219023571744587, 0.17622540560927966, 0.0687200798773024, -0.5507174486977008, -1.2582786139871052, -0.24256808812114775, -0.9274303682965955, 1.1977594438659265, -0.12240389967362733, -0.25759805955960435, 0.34410471953012245, 0.24912721791232564, 0.07636262719982223, 0.42696823820504093, -0.6742097764193655, 0.6755218777428174, 0.31694280346361214, -0.46585397211821045, -1.7707084849884613, 2.494822526595637, 1.2801007839658125, -0.25980259970521324, -0.11055106229552869, -0.8455311232198319, 0.6829304924618667, -2.0230467385680986, -1.965899318975996, 0.34957359104221764]}, {\"boxpoints\": false, \"line\": {\"width\": 1.3}, \"marker\": {\"color\": \"rgba(128, 0, 128, 1.0)\"}, \"name\": \"D\", \"orientation\": \"v\", \"type\": \"box\", \"y\": [0.04438298901005722, 2.01453011666514, -0.8277517471019805, -0.4800275225455572, -1.7434713727845639, 1.6474424537740948, -0.16804861158362375, -0.3170576263675429, 0.5394158840204778, -0.6924913946106126, 0.12869584951149501, -1.7170079133817846, 1.5497731352834976, -0.22265567730787772, -0.20622471639514134, -1.3309127324521304, -0.39665514276109454, 0.9067267568798981, -1.6387895792807983, 0.34456287952360554, -0.8154378946192437, -0.04865944942180593, 0.5296800149132371, 1.7698085655284084, -0.7880081927964421, 0.3259051081955611, 1.5594467061507356, 0.6108034574271162, 0.6846999518933515, -0.8729485447088208, -1.3139050390278892, -2.1655041063750904, -0.10354913630562142, 1.4834866655526269, -1.6343680314510447, 0.9356563089852359, 0.007046310253665561, 0.4558758136188569, 0.4765068400389557, -1.1706733088019277, 0.9350676613976643, 1.4313982313549363, 0.5954427133350423, 0.6200068342203038, 0.009474970656160889, 1.1797609679208256, -1.1671317090374829, -1.0701521169839643, -1.7284304653292917, 1.8470078650353527, 1.1464085645841953, 0.29458531691626494, 0.08570935020443918, 1.1435119918014651, -2.1360784359117577, 0.4556847608350121, 0.0513175755211297, 0.42959911087376695, 2.4045860592752346, -0.08207194954384621, -0.12435840040726509, -2.2452071344640325, 2.9569042551254454, -0.32906049535149867, -0.7127842868462987, -0.22034371894642682, 0.9239351909569483, -0.02454792415611727, 0.5194703811559909, -0.7094179821624598, -0.016326337686232928, -0.4082430523401641, -0.7058983800826389, 0.09316726389439584, -0.3845163381140667, -0.5644378580981232, -0.15046839968890366, -0.638550744051377, -1.164619415415256, -1.2838871358316455, -0.46186365658641154, 0.5187898701446411, -0.011885183186334015, -0.22220901837735701, 1.2780779627236407, -0.7656378388014617, -0.02346141562631671, -0.4343304313359113, -0.6382552883548942, -1.5396187274373607, -0.780158031098307, -0.07763908522978279, -1.0985136000226379, -0.4206320982439969, 0.11552039962919004, -0.40687614072653705, 0.17192303628777747, 0.28869547425579645, -0.3195206685415462, 0.09628554206664476]}],                        {\"legend\": {\"bgcolor\": \"#F5F6F9\", \"font\": {\"color\": \"#4D5663\"}}, \"paper_bgcolor\": \"#F5F6F9\", \"plot_bgcolor\": \"#F5F6F9\", \"template\": {\"data\": {\"bar\": [{\"error_x\": {\"color\": \"#2a3f5f\"}, \"error_y\": {\"color\": \"#2a3f5f\"}, \"marker\": {\"line\": {\"color\": \"#E5ECF6\", \"width\": 0.5}}, \"type\": \"bar\"}], \"barpolar\": [{\"marker\": {\"line\": {\"color\": \"#E5ECF6\", \"width\": 0.5}}, \"type\": \"barpolar\"}], \"carpet\": [{\"aaxis\": {\"endlinecolor\": \"#2a3f5f\", \"gridcolor\": \"white\", \"linecolor\": \"white\", \"minorgridcolor\": \"white\", \"startlinecolor\": \"#2a3f5f\"}, \"baxis\": {\"endlinecolor\": \"#2a3f5f\", \"gridcolor\": \"white\", \"linecolor\": \"white\", \"minorgridcolor\": \"white\", \"startlinecolor\": \"#2a3f5f\"}, \"type\": \"carpet\"}], \"choropleth\": [{\"colorbar\": {\"outlinewidth\": 0, \"ticks\": \"\"}, \"type\": \"choropleth\"}], \"contour\": [{\"colorbar\": {\"outlinewidth\": 0, \"ticks\": \"\"}, \"colorscale\": [[0.0, \"#0d0887\"], [0.1111111111111111, \"#46039f\"], [0.2222222222222222, \"#7201a8\"], [0.3333333333333333, \"#9c179e\"], [0.4444444444444444, \"#bd3786\"], [0.5555555555555556, \"#d8576b\"], [0.6666666666666666, \"#ed7953\"], [0.7777777777777778, \"#fb9f3a\"], [0.8888888888888888, \"#fdca26\"], [1.0, \"#f0f921\"]], \"type\": \"contour\"}], \"contourcarpet\": [{\"colorbar\": {\"outlinewidth\": 0, \"ticks\": \"\"}, \"type\": \"contourcarpet\"}], \"heatmap\": [{\"colorbar\": {\"outlinewidth\": 0, \"ticks\": \"\"}, \"colorscale\": [[0.0, \"#0d0887\"], [0.1111111111111111, \"#46039f\"], [0.2222222222222222, \"#7201a8\"], [0.3333333333333333, \"#9c179e\"], [0.4444444444444444, \"#bd3786\"], [0.5555555555555556, \"#d8576b\"], [0.6666666666666666, \"#ed7953\"], [0.7777777777777778, \"#fb9f3a\"], [0.8888888888888888, \"#fdca26\"], [1.0, \"#f0f921\"]], \"type\": \"heatmap\"}], \"heatmapgl\": [{\"colorbar\": {\"outlinewidth\": 0, \"ticks\": \"\"}, \"colorscale\": [[0.0, \"#0d0887\"], [0.1111111111111111, \"#46039f\"], [0.2222222222222222, \"#7201a8\"], [0.3333333333333333, \"#9c179e\"], [0.4444444444444444, \"#bd3786\"], [0.5555555555555556, \"#d8576b\"], [0.6666666666666666, \"#ed7953\"], [0.7777777777777778, \"#fb9f3a\"], [0.8888888888888888, \"#fdca26\"], [1.0, \"#f0f921\"]], \"type\": \"heatmapgl\"}], \"histogram\": [{\"marker\": {\"colorbar\": {\"outlinewidth\": 0, \"ticks\": \"\"}}, \"type\": \"histogram\"}], \"histogram2d\": [{\"colorbar\": {\"outlinewidth\": 0, \"ticks\": \"\"}, \"colorscale\": [[0.0, \"#0d0887\"], [0.1111111111111111, \"#46039f\"], [0.2222222222222222, \"#7201a8\"], [0.3333333333333333, \"#9c179e\"], [0.4444444444444444, \"#bd3786\"], [0.5555555555555556, \"#d8576b\"], [0.6666666666666666, \"#ed7953\"], [0.7777777777777778, \"#fb9f3a\"], [0.8888888888888888, \"#fdca26\"], [1.0, \"#f0f921\"]], \"type\": \"histogram2d\"}], \"histogram2dcontour\": [{\"colorbar\": {\"outlinewidth\": 0, \"ticks\": \"\"}, \"colorscale\": [[0.0, \"#0d0887\"], [0.1111111111111111, \"#46039f\"], [0.2222222222222222, \"#7201a8\"], [0.3333333333333333, \"#9c179e\"], [0.4444444444444444, \"#bd3786\"], [0.5555555555555556, \"#d8576b\"], [0.6666666666666666, \"#ed7953\"], [0.7777777777777778, \"#fb9f3a\"], [0.8888888888888888, \"#fdca26\"], [1.0, \"#f0f921\"]], \"type\": \"histogram2dcontour\"}], \"mesh3d\": [{\"colorbar\": {\"outlinewidth\": 0, \"ticks\": \"\"}, \"type\": \"mesh3d\"}], \"parcoords\": [{\"line\": {\"colorbar\": {\"outlinewidth\": 0, \"ticks\": \"\"}}, \"type\": \"parcoords\"}], \"pie\": [{\"automargin\": true, \"type\": \"pie\"}], \"scatter\": [{\"marker\": {\"colorbar\": {\"outlinewidth\": 0, \"ticks\": \"\"}}, \"type\": \"scatter\"}], \"scatter3d\": [{\"line\": {\"colorbar\": {\"outlinewidth\": 0, \"ticks\": \"\"}}, \"marker\": {\"colorbar\": {\"outlinewidth\": 0, \"ticks\": \"\"}}, \"type\": \"scatter3d\"}], \"scattercarpet\": [{\"marker\": {\"colorbar\": {\"outlinewidth\": 0, \"ticks\": \"\"}}, \"type\": \"scattercarpet\"}], \"scattergeo\": [{\"marker\": {\"colorbar\": {\"outlinewidth\": 0, \"ticks\": \"\"}}, \"type\": \"scattergeo\"}], \"scattergl\": [{\"marker\": {\"colorbar\": {\"outlinewidth\": 0, \"ticks\": \"\"}}, \"type\": \"scattergl\"}], \"scattermapbox\": [{\"marker\": {\"colorbar\": {\"outlinewidth\": 0, \"ticks\": \"\"}}, \"type\": \"scattermapbox\"}], \"scatterpolar\": [{\"marker\": {\"colorbar\": {\"outlinewidth\": 0, \"ticks\": \"\"}}, \"type\": \"scatterpolar\"}], \"scatterpolargl\": [{\"marker\": {\"colorbar\": {\"outlinewidth\": 0, \"ticks\": \"\"}}, \"type\": \"scatterpolargl\"}], \"scatterternary\": [{\"marker\": {\"colorbar\": {\"outlinewidth\": 0, \"ticks\": \"\"}}, \"type\": \"scatterternary\"}], \"surface\": [{\"colorbar\": {\"outlinewidth\": 0, \"ticks\": \"\"}, \"colorscale\": [[0.0, \"#0d0887\"], [0.1111111111111111, \"#46039f\"], [0.2222222222222222, \"#7201a8\"], [0.3333333333333333, \"#9c179e\"], [0.4444444444444444, \"#bd3786\"], [0.5555555555555556, \"#d8576b\"], [0.6666666666666666, \"#ed7953\"], [0.7777777777777778, \"#fb9f3a\"], [0.8888888888888888, \"#fdca26\"], [1.0, \"#f0f921\"]], \"type\": \"surface\"}], \"table\": [{\"cells\": {\"fill\": {\"color\": \"#EBF0F8\"}, \"line\": {\"color\": \"white\"}}, \"header\": {\"fill\": {\"color\": \"#C8D4E3\"}, \"line\": {\"color\": \"white\"}}, \"type\": \"table\"}]}, \"layout\": {\"annotationdefaults\": {\"arrowcolor\": \"#2a3f5f\", \"arrowhead\": 0, \"arrowwidth\": 1}, \"coloraxis\": {\"colorbar\": {\"outlinewidth\": 0, \"ticks\": \"\"}}, \"colorscale\": {\"diverging\": [[0, \"#8e0152\"], [0.1, \"#c51b7d\"], [0.2, \"#de77ae\"], [0.3, \"#f1b6da\"], [0.4, \"#fde0ef\"], [0.5, \"#f7f7f7\"], [0.6, \"#e6f5d0\"], [0.7, \"#b8e186\"], [0.8, \"#7fbc41\"], [0.9, \"#4d9221\"], [1, \"#276419\"]], \"sequential\": [[0.0, \"#0d0887\"], [0.1111111111111111, \"#46039f\"], [0.2222222222222222, \"#7201a8\"], [0.3333333333333333, \"#9c179e\"], [0.4444444444444444, \"#bd3786\"], [0.5555555555555556, \"#d8576b\"], [0.6666666666666666, \"#ed7953\"], [0.7777777777777778, \"#fb9f3a\"], [0.8888888888888888, \"#fdca26\"], [1.0, \"#f0f921\"]], \"sequentialminus\": [[0.0, \"#0d0887\"], [0.1111111111111111, \"#46039f\"], [0.2222222222222222, \"#7201a8\"], [0.3333333333333333, \"#9c179e\"], [0.4444444444444444, \"#bd3786\"], [0.5555555555555556, \"#d8576b\"], [0.6666666666666666, \"#ed7953\"], [0.7777777777777778, \"#fb9f3a\"], [0.8888888888888888, \"#fdca26\"], [1.0, \"#f0f921\"]]}, \"colorway\": [\"#636efa\", \"#EF553B\", \"#00cc96\", \"#ab63fa\", \"#FFA15A\", \"#19d3f3\", \"#FF6692\", \"#B6E880\", \"#FF97FF\", \"#FECB52\"], \"font\": {\"color\": \"#2a3f5f\"}, \"geo\": {\"bgcolor\": \"white\", \"lakecolor\": \"white\", \"landcolor\": \"#E5ECF6\", \"showlakes\": true, \"showland\": true, \"subunitcolor\": \"white\"}, \"hoverlabel\": {\"align\": \"left\"}, \"hovermode\": \"closest\", \"mapbox\": {\"style\": \"light\"}, \"paper_bgcolor\": \"white\", \"plot_bgcolor\": \"#E5ECF6\", \"polar\": {\"angularaxis\": {\"gridcolor\": \"white\", \"linecolor\": \"white\", \"ticks\": \"\"}, \"bgcolor\": \"#E5ECF6\", \"radialaxis\": {\"gridcolor\": \"white\", \"linecolor\": \"white\", \"ticks\": \"\"}}, \"scene\": {\"xaxis\": {\"backgroundcolor\": \"#E5ECF6\", \"gridcolor\": \"white\", \"gridwidth\": 2, \"linecolor\": \"white\", \"showbackground\": true, \"ticks\": \"\", \"zerolinecolor\": \"white\"}, \"yaxis\": {\"backgroundcolor\": \"#E5ECF6\", \"gridcolor\": \"white\", \"gridwidth\": 2, \"linecolor\": \"white\", \"showbackground\": true, \"ticks\": \"\", \"zerolinecolor\": \"white\"}, \"zaxis\": {\"backgroundcolor\": \"#E5ECF6\", \"gridcolor\": \"white\", \"gridwidth\": 2, \"linecolor\": \"white\", \"showbackground\": true, \"ticks\": \"\", \"zerolinecolor\": \"white\"}}, \"shapedefaults\": {\"line\": {\"color\": \"#2a3f5f\"}}, \"ternary\": {\"aaxis\": {\"gridcolor\": \"white\", \"linecolor\": \"white\", \"ticks\": \"\"}, \"baxis\": {\"gridcolor\": \"white\", \"linecolor\": \"white\", \"ticks\": \"\"}, \"bgcolor\": \"#E5ECF6\", \"caxis\": {\"gridcolor\": \"white\", \"linecolor\": \"white\", \"ticks\": \"\"}}, \"title\": {\"x\": 0.05}, \"xaxis\": {\"automargin\": true, \"gridcolor\": \"white\", \"linecolor\": \"white\", \"ticks\": \"\", \"title\": {\"standoff\": 15}, \"zerolinecolor\": \"white\", \"zerolinewidth\": 2}, \"yaxis\": {\"automargin\": true, \"gridcolor\": \"white\", \"linecolor\": \"white\", \"ticks\": \"\", \"title\": {\"standoff\": 15}, \"zerolinecolor\": \"white\", \"zerolinewidth\": 2}}}, \"title\": {\"font\": {\"color\": \"#4D5663\"}}, \"xaxis\": {\"gridcolor\": \"#E1E5ED\", \"showgrid\": true, \"tickfont\": {\"color\": \"#4D5663\"}, \"title\": {\"font\": {\"color\": \"#4D5663\"}, \"text\": \"\"}, \"zerolinecolor\": \"#E1E5ED\"}, \"yaxis\": {\"gridcolor\": \"#E1E5ED\", \"showgrid\": true, \"tickfont\": {\"color\": \"#4D5663\"}, \"title\": {\"font\": {\"color\": \"#4D5663\"}, \"text\": \"\"}, \"zerolinecolor\": \"#E1E5ED\"}},                        {\"showLink\": true, \"linkText\": \"Export to plot.ly\", \"plotlyServerURL\": \"https://plot.ly\", \"responsive\": true}                    ).then(function(){\n",
       "                            \n",
       "var gd = document.getElementById('aca0bb7c-4e32-46a1-b0d1-a3a14bdee9a0');\n",
       "var x = new MutationObserver(function (mutations, observer) {{\n",
       "        var display = window.getComputedStyle(gd).display;\n",
       "        if (!display || display === 'none') {{\n",
       "            console.log([gd, 'removed!']);\n",
       "            Plotly.purge(gd);\n",
       "            observer.disconnect();\n",
       "        }}\n",
       "}});\n",
       "\n",
       "// Listen for the removal of the full notebook cells\n",
       "var notebookContainer = gd.closest('#notebook-container');\n",
       "if (notebookContainer) {{\n",
       "    x.observe(notebookContainer, {childList: true});\n",
       "}}\n",
       "\n",
       "// Listen for the clearing of the current output cell\n",
       "var outputEl = gd.closest('.output');\n",
       "if (outputEl) {{\n",
       "    x.observe(outputEl, {childList: true});\n",
       "}}\n",
       "\n",
       "                        })                };                });            </script>        </div>"
      ]
     },
     "metadata": {},
     "output_type": "display_data"
    }
   ],
   "source": [
    "df.iplot(kind='box')"
   ]
  },
  {
   "cell_type": "markdown",
   "metadata": {},
   "source": [
    "### 3D Oberfläche"
   ]
  },
  {
   "cell_type": "code",
   "execution_count": 14,
   "metadata": {},
   "outputs": [
    {
     "data": {
      "application/vnd.plotly.v1+json": {
       "config": {
        "linkText": "Export to plot.ly",
        "plotlyServerURL": "https://plot.ly",
        "showLink": true
       },
       "data": [
        {
         "colorscale": [
          [
           0,
           "rgb(165,0,38)"
          ],
          [
           0.1,
           "rgb(215,48,39)"
          ],
          [
           0.2,
           "rgb(244,109,67)"
          ],
          [
           0.3,
           "rgb(253,174,97)"
          ],
          [
           0.4,
           "rgb(254,224,144)"
          ],
          [
           0.5,
           "rgb(255,255,191)"
          ],
          [
           0.6,
           "rgb(224,243,248)"
          ],
          [
           0.7,
           "rgb(171,217,233)"
          ],
          [
           0.8,
           "rgb(116,173,209)"
          ],
          [
           0.9,
           "rgb(69,117,180)"
          ],
          [
           1,
           "rgb(49,54,149)"
          ]
         ],
         "type": "surface",
         "x": [
          0,
          1,
          2,
          3,
          4
         ],
         "y": [
          "x",
          "y",
          "z"
         ],
         "z": [
          [
           1,
           2,
           3,
           4,
           5
          ],
          [
           10,
           20,
           30,
           20,
           10
          ],
          [
           5,
           4,
           3,
           2,
           1
          ]
         ]
        }
       ],
       "layout": {
        "legend": {
         "bgcolor": "#F5F6F9",
         "font": {
          "color": "#4D5663"
         }
        },
        "paper_bgcolor": "#F5F6F9",
        "plot_bgcolor": "#F5F6F9",
        "template": {
         "data": {
          "bar": [
           {
            "error_x": {
             "color": "#2a3f5f"
            },
            "error_y": {
             "color": "#2a3f5f"
            },
            "marker": {
             "line": {
              "color": "#E5ECF6",
              "width": 0.5
             }
            },
            "type": "bar"
           }
          ],
          "barpolar": [
           {
            "marker": {
             "line": {
              "color": "#E5ECF6",
              "width": 0.5
             }
            },
            "type": "barpolar"
           }
          ],
          "carpet": [
           {
            "aaxis": {
             "endlinecolor": "#2a3f5f",
             "gridcolor": "white",
             "linecolor": "white",
             "minorgridcolor": "white",
             "startlinecolor": "#2a3f5f"
            },
            "baxis": {
             "endlinecolor": "#2a3f5f",
             "gridcolor": "white",
             "linecolor": "white",
             "minorgridcolor": "white",
             "startlinecolor": "#2a3f5f"
            },
            "type": "carpet"
           }
          ],
          "choropleth": [
           {
            "colorbar": {
             "outlinewidth": 0,
             "ticks": ""
            },
            "type": "choropleth"
           }
          ],
          "contour": [
           {
            "colorbar": {
             "outlinewidth": 0,
             "ticks": ""
            },
            "colorscale": [
             [
              0,
              "#0d0887"
             ],
             [
              0.1111111111111111,
              "#46039f"
             ],
             [
              0.2222222222222222,
              "#7201a8"
             ],
             [
              0.3333333333333333,
              "#9c179e"
             ],
             [
              0.4444444444444444,
              "#bd3786"
             ],
             [
              0.5555555555555556,
              "#d8576b"
             ],
             [
              0.6666666666666666,
              "#ed7953"
             ],
             [
              0.7777777777777778,
              "#fb9f3a"
             ],
             [
              0.8888888888888888,
              "#fdca26"
             ],
             [
              1,
              "#f0f921"
             ]
            ],
            "type": "contour"
           }
          ],
          "contourcarpet": [
           {
            "colorbar": {
             "outlinewidth": 0,
             "ticks": ""
            },
            "type": "contourcarpet"
           }
          ],
          "heatmap": [
           {
            "colorbar": {
             "outlinewidth": 0,
             "ticks": ""
            },
            "colorscale": [
             [
              0,
              "#0d0887"
             ],
             [
              0.1111111111111111,
              "#46039f"
             ],
             [
              0.2222222222222222,
              "#7201a8"
             ],
             [
              0.3333333333333333,
              "#9c179e"
             ],
             [
              0.4444444444444444,
              "#bd3786"
             ],
             [
              0.5555555555555556,
              "#d8576b"
             ],
             [
              0.6666666666666666,
              "#ed7953"
             ],
             [
              0.7777777777777778,
              "#fb9f3a"
             ],
             [
              0.8888888888888888,
              "#fdca26"
             ],
             [
              1,
              "#f0f921"
             ]
            ],
            "type": "heatmap"
           }
          ],
          "heatmapgl": [
           {
            "colorbar": {
             "outlinewidth": 0,
             "ticks": ""
            },
            "colorscale": [
             [
              0,
              "#0d0887"
             ],
             [
              0.1111111111111111,
              "#46039f"
             ],
             [
              0.2222222222222222,
              "#7201a8"
             ],
             [
              0.3333333333333333,
              "#9c179e"
             ],
             [
              0.4444444444444444,
              "#bd3786"
             ],
             [
              0.5555555555555556,
              "#d8576b"
             ],
             [
              0.6666666666666666,
              "#ed7953"
             ],
             [
              0.7777777777777778,
              "#fb9f3a"
             ],
             [
              0.8888888888888888,
              "#fdca26"
             ],
             [
              1,
              "#f0f921"
             ]
            ],
            "type": "heatmapgl"
           }
          ],
          "histogram": [
           {
            "marker": {
             "colorbar": {
              "outlinewidth": 0,
              "ticks": ""
             }
            },
            "type": "histogram"
           }
          ],
          "histogram2d": [
           {
            "colorbar": {
             "outlinewidth": 0,
             "ticks": ""
            },
            "colorscale": [
             [
              0,
              "#0d0887"
             ],
             [
              0.1111111111111111,
              "#46039f"
             ],
             [
              0.2222222222222222,
              "#7201a8"
             ],
             [
              0.3333333333333333,
              "#9c179e"
             ],
             [
              0.4444444444444444,
              "#bd3786"
             ],
             [
              0.5555555555555556,
              "#d8576b"
             ],
             [
              0.6666666666666666,
              "#ed7953"
             ],
             [
              0.7777777777777778,
              "#fb9f3a"
             ],
             [
              0.8888888888888888,
              "#fdca26"
             ],
             [
              1,
              "#f0f921"
             ]
            ],
            "type": "histogram2d"
           }
          ],
          "histogram2dcontour": [
           {
            "colorbar": {
             "outlinewidth": 0,
             "ticks": ""
            },
            "colorscale": [
             [
              0,
              "#0d0887"
             ],
             [
              0.1111111111111111,
              "#46039f"
             ],
             [
              0.2222222222222222,
              "#7201a8"
             ],
             [
              0.3333333333333333,
              "#9c179e"
             ],
             [
              0.4444444444444444,
              "#bd3786"
             ],
             [
              0.5555555555555556,
              "#d8576b"
             ],
             [
              0.6666666666666666,
              "#ed7953"
             ],
             [
              0.7777777777777778,
              "#fb9f3a"
             ],
             [
              0.8888888888888888,
              "#fdca26"
             ],
             [
              1,
              "#f0f921"
             ]
            ],
            "type": "histogram2dcontour"
           }
          ],
          "mesh3d": [
           {
            "colorbar": {
             "outlinewidth": 0,
             "ticks": ""
            },
            "type": "mesh3d"
           }
          ],
          "parcoords": [
           {
            "line": {
             "colorbar": {
              "outlinewidth": 0,
              "ticks": ""
             }
            },
            "type": "parcoords"
           }
          ],
          "pie": [
           {
            "automargin": true,
            "type": "pie"
           }
          ],
          "scatter": [
           {
            "marker": {
             "colorbar": {
              "outlinewidth": 0,
              "ticks": ""
             }
            },
            "type": "scatter"
           }
          ],
          "scatter3d": [
           {
            "line": {
             "colorbar": {
              "outlinewidth": 0,
              "ticks": ""
             }
            },
            "marker": {
             "colorbar": {
              "outlinewidth": 0,
              "ticks": ""
             }
            },
            "type": "scatter3d"
           }
          ],
          "scattercarpet": [
           {
            "marker": {
             "colorbar": {
              "outlinewidth": 0,
              "ticks": ""
             }
            },
            "type": "scattercarpet"
           }
          ],
          "scattergeo": [
           {
            "marker": {
             "colorbar": {
              "outlinewidth": 0,
              "ticks": ""
             }
            },
            "type": "scattergeo"
           }
          ],
          "scattergl": [
           {
            "marker": {
             "colorbar": {
              "outlinewidth": 0,
              "ticks": ""
             }
            },
            "type": "scattergl"
           }
          ],
          "scattermapbox": [
           {
            "marker": {
             "colorbar": {
              "outlinewidth": 0,
              "ticks": ""
             }
            },
            "type": "scattermapbox"
           }
          ],
          "scatterpolar": [
           {
            "marker": {
             "colorbar": {
              "outlinewidth": 0,
              "ticks": ""
             }
            },
            "type": "scatterpolar"
           }
          ],
          "scatterpolargl": [
           {
            "marker": {
             "colorbar": {
              "outlinewidth": 0,
              "ticks": ""
             }
            },
            "type": "scatterpolargl"
           }
          ],
          "scatterternary": [
           {
            "marker": {
             "colorbar": {
              "outlinewidth": 0,
              "ticks": ""
             }
            },
            "type": "scatterternary"
           }
          ],
          "surface": [
           {
            "colorbar": {
             "outlinewidth": 0,
             "ticks": ""
            },
            "colorscale": [
             [
              0,
              "#0d0887"
             ],
             [
              0.1111111111111111,
              "#46039f"
             ],
             [
              0.2222222222222222,
              "#7201a8"
             ],
             [
              0.3333333333333333,
              "#9c179e"
             ],
             [
              0.4444444444444444,
              "#bd3786"
             ],
             [
              0.5555555555555556,
              "#d8576b"
             ],
             [
              0.6666666666666666,
              "#ed7953"
             ],
             [
              0.7777777777777778,
              "#fb9f3a"
             ],
             [
              0.8888888888888888,
              "#fdca26"
             ],
             [
              1,
              "#f0f921"
             ]
            ],
            "type": "surface"
           }
          ],
          "table": [
           {
            "cells": {
             "fill": {
              "color": "#EBF0F8"
             },
             "line": {
              "color": "white"
             }
            },
            "header": {
             "fill": {
              "color": "#C8D4E3"
             },
             "line": {
              "color": "white"
             }
            },
            "type": "table"
           }
          ]
         },
         "layout": {
          "annotationdefaults": {
           "arrowcolor": "#2a3f5f",
           "arrowhead": 0,
           "arrowwidth": 1
          },
          "coloraxis": {
           "colorbar": {
            "outlinewidth": 0,
            "ticks": ""
           }
          },
          "colorscale": {
           "diverging": [
            [
             0,
             "#8e0152"
            ],
            [
             0.1,
             "#c51b7d"
            ],
            [
             0.2,
             "#de77ae"
            ],
            [
             0.3,
             "#f1b6da"
            ],
            [
             0.4,
             "#fde0ef"
            ],
            [
             0.5,
             "#f7f7f7"
            ],
            [
             0.6,
             "#e6f5d0"
            ],
            [
             0.7,
             "#b8e186"
            ],
            [
             0.8,
             "#7fbc41"
            ],
            [
             0.9,
             "#4d9221"
            ],
            [
             1,
             "#276419"
            ]
           ],
           "sequential": [
            [
             0,
             "#0d0887"
            ],
            [
             0.1111111111111111,
             "#46039f"
            ],
            [
             0.2222222222222222,
             "#7201a8"
            ],
            [
             0.3333333333333333,
             "#9c179e"
            ],
            [
             0.4444444444444444,
             "#bd3786"
            ],
            [
             0.5555555555555556,
             "#d8576b"
            ],
            [
             0.6666666666666666,
             "#ed7953"
            ],
            [
             0.7777777777777778,
             "#fb9f3a"
            ],
            [
             0.8888888888888888,
             "#fdca26"
            ],
            [
             1,
             "#f0f921"
            ]
           ],
           "sequentialminus": [
            [
             0,
             "#0d0887"
            ],
            [
             0.1111111111111111,
             "#46039f"
            ],
            [
             0.2222222222222222,
             "#7201a8"
            ],
            [
             0.3333333333333333,
             "#9c179e"
            ],
            [
             0.4444444444444444,
             "#bd3786"
            ],
            [
             0.5555555555555556,
             "#d8576b"
            ],
            [
             0.6666666666666666,
             "#ed7953"
            ],
            [
             0.7777777777777778,
             "#fb9f3a"
            ],
            [
             0.8888888888888888,
             "#fdca26"
            ],
            [
             1,
             "#f0f921"
            ]
           ]
          },
          "colorway": [
           "#636efa",
           "#EF553B",
           "#00cc96",
           "#ab63fa",
           "#FFA15A",
           "#19d3f3",
           "#FF6692",
           "#B6E880",
           "#FF97FF",
           "#FECB52"
          ],
          "font": {
           "color": "#2a3f5f"
          },
          "geo": {
           "bgcolor": "white",
           "lakecolor": "white",
           "landcolor": "#E5ECF6",
           "showlakes": true,
           "showland": true,
           "subunitcolor": "white"
          },
          "hoverlabel": {
           "align": "left"
          },
          "hovermode": "closest",
          "mapbox": {
           "style": "light"
          },
          "paper_bgcolor": "white",
          "plot_bgcolor": "#E5ECF6",
          "polar": {
           "angularaxis": {
            "gridcolor": "white",
            "linecolor": "white",
            "ticks": ""
           },
           "bgcolor": "#E5ECF6",
           "radialaxis": {
            "gridcolor": "white",
            "linecolor": "white",
            "ticks": ""
           }
          },
          "scene": {
           "xaxis": {
            "backgroundcolor": "#E5ECF6",
            "gridcolor": "white",
            "gridwidth": 2,
            "linecolor": "white",
            "showbackground": true,
            "ticks": "",
            "zerolinecolor": "white"
           },
           "yaxis": {
            "backgroundcolor": "#E5ECF6",
            "gridcolor": "white",
            "gridwidth": 2,
            "linecolor": "white",
            "showbackground": true,
            "ticks": "",
            "zerolinecolor": "white"
           },
           "zaxis": {
            "backgroundcolor": "#E5ECF6",
            "gridcolor": "white",
            "gridwidth": 2,
            "linecolor": "white",
            "showbackground": true,
            "ticks": "",
            "zerolinecolor": "white"
           }
          },
          "shapedefaults": {
           "line": {
            "color": "#2a3f5f"
           }
          },
          "ternary": {
           "aaxis": {
            "gridcolor": "white",
            "linecolor": "white",
            "ticks": ""
           },
           "baxis": {
            "gridcolor": "white",
            "linecolor": "white",
            "ticks": ""
           },
           "bgcolor": "#E5ECF6",
           "caxis": {
            "gridcolor": "white",
            "linecolor": "white",
            "ticks": ""
           }
          },
          "title": {
           "x": 0.05
          },
          "xaxis": {
           "automargin": true,
           "gridcolor": "white",
           "linecolor": "white",
           "ticks": "",
           "title": {
            "standoff": 15
           },
           "zerolinecolor": "white",
           "zerolinewidth": 2
          },
          "yaxis": {
           "automargin": true,
           "gridcolor": "white",
           "linecolor": "white",
           "ticks": "",
           "title": {
            "standoff": 15
           },
           "zerolinecolor": "white",
           "zerolinewidth": 2
          }
         }
        },
        "title": {
         "font": {
          "color": "#4D5663"
         }
        },
        "xaxis": {
         "gridcolor": "#E1E5ED",
         "showgrid": true,
         "tickfont": {
          "color": "#4D5663"
         },
         "title": {
          "font": {
           "color": "#4D5663"
          },
          "text": ""
         },
         "zerolinecolor": "#E1E5ED"
        },
        "yaxis": {
         "gridcolor": "#E1E5ED",
         "showgrid": true,
         "tickfont": {
          "color": "#4D5663"
         },
         "title": {
          "font": {
           "color": "#4D5663"
          },
          "text": ""
         },
         "zerolinecolor": "#E1E5ED"
        }
       }
      },
      "text/html": [
       "<div>                            <div id=\"1e1bef0b-a46e-4185-8e63-b2441ff25962\" class=\"plotly-graph-div\" style=\"height:525px; width:100%;\"></div>            <script type=\"text/javascript\">                require([\"plotly\"], function(Plotly) {                    window.PLOTLYENV=window.PLOTLYENV || {};\n",
       "                    window.PLOTLYENV.BASE_URL='https://plot.ly';                                    if (document.getElementById(\"1e1bef0b-a46e-4185-8e63-b2441ff25962\")) {                    Plotly.newPlot(                        \"1e1bef0b-a46e-4185-8e63-b2441ff25962\",                        [{\"colorscale\": [[0.0, \"rgb(165,0,38)\"], [0.1, \"rgb(215,48,39)\"], [0.2, \"rgb(244,109,67)\"], [0.3, \"rgb(253,174,97)\"], [0.4, \"rgb(254,224,144)\"], [0.5, \"rgb(255,255,191)\"], [0.6, \"rgb(224,243,248)\"], [0.7, \"rgb(171,217,233)\"], [0.8, \"rgb(116,173,209)\"], [0.9, \"rgb(69,117,180)\"], [1.0, \"rgb(49,54,149)\"]], \"type\": \"surface\", \"x\": [0, 1, 2, 3, 4], \"y\": [\"x\", \"y\", \"z\"], \"z\": [[1, 2, 3, 4, 5], [10, 20, 30, 20, 10], [5, 4, 3, 2, 1]]}],                        {\"legend\": {\"bgcolor\": \"#F5F6F9\", \"font\": {\"color\": \"#4D5663\"}}, \"paper_bgcolor\": \"#F5F6F9\", \"plot_bgcolor\": \"#F5F6F9\", \"template\": {\"data\": {\"bar\": [{\"error_x\": {\"color\": \"#2a3f5f\"}, \"error_y\": {\"color\": \"#2a3f5f\"}, \"marker\": {\"line\": {\"color\": \"#E5ECF6\", \"width\": 0.5}}, \"type\": \"bar\"}], \"barpolar\": [{\"marker\": {\"line\": {\"color\": \"#E5ECF6\", \"width\": 0.5}}, \"type\": \"barpolar\"}], \"carpet\": [{\"aaxis\": {\"endlinecolor\": \"#2a3f5f\", \"gridcolor\": \"white\", \"linecolor\": \"white\", \"minorgridcolor\": \"white\", \"startlinecolor\": \"#2a3f5f\"}, \"baxis\": {\"endlinecolor\": \"#2a3f5f\", \"gridcolor\": \"white\", \"linecolor\": \"white\", \"minorgridcolor\": \"white\", \"startlinecolor\": \"#2a3f5f\"}, \"type\": \"carpet\"}], \"choropleth\": [{\"colorbar\": {\"outlinewidth\": 0, \"ticks\": \"\"}, \"type\": \"choropleth\"}], \"contour\": [{\"colorbar\": {\"outlinewidth\": 0, \"ticks\": \"\"}, \"colorscale\": [[0.0, \"#0d0887\"], [0.1111111111111111, \"#46039f\"], [0.2222222222222222, \"#7201a8\"], [0.3333333333333333, \"#9c179e\"], [0.4444444444444444, \"#bd3786\"], [0.5555555555555556, \"#d8576b\"], [0.6666666666666666, \"#ed7953\"], [0.7777777777777778, \"#fb9f3a\"], [0.8888888888888888, \"#fdca26\"], [1.0, \"#f0f921\"]], \"type\": \"contour\"}], \"contourcarpet\": [{\"colorbar\": {\"outlinewidth\": 0, \"ticks\": \"\"}, \"type\": \"contourcarpet\"}], \"heatmap\": [{\"colorbar\": {\"outlinewidth\": 0, \"ticks\": \"\"}, \"colorscale\": [[0.0, \"#0d0887\"], [0.1111111111111111, \"#46039f\"], [0.2222222222222222, \"#7201a8\"], [0.3333333333333333, \"#9c179e\"], [0.4444444444444444, \"#bd3786\"], [0.5555555555555556, \"#d8576b\"], [0.6666666666666666, \"#ed7953\"], [0.7777777777777778, \"#fb9f3a\"], [0.8888888888888888, \"#fdca26\"], [1.0, \"#f0f921\"]], \"type\": \"heatmap\"}], \"heatmapgl\": [{\"colorbar\": {\"outlinewidth\": 0, \"ticks\": \"\"}, \"colorscale\": [[0.0, \"#0d0887\"], [0.1111111111111111, \"#46039f\"], [0.2222222222222222, \"#7201a8\"], [0.3333333333333333, \"#9c179e\"], [0.4444444444444444, \"#bd3786\"], [0.5555555555555556, \"#d8576b\"], [0.6666666666666666, \"#ed7953\"], [0.7777777777777778, \"#fb9f3a\"], [0.8888888888888888, \"#fdca26\"], [1.0, \"#f0f921\"]], \"type\": \"heatmapgl\"}], \"histogram\": [{\"marker\": {\"colorbar\": {\"outlinewidth\": 0, \"ticks\": \"\"}}, \"type\": \"histogram\"}], \"histogram2d\": [{\"colorbar\": {\"outlinewidth\": 0, \"ticks\": \"\"}, \"colorscale\": [[0.0, \"#0d0887\"], [0.1111111111111111, \"#46039f\"], [0.2222222222222222, \"#7201a8\"], [0.3333333333333333, \"#9c179e\"], [0.4444444444444444, \"#bd3786\"], [0.5555555555555556, \"#d8576b\"], [0.6666666666666666, \"#ed7953\"], [0.7777777777777778, \"#fb9f3a\"], [0.8888888888888888, \"#fdca26\"], [1.0, \"#f0f921\"]], \"type\": \"histogram2d\"}], \"histogram2dcontour\": [{\"colorbar\": {\"outlinewidth\": 0, \"ticks\": \"\"}, \"colorscale\": [[0.0, \"#0d0887\"], [0.1111111111111111, \"#46039f\"], [0.2222222222222222, \"#7201a8\"], [0.3333333333333333, \"#9c179e\"], [0.4444444444444444, \"#bd3786\"], [0.5555555555555556, \"#d8576b\"], [0.6666666666666666, \"#ed7953\"], [0.7777777777777778, \"#fb9f3a\"], [0.8888888888888888, \"#fdca26\"], [1.0, \"#f0f921\"]], \"type\": \"histogram2dcontour\"}], \"mesh3d\": [{\"colorbar\": {\"outlinewidth\": 0, \"ticks\": \"\"}, \"type\": \"mesh3d\"}], \"parcoords\": [{\"line\": {\"colorbar\": {\"outlinewidth\": 0, \"ticks\": \"\"}}, \"type\": \"parcoords\"}], \"pie\": [{\"automargin\": true, \"type\": \"pie\"}], \"scatter\": [{\"marker\": {\"colorbar\": {\"outlinewidth\": 0, \"ticks\": \"\"}}, \"type\": \"scatter\"}], \"scatter3d\": [{\"line\": {\"colorbar\": {\"outlinewidth\": 0, \"ticks\": \"\"}}, \"marker\": {\"colorbar\": {\"outlinewidth\": 0, \"ticks\": \"\"}}, \"type\": \"scatter3d\"}], \"scattercarpet\": [{\"marker\": {\"colorbar\": {\"outlinewidth\": 0, \"ticks\": \"\"}}, \"type\": \"scattercarpet\"}], \"scattergeo\": [{\"marker\": {\"colorbar\": {\"outlinewidth\": 0, \"ticks\": \"\"}}, \"type\": \"scattergeo\"}], \"scattergl\": [{\"marker\": {\"colorbar\": {\"outlinewidth\": 0, \"ticks\": \"\"}}, \"type\": \"scattergl\"}], \"scattermapbox\": [{\"marker\": {\"colorbar\": {\"outlinewidth\": 0, \"ticks\": \"\"}}, \"type\": \"scattermapbox\"}], \"scatterpolar\": [{\"marker\": {\"colorbar\": {\"outlinewidth\": 0, \"ticks\": \"\"}}, \"type\": \"scatterpolar\"}], \"scatterpolargl\": [{\"marker\": {\"colorbar\": {\"outlinewidth\": 0, \"ticks\": \"\"}}, \"type\": \"scatterpolargl\"}], \"scatterternary\": [{\"marker\": {\"colorbar\": {\"outlinewidth\": 0, \"ticks\": \"\"}}, \"type\": \"scatterternary\"}], \"surface\": [{\"colorbar\": {\"outlinewidth\": 0, \"ticks\": \"\"}, \"colorscale\": [[0.0, \"#0d0887\"], [0.1111111111111111, \"#46039f\"], [0.2222222222222222, \"#7201a8\"], [0.3333333333333333, \"#9c179e\"], [0.4444444444444444, \"#bd3786\"], [0.5555555555555556, \"#d8576b\"], [0.6666666666666666, \"#ed7953\"], [0.7777777777777778, \"#fb9f3a\"], [0.8888888888888888, \"#fdca26\"], [1.0, \"#f0f921\"]], \"type\": \"surface\"}], \"table\": [{\"cells\": {\"fill\": {\"color\": \"#EBF0F8\"}, \"line\": {\"color\": \"white\"}}, \"header\": {\"fill\": {\"color\": \"#C8D4E3\"}, \"line\": {\"color\": \"white\"}}, \"type\": \"table\"}]}, \"layout\": {\"annotationdefaults\": {\"arrowcolor\": \"#2a3f5f\", \"arrowhead\": 0, \"arrowwidth\": 1}, \"coloraxis\": {\"colorbar\": {\"outlinewidth\": 0, \"ticks\": \"\"}}, \"colorscale\": {\"diverging\": [[0, \"#8e0152\"], [0.1, \"#c51b7d\"], [0.2, \"#de77ae\"], [0.3, \"#f1b6da\"], [0.4, \"#fde0ef\"], [0.5, \"#f7f7f7\"], [0.6, \"#e6f5d0\"], [0.7, \"#b8e186\"], [0.8, \"#7fbc41\"], [0.9, \"#4d9221\"], [1, \"#276419\"]], \"sequential\": [[0.0, \"#0d0887\"], [0.1111111111111111, \"#46039f\"], [0.2222222222222222, \"#7201a8\"], [0.3333333333333333, \"#9c179e\"], [0.4444444444444444, \"#bd3786\"], [0.5555555555555556, \"#d8576b\"], [0.6666666666666666, \"#ed7953\"], [0.7777777777777778, \"#fb9f3a\"], [0.8888888888888888, \"#fdca26\"], [1.0, \"#f0f921\"]], \"sequentialminus\": [[0.0, \"#0d0887\"], [0.1111111111111111, \"#46039f\"], [0.2222222222222222, \"#7201a8\"], [0.3333333333333333, \"#9c179e\"], [0.4444444444444444, \"#bd3786\"], [0.5555555555555556, \"#d8576b\"], [0.6666666666666666, \"#ed7953\"], [0.7777777777777778, \"#fb9f3a\"], [0.8888888888888888, \"#fdca26\"], [1.0, \"#f0f921\"]]}, \"colorway\": [\"#636efa\", \"#EF553B\", \"#00cc96\", \"#ab63fa\", \"#FFA15A\", \"#19d3f3\", \"#FF6692\", \"#B6E880\", \"#FF97FF\", \"#FECB52\"], \"font\": {\"color\": \"#2a3f5f\"}, \"geo\": {\"bgcolor\": \"white\", \"lakecolor\": \"white\", \"landcolor\": \"#E5ECF6\", \"showlakes\": true, \"showland\": true, \"subunitcolor\": \"white\"}, \"hoverlabel\": {\"align\": \"left\"}, \"hovermode\": \"closest\", \"mapbox\": {\"style\": \"light\"}, \"paper_bgcolor\": \"white\", \"plot_bgcolor\": \"#E5ECF6\", \"polar\": {\"angularaxis\": {\"gridcolor\": \"white\", \"linecolor\": \"white\", \"ticks\": \"\"}, \"bgcolor\": \"#E5ECF6\", \"radialaxis\": {\"gridcolor\": \"white\", \"linecolor\": \"white\", \"ticks\": \"\"}}, \"scene\": {\"xaxis\": {\"backgroundcolor\": \"#E5ECF6\", \"gridcolor\": \"white\", \"gridwidth\": 2, \"linecolor\": \"white\", \"showbackground\": true, \"ticks\": \"\", \"zerolinecolor\": \"white\"}, \"yaxis\": {\"backgroundcolor\": \"#E5ECF6\", \"gridcolor\": \"white\", \"gridwidth\": 2, \"linecolor\": \"white\", \"showbackground\": true, \"ticks\": \"\", \"zerolinecolor\": \"white\"}, \"zaxis\": {\"backgroundcolor\": \"#E5ECF6\", \"gridcolor\": \"white\", \"gridwidth\": 2, \"linecolor\": \"white\", \"showbackground\": true, \"ticks\": \"\", \"zerolinecolor\": \"white\"}}, \"shapedefaults\": {\"line\": {\"color\": \"#2a3f5f\"}}, \"ternary\": {\"aaxis\": {\"gridcolor\": \"white\", \"linecolor\": \"white\", \"ticks\": \"\"}, \"baxis\": {\"gridcolor\": \"white\", \"linecolor\": \"white\", \"ticks\": \"\"}, \"bgcolor\": \"#E5ECF6\", \"caxis\": {\"gridcolor\": \"white\", \"linecolor\": \"white\", \"ticks\": \"\"}}, \"title\": {\"x\": 0.05}, \"xaxis\": {\"automargin\": true, \"gridcolor\": \"white\", \"linecolor\": \"white\", \"ticks\": \"\", \"title\": {\"standoff\": 15}, \"zerolinecolor\": \"white\", \"zerolinewidth\": 2}, \"yaxis\": {\"automargin\": true, \"gridcolor\": \"white\", \"linecolor\": \"white\", \"ticks\": \"\", \"title\": {\"standoff\": 15}, \"zerolinecolor\": \"white\", \"zerolinewidth\": 2}}}, \"title\": {\"font\": {\"color\": \"#4D5663\"}}, \"xaxis\": {\"gridcolor\": \"#E1E5ED\", \"showgrid\": true, \"tickfont\": {\"color\": \"#4D5663\"}, \"title\": {\"font\": {\"color\": \"#4D5663\"}, \"text\": \"\"}, \"zerolinecolor\": \"#E1E5ED\"}, \"yaxis\": {\"gridcolor\": \"#E1E5ED\", \"showgrid\": true, \"tickfont\": {\"color\": \"#4D5663\"}, \"title\": {\"font\": {\"color\": \"#4D5663\"}, \"text\": \"\"}, \"zerolinecolor\": \"#E1E5ED\"}},                        {\"showLink\": true, \"linkText\": \"Export to plot.ly\", \"plotlyServerURL\": \"https://plot.ly\", \"responsive\": true}                    ).then(function(){\n",
       "                            \n",
       "var gd = document.getElementById('1e1bef0b-a46e-4185-8e63-b2441ff25962');\n",
       "var x = new MutationObserver(function (mutations, observer) {{\n",
       "        var display = window.getComputedStyle(gd).display;\n",
       "        if (!display || display === 'none') {{\n",
       "            console.log([gd, 'removed!']);\n",
       "            Plotly.purge(gd);\n",
       "            observer.disconnect();\n",
       "        }}\n",
       "}});\n",
       "\n",
       "// Listen for the removal of the full notebook cells\n",
       "var notebookContainer = gd.closest('#notebook-container');\n",
       "if (notebookContainer) {{\n",
       "    x.observe(notebookContainer, {childList: true});\n",
       "}}\n",
       "\n",
       "// Listen for the clearing of the current output cell\n",
       "var outputEl = gd.closest('.output');\n",
       "if (outputEl) {{\n",
       "    x.observe(outputEl, {childList: true});\n",
       "}}\n",
       "\n",
       "                        })                };                });            </script>        </div>"
      ]
     },
     "metadata": {},
     "output_type": "display_data"
    }
   ],
   "source": [
    "df3 = pd.DataFrame({'x':[1,2,3,4,5],'y':[10,20,30,20,10],'z':[5,4,3,2,1]})\n",
    "df3.iplot(kind='surface',colorscale='rdylbu')"
   ]
  },
  {
   "cell_type": "markdown",
   "metadata": {},
   "source": [
    "### Spread"
   ]
  },
  {
   "cell_type": "code",
   "execution_count": 19,
   "metadata": {},
   "outputs": [
    {
     "data": {
      "application/vnd.plotly.v1+json": {
       "config": {
        "linkText": "Export to plot.ly",
        "plotlyServerURL": "https://plot.ly",
        "showLink": true
       },
       "data": [
        {
         "line": {
          "color": "rgba(255, 153, 51, 1.0)",
          "dash": "solid",
          "shape": "linear",
          "width": 1.3
         },
         "mode": "lines",
         "name": "A",
         "text": "",
         "type": "scatter",
         "x": [
          0,
          1,
          2,
          3,
          4,
          5,
          6,
          7,
          8,
          9,
          10,
          11,
          12,
          13,
          14,
          15,
          16,
          17,
          18,
          19,
          20,
          21,
          22,
          23,
          24,
          25,
          26,
          27,
          28,
          29,
          30,
          31,
          32,
          33,
          34,
          35,
          36,
          37,
          38,
          39,
          40,
          41,
          42,
          43,
          44,
          45,
          46,
          47,
          48,
          49,
          50,
          51,
          52,
          53,
          54,
          55,
          56,
          57,
          58,
          59,
          60,
          61,
          62,
          63,
          64,
          65,
          66,
          67,
          68,
          69,
          70,
          71,
          72,
          73,
          74,
          75,
          76,
          77,
          78,
          79,
          80,
          81,
          82,
          83,
          84,
          85,
          86,
          87,
          88,
          89,
          90,
          91,
          92,
          93,
          94,
          95,
          96,
          97,
          98,
          99
         ],
         "y": [
          -0.13357016322871249,
          -0.9388099126545523,
          0.5117097703051664,
          1.1779855554334155,
          -0.4957539865499914,
          0.7007226194302827,
          -1.618803600536682,
          0.6471942674601291,
          0.18380474352706944,
          -0.8434487884583421,
          -0.14225349702295875,
          -2.0077819846307485,
          0.29759751236156534,
          -1.6326134094630256,
          -1.6519162183269995,
          -0.8539639548069332,
          0.07536835326501973,
          0.40309764714981444,
          1.166158989566912,
          0.46423153191010424,
          1.2319341756988753,
          0.4641824363846118,
          0.05736669686774498,
          0.39587078523377806,
          -0.254006178629848,
          -0.36263870999363906,
          0.6412993423764257,
          -0.3700496398671861,
          -0.13410095704867844,
          0.9817025311756228,
          0.8106484353297797,
          -0.16205295130179306,
          -0.33913108062063313,
          0.057469169391842496,
          -0.26477571549699463,
          0.0024576263945883135,
          -0.7147944079380628,
          -0.9996002696309442,
          0.9184922604899338,
          -1.1992044471144834,
          -0.0014854154246680376,
          0.3345466304861377,
          -0.765893622583983,
          0.10602795313048664,
          -1.591559038672016,
          -1.5312232576890508,
          -0.6366596842954436,
          1.6225309347941257,
          1.7966198104485864,
          2.79022164392135,
          0.27989357476789123,
          -0.4241064293010893,
          0.8388132702372181,
          -1.7267818436917177,
          -0.19362775702521812,
          -0.4368430323944334,
          -0.10776796283523535,
          -0.6502442358995324,
          -1.6219332655111154,
          1.2550106632360527,
          1.1312727057858079,
          -0.14766825632663355,
          -0.8368005671070359,
          -0.3243847866723495,
          -1.2199045625041136,
          -0.23809218291276832,
          -0.08972305687923236,
          -0.05567665301556912,
          0.7666832039503296,
          0.2585425338176482,
          -1.3348907441116726,
          0.6040795355994396,
          0.6531700339950408,
          1.090204612183431,
          -0.6137086038703986,
          0.33791847895736926,
          -1.7392250650949956,
          1.4703656663706586,
          0.27668941996149615,
          0.09627244902315872,
          -0.712464687405788,
          -0.9906689518375307,
          -0.2946382043089493,
          0.5505106266683137,
          -0.7328233537076538,
          0.07719178587171921,
          -0.16515491761973805,
          1.2137032151240978,
          0.6498073142314598,
          -0.36673405463231695,
          0.6143438624170506,
          0.04026987091933534,
          1.7651119672384328,
          2.504762191553729,
          0.19481374841293744,
          -0.695399992508885,
          -0.98880223581316,
          -1.5667214570263932,
          -1.2968714550600573,
          1.4422375463078765
         ]
        },
        {
         "line": {
          "color": "rgba(55, 128, 191, 1.0)",
          "dash": "solid",
          "shape": "linear",
          "width": 1.3
         },
         "mode": "lines",
         "name": "B",
         "text": "",
         "type": "scatter",
         "x": [
          0,
          1,
          2,
          3,
          4,
          5,
          6,
          7,
          8,
          9,
          10,
          11,
          12,
          13,
          14,
          15,
          16,
          17,
          18,
          19,
          20,
          21,
          22,
          23,
          24,
          25,
          26,
          27,
          28,
          29,
          30,
          31,
          32,
          33,
          34,
          35,
          36,
          37,
          38,
          39,
          40,
          41,
          42,
          43,
          44,
          45,
          46,
          47,
          48,
          49,
          50,
          51,
          52,
          53,
          54,
          55,
          56,
          57,
          58,
          59,
          60,
          61,
          62,
          63,
          64,
          65,
          66,
          67,
          68,
          69,
          70,
          71,
          72,
          73,
          74,
          75,
          76,
          77,
          78,
          79,
          80,
          81,
          82,
          83,
          84,
          85,
          86,
          87,
          88,
          89,
          90,
          91,
          92,
          93,
          94,
          95,
          96,
          97,
          98,
          99
         ],
         "y": [
          -1.771315301053812,
          0.28371580039817207,
          1.303979668017339,
          -0.4009436724652719,
          -0.8421376822919558,
          -1.6465719848911848,
          1.690845020202858,
          1.6249160105450737,
          1.1486402676728138,
          1.2817697377258561,
          -2.3492865826040443,
          -0.7341290536641111,
          -1.0151774783057488,
          1.302160688252516,
          0.3722181611452662,
          -0.2537545153874133,
          1.0733525558023929,
          0.013311297241387236,
          -1.584831941900239,
          -0.08844080273559,
          -0.02523400350880266,
          1.8680368996218724,
          0.7902024783347283,
          -1.1507380031196381,
          1.1533029111144617,
          -0.8117613170967656,
          1.2916717955929897,
          0.16307876825058087,
          -0.08776720246335248,
          -0.7169668323701185,
          0.11547599070899921,
          2.028020398950748,
          2.067971296847705,
          -1.7679586572575203,
          -1.9121303185713443,
          0.22433857797991286,
          -0.05078404839345344,
          -1.6452970856783191,
          -2.2029051986762402,
          0.29089672723102883,
          -0.6098968844301316,
          0.4910994061285502,
          0.3276452956611974,
          -0.8080522613359631,
          0.2261764224509759,
          -1.1643304995513808,
          -0.5139522934290397,
          0.05652292348238001,
          -1.0680631748812215,
          -1.1211463646552,
          -0.4212410832484853,
          -1.0984757835014813,
          0.32938239648772344,
          -0.5500316801652668,
          0.24390634734471617,
          0.06022437056695923,
          0.10340482186120566,
          0.008214440317838802,
          2.0666413091693987,
          -0.6463373272003697,
          0.7164276475627177,
          -0.9353036902858883,
          0.2883519549522942,
          -0.24751466010814432,
          -0.07612973193853989,
          -1.388616457975686,
          0.5765020024178159,
          -0.13743540087202014,
          0.5969159313248671,
          0.4040044827769081,
          1.200730957316366,
          -0.6561027766889078,
          -0.7367026331814217,
          3.182032959872631,
          0.34142892232679933,
          -0.433666546367912,
          -0.45821447025373263,
          1.0097119871725126,
          -0.5871000495758965,
          1.2284393627469177,
          1.1344983010102763,
          -0.13325128842744816,
          -1.1939105257456901,
          -2.043792821545929,
          0.6485531035628525,
          0.027039352355595663,
          0.5899161200710822,
          1.3957133480420012,
          -2.0924818534099088,
          0.05259908472658938,
          -0.3149904271888376,
          -0.3649950991421775,
          1.4506623049311254,
          -0.4616033155387015,
          0.3976292886585956,
          -0.4479181999474117,
          -2.342225753002411,
          -0.6694261707440903,
          1.412374347731571,
          -0.2622402824357615
         ]
        },
        {
         "connectgaps": false,
         "fill": "tozeroy",
         "line": {
          "color": "green",
          "dash": "solid",
          "shape": "linear",
          "width": 0.5
         },
         "mode": "lines",
         "name": "Spread",
         "showlegend": false,
         "type": "scatter",
         "x": [
          0,
          1,
          2,
          3,
          4,
          5,
          6,
          7,
          8,
          9,
          10,
          11,
          12,
          13,
          14,
          15,
          16,
          17,
          18,
          19,
          20,
          21,
          22,
          23,
          24,
          25,
          26,
          27,
          28,
          29,
          30,
          31,
          32,
          33,
          34,
          35,
          36,
          37,
          38,
          39,
          40,
          41,
          42,
          43,
          44,
          45,
          46,
          47,
          48,
          49,
          50,
          51,
          52,
          53,
          54,
          55,
          56,
          57,
          58,
          59,
          60,
          61,
          62,
          63,
          64,
          65,
          66,
          67,
          68,
          69,
          70,
          71,
          72,
          73,
          74,
          75,
          76,
          77,
          78,
          79,
          80,
          81,
          82,
          83,
          84,
          85,
          86,
          87,
          88,
          89,
          90,
          91,
          92,
          93,
          94,
          95,
          96,
          97,
          98,
          99
         ],
         "xaxis": "x2",
         "y": [
          1.6377451378250996,
          "",
          "",
          1.5789292278986875,
          0.3463836957419644,
          2.3472946043214673,
          "",
          "",
          "",
          "",
          2.2070330855810854,
          "",
          1.312774990667314,
          "",
          "",
          "",
          "",
          0.3897863499084272,
          2.7509909314671512,
          0.5526723346456942,
          1.2571681792076779,
          "",
          "",
          1.5466087883534163,
          "",
          0.4491226071031265,
          "",
          "",
          "",
          1.6986693635457413,
          0.6951724446207805,
          "",
          "",
          1.8254278266493629,
          1.6473546030743496,
          "",
          "",
          0.6456968160473749,
          3.121397459166174,
          "",
          0.6084114690054635,
          "",
          "",
          0.9140802144664497,
          "",
          "",
          "",
          1.5660080113117456,
          2.864682985329808,
          3.9113680085765496,
          0.7011346580163765,
          0.674369354200392,
          0.5094308737494946,
          "",
          "",
          "",
          "",
          "",
          "",
          1.9013479904364226,
          0.41484505822309015,
          0.7876354339592548,
          "",
          "",
          "",
          1.1505242750629177,
          "",
          0.08175874785645101,
          0.16976727262546254,
          "",
          "",
          1.2601823122883475,
          1.3898726671764625,
          "",
          "",
          0.7715850253252813,
          "",
          0.4606536791981459,
          0.8637894695373927,
          "",
          "",
          "",
          0.8992723214367409,
          2.5943034482142426,
          "",
          0.05015243351612354,
          "",
          "",
          2.7422891676413688,
          "",
          0.9293342896058883,
          0.40526497006151285,
          0.3144496623073074,
          2.9663655070924304,
          "",
          "",
          1.3534235171892512,
          "",
          "",
          1.704477828743638
         ],
         "yaxis": "y2"
        },
        {
         "connectgaps": false,
         "fill": "tozeroy",
         "line": {
          "color": "red",
          "dash": "solid",
          "shape": "linear",
          "width": 0.5
         },
         "mode": "lines",
         "name": "Spread",
         "showlegend": false,
         "type": "scatter",
         "x": [
          0,
          1,
          2,
          3,
          4,
          5,
          6,
          7,
          8,
          9,
          10,
          11,
          12,
          13,
          14,
          15,
          16,
          17,
          18,
          19,
          20,
          21,
          22,
          23,
          24,
          25,
          26,
          27,
          28,
          29,
          30,
          31,
          32,
          33,
          34,
          35,
          36,
          37,
          38,
          39,
          40,
          41,
          42,
          43,
          44,
          45,
          46,
          47,
          48,
          49,
          50,
          51,
          52,
          53,
          54,
          55,
          56,
          57,
          58,
          59,
          60,
          61,
          62,
          63,
          64,
          65,
          66,
          67,
          68,
          69,
          70,
          71,
          72,
          73,
          74,
          75,
          76,
          77,
          78,
          79,
          80,
          81,
          82,
          83,
          84,
          85,
          86,
          87,
          88,
          89,
          90,
          91,
          92,
          93,
          94,
          95,
          96,
          97,
          98,
          99
         ],
         "xaxis": "x2",
         "y": [
          "",
          -1.2225257130527243,
          -0.7922698977121726,
          "",
          "",
          "",
          -3.30964862073954,
          -0.9777217430849446,
          -0.9648355241457444,
          -2.1252185261841983,
          "",
          -1.2736529309666373,
          "",
          -2.9347740977155414,
          -2.0241343794722657,
          -0.6002094394195199,
          -0.9979842025373731,
          "",
          "",
          "",
          "",
          -1.4038544632372605,
          -0.7328357814669834,
          "",
          -1.4073090897443097,
          "",
          -0.650372453216564,
          -0.533128408117767,
          -0.04633375458532596,
          "",
          "",
          -2.190073350252541,
          -2.4071023774683384,
          "",
          "",
          -0.22188095158532453,
          -0.6640103595446094,
          "",
          "",
          -1.4901011743455121,
          "",
          -0.1565527756424125,
          -1.0935389182451805,
          "",
          -1.817735461122992,
          -0.36689275813766997,
          -0.12270739086640392,
          "",
          "",
          "",
          "",
          "",
          "",
          -1.1767501635264508,
          -0.4375341043699343,
          -0.4970674029613926,
          -0.21117278469644102,
          -0.6584586762173712,
          -3.688574574680514,
          "",
          "",
          "",
          -1.1251525220593301,
          -0.07687012656420517,
          -1.1437748305655737,
          "",
          -0.6662250592970482,
          "",
          "",
          -0.1454619489592599,
          -2.5356217014280387,
          "",
          "",
          -2.0918283476892,
          -0.9551375261971979,
          "",
          -1.2810105948412631,
          "",
          "",
          -1.1321669137237589,
          -1.8469629884160643,
          -0.8574176634100825,
          "",
          "",
          -1.3813764572705063,
          "",
          -0.7550710376908203,
          -0.18201013291790336,
          "",
          -0.4193331393589063,
          "",
          "",
          "",
          "",
          -0.20281554024565815,
          -0.24748179256147324,
          "",
          -0.8972952862823029,
          -2.709245802791628,
          ""
         ],
         "yaxis": "y2"
        }
       ],
       "layout": {
        "hovermode": "x",
        "legend": {
         "bgcolor": "#F5F6F9",
         "font": {
          "color": "#4D5663"
         }
        },
        "paper_bgcolor": "#F5F6F9",
        "plot_bgcolor": "#F5F6F9",
        "template": {
         "data": {
          "bar": [
           {
            "error_x": {
             "color": "#2a3f5f"
            },
            "error_y": {
             "color": "#2a3f5f"
            },
            "marker": {
             "line": {
              "color": "#E5ECF6",
              "width": 0.5
             }
            },
            "type": "bar"
           }
          ],
          "barpolar": [
           {
            "marker": {
             "line": {
              "color": "#E5ECF6",
              "width": 0.5
             }
            },
            "type": "barpolar"
           }
          ],
          "carpet": [
           {
            "aaxis": {
             "endlinecolor": "#2a3f5f",
             "gridcolor": "white",
             "linecolor": "white",
             "minorgridcolor": "white",
             "startlinecolor": "#2a3f5f"
            },
            "baxis": {
             "endlinecolor": "#2a3f5f",
             "gridcolor": "white",
             "linecolor": "white",
             "minorgridcolor": "white",
             "startlinecolor": "#2a3f5f"
            },
            "type": "carpet"
           }
          ],
          "choropleth": [
           {
            "colorbar": {
             "outlinewidth": 0,
             "ticks": ""
            },
            "type": "choropleth"
           }
          ],
          "contour": [
           {
            "colorbar": {
             "outlinewidth": 0,
             "ticks": ""
            },
            "colorscale": [
             [
              0,
              "#0d0887"
             ],
             [
              0.1111111111111111,
              "#46039f"
             ],
             [
              0.2222222222222222,
              "#7201a8"
             ],
             [
              0.3333333333333333,
              "#9c179e"
             ],
             [
              0.4444444444444444,
              "#bd3786"
             ],
             [
              0.5555555555555556,
              "#d8576b"
             ],
             [
              0.6666666666666666,
              "#ed7953"
             ],
             [
              0.7777777777777778,
              "#fb9f3a"
             ],
             [
              0.8888888888888888,
              "#fdca26"
             ],
             [
              1,
              "#f0f921"
             ]
            ],
            "type": "contour"
           }
          ],
          "contourcarpet": [
           {
            "colorbar": {
             "outlinewidth": 0,
             "ticks": ""
            },
            "type": "contourcarpet"
           }
          ],
          "heatmap": [
           {
            "colorbar": {
             "outlinewidth": 0,
             "ticks": ""
            },
            "colorscale": [
             [
              0,
              "#0d0887"
             ],
             [
              0.1111111111111111,
              "#46039f"
             ],
             [
              0.2222222222222222,
              "#7201a8"
             ],
             [
              0.3333333333333333,
              "#9c179e"
             ],
             [
              0.4444444444444444,
              "#bd3786"
             ],
             [
              0.5555555555555556,
              "#d8576b"
             ],
             [
              0.6666666666666666,
              "#ed7953"
             ],
             [
              0.7777777777777778,
              "#fb9f3a"
             ],
             [
              0.8888888888888888,
              "#fdca26"
             ],
             [
              1,
              "#f0f921"
             ]
            ],
            "type": "heatmap"
           }
          ],
          "heatmapgl": [
           {
            "colorbar": {
             "outlinewidth": 0,
             "ticks": ""
            },
            "colorscale": [
             [
              0,
              "#0d0887"
             ],
             [
              0.1111111111111111,
              "#46039f"
             ],
             [
              0.2222222222222222,
              "#7201a8"
             ],
             [
              0.3333333333333333,
              "#9c179e"
             ],
             [
              0.4444444444444444,
              "#bd3786"
             ],
             [
              0.5555555555555556,
              "#d8576b"
             ],
             [
              0.6666666666666666,
              "#ed7953"
             ],
             [
              0.7777777777777778,
              "#fb9f3a"
             ],
             [
              0.8888888888888888,
              "#fdca26"
             ],
             [
              1,
              "#f0f921"
             ]
            ],
            "type": "heatmapgl"
           }
          ],
          "histogram": [
           {
            "marker": {
             "colorbar": {
              "outlinewidth": 0,
              "ticks": ""
             }
            },
            "type": "histogram"
           }
          ],
          "histogram2d": [
           {
            "colorbar": {
             "outlinewidth": 0,
             "ticks": ""
            },
            "colorscale": [
             [
              0,
              "#0d0887"
             ],
             [
              0.1111111111111111,
              "#46039f"
             ],
             [
              0.2222222222222222,
              "#7201a8"
             ],
             [
              0.3333333333333333,
              "#9c179e"
             ],
             [
              0.4444444444444444,
              "#bd3786"
             ],
             [
              0.5555555555555556,
              "#d8576b"
             ],
             [
              0.6666666666666666,
              "#ed7953"
             ],
             [
              0.7777777777777778,
              "#fb9f3a"
             ],
             [
              0.8888888888888888,
              "#fdca26"
             ],
             [
              1,
              "#f0f921"
             ]
            ],
            "type": "histogram2d"
           }
          ],
          "histogram2dcontour": [
           {
            "colorbar": {
             "outlinewidth": 0,
             "ticks": ""
            },
            "colorscale": [
             [
              0,
              "#0d0887"
             ],
             [
              0.1111111111111111,
              "#46039f"
             ],
             [
              0.2222222222222222,
              "#7201a8"
             ],
             [
              0.3333333333333333,
              "#9c179e"
             ],
             [
              0.4444444444444444,
              "#bd3786"
             ],
             [
              0.5555555555555556,
              "#d8576b"
             ],
             [
              0.6666666666666666,
              "#ed7953"
             ],
             [
              0.7777777777777778,
              "#fb9f3a"
             ],
             [
              0.8888888888888888,
              "#fdca26"
             ],
             [
              1,
              "#f0f921"
             ]
            ],
            "type": "histogram2dcontour"
           }
          ],
          "mesh3d": [
           {
            "colorbar": {
             "outlinewidth": 0,
             "ticks": ""
            },
            "type": "mesh3d"
           }
          ],
          "parcoords": [
           {
            "line": {
             "colorbar": {
              "outlinewidth": 0,
              "ticks": ""
             }
            },
            "type": "parcoords"
           }
          ],
          "pie": [
           {
            "automargin": true,
            "type": "pie"
           }
          ],
          "scatter": [
           {
            "marker": {
             "colorbar": {
              "outlinewidth": 0,
              "ticks": ""
             }
            },
            "type": "scatter"
           }
          ],
          "scatter3d": [
           {
            "line": {
             "colorbar": {
              "outlinewidth": 0,
              "ticks": ""
             }
            },
            "marker": {
             "colorbar": {
              "outlinewidth": 0,
              "ticks": ""
             }
            },
            "type": "scatter3d"
           }
          ],
          "scattercarpet": [
           {
            "marker": {
             "colorbar": {
              "outlinewidth": 0,
              "ticks": ""
             }
            },
            "type": "scattercarpet"
           }
          ],
          "scattergeo": [
           {
            "marker": {
             "colorbar": {
              "outlinewidth": 0,
              "ticks": ""
             }
            },
            "type": "scattergeo"
           }
          ],
          "scattergl": [
           {
            "marker": {
             "colorbar": {
              "outlinewidth": 0,
              "ticks": ""
             }
            },
            "type": "scattergl"
           }
          ],
          "scattermapbox": [
           {
            "marker": {
             "colorbar": {
              "outlinewidth": 0,
              "ticks": ""
             }
            },
            "type": "scattermapbox"
           }
          ],
          "scatterpolar": [
           {
            "marker": {
             "colorbar": {
              "outlinewidth": 0,
              "ticks": ""
             }
            },
            "type": "scatterpolar"
           }
          ],
          "scatterpolargl": [
           {
            "marker": {
             "colorbar": {
              "outlinewidth": 0,
              "ticks": ""
             }
            },
            "type": "scatterpolargl"
           }
          ],
          "scatterternary": [
           {
            "marker": {
             "colorbar": {
              "outlinewidth": 0,
              "ticks": ""
             }
            },
            "type": "scatterternary"
           }
          ],
          "surface": [
           {
            "colorbar": {
             "outlinewidth": 0,
             "ticks": ""
            },
            "colorscale": [
             [
              0,
              "#0d0887"
             ],
             [
              0.1111111111111111,
              "#46039f"
             ],
             [
              0.2222222222222222,
              "#7201a8"
             ],
             [
              0.3333333333333333,
              "#9c179e"
             ],
             [
              0.4444444444444444,
              "#bd3786"
             ],
             [
              0.5555555555555556,
              "#d8576b"
             ],
             [
              0.6666666666666666,
              "#ed7953"
             ],
             [
              0.7777777777777778,
              "#fb9f3a"
             ],
             [
              0.8888888888888888,
              "#fdca26"
             ],
             [
              1,
              "#f0f921"
             ]
            ],
            "type": "surface"
           }
          ],
          "table": [
           {
            "cells": {
             "fill": {
              "color": "#EBF0F8"
             },
             "line": {
              "color": "white"
             }
            },
            "header": {
             "fill": {
              "color": "#C8D4E3"
             },
             "line": {
              "color": "white"
             }
            },
            "type": "table"
           }
          ]
         },
         "layout": {
          "annotationdefaults": {
           "arrowcolor": "#2a3f5f",
           "arrowhead": 0,
           "arrowwidth": 1
          },
          "coloraxis": {
           "colorbar": {
            "outlinewidth": 0,
            "ticks": ""
           }
          },
          "colorscale": {
           "diverging": [
            [
             0,
             "#8e0152"
            ],
            [
             0.1,
             "#c51b7d"
            ],
            [
             0.2,
             "#de77ae"
            ],
            [
             0.3,
             "#f1b6da"
            ],
            [
             0.4,
             "#fde0ef"
            ],
            [
             0.5,
             "#f7f7f7"
            ],
            [
             0.6,
             "#e6f5d0"
            ],
            [
             0.7,
             "#b8e186"
            ],
            [
             0.8,
             "#7fbc41"
            ],
            [
             0.9,
             "#4d9221"
            ],
            [
             1,
             "#276419"
            ]
           ],
           "sequential": [
            [
             0,
             "#0d0887"
            ],
            [
             0.1111111111111111,
             "#46039f"
            ],
            [
             0.2222222222222222,
             "#7201a8"
            ],
            [
             0.3333333333333333,
             "#9c179e"
            ],
            [
             0.4444444444444444,
             "#bd3786"
            ],
            [
             0.5555555555555556,
             "#d8576b"
            ],
            [
             0.6666666666666666,
             "#ed7953"
            ],
            [
             0.7777777777777778,
             "#fb9f3a"
            ],
            [
             0.8888888888888888,
             "#fdca26"
            ],
            [
             1,
             "#f0f921"
            ]
           ],
           "sequentialminus": [
            [
             0,
             "#0d0887"
            ],
            [
             0.1111111111111111,
             "#46039f"
            ],
            [
             0.2222222222222222,
             "#7201a8"
            ],
            [
             0.3333333333333333,
             "#9c179e"
            ],
            [
             0.4444444444444444,
             "#bd3786"
            ],
            [
             0.5555555555555556,
             "#d8576b"
            ],
            [
             0.6666666666666666,
             "#ed7953"
            ],
            [
             0.7777777777777778,
             "#fb9f3a"
            ],
            [
             0.8888888888888888,
             "#fdca26"
            ],
            [
             1,
             "#f0f921"
            ]
           ]
          },
          "colorway": [
           "#636efa",
           "#EF553B",
           "#00cc96",
           "#ab63fa",
           "#FFA15A",
           "#19d3f3",
           "#FF6692",
           "#B6E880",
           "#FF97FF",
           "#FECB52"
          ],
          "font": {
           "color": "#2a3f5f"
          },
          "geo": {
           "bgcolor": "white",
           "lakecolor": "white",
           "landcolor": "#E5ECF6",
           "showlakes": true,
           "showland": true,
           "subunitcolor": "white"
          },
          "hoverlabel": {
           "align": "left"
          },
          "hovermode": "closest",
          "mapbox": {
           "style": "light"
          },
          "paper_bgcolor": "white",
          "plot_bgcolor": "#E5ECF6",
          "polar": {
           "angularaxis": {
            "gridcolor": "white",
            "linecolor": "white",
            "ticks": ""
           },
           "bgcolor": "#E5ECF6",
           "radialaxis": {
            "gridcolor": "white",
            "linecolor": "white",
            "ticks": ""
           }
          },
          "scene": {
           "xaxis": {
            "backgroundcolor": "#E5ECF6",
            "gridcolor": "white",
            "gridwidth": 2,
            "linecolor": "white",
            "showbackground": true,
            "ticks": "",
            "zerolinecolor": "white"
           },
           "yaxis": {
            "backgroundcolor": "#E5ECF6",
            "gridcolor": "white",
            "gridwidth": 2,
            "linecolor": "white",
            "showbackground": true,
            "ticks": "",
            "zerolinecolor": "white"
           },
           "zaxis": {
            "backgroundcolor": "#E5ECF6",
            "gridcolor": "white",
            "gridwidth": 2,
            "linecolor": "white",
            "showbackground": true,
            "ticks": "",
            "zerolinecolor": "white"
           }
          },
          "shapedefaults": {
           "line": {
            "color": "#2a3f5f"
           }
          },
          "ternary": {
           "aaxis": {
            "gridcolor": "white",
            "linecolor": "white",
            "ticks": ""
           },
           "baxis": {
            "gridcolor": "white",
            "linecolor": "white",
            "ticks": ""
           },
           "bgcolor": "#E5ECF6",
           "caxis": {
            "gridcolor": "white",
            "linecolor": "white",
            "ticks": ""
           }
          },
          "title": {
           "x": 0.05
          },
          "xaxis": {
           "automargin": true,
           "gridcolor": "white",
           "linecolor": "white",
           "ticks": "",
           "title": {
            "standoff": 15
           },
           "zerolinecolor": "white",
           "zerolinewidth": 2
          },
          "yaxis": {
           "automargin": true,
           "gridcolor": "white",
           "linecolor": "white",
           "ticks": "",
           "title": {
            "standoff": 15
           },
           "zerolinecolor": "white",
           "zerolinewidth": 2
          }
         }
        },
        "title": {
         "font": {
          "color": "#4D5663"
         }
        },
        "xaxis": {
         "gridcolor": "#E1E5ED",
         "showgrid": true,
         "tickfont": {
          "color": "#4D5663"
         },
         "title": {
          "font": {
           "color": "#4D5663"
          },
          "text": ""
         },
         "zerolinecolor": "#E1E5ED"
        },
        "xaxis2": {
         "anchor": "y2",
         "gridcolor": "#E1E5ED",
         "showgrid": true,
         "showticklabels": false,
         "tickfont": {
          "color": "#4D5663"
         },
         "title": {
          "font": {
           "color": "#4D5663"
          },
          "text": ""
         },
         "zerolinecolor": "#E1E5ED"
        },
        "yaxis": {
         "domain": [
          0.3,
          1
         ],
         "gridcolor": "#E1E5ED",
         "showgrid": true,
         "tickfont": {
          "color": "#4D5663"
         },
         "title": {
          "font": {
           "color": "#4D5663"
          },
          "text": ""
         },
         "zerolinecolor": "#E1E5ED"
        },
        "yaxis2": {
         "domain": [
          0,
          0.25
         ],
         "gridcolor": "#E1E5ED",
         "showgrid": true,
         "tickfont": {
          "color": "#4D5663"
         },
         "title": {
          "font": {
           "color": "#4D5663"
          },
          "text": "Spread"
         },
         "zerolinecolor": "#E1E5ED"
        }
       }
      },
      "text/html": [
       "<div>                            <div id=\"f8d874f0-d2d3-4459-9278-d5919535a70b\" class=\"plotly-graph-div\" style=\"height:525px; width:100%;\"></div>            <script type=\"text/javascript\">                require([\"plotly\"], function(Plotly) {                    window.PLOTLYENV=window.PLOTLYENV || {};\n",
       "                    window.PLOTLYENV.BASE_URL='https://plot.ly';                                    if (document.getElementById(\"f8d874f0-d2d3-4459-9278-d5919535a70b\")) {                    Plotly.newPlot(                        \"f8d874f0-d2d3-4459-9278-d5919535a70b\",                        [{\"line\": {\"color\": \"rgba(255, 153, 51, 1.0)\", \"dash\": \"solid\", \"shape\": \"linear\", \"width\": 1.3}, \"mode\": \"lines\", \"name\": \"A\", \"text\": \"\", \"type\": \"scatter\", \"x\": [0, 1, 2, 3, 4, 5, 6, 7, 8, 9, 10, 11, 12, 13, 14, 15, 16, 17, 18, 19, 20, 21, 22, 23, 24, 25, 26, 27, 28, 29, 30, 31, 32, 33, 34, 35, 36, 37, 38, 39, 40, 41, 42, 43, 44, 45, 46, 47, 48, 49, 50, 51, 52, 53, 54, 55, 56, 57, 58, 59, 60, 61, 62, 63, 64, 65, 66, 67, 68, 69, 70, 71, 72, 73, 74, 75, 76, 77, 78, 79, 80, 81, 82, 83, 84, 85, 86, 87, 88, 89, 90, 91, 92, 93, 94, 95, 96, 97, 98, 99], \"y\": [-0.13357016322871249, -0.9388099126545523, 0.5117097703051664, 1.1779855554334155, -0.4957539865499914, 0.7007226194302827, -1.618803600536682, 0.6471942674601291, 0.18380474352706944, -0.8434487884583421, -0.14225349702295875, -2.0077819846307485, 0.29759751236156534, -1.6326134094630256, -1.6519162183269995, -0.8539639548069332, 0.07536835326501973, 0.40309764714981444, 1.166158989566912, 0.46423153191010424, 1.2319341756988753, 0.4641824363846118, 0.05736669686774498, 0.39587078523377806, -0.254006178629848, -0.36263870999363906, 0.6412993423764257, -0.3700496398671861, -0.13410095704867844, 0.9817025311756228, 0.8106484353297797, -0.16205295130179306, -0.33913108062063313, 0.057469169391842496, -0.26477571549699463, 0.0024576263945883135, -0.7147944079380628, -0.9996002696309442, 0.9184922604899338, -1.1992044471144834, -0.0014854154246680376, 0.3345466304861377, -0.765893622583983, 0.10602795313048664, -1.591559038672016, -1.5312232576890508, -0.6366596842954436, 1.6225309347941257, 1.7966198104485864, 2.79022164392135, 0.27989357476789123, -0.4241064293010893, 0.8388132702372181, -1.7267818436917177, -0.19362775702521812, -0.4368430323944334, -0.10776796283523535, -0.6502442358995324, -1.6219332655111154, 1.2550106632360527, 1.1312727057858079, -0.14766825632663355, -0.8368005671070359, -0.3243847866723495, -1.2199045625041136, -0.23809218291276832, -0.08972305687923236, -0.05567665301556912, 0.7666832039503296, 0.2585425338176482, -1.3348907441116726, 0.6040795355994396, 0.6531700339950408, 1.090204612183431, -0.6137086038703986, 0.33791847895736926, -1.7392250650949956, 1.4703656663706586, 0.27668941996149615, 0.09627244902315872, -0.712464687405788, -0.9906689518375307, -0.2946382043089493, 0.5505106266683137, -0.7328233537076538, 0.07719178587171921, -0.16515491761973805, 1.2137032151240978, 0.6498073142314598, -0.36673405463231695, 0.6143438624170506, 0.04026987091933534, 1.7651119672384328, 2.504762191553729, 0.19481374841293744, -0.695399992508885, -0.98880223581316, -1.5667214570263932, -1.2968714550600573, 1.4422375463078765]}, {\"line\": {\"color\": \"rgba(55, 128, 191, 1.0)\", \"dash\": \"solid\", \"shape\": \"linear\", \"width\": 1.3}, \"mode\": \"lines\", \"name\": \"B\", \"text\": \"\", \"type\": \"scatter\", \"x\": [0, 1, 2, 3, 4, 5, 6, 7, 8, 9, 10, 11, 12, 13, 14, 15, 16, 17, 18, 19, 20, 21, 22, 23, 24, 25, 26, 27, 28, 29, 30, 31, 32, 33, 34, 35, 36, 37, 38, 39, 40, 41, 42, 43, 44, 45, 46, 47, 48, 49, 50, 51, 52, 53, 54, 55, 56, 57, 58, 59, 60, 61, 62, 63, 64, 65, 66, 67, 68, 69, 70, 71, 72, 73, 74, 75, 76, 77, 78, 79, 80, 81, 82, 83, 84, 85, 86, 87, 88, 89, 90, 91, 92, 93, 94, 95, 96, 97, 98, 99], \"y\": [-1.771315301053812, 0.28371580039817207, 1.303979668017339, -0.4009436724652719, -0.8421376822919558, -1.6465719848911848, 1.690845020202858, 1.6249160105450737, 1.1486402676728138, 1.2817697377258561, -2.3492865826040443, -0.7341290536641111, -1.0151774783057488, 1.302160688252516, 0.3722181611452662, -0.2537545153874133, 1.0733525558023929, 0.013311297241387236, -1.584831941900239, -0.08844080273559, -0.02523400350880266, 1.8680368996218724, 0.7902024783347283, -1.1507380031196381, 1.1533029111144617, -0.8117613170967656, 1.2916717955929897, 0.16307876825058087, -0.08776720246335248, -0.7169668323701185, 0.11547599070899921, 2.028020398950748, 2.067971296847705, -1.7679586572575203, -1.9121303185713443, 0.22433857797991286, -0.05078404839345344, -1.6452970856783191, -2.2029051986762402, 0.29089672723102883, -0.6098968844301316, 0.4910994061285502, 0.3276452956611974, -0.8080522613359631, 0.2261764224509759, -1.1643304995513808, -0.5139522934290397, 0.05652292348238001, -1.0680631748812215, -1.1211463646552, -0.4212410832484853, -1.0984757835014813, 0.32938239648772344, -0.5500316801652668, 0.24390634734471617, 0.06022437056695923, 0.10340482186120566, 0.008214440317838802, 2.0666413091693987, -0.6463373272003697, 0.7164276475627177, -0.9353036902858883, 0.2883519549522942, -0.24751466010814432, -0.07612973193853989, -1.388616457975686, 0.5765020024178159, -0.13743540087202014, 0.5969159313248671, 0.4040044827769081, 1.200730957316366, -0.6561027766889078, -0.7367026331814217, 3.182032959872631, 0.34142892232679933, -0.433666546367912, -0.45821447025373263, 1.0097119871725126, -0.5871000495758965, 1.2284393627469177, 1.1344983010102763, -0.13325128842744816, -1.1939105257456901, -2.043792821545929, 0.6485531035628525, 0.027039352355595663, 0.5899161200710822, 1.3957133480420012, -2.0924818534099088, 0.05259908472658938, -0.3149904271888376, -0.3649950991421775, 1.4506623049311254, -0.4616033155387015, 0.3976292886585956, -0.4479181999474117, -2.342225753002411, -0.6694261707440903, 1.412374347731571, -0.2622402824357615]}, {\"connectgaps\": false, \"fill\": \"tozeroy\", \"line\": {\"color\": \"green\", \"dash\": \"solid\", \"shape\": \"linear\", \"width\": 0.5}, \"mode\": \"lines\", \"name\": \"Spread\", \"showlegend\": false, \"type\": \"scatter\", \"x\": [0, 1, 2, 3, 4, 5, 6, 7, 8, 9, 10, 11, 12, 13, 14, 15, 16, 17, 18, 19, 20, 21, 22, 23, 24, 25, 26, 27, 28, 29, 30, 31, 32, 33, 34, 35, 36, 37, 38, 39, 40, 41, 42, 43, 44, 45, 46, 47, 48, 49, 50, 51, 52, 53, 54, 55, 56, 57, 58, 59, 60, 61, 62, 63, 64, 65, 66, 67, 68, 69, 70, 71, 72, 73, 74, 75, 76, 77, 78, 79, 80, 81, 82, 83, 84, 85, 86, 87, 88, 89, 90, 91, 92, 93, 94, 95, 96, 97, 98, 99], \"xaxis\": \"x2\", \"y\": [1.6377451378250996, \"\", \"\", 1.5789292278986875, 0.3463836957419644, 2.3472946043214673, \"\", \"\", \"\", \"\", 2.2070330855810854, \"\", 1.312774990667314, \"\", \"\", \"\", \"\", 0.3897863499084272, 2.7509909314671512, 0.5526723346456942, 1.2571681792076779, \"\", \"\", 1.5466087883534163, \"\", 0.4491226071031265, \"\", \"\", \"\", 1.6986693635457413, 0.6951724446207805, \"\", \"\", 1.8254278266493629, 1.6473546030743496, \"\", \"\", 0.6456968160473749, 3.121397459166174, \"\", 0.6084114690054635, \"\", \"\", 0.9140802144664497, \"\", \"\", \"\", 1.5660080113117456, 2.864682985329808, 3.9113680085765496, 0.7011346580163765, 0.674369354200392, 0.5094308737494946, \"\", \"\", \"\", \"\", \"\", \"\", 1.9013479904364226, 0.41484505822309015, 0.7876354339592548, \"\", \"\", \"\", 1.1505242750629177, \"\", 0.08175874785645101, 0.16976727262546254, \"\", \"\", 1.2601823122883475, 1.3898726671764625, \"\", \"\", 0.7715850253252813, \"\", 0.4606536791981459, 0.8637894695373927, \"\", \"\", \"\", 0.8992723214367409, 2.5943034482142426, \"\", 0.05015243351612354, \"\", \"\", 2.7422891676413688, \"\", 0.9293342896058883, 0.40526497006151285, 0.3144496623073074, 2.9663655070924304, \"\", \"\", 1.3534235171892512, \"\", \"\", 1.704477828743638], \"yaxis\": \"y2\"}, {\"connectgaps\": false, \"fill\": \"tozeroy\", \"line\": {\"color\": \"red\", \"dash\": \"solid\", \"shape\": \"linear\", \"width\": 0.5}, \"mode\": \"lines\", \"name\": \"Spread\", \"showlegend\": false, \"type\": \"scatter\", \"x\": [0, 1, 2, 3, 4, 5, 6, 7, 8, 9, 10, 11, 12, 13, 14, 15, 16, 17, 18, 19, 20, 21, 22, 23, 24, 25, 26, 27, 28, 29, 30, 31, 32, 33, 34, 35, 36, 37, 38, 39, 40, 41, 42, 43, 44, 45, 46, 47, 48, 49, 50, 51, 52, 53, 54, 55, 56, 57, 58, 59, 60, 61, 62, 63, 64, 65, 66, 67, 68, 69, 70, 71, 72, 73, 74, 75, 76, 77, 78, 79, 80, 81, 82, 83, 84, 85, 86, 87, 88, 89, 90, 91, 92, 93, 94, 95, 96, 97, 98, 99], \"xaxis\": \"x2\", \"y\": [\"\", -1.2225257130527243, -0.7922698977121726, \"\", \"\", \"\", -3.30964862073954, -0.9777217430849446, -0.9648355241457444, -2.1252185261841983, \"\", -1.2736529309666373, \"\", -2.9347740977155414, -2.0241343794722657, -0.6002094394195199, -0.9979842025373731, \"\", \"\", \"\", \"\", -1.4038544632372605, -0.7328357814669834, \"\", -1.4073090897443097, \"\", -0.650372453216564, -0.533128408117767, -0.04633375458532596, \"\", \"\", -2.190073350252541, -2.4071023774683384, \"\", \"\", -0.22188095158532453, -0.6640103595446094, \"\", \"\", -1.4901011743455121, \"\", -0.1565527756424125, -1.0935389182451805, \"\", -1.817735461122992, -0.36689275813766997, -0.12270739086640392, \"\", \"\", \"\", \"\", \"\", \"\", -1.1767501635264508, -0.4375341043699343, -0.4970674029613926, -0.21117278469644102, -0.6584586762173712, -3.688574574680514, \"\", \"\", \"\", -1.1251525220593301, -0.07687012656420517, -1.1437748305655737, \"\", -0.6662250592970482, \"\", \"\", -0.1454619489592599, -2.5356217014280387, \"\", \"\", -2.0918283476892, -0.9551375261971979, \"\", -1.2810105948412631, \"\", \"\", -1.1321669137237589, -1.8469629884160643, -0.8574176634100825, \"\", \"\", -1.3813764572705063, \"\", -0.7550710376908203, -0.18201013291790336, \"\", -0.4193331393589063, \"\", \"\", \"\", \"\", -0.20281554024565815, -0.24748179256147324, \"\", -0.8972952862823029, -2.709245802791628, \"\"], \"yaxis\": \"y2\"}],                        {\"hovermode\": \"x\", \"legend\": {\"bgcolor\": \"#F5F6F9\", \"font\": {\"color\": \"#4D5663\"}}, \"paper_bgcolor\": \"#F5F6F9\", \"plot_bgcolor\": \"#F5F6F9\", \"template\": {\"data\": {\"bar\": [{\"error_x\": {\"color\": \"#2a3f5f\"}, \"error_y\": {\"color\": \"#2a3f5f\"}, \"marker\": {\"line\": {\"color\": \"#E5ECF6\", \"width\": 0.5}}, \"type\": \"bar\"}], \"barpolar\": [{\"marker\": {\"line\": {\"color\": \"#E5ECF6\", \"width\": 0.5}}, \"type\": \"barpolar\"}], \"carpet\": [{\"aaxis\": {\"endlinecolor\": \"#2a3f5f\", \"gridcolor\": \"white\", \"linecolor\": \"white\", \"minorgridcolor\": \"white\", \"startlinecolor\": \"#2a3f5f\"}, \"baxis\": {\"endlinecolor\": \"#2a3f5f\", \"gridcolor\": \"white\", \"linecolor\": \"white\", \"minorgridcolor\": \"white\", \"startlinecolor\": \"#2a3f5f\"}, \"type\": \"carpet\"}], \"choropleth\": [{\"colorbar\": {\"outlinewidth\": 0, \"ticks\": \"\"}, \"type\": \"choropleth\"}], \"contour\": [{\"colorbar\": {\"outlinewidth\": 0, \"ticks\": \"\"}, \"colorscale\": [[0.0, \"#0d0887\"], [0.1111111111111111, \"#46039f\"], [0.2222222222222222, \"#7201a8\"], [0.3333333333333333, \"#9c179e\"], [0.4444444444444444, \"#bd3786\"], [0.5555555555555556, \"#d8576b\"], [0.6666666666666666, \"#ed7953\"], [0.7777777777777778, \"#fb9f3a\"], [0.8888888888888888, \"#fdca26\"], [1.0, \"#f0f921\"]], \"type\": \"contour\"}], \"contourcarpet\": [{\"colorbar\": {\"outlinewidth\": 0, \"ticks\": \"\"}, \"type\": \"contourcarpet\"}], \"heatmap\": [{\"colorbar\": {\"outlinewidth\": 0, \"ticks\": \"\"}, \"colorscale\": [[0.0, \"#0d0887\"], [0.1111111111111111, \"#46039f\"], [0.2222222222222222, \"#7201a8\"], [0.3333333333333333, \"#9c179e\"], [0.4444444444444444, \"#bd3786\"], [0.5555555555555556, \"#d8576b\"], [0.6666666666666666, \"#ed7953\"], [0.7777777777777778, \"#fb9f3a\"], [0.8888888888888888, \"#fdca26\"], [1.0, \"#f0f921\"]], \"type\": \"heatmap\"}], \"heatmapgl\": [{\"colorbar\": {\"outlinewidth\": 0, \"ticks\": \"\"}, \"colorscale\": [[0.0, \"#0d0887\"], [0.1111111111111111, \"#46039f\"], [0.2222222222222222, \"#7201a8\"], [0.3333333333333333, \"#9c179e\"], [0.4444444444444444, \"#bd3786\"], [0.5555555555555556, \"#d8576b\"], [0.6666666666666666, \"#ed7953\"], [0.7777777777777778, \"#fb9f3a\"], [0.8888888888888888, \"#fdca26\"], [1.0, \"#f0f921\"]], \"type\": \"heatmapgl\"}], \"histogram\": [{\"marker\": {\"colorbar\": {\"outlinewidth\": 0, \"ticks\": \"\"}}, \"type\": \"histogram\"}], \"histogram2d\": [{\"colorbar\": {\"outlinewidth\": 0, \"ticks\": \"\"}, \"colorscale\": [[0.0, \"#0d0887\"], [0.1111111111111111, \"#46039f\"], [0.2222222222222222, \"#7201a8\"], [0.3333333333333333, \"#9c179e\"], [0.4444444444444444, \"#bd3786\"], [0.5555555555555556, \"#d8576b\"], [0.6666666666666666, \"#ed7953\"], [0.7777777777777778, \"#fb9f3a\"], [0.8888888888888888, \"#fdca26\"], [1.0, \"#f0f921\"]], \"type\": \"histogram2d\"}], \"histogram2dcontour\": [{\"colorbar\": {\"outlinewidth\": 0, \"ticks\": \"\"}, \"colorscale\": [[0.0, \"#0d0887\"], [0.1111111111111111, \"#46039f\"], [0.2222222222222222, \"#7201a8\"], [0.3333333333333333, \"#9c179e\"], [0.4444444444444444, \"#bd3786\"], [0.5555555555555556, \"#d8576b\"], [0.6666666666666666, \"#ed7953\"], [0.7777777777777778, \"#fb9f3a\"], [0.8888888888888888, \"#fdca26\"], [1.0, \"#f0f921\"]], \"type\": \"histogram2dcontour\"}], \"mesh3d\": [{\"colorbar\": {\"outlinewidth\": 0, \"ticks\": \"\"}, \"type\": \"mesh3d\"}], \"parcoords\": [{\"line\": {\"colorbar\": {\"outlinewidth\": 0, \"ticks\": \"\"}}, \"type\": \"parcoords\"}], \"pie\": [{\"automargin\": true, \"type\": \"pie\"}], \"scatter\": [{\"marker\": {\"colorbar\": {\"outlinewidth\": 0, \"ticks\": \"\"}}, \"type\": \"scatter\"}], \"scatter3d\": [{\"line\": {\"colorbar\": {\"outlinewidth\": 0, \"ticks\": \"\"}}, \"marker\": {\"colorbar\": {\"outlinewidth\": 0, \"ticks\": \"\"}}, \"type\": \"scatter3d\"}], \"scattercarpet\": [{\"marker\": {\"colorbar\": {\"outlinewidth\": 0, \"ticks\": \"\"}}, \"type\": \"scattercarpet\"}], \"scattergeo\": [{\"marker\": {\"colorbar\": {\"outlinewidth\": 0, \"ticks\": \"\"}}, \"type\": \"scattergeo\"}], \"scattergl\": [{\"marker\": {\"colorbar\": {\"outlinewidth\": 0, \"ticks\": \"\"}}, \"type\": \"scattergl\"}], \"scattermapbox\": [{\"marker\": {\"colorbar\": {\"outlinewidth\": 0, \"ticks\": \"\"}}, \"type\": \"scattermapbox\"}], \"scatterpolar\": [{\"marker\": {\"colorbar\": {\"outlinewidth\": 0, \"ticks\": \"\"}}, \"type\": \"scatterpolar\"}], \"scatterpolargl\": [{\"marker\": {\"colorbar\": {\"outlinewidth\": 0, \"ticks\": \"\"}}, \"type\": \"scatterpolargl\"}], \"scatterternary\": [{\"marker\": {\"colorbar\": {\"outlinewidth\": 0, \"ticks\": \"\"}}, \"type\": \"scatterternary\"}], \"surface\": [{\"colorbar\": {\"outlinewidth\": 0, \"ticks\": \"\"}, \"colorscale\": [[0.0, \"#0d0887\"], [0.1111111111111111, \"#46039f\"], [0.2222222222222222, \"#7201a8\"], [0.3333333333333333, \"#9c179e\"], [0.4444444444444444, \"#bd3786\"], [0.5555555555555556, \"#d8576b\"], [0.6666666666666666, \"#ed7953\"], [0.7777777777777778, \"#fb9f3a\"], [0.8888888888888888, \"#fdca26\"], [1.0, \"#f0f921\"]], \"type\": \"surface\"}], \"table\": [{\"cells\": {\"fill\": {\"color\": \"#EBF0F8\"}, \"line\": {\"color\": \"white\"}}, \"header\": {\"fill\": {\"color\": \"#C8D4E3\"}, \"line\": {\"color\": \"white\"}}, \"type\": \"table\"}]}, \"layout\": {\"annotationdefaults\": {\"arrowcolor\": \"#2a3f5f\", \"arrowhead\": 0, \"arrowwidth\": 1}, \"coloraxis\": {\"colorbar\": {\"outlinewidth\": 0, \"ticks\": \"\"}}, \"colorscale\": {\"diverging\": [[0, \"#8e0152\"], [0.1, \"#c51b7d\"], [0.2, \"#de77ae\"], [0.3, \"#f1b6da\"], [0.4, \"#fde0ef\"], [0.5, \"#f7f7f7\"], [0.6, \"#e6f5d0\"], [0.7, \"#b8e186\"], [0.8, \"#7fbc41\"], [0.9, \"#4d9221\"], [1, \"#276419\"]], \"sequential\": [[0.0, \"#0d0887\"], [0.1111111111111111, \"#46039f\"], [0.2222222222222222, \"#7201a8\"], [0.3333333333333333, \"#9c179e\"], [0.4444444444444444, \"#bd3786\"], [0.5555555555555556, \"#d8576b\"], [0.6666666666666666, \"#ed7953\"], [0.7777777777777778, \"#fb9f3a\"], [0.8888888888888888, \"#fdca26\"], [1.0, \"#f0f921\"]], \"sequentialminus\": [[0.0, \"#0d0887\"], [0.1111111111111111, \"#46039f\"], [0.2222222222222222, \"#7201a8\"], [0.3333333333333333, \"#9c179e\"], [0.4444444444444444, \"#bd3786\"], [0.5555555555555556, \"#d8576b\"], [0.6666666666666666, \"#ed7953\"], [0.7777777777777778, \"#fb9f3a\"], [0.8888888888888888, \"#fdca26\"], [1.0, \"#f0f921\"]]}, \"colorway\": [\"#636efa\", \"#EF553B\", \"#00cc96\", \"#ab63fa\", \"#FFA15A\", \"#19d3f3\", \"#FF6692\", \"#B6E880\", \"#FF97FF\", \"#FECB52\"], \"font\": {\"color\": \"#2a3f5f\"}, \"geo\": {\"bgcolor\": \"white\", \"lakecolor\": \"white\", \"landcolor\": \"#E5ECF6\", \"showlakes\": true, \"showland\": true, \"subunitcolor\": \"white\"}, \"hoverlabel\": {\"align\": \"left\"}, \"hovermode\": \"closest\", \"mapbox\": {\"style\": \"light\"}, \"paper_bgcolor\": \"white\", \"plot_bgcolor\": \"#E5ECF6\", \"polar\": {\"angularaxis\": {\"gridcolor\": \"white\", \"linecolor\": \"white\", \"ticks\": \"\"}, \"bgcolor\": \"#E5ECF6\", \"radialaxis\": {\"gridcolor\": \"white\", \"linecolor\": \"white\", \"ticks\": \"\"}}, \"scene\": {\"xaxis\": {\"backgroundcolor\": \"#E5ECF6\", \"gridcolor\": \"white\", \"gridwidth\": 2, \"linecolor\": \"white\", \"showbackground\": true, \"ticks\": \"\", \"zerolinecolor\": \"white\"}, \"yaxis\": {\"backgroundcolor\": \"#E5ECF6\", \"gridcolor\": \"white\", \"gridwidth\": 2, \"linecolor\": \"white\", \"showbackground\": true, \"ticks\": \"\", \"zerolinecolor\": \"white\"}, \"zaxis\": {\"backgroundcolor\": \"#E5ECF6\", \"gridcolor\": \"white\", \"gridwidth\": 2, \"linecolor\": \"white\", \"showbackground\": true, \"ticks\": \"\", \"zerolinecolor\": \"white\"}}, \"shapedefaults\": {\"line\": {\"color\": \"#2a3f5f\"}}, \"ternary\": {\"aaxis\": {\"gridcolor\": \"white\", \"linecolor\": \"white\", \"ticks\": \"\"}, \"baxis\": {\"gridcolor\": \"white\", \"linecolor\": \"white\", \"ticks\": \"\"}, \"bgcolor\": \"#E5ECF6\", \"caxis\": {\"gridcolor\": \"white\", \"linecolor\": \"white\", \"ticks\": \"\"}}, \"title\": {\"x\": 0.05}, \"xaxis\": {\"automargin\": true, \"gridcolor\": \"white\", \"linecolor\": \"white\", \"ticks\": \"\", \"title\": {\"standoff\": 15}, \"zerolinecolor\": \"white\", \"zerolinewidth\": 2}, \"yaxis\": {\"automargin\": true, \"gridcolor\": \"white\", \"linecolor\": \"white\", \"ticks\": \"\", \"title\": {\"standoff\": 15}, \"zerolinecolor\": \"white\", \"zerolinewidth\": 2}}}, \"title\": {\"font\": {\"color\": \"#4D5663\"}}, \"xaxis\": {\"gridcolor\": \"#E1E5ED\", \"showgrid\": true, \"tickfont\": {\"color\": \"#4D5663\"}, \"title\": {\"font\": {\"color\": \"#4D5663\"}, \"text\": \"\"}, \"zerolinecolor\": \"#E1E5ED\"}, \"xaxis2\": {\"anchor\": \"y2\", \"gridcolor\": \"#E1E5ED\", \"showgrid\": true, \"showticklabels\": false, \"tickfont\": {\"color\": \"#4D5663\"}, \"title\": {\"font\": {\"color\": \"#4D5663\"}, \"text\": \"\"}, \"zerolinecolor\": \"#E1E5ED\"}, \"yaxis\": {\"domain\": [0.3, 1], \"gridcolor\": \"#E1E5ED\", \"showgrid\": true, \"tickfont\": {\"color\": \"#4D5663\"}, \"title\": {\"font\": {\"color\": \"#4D5663\"}, \"text\": \"\"}, \"zerolinecolor\": \"#E1E5ED\"}, \"yaxis2\": {\"domain\": [0, 0.25], \"gridcolor\": \"#E1E5ED\", \"showgrid\": true, \"tickfont\": {\"color\": \"#4D5663\"}, \"title\": {\"font\": {\"color\": \"#4D5663\"}, \"text\": \"Spread\"}, \"zerolinecolor\": \"#E1E5ED\"}},                        {\"showLink\": true, \"linkText\": \"Export to plot.ly\", \"plotlyServerURL\": \"https://plot.ly\", \"responsive\": true}                    ).then(function(){\n",
       "                            \n",
       "var gd = document.getElementById('f8d874f0-d2d3-4459-9278-d5919535a70b');\n",
       "var x = new MutationObserver(function (mutations, observer) {{\n",
       "        var display = window.getComputedStyle(gd).display;\n",
       "        if (!display || display === 'none') {{\n",
       "            console.log([gd, 'removed!']);\n",
       "            Plotly.purge(gd);\n",
       "            observer.disconnect();\n",
       "        }}\n",
       "}});\n",
       "\n",
       "// Listen for the removal of the full notebook cells\n",
       "var notebookContainer = gd.closest('#notebook-container');\n",
       "if (notebookContainer) {{\n",
       "    x.observe(notebookContainer, {childList: true});\n",
       "}}\n",
       "\n",
       "// Listen for the clearing of the current output cell\n",
       "var outputEl = gd.closest('.output');\n",
       "if (outputEl) {{\n",
       "    x.observe(outputEl, {childList: true});\n",
       "}}\n",
       "\n",
       "                        })                };                });            </script>        </div>"
      ]
     },
     "metadata": {},
     "output_type": "display_data"
    }
   ],
   "source": [
    "import numpy\n",
    "df[['A','B']].iplot(kind='spread')"
   ]
  },
  {
   "cell_type": "markdown",
   "metadata": {},
   "source": [
    "### Histogramm"
   ]
  },
  {
   "cell_type": "code",
   "execution_count": 20,
   "metadata": {},
   "outputs": [
    {
     "data": {
      "application/vnd.plotly.v1+json": {
       "config": {
        "linkText": "Export to plot.ly",
        "plotlyServerURL": "https://plot.ly",
        "showLink": true
       },
       "data": [
        {
         "histfunc": "count",
         "histnorm": "",
         "marker": {
          "color": "rgba(255, 153, 51, 1.0)",
          "line": {
           "color": "#4D5663",
           "width": 1.3
          }
         },
         "name": "A",
         "nbinsx": 25,
         "opacity": 0.8,
         "orientation": "v",
         "type": "histogram",
         "x": [
          -0.13357016322871249,
          -0.9388099126545523,
          0.5117097703051664,
          1.1779855554334155,
          -0.4957539865499914,
          0.7007226194302827,
          -1.618803600536682,
          0.6471942674601291,
          0.18380474352706944,
          -0.8434487884583421,
          -0.14225349702295875,
          -2.0077819846307485,
          0.29759751236156534,
          -1.6326134094630256,
          -1.6519162183269995,
          -0.8539639548069332,
          0.07536835326501973,
          0.40309764714981444,
          1.166158989566912,
          0.46423153191010424,
          1.2319341756988753,
          0.4641824363846118,
          0.05736669686774498,
          0.39587078523377806,
          -0.254006178629848,
          -0.36263870999363906,
          0.6412993423764257,
          -0.3700496398671861,
          -0.13410095704867844,
          0.9817025311756228,
          0.8106484353297797,
          -0.16205295130179306,
          -0.33913108062063313,
          0.057469169391842496,
          -0.26477571549699463,
          0.0024576263945883135,
          -0.7147944079380628,
          -0.9996002696309442,
          0.9184922604899338,
          -1.1992044471144834,
          -0.0014854154246680376,
          0.3345466304861377,
          -0.765893622583983,
          0.10602795313048664,
          -1.591559038672016,
          -1.5312232576890508,
          -0.6366596842954436,
          1.6225309347941257,
          1.7966198104485864,
          2.79022164392135,
          0.27989357476789123,
          -0.4241064293010893,
          0.8388132702372181,
          -1.7267818436917177,
          -0.19362775702521812,
          -0.4368430323944334,
          -0.10776796283523535,
          -0.6502442358995324,
          -1.6219332655111154,
          1.2550106632360527,
          1.1312727057858079,
          -0.14766825632663355,
          -0.8368005671070359,
          -0.3243847866723495,
          -1.2199045625041136,
          -0.23809218291276832,
          -0.08972305687923236,
          -0.05567665301556912,
          0.7666832039503296,
          0.2585425338176482,
          -1.3348907441116726,
          0.6040795355994396,
          0.6531700339950408,
          1.090204612183431,
          -0.6137086038703986,
          0.33791847895736926,
          -1.7392250650949956,
          1.4703656663706586,
          0.27668941996149615,
          0.09627244902315872,
          -0.712464687405788,
          -0.9906689518375307,
          -0.2946382043089493,
          0.5505106266683137,
          -0.7328233537076538,
          0.07719178587171921,
          -0.16515491761973805,
          1.2137032151240978,
          0.6498073142314598,
          -0.36673405463231695,
          0.6143438624170506,
          0.04026987091933534,
          1.7651119672384328,
          2.504762191553729,
          0.19481374841293744,
          -0.695399992508885,
          -0.98880223581316,
          -1.5667214570263932,
          -1.2968714550600573,
          1.4422375463078765
         ]
        }
       ],
       "layout": {
        "barmode": "overlay",
        "legend": {
         "bgcolor": "#F5F6F9",
         "font": {
          "color": "#4D5663"
         }
        },
        "paper_bgcolor": "#F5F6F9",
        "plot_bgcolor": "#F5F6F9",
        "template": {
         "data": {
          "bar": [
           {
            "error_x": {
             "color": "#2a3f5f"
            },
            "error_y": {
             "color": "#2a3f5f"
            },
            "marker": {
             "line": {
              "color": "#E5ECF6",
              "width": 0.5
             }
            },
            "type": "bar"
           }
          ],
          "barpolar": [
           {
            "marker": {
             "line": {
              "color": "#E5ECF6",
              "width": 0.5
             }
            },
            "type": "barpolar"
           }
          ],
          "carpet": [
           {
            "aaxis": {
             "endlinecolor": "#2a3f5f",
             "gridcolor": "white",
             "linecolor": "white",
             "minorgridcolor": "white",
             "startlinecolor": "#2a3f5f"
            },
            "baxis": {
             "endlinecolor": "#2a3f5f",
             "gridcolor": "white",
             "linecolor": "white",
             "minorgridcolor": "white",
             "startlinecolor": "#2a3f5f"
            },
            "type": "carpet"
           }
          ],
          "choropleth": [
           {
            "colorbar": {
             "outlinewidth": 0,
             "ticks": ""
            },
            "type": "choropleth"
           }
          ],
          "contour": [
           {
            "colorbar": {
             "outlinewidth": 0,
             "ticks": ""
            },
            "colorscale": [
             [
              0,
              "#0d0887"
             ],
             [
              0.1111111111111111,
              "#46039f"
             ],
             [
              0.2222222222222222,
              "#7201a8"
             ],
             [
              0.3333333333333333,
              "#9c179e"
             ],
             [
              0.4444444444444444,
              "#bd3786"
             ],
             [
              0.5555555555555556,
              "#d8576b"
             ],
             [
              0.6666666666666666,
              "#ed7953"
             ],
             [
              0.7777777777777778,
              "#fb9f3a"
             ],
             [
              0.8888888888888888,
              "#fdca26"
             ],
             [
              1,
              "#f0f921"
             ]
            ],
            "type": "contour"
           }
          ],
          "contourcarpet": [
           {
            "colorbar": {
             "outlinewidth": 0,
             "ticks": ""
            },
            "type": "contourcarpet"
           }
          ],
          "heatmap": [
           {
            "colorbar": {
             "outlinewidth": 0,
             "ticks": ""
            },
            "colorscale": [
             [
              0,
              "#0d0887"
             ],
             [
              0.1111111111111111,
              "#46039f"
             ],
             [
              0.2222222222222222,
              "#7201a8"
             ],
             [
              0.3333333333333333,
              "#9c179e"
             ],
             [
              0.4444444444444444,
              "#bd3786"
             ],
             [
              0.5555555555555556,
              "#d8576b"
             ],
             [
              0.6666666666666666,
              "#ed7953"
             ],
             [
              0.7777777777777778,
              "#fb9f3a"
             ],
             [
              0.8888888888888888,
              "#fdca26"
             ],
             [
              1,
              "#f0f921"
             ]
            ],
            "type": "heatmap"
           }
          ],
          "heatmapgl": [
           {
            "colorbar": {
             "outlinewidth": 0,
             "ticks": ""
            },
            "colorscale": [
             [
              0,
              "#0d0887"
             ],
             [
              0.1111111111111111,
              "#46039f"
             ],
             [
              0.2222222222222222,
              "#7201a8"
             ],
             [
              0.3333333333333333,
              "#9c179e"
             ],
             [
              0.4444444444444444,
              "#bd3786"
             ],
             [
              0.5555555555555556,
              "#d8576b"
             ],
             [
              0.6666666666666666,
              "#ed7953"
             ],
             [
              0.7777777777777778,
              "#fb9f3a"
             ],
             [
              0.8888888888888888,
              "#fdca26"
             ],
             [
              1,
              "#f0f921"
             ]
            ],
            "type": "heatmapgl"
           }
          ],
          "histogram": [
           {
            "marker": {
             "colorbar": {
              "outlinewidth": 0,
              "ticks": ""
             }
            },
            "type": "histogram"
           }
          ],
          "histogram2d": [
           {
            "colorbar": {
             "outlinewidth": 0,
             "ticks": ""
            },
            "colorscale": [
             [
              0,
              "#0d0887"
             ],
             [
              0.1111111111111111,
              "#46039f"
             ],
             [
              0.2222222222222222,
              "#7201a8"
             ],
             [
              0.3333333333333333,
              "#9c179e"
             ],
             [
              0.4444444444444444,
              "#bd3786"
             ],
             [
              0.5555555555555556,
              "#d8576b"
             ],
             [
              0.6666666666666666,
              "#ed7953"
             ],
             [
              0.7777777777777778,
              "#fb9f3a"
             ],
             [
              0.8888888888888888,
              "#fdca26"
             ],
             [
              1,
              "#f0f921"
             ]
            ],
            "type": "histogram2d"
           }
          ],
          "histogram2dcontour": [
           {
            "colorbar": {
             "outlinewidth": 0,
             "ticks": ""
            },
            "colorscale": [
             [
              0,
              "#0d0887"
             ],
             [
              0.1111111111111111,
              "#46039f"
             ],
             [
              0.2222222222222222,
              "#7201a8"
             ],
             [
              0.3333333333333333,
              "#9c179e"
             ],
             [
              0.4444444444444444,
              "#bd3786"
             ],
             [
              0.5555555555555556,
              "#d8576b"
             ],
             [
              0.6666666666666666,
              "#ed7953"
             ],
             [
              0.7777777777777778,
              "#fb9f3a"
             ],
             [
              0.8888888888888888,
              "#fdca26"
             ],
             [
              1,
              "#f0f921"
             ]
            ],
            "type": "histogram2dcontour"
           }
          ],
          "mesh3d": [
           {
            "colorbar": {
             "outlinewidth": 0,
             "ticks": ""
            },
            "type": "mesh3d"
           }
          ],
          "parcoords": [
           {
            "line": {
             "colorbar": {
              "outlinewidth": 0,
              "ticks": ""
             }
            },
            "type": "parcoords"
           }
          ],
          "pie": [
           {
            "automargin": true,
            "type": "pie"
           }
          ],
          "scatter": [
           {
            "marker": {
             "colorbar": {
              "outlinewidth": 0,
              "ticks": ""
             }
            },
            "type": "scatter"
           }
          ],
          "scatter3d": [
           {
            "line": {
             "colorbar": {
              "outlinewidth": 0,
              "ticks": ""
             }
            },
            "marker": {
             "colorbar": {
              "outlinewidth": 0,
              "ticks": ""
             }
            },
            "type": "scatter3d"
           }
          ],
          "scattercarpet": [
           {
            "marker": {
             "colorbar": {
              "outlinewidth": 0,
              "ticks": ""
             }
            },
            "type": "scattercarpet"
           }
          ],
          "scattergeo": [
           {
            "marker": {
             "colorbar": {
              "outlinewidth": 0,
              "ticks": ""
             }
            },
            "type": "scattergeo"
           }
          ],
          "scattergl": [
           {
            "marker": {
             "colorbar": {
              "outlinewidth": 0,
              "ticks": ""
             }
            },
            "type": "scattergl"
           }
          ],
          "scattermapbox": [
           {
            "marker": {
             "colorbar": {
              "outlinewidth": 0,
              "ticks": ""
             }
            },
            "type": "scattermapbox"
           }
          ],
          "scatterpolar": [
           {
            "marker": {
             "colorbar": {
              "outlinewidth": 0,
              "ticks": ""
             }
            },
            "type": "scatterpolar"
           }
          ],
          "scatterpolargl": [
           {
            "marker": {
             "colorbar": {
              "outlinewidth": 0,
              "ticks": ""
             }
            },
            "type": "scatterpolargl"
           }
          ],
          "scatterternary": [
           {
            "marker": {
             "colorbar": {
              "outlinewidth": 0,
              "ticks": ""
             }
            },
            "type": "scatterternary"
           }
          ],
          "surface": [
           {
            "colorbar": {
             "outlinewidth": 0,
             "ticks": ""
            },
            "colorscale": [
             [
              0,
              "#0d0887"
             ],
             [
              0.1111111111111111,
              "#46039f"
             ],
             [
              0.2222222222222222,
              "#7201a8"
             ],
             [
              0.3333333333333333,
              "#9c179e"
             ],
             [
              0.4444444444444444,
              "#bd3786"
             ],
             [
              0.5555555555555556,
              "#d8576b"
             ],
             [
              0.6666666666666666,
              "#ed7953"
             ],
             [
              0.7777777777777778,
              "#fb9f3a"
             ],
             [
              0.8888888888888888,
              "#fdca26"
             ],
             [
              1,
              "#f0f921"
             ]
            ],
            "type": "surface"
           }
          ],
          "table": [
           {
            "cells": {
             "fill": {
              "color": "#EBF0F8"
             },
             "line": {
              "color": "white"
             }
            },
            "header": {
             "fill": {
              "color": "#C8D4E3"
             },
             "line": {
              "color": "white"
             }
            },
            "type": "table"
           }
          ]
         },
         "layout": {
          "annotationdefaults": {
           "arrowcolor": "#2a3f5f",
           "arrowhead": 0,
           "arrowwidth": 1
          },
          "coloraxis": {
           "colorbar": {
            "outlinewidth": 0,
            "ticks": ""
           }
          },
          "colorscale": {
           "diverging": [
            [
             0,
             "#8e0152"
            ],
            [
             0.1,
             "#c51b7d"
            ],
            [
             0.2,
             "#de77ae"
            ],
            [
             0.3,
             "#f1b6da"
            ],
            [
             0.4,
             "#fde0ef"
            ],
            [
             0.5,
             "#f7f7f7"
            ],
            [
             0.6,
             "#e6f5d0"
            ],
            [
             0.7,
             "#b8e186"
            ],
            [
             0.8,
             "#7fbc41"
            ],
            [
             0.9,
             "#4d9221"
            ],
            [
             1,
             "#276419"
            ]
           ],
           "sequential": [
            [
             0,
             "#0d0887"
            ],
            [
             0.1111111111111111,
             "#46039f"
            ],
            [
             0.2222222222222222,
             "#7201a8"
            ],
            [
             0.3333333333333333,
             "#9c179e"
            ],
            [
             0.4444444444444444,
             "#bd3786"
            ],
            [
             0.5555555555555556,
             "#d8576b"
            ],
            [
             0.6666666666666666,
             "#ed7953"
            ],
            [
             0.7777777777777778,
             "#fb9f3a"
            ],
            [
             0.8888888888888888,
             "#fdca26"
            ],
            [
             1,
             "#f0f921"
            ]
           ],
           "sequentialminus": [
            [
             0,
             "#0d0887"
            ],
            [
             0.1111111111111111,
             "#46039f"
            ],
            [
             0.2222222222222222,
             "#7201a8"
            ],
            [
             0.3333333333333333,
             "#9c179e"
            ],
            [
             0.4444444444444444,
             "#bd3786"
            ],
            [
             0.5555555555555556,
             "#d8576b"
            ],
            [
             0.6666666666666666,
             "#ed7953"
            ],
            [
             0.7777777777777778,
             "#fb9f3a"
            ],
            [
             0.8888888888888888,
             "#fdca26"
            ],
            [
             1,
             "#f0f921"
            ]
           ]
          },
          "colorway": [
           "#636efa",
           "#EF553B",
           "#00cc96",
           "#ab63fa",
           "#FFA15A",
           "#19d3f3",
           "#FF6692",
           "#B6E880",
           "#FF97FF",
           "#FECB52"
          ],
          "font": {
           "color": "#2a3f5f"
          },
          "geo": {
           "bgcolor": "white",
           "lakecolor": "white",
           "landcolor": "#E5ECF6",
           "showlakes": true,
           "showland": true,
           "subunitcolor": "white"
          },
          "hoverlabel": {
           "align": "left"
          },
          "hovermode": "closest",
          "mapbox": {
           "style": "light"
          },
          "paper_bgcolor": "white",
          "plot_bgcolor": "#E5ECF6",
          "polar": {
           "angularaxis": {
            "gridcolor": "white",
            "linecolor": "white",
            "ticks": ""
           },
           "bgcolor": "#E5ECF6",
           "radialaxis": {
            "gridcolor": "white",
            "linecolor": "white",
            "ticks": ""
           }
          },
          "scene": {
           "xaxis": {
            "backgroundcolor": "#E5ECF6",
            "gridcolor": "white",
            "gridwidth": 2,
            "linecolor": "white",
            "showbackground": true,
            "ticks": "",
            "zerolinecolor": "white"
           },
           "yaxis": {
            "backgroundcolor": "#E5ECF6",
            "gridcolor": "white",
            "gridwidth": 2,
            "linecolor": "white",
            "showbackground": true,
            "ticks": "",
            "zerolinecolor": "white"
           },
           "zaxis": {
            "backgroundcolor": "#E5ECF6",
            "gridcolor": "white",
            "gridwidth": 2,
            "linecolor": "white",
            "showbackground": true,
            "ticks": "",
            "zerolinecolor": "white"
           }
          },
          "shapedefaults": {
           "line": {
            "color": "#2a3f5f"
           }
          },
          "ternary": {
           "aaxis": {
            "gridcolor": "white",
            "linecolor": "white",
            "ticks": ""
           },
           "baxis": {
            "gridcolor": "white",
            "linecolor": "white",
            "ticks": ""
           },
           "bgcolor": "#E5ECF6",
           "caxis": {
            "gridcolor": "white",
            "linecolor": "white",
            "ticks": ""
           }
          },
          "title": {
           "x": 0.05
          },
          "xaxis": {
           "automargin": true,
           "gridcolor": "white",
           "linecolor": "white",
           "ticks": "",
           "title": {
            "standoff": 15
           },
           "zerolinecolor": "white",
           "zerolinewidth": 2
          },
          "yaxis": {
           "automargin": true,
           "gridcolor": "white",
           "linecolor": "white",
           "ticks": "",
           "title": {
            "standoff": 15
           },
           "zerolinecolor": "white",
           "zerolinewidth": 2
          }
         }
        },
        "title": {
         "font": {
          "color": "#4D5663"
         }
        },
        "xaxis": {
         "gridcolor": "#E1E5ED",
         "showgrid": true,
         "tickfont": {
          "color": "#4D5663"
         },
         "title": {
          "font": {
           "color": "#4D5663"
          },
          "text": ""
         },
         "zerolinecolor": "#E1E5ED"
        },
        "yaxis": {
         "gridcolor": "#E1E5ED",
         "showgrid": true,
         "tickfont": {
          "color": "#4D5663"
         },
         "title": {
          "font": {
           "color": "#4D5663"
          },
          "text": ""
         },
         "zerolinecolor": "#E1E5ED"
        }
       }
      },
      "text/html": [
       "<div>                            <div id=\"6d225f92-9cca-48e4-abc2-c44bd88f6958\" class=\"plotly-graph-div\" style=\"height:525px; width:100%;\"></div>            <script type=\"text/javascript\">                require([\"plotly\"], function(Plotly) {                    window.PLOTLYENV=window.PLOTLYENV || {};\n",
       "                    window.PLOTLYENV.BASE_URL='https://plot.ly';                                    if (document.getElementById(\"6d225f92-9cca-48e4-abc2-c44bd88f6958\")) {                    Plotly.newPlot(                        \"6d225f92-9cca-48e4-abc2-c44bd88f6958\",                        [{\"histfunc\": \"count\", \"histnorm\": \"\", \"marker\": {\"color\": \"rgba(255, 153, 51, 1.0)\", \"line\": {\"color\": \"#4D5663\", \"width\": 1.3}}, \"name\": \"A\", \"nbinsx\": 25, \"opacity\": 0.8, \"orientation\": \"v\", \"type\": \"histogram\", \"x\": [-0.13357016322871249, -0.9388099126545523, 0.5117097703051664, 1.1779855554334155, -0.4957539865499914, 0.7007226194302827, -1.618803600536682, 0.6471942674601291, 0.18380474352706944, -0.8434487884583421, -0.14225349702295875, -2.0077819846307485, 0.29759751236156534, -1.6326134094630256, -1.6519162183269995, -0.8539639548069332, 0.07536835326501973, 0.40309764714981444, 1.166158989566912, 0.46423153191010424, 1.2319341756988753, 0.4641824363846118, 0.05736669686774498, 0.39587078523377806, -0.254006178629848, -0.36263870999363906, 0.6412993423764257, -0.3700496398671861, -0.13410095704867844, 0.9817025311756228, 0.8106484353297797, -0.16205295130179306, -0.33913108062063313, 0.057469169391842496, -0.26477571549699463, 0.0024576263945883135, -0.7147944079380628, -0.9996002696309442, 0.9184922604899338, -1.1992044471144834, -0.0014854154246680376, 0.3345466304861377, -0.765893622583983, 0.10602795313048664, -1.591559038672016, -1.5312232576890508, -0.6366596842954436, 1.6225309347941257, 1.7966198104485864, 2.79022164392135, 0.27989357476789123, -0.4241064293010893, 0.8388132702372181, -1.7267818436917177, -0.19362775702521812, -0.4368430323944334, -0.10776796283523535, -0.6502442358995324, -1.6219332655111154, 1.2550106632360527, 1.1312727057858079, -0.14766825632663355, -0.8368005671070359, -0.3243847866723495, -1.2199045625041136, -0.23809218291276832, -0.08972305687923236, -0.05567665301556912, 0.7666832039503296, 0.2585425338176482, -1.3348907441116726, 0.6040795355994396, 0.6531700339950408, 1.090204612183431, -0.6137086038703986, 0.33791847895736926, -1.7392250650949956, 1.4703656663706586, 0.27668941996149615, 0.09627244902315872, -0.712464687405788, -0.9906689518375307, -0.2946382043089493, 0.5505106266683137, -0.7328233537076538, 0.07719178587171921, -0.16515491761973805, 1.2137032151240978, 0.6498073142314598, -0.36673405463231695, 0.6143438624170506, 0.04026987091933534, 1.7651119672384328, 2.504762191553729, 0.19481374841293744, -0.695399992508885, -0.98880223581316, -1.5667214570263932, -1.2968714550600573, 1.4422375463078765]}],                        {\"barmode\": \"overlay\", \"legend\": {\"bgcolor\": \"#F5F6F9\", \"font\": {\"color\": \"#4D5663\"}}, \"paper_bgcolor\": \"#F5F6F9\", \"plot_bgcolor\": \"#F5F6F9\", \"template\": {\"data\": {\"bar\": [{\"error_x\": {\"color\": \"#2a3f5f\"}, \"error_y\": {\"color\": \"#2a3f5f\"}, \"marker\": {\"line\": {\"color\": \"#E5ECF6\", \"width\": 0.5}}, \"type\": \"bar\"}], \"barpolar\": [{\"marker\": {\"line\": {\"color\": \"#E5ECF6\", \"width\": 0.5}}, \"type\": \"barpolar\"}], \"carpet\": [{\"aaxis\": {\"endlinecolor\": \"#2a3f5f\", \"gridcolor\": \"white\", \"linecolor\": \"white\", \"minorgridcolor\": \"white\", \"startlinecolor\": \"#2a3f5f\"}, \"baxis\": {\"endlinecolor\": \"#2a3f5f\", \"gridcolor\": \"white\", \"linecolor\": \"white\", \"minorgridcolor\": \"white\", \"startlinecolor\": \"#2a3f5f\"}, \"type\": \"carpet\"}], \"choropleth\": [{\"colorbar\": {\"outlinewidth\": 0, \"ticks\": \"\"}, \"type\": \"choropleth\"}], \"contour\": [{\"colorbar\": {\"outlinewidth\": 0, \"ticks\": \"\"}, \"colorscale\": [[0.0, \"#0d0887\"], [0.1111111111111111, \"#46039f\"], [0.2222222222222222, \"#7201a8\"], [0.3333333333333333, \"#9c179e\"], [0.4444444444444444, \"#bd3786\"], [0.5555555555555556, \"#d8576b\"], [0.6666666666666666, \"#ed7953\"], [0.7777777777777778, \"#fb9f3a\"], [0.8888888888888888, \"#fdca26\"], [1.0, \"#f0f921\"]], \"type\": \"contour\"}], \"contourcarpet\": [{\"colorbar\": {\"outlinewidth\": 0, \"ticks\": \"\"}, \"type\": \"contourcarpet\"}], \"heatmap\": [{\"colorbar\": {\"outlinewidth\": 0, \"ticks\": \"\"}, \"colorscale\": [[0.0, \"#0d0887\"], [0.1111111111111111, \"#46039f\"], [0.2222222222222222, \"#7201a8\"], [0.3333333333333333, \"#9c179e\"], [0.4444444444444444, \"#bd3786\"], [0.5555555555555556, \"#d8576b\"], [0.6666666666666666, \"#ed7953\"], [0.7777777777777778, \"#fb9f3a\"], [0.8888888888888888, \"#fdca26\"], [1.0, \"#f0f921\"]], \"type\": \"heatmap\"}], \"heatmapgl\": [{\"colorbar\": {\"outlinewidth\": 0, \"ticks\": \"\"}, \"colorscale\": [[0.0, \"#0d0887\"], [0.1111111111111111, \"#46039f\"], [0.2222222222222222, \"#7201a8\"], [0.3333333333333333, \"#9c179e\"], [0.4444444444444444, \"#bd3786\"], [0.5555555555555556, \"#d8576b\"], [0.6666666666666666, \"#ed7953\"], [0.7777777777777778, \"#fb9f3a\"], [0.8888888888888888, \"#fdca26\"], [1.0, \"#f0f921\"]], \"type\": \"heatmapgl\"}], \"histogram\": [{\"marker\": {\"colorbar\": {\"outlinewidth\": 0, \"ticks\": \"\"}}, \"type\": \"histogram\"}], \"histogram2d\": [{\"colorbar\": {\"outlinewidth\": 0, \"ticks\": \"\"}, \"colorscale\": [[0.0, \"#0d0887\"], [0.1111111111111111, \"#46039f\"], [0.2222222222222222, \"#7201a8\"], [0.3333333333333333, \"#9c179e\"], [0.4444444444444444, \"#bd3786\"], [0.5555555555555556, \"#d8576b\"], [0.6666666666666666, \"#ed7953\"], [0.7777777777777778, \"#fb9f3a\"], [0.8888888888888888, \"#fdca26\"], [1.0, \"#f0f921\"]], \"type\": \"histogram2d\"}], \"histogram2dcontour\": [{\"colorbar\": {\"outlinewidth\": 0, \"ticks\": \"\"}, \"colorscale\": [[0.0, \"#0d0887\"], [0.1111111111111111, \"#46039f\"], [0.2222222222222222, \"#7201a8\"], [0.3333333333333333, \"#9c179e\"], [0.4444444444444444, \"#bd3786\"], [0.5555555555555556, \"#d8576b\"], [0.6666666666666666, \"#ed7953\"], [0.7777777777777778, \"#fb9f3a\"], [0.8888888888888888, \"#fdca26\"], [1.0, \"#f0f921\"]], \"type\": \"histogram2dcontour\"}], \"mesh3d\": [{\"colorbar\": {\"outlinewidth\": 0, \"ticks\": \"\"}, \"type\": \"mesh3d\"}], \"parcoords\": [{\"line\": {\"colorbar\": {\"outlinewidth\": 0, \"ticks\": \"\"}}, \"type\": \"parcoords\"}], \"pie\": [{\"automargin\": true, \"type\": \"pie\"}], \"scatter\": [{\"marker\": {\"colorbar\": {\"outlinewidth\": 0, \"ticks\": \"\"}}, \"type\": \"scatter\"}], \"scatter3d\": [{\"line\": {\"colorbar\": {\"outlinewidth\": 0, \"ticks\": \"\"}}, \"marker\": {\"colorbar\": {\"outlinewidth\": 0, \"ticks\": \"\"}}, \"type\": \"scatter3d\"}], \"scattercarpet\": [{\"marker\": {\"colorbar\": {\"outlinewidth\": 0, \"ticks\": \"\"}}, \"type\": \"scattercarpet\"}], \"scattergeo\": [{\"marker\": {\"colorbar\": {\"outlinewidth\": 0, \"ticks\": \"\"}}, \"type\": \"scattergeo\"}], \"scattergl\": [{\"marker\": {\"colorbar\": {\"outlinewidth\": 0, \"ticks\": \"\"}}, \"type\": \"scattergl\"}], \"scattermapbox\": [{\"marker\": {\"colorbar\": {\"outlinewidth\": 0, \"ticks\": \"\"}}, \"type\": \"scattermapbox\"}], \"scatterpolar\": [{\"marker\": {\"colorbar\": {\"outlinewidth\": 0, \"ticks\": \"\"}}, \"type\": \"scatterpolar\"}], \"scatterpolargl\": [{\"marker\": {\"colorbar\": {\"outlinewidth\": 0, \"ticks\": \"\"}}, \"type\": \"scatterpolargl\"}], \"scatterternary\": [{\"marker\": {\"colorbar\": {\"outlinewidth\": 0, \"ticks\": \"\"}}, \"type\": \"scatterternary\"}], \"surface\": [{\"colorbar\": {\"outlinewidth\": 0, \"ticks\": \"\"}, \"colorscale\": [[0.0, \"#0d0887\"], [0.1111111111111111, \"#46039f\"], [0.2222222222222222, \"#7201a8\"], [0.3333333333333333, \"#9c179e\"], [0.4444444444444444, \"#bd3786\"], [0.5555555555555556, \"#d8576b\"], [0.6666666666666666, \"#ed7953\"], [0.7777777777777778, \"#fb9f3a\"], [0.8888888888888888, \"#fdca26\"], [1.0, \"#f0f921\"]], \"type\": \"surface\"}], \"table\": [{\"cells\": {\"fill\": {\"color\": \"#EBF0F8\"}, \"line\": {\"color\": \"white\"}}, \"header\": {\"fill\": {\"color\": \"#C8D4E3\"}, \"line\": {\"color\": \"white\"}}, \"type\": \"table\"}]}, \"layout\": {\"annotationdefaults\": {\"arrowcolor\": \"#2a3f5f\", \"arrowhead\": 0, \"arrowwidth\": 1}, \"coloraxis\": {\"colorbar\": {\"outlinewidth\": 0, \"ticks\": \"\"}}, \"colorscale\": {\"diverging\": [[0, \"#8e0152\"], [0.1, \"#c51b7d\"], [0.2, \"#de77ae\"], [0.3, \"#f1b6da\"], [0.4, \"#fde0ef\"], [0.5, \"#f7f7f7\"], [0.6, \"#e6f5d0\"], [0.7, \"#b8e186\"], [0.8, \"#7fbc41\"], [0.9, \"#4d9221\"], [1, \"#276419\"]], \"sequential\": [[0.0, \"#0d0887\"], [0.1111111111111111, \"#46039f\"], [0.2222222222222222, \"#7201a8\"], [0.3333333333333333, \"#9c179e\"], [0.4444444444444444, \"#bd3786\"], [0.5555555555555556, \"#d8576b\"], [0.6666666666666666, \"#ed7953\"], [0.7777777777777778, \"#fb9f3a\"], [0.8888888888888888, \"#fdca26\"], [1.0, \"#f0f921\"]], \"sequentialminus\": [[0.0, \"#0d0887\"], [0.1111111111111111, \"#46039f\"], [0.2222222222222222, \"#7201a8\"], [0.3333333333333333, \"#9c179e\"], [0.4444444444444444, \"#bd3786\"], [0.5555555555555556, \"#d8576b\"], [0.6666666666666666, \"#ed7953\"], [0.7777777777777778, \"#fb9f3a\"], [0.8888888888888888, \"#fdca26\"], [1.0, \"#f0f921\"]]}, \"colorway\": [\"#636efa\", \"#EF553B\", \"#00cc96\", \"#ab63fa\", \"#FFA15A\", \"#19d3f3\", \"#FF6692\", \"#B6E880\", \"#FF97FF\", \"#FECB52\"], \"font\": {\"color\": \"#2a3f5f\"}, \"geo\": {\"bgcolor\": \"white\", \"lakecolor\": \"white\", \"landcolor\": \"#E5ECF6\", \"showlakes\": true, \"showland\": true, \"subunitcolor\": \"white\"}, \"hoverlabel\": {\"align\": \"left\"}, \"hovermode\": \"closest\", \"mapbox\": {\"style\": \"light\"}, \"paper_bgcolor\": \"white\", \"plot_bgcolor\": \"#E5ECF6\", \"polar\": {\"angularaxis\": {\"gridcolor\": \"white\", \"linecolor\": \"white\", \"ticks\": \"\"}, \"bgcolor\": \"#E5ECF6\", \"radialaxis\": {\"gridcolor\": \"white\", \"linecolor\": \"white\", \"ticks\": \"\"}}, \"scene\": {\"xaxis\": {\"backgroundcolor\": \"#E5ECF6\", \"gridcolor\": \"white\", \"gridwidth\": 2, \"linecolor\": \"white\", \"showbackground\": true, \"ticks\": \"\", \"zerolinecolor\": \"white\"}, \"yaxis\": {\"backgroundcolor\": \"#E5ECF6\", \"gridcolor\": \"white\", \"gridwidth\": 2, \"linecolor\": \"white\", \"showbackground\": true, \"ticks\": \"\", \"zerolinecolor\": \"white\"}, \"zaxis\": {\"backgroundcolor\": \"#E5ECF6\", \"gridcolor\": \"white\", \"gridwidth\": 2, \"linecolor\": \"white\", \"showbackground\": true, \"ticks\": \"\", \"zerolinecolor\": \"white\"}}, \"shapedefaults\": {\"line\": {\"color\": \"#2a3f5f\"}}, \"ternary\": {\"aaxis\": {\"gridcolor\": \"white\", \"linecolor\": \"white\", \"ticks\": \"\"}, \"baxis\": {\"gridcolor\": \"white\", \"linecolor\": \"white\", \"ticks\": \"\"}, \"bgcolor\": \"#E5ECF6\", \"caxis\": {\"gridcolor\": \"white\", \"linecolor\": \"white\", \"ticks\": \"\"}}, \"title\": {\"x\": 0.05}, \"xaxis\": {\"automargin\": true, \"gridcolor\": \"white\", \"linecolor\": \"white\", \"ticks\": \"\", \"title\": {\"standoff\": 15}, \"zerolinecolor\": \"white\", \"zerolinewidth\": 2}, \"yaxis\": {\"automargin\": true, \"gridcolor\": \"white\", \"linecolor\": \"white\", \"ticks\": \"\", \"title\": {\"standoff\": 15}, \"zerolinecolor\": \"white\", \"zerolinewidth\": 2}}}, \"title\": {\"font\": {\"color\": \"#4D5663\"}}, \"xaxis\": {\"gridcolor\": \"#E1E5ED\", \"showgrid\": true, \"tickfont\": {\"color\": \"#4D5663\"}, \"title\": {\"font\": {\"color\": \"#4D5663\"}, \"text\": \"\"}, \"zerolinecolor\": \"#E1E5ED\"}, \"yaxis\": {\"gridcolor\": \"#E1E5ED\", \"showgrid\": true, \"tickfont\": {\"color\": \"#4D5663\"}, \"title\": {\"font\": {\"color\": \"#4D5663\"}, \"text\": \"\"}, \"zerolinecolor\": \"#E1E5ED\"}},                        {\"showLink\": true, \"linkText\": \"Export to plot.ly\", \"plotlyServerURL\": \"https://plot.ly\", \"responsive\": true}                    ).then(function(){\n",
       "                            \n",
       "var gd = document.getElementById('6d225f92-9cca-48e4-abc2-c44bd88f6958');\n",
       "var x = new MutationObserver(function (mutations, observer) {{\n",
       "        var display = window.getComputedStyle(gd).display;\n",
       "        if (!display || display === 'none') {{\n",
       "            console.log([gd, 'removed!']);\n",
       "            Plotly.purge(gd);\n",
       "            observer.disconnect();\n",
       "        }}\n",
       "}});\n",
       "\n",
       "// Listen for the removal of the full notebook cells\n",
       "var notebookContainer = gd.closest('#notebook-container');\n",
       "if (notebookContainer) {{\n",
       "    x.observe(notebookContainer, {childList: true});\n",
       "}}\n",
       "\n",
       "// Listen for the clearing of the current output cell\n",
       "var outputEl = gd.closest('.output');\n",
       "if (outputEl) {{\n",
       "    x.observe(outputEl, {childList: true});\n",
       "}}\n",
       "\n",
       "                        })                };                });            </script>        </div>"
      ]
     },
     "metadata": {},
     "output_type": "display_data"
    }
   ],
   "source": [
    "df['A'].iplot(kind='hist',bins=25)"
   ]
  },
  {
   "cell_type": "markdown",
   "metadata": {},
   "source": [
    "### Bubble"
   ]
  },
  {
   "cell_type": "code",
   "execution_count": 21,
   "metadata": {},
   "outputs": [
    {
     "data": {
      "application/vnd.plotly.v1+json": {
       "config": {
        "linkText": "Export to plot.ly",
        "plotlyServerURL": "https://plot.ly",
        "showLink": true
       },
       "data": [
        {
         "marker": {
          "color": [
           "rgb(255, 153, 51)",
           "rgb(55, 128, 191)",
           "rgb(50, 171, 96)",
           "rgb(128, 0, 128)",
           "rgb(219, 64, 82)",
           "rgb(0, 128, 128)",
           "rgb(255, 255, 51)",
           "rgb(128, 128, 0)",
           "rgb(251, 128, 114)",
           "rgb(128, 177, 211)"
          ],
          "line": {
           "width": 1.3
          },
          "size": [
           34,
           73,
           45,
           65,
           60,
           40,
           63,
           76,
           48,
           60,
           37,
           89,
           42,
           59,
           67,
           74,
           58,
           53,
           67,
           70,
           57,
           50,
           54,
           45,
           32,
           59,
           46,
           112,
           79,
           57,
           41,
           54,
           42,
           50,
           68,
           86,
           56,
           28,
           59,
           86,
           25,
           99,
           64,
           39,
           32,
           37,
           63,
           67,
           84,
           81,
           70,
           27,
           82,
           47,
           48,
           54,
           40,
           65,
           12,
           74,
           89,
           55,
           73,
           75,
           66,
           96,
           66,
           48,
           71,
           42,
           63,
           64,
           65,
           62,
           60,
           48,
           34,
           54,
           41,
           82,
           56,
           54,
           66,
           64,
           60,
           67,
           46,
           72,
           65,
           50,
           24,
           107,
           84,
           54,
           57,
           42,
           72,
           20,
           21,
           66
          ],
          "symbol": "circle"
         },
         "mode": "markers",
         "text": "",
         "type": "scatter",
         "x": [
          -0.13357016322871249,
          -0.9388099126545523,
          0.5117097703051664,
          1.1779855554334155,
          -0.4957539865499914,
          0.7007226194302827,
          -1.618803600536682,
          0.6471942674601291,
          0.18380474352706944,
          -0.8434487884583421,
          -0.14225349702295875,
          -2.0077819846307485,
          0.29759751236156534,
          -1.6326134094630256,
          -1.6519162183269995,
          -0.8539639548069332,
          0.07536835326501973,
          0.40309764714981444,
          1.166158989566912,
          0.46423153191010424,
          1.2319341756988753,
          0.4641824363846118,
          0.05736669686774498,
          0.39587078523377806,
          -0.254006178629848,
          -0.36263870999363906,
          0.6412993423764257,
          -0.3700496398671861,
          -0.13410095704867844,
          0.9817025311756228,
          0.8106484353297797,
          -0.16205295130179306,
          -0.33913108062063313,
          0.057469169391842496,
          -0.26477571549699463,
          0.0024576263945883135,
          -0.7147944079380628,
          -0.9996002696309442,
          0.9184922604899338,
          -1.1992044471144834,
          -0.0014854154246680376,
          0.3345466304861377,
          -0.765893622583983,
          0.10602795313048664,
          -1.591559038672016,
          -1.5312232576890508,
          -0.6366596842954436,
          1.6225309347941257,
          1.7966198104485864,
          2.79022164392135,
          0.27989357476789123,
          -0.4241064293010893,
          0.8388132702372181,
          -1.7267818436917177,
          -0.19362775702521812,
          -0.4368430323944334,
          -0.10776796283523535,
          -0.6502442358995324,
          -1.6219332655111154,
          1.2550106632360527,
          1.1312727057858079,
          -0.14766825632663355,
          -0.8368005671070359,
          -0.3243847866723495,
          -1.2199045625041136,
          -0.23809218291276832,
          -0.08972305687923236,
          -0.05567665301556912,
          0.7666832039503296,
          0.2585425338176482,
          -1.3348907441116726,
          0.6040795355994396,
          0.6531700339950408,
          1.090204612183431,
          -0.6137086038703986,
          0.33791847895736926,
          -1.7392250650949956,
          1.4703656663706586,
          0.27668941996149615,
          0.09627244902315872,
          -0.712464687405788,
          -0.9906689518375307,
          -0.2946382043089493,
          0.5505106266683137,
          -0.7328233537076538,
          0.07719178587171921,
          -0.16515491761973805,
          1.2137032151240978,
          0.6498073142314598,
          -0.36673405463231695,
          0.6143438624170506,
          0.04026987091933534,
          1.7651119672384328,
          2.504762191553729,
          0.19481374841293744,
          -0.695399992508885,
          -0.98880223581316,
          -1.5667214570263932,
          -1.2968714550600573,
          1.4422375463078765
         ],
         "y": [
          -1.771315301053812,
          0.28371580039817207,
          1.303979668017339,
          -0.4009436724652719,
          -0.8421376822919558,
          -1.6465719848911848,
          1.690845020202858,
          1.6249160105450737,
          1.1486402676728138,
          1.2817697377258561,
          -2.3492865826040443,
          -0.7341290536641111,
          -1.0151774783057488,
          1.302160688252516,
          0.3722181611452662,
          -0.2537545153874133,
          1.0733525558023929,
          0.013311297241387236,
          -1.584831941900239,
          -0.08844080273559,
          -0.02523400350880266,
          1.8680368996218724,
          0.7902024783347283,
          -1.1507380031196381,
          1.1533029111144617,
          -0.8117613170967656,
          1.2916717955929897,
          0.16307876825058087,
          -0.08776720246335248,
          -0.7169668323701185,
          0.11547599070899921,
          2.028020398950748,
          2.067971296847705,
          -1.7679586572575203,
          -1.9121303185713443,
          0.22433857797991286,
          -0.05078404839345344,
          -1.6452970856783191,
          -2.2029051986762402,
          0.29089672723102883,
          -0.6098968844301316,
          0.4910994061285502,
          0.3276452956611974,
          -0.8080522613359631,
          0.2261764224509759,
          -1.1643304995513808,
          -0.5139522934290397,
          0.05652292348238001,
          -1.0680631748812215,
          -1.1211463646552,
          -0.4212410832484853,
          -1.0984757835014813,
          0.32938239648772344,
          -0.5500316801652668,
          0.24390634734471617,
          0.06022437056695923,
          0.10340482186120566,
          0.008214440317838802,
          2.0666413091693987,
          -0.6463373272003697,
          0.7164276475627177,
          -0.9353036902858883,
          0.2883519549522942,
          -0.24751466010814432,
          -0.07612973193853989,
          -1.388616457975686,
          0.5765020024178159,
          -0.13743540087202014,
          0.5969159313248671,
          0.4040044827769081,
          1.200730957316366,
          -0.6561027766889078,
          -0.7367026331814217,
          3.182032959872631,
          0.34142892232679933,
          -0.433666546367912,
          -0.45821447025373263,
          1.0097119871725126,
          -0.5871000495758965,
          1.2284393627469177,
          1.1344983010102763,
          -0.13325128842744816,
          -1.1939105257456901,
          -2.043792821545929,
          0.6485531035628525,
          0.027039352355595663,
          0.5899161200710822,
          1.3957133480420012,
          -2.0924818534099088,
          0.05259908472658938,
          -0.3149904271888376,
          -0.3649950991421775,
          1.4506623049311254,
          -0.4616033155387015,
          0.3976292886585956,
          -0.4479181999474117,
          -2.342225753002411,
          -0.6694261707440903,
          1.412374347731571,
          -0.2622402824357615
         ]
        }
       ],
       "layout": {
        "legend": {
         "bgcolor": "#F5F6F9",
         "font": {
          "color": "#4D5663"
         }
        },
        "paper_bgcolor": "#F5F6F9",
        "plot_bgcolor": "#F5F6F9",
        "template": {
         "data": {
          "bar": [
           {
            "error_x": {
             "color": "#2a3f5f"
            },
            "error_y": {
             "color": "#2a3f5f"
            },
            "marker": {
             "line": {
              "color": "#E5ECF6",
              "width": 0.5
             }
            },
            "type": "bar"
           }
          ],
          "barpolar": [
           {
            "marker": {
             "line": {
              "color": "#E5ECF6",
              "width": 0.5
             }
            },
            "type": "barpolar"
           }
          ],
          "carpet": [
           {
            "aaxis": {
             "endlinecolor": "#2a3f5f",
             "gridcolor": "white",
             "linecolor": "white",
             "minorgridcolor": "white",
             "startlinecolor": "#2a3f5f"
            },
            "baxis": {
             "endlinecolor": "#2a3f5f",
             "gridcolor": "white",
             "linecolor": "white",
             "minorgridcolor": "white",
             "startlinecolor": "#2a3f5f"
            },
            "type": "carpet"
           }
          ],
          "choropleth": [
           {
            "colorbar": {
             "outlinewidth": 0,
             "ticks": ""
            },
            "type": "choropleth"
           }
          ],
          "contour": [
           {
            "colorbar": {
             "outlinewidth": 0,
             "ticks": ""
            },
            "colorscale": [
             [
              0,
              "#0d0887"
             ],
             [
              0.1111111111111111,
              "#46039f"
             ],
             [
              0.2222222222222222,
              "#7201a8"
             ],
             [
              0.3333333333333333,
              "#9c179e"
             ],
             [
              0.4444444444444444,
              "#bd3786"
             ],
             [
              0.5555555555555556,
              "#d8576b"
             ],
             [
              0.6666666666666666,
              "#ed7953"
             ],
             [
              0.7777777777777778,
              "#fb9f3a"
             ],
             [
              0.8888888888888888,
              "#fdca26"
             ],
             [
              1,
              "#f0f921"
             ]
            ],
            "type": "contour"
           }
          ],
          "contourcarpet": [
           {
            "colorbar": {
             "outlinewidth": 0,
             "ticks": ""
            },
            "type": "contourcarpet"
           }
          ],
          "heatmap": [
           {
            "colorbar": {
             "outlinewidth": 0,
             "ticks": ""
            },
            "colorscale": [
             [
              0,
              "#0d0887"
             ],
             [
              0.1111111111111111,
              "#46039f"
             ],
             [
              0.2222222222222222,
              "#7201a8"
             ],
             [
              0.3333333333333333,
              "#9c179e"
             ],
             [
              0.4444444444444444,
              "#bd3786"
             ],
             [
              0.5555555555555556,
              "#d8576b"
             ],
             [
              0.6666666666666666,
              "#ed7953"
             ],
             [
              0.7777777777777778,
              "#fb9f3a"
             ],
             [
              0.8888888888888888,
              "#fdca26"
             ],
             [
              1,
              "#f0f921"
             ]
            ],
            "type": "heatmap"
           }
          ],
          "heatmapgl": [
           {
            "colorbar": {
             "outlinewidth": 0,
             "ticks": ""
            },
            "colorscale": [
             [
              0,
              "#0d0887"
             ],
             [
              0.1111111111111111,
              "#46039f"
             ],
             [
              0.2222222222222222,
              "#7201a8"
             ],
             [
              0.3333333333333333,
              "#9c179e"
             ],
             [
              0.4444444444444444,
              "#bd3786"
             ],
             [
              0.5555555555555556,
              "#d8576b"
             ],
             [
              0.6666666666666666,
              "#ed7953"
             ],
             [
              0.7777777777777778,
              "#fb9f3a"
             ],
             [
              0.8888888888888888,
              "#fdca26"
             ],
             [
              1,
              "#f0f921"
             ]
            ],
            "type": "heatmapgl"
           }
          ],
          "histogram": [
           {
            "marker": {
             "colorbar": {
              "outlinewidth": 0,
              "ticks": ""
             }
            },
            "type": "histogram"
           }
          ],
          "histogram2d": [
           {
            "colorbar": {
             "outlinewidth": 0,
             "ticks": ""
            },
            "colorscale": [
             [
              0,
              "#0d0887"
             ],
             [
              0.1111111111111111,
              "#46039f"
             ],
             [
              0.2222222222222222,
              "#7201a8"
             ],
             [
              0.3333333333333333,
              "#9c179e"
             ],
             [
              0.4444444444444444,
              "#bd3786"
             ],
             [
              0.5555555555555556,
              "#d8576b"
             ],
             [
              0.6666666666666666,
              "#ed7953"
             ],
             [
              0.7777777777777778,
              "#fb9f3a"
             ],
             [
              0.8888888888888888,
              "#fdca26"
             ],
             [
              1,
              "#f0f921"
             ]
            ],
            "type": "histogram2d"
           }
          ],
          "histogram2dcontour": [
           {
            "colorbar": {
             "outlinewidth": 0,
             "ticks": ""
            },
            "colorscale": [
             [
              0,
              "#0d0887"
             ],
             [
              0.1111111111111111,
              "#46039f"
             ],
             [
              0.2222222222222222,
              "#7201a8"
             ],
             [
              0.3333333333333333,
              "#9c179e"
             ],
             [
              0.4444444444444444,
              "#bd3786"
             ],
             [
              0.5555555555555556,
              "#d8576b"
             ],
             [
              0.6666666666666666,
              "#ed7953"
             ],
             [
              0.7777777777777778,
              "#fb9f3a"
             ],
             [
              0.8888888888888888,
              "#fdca26"
             ],
             [
              1,
              "#f0f921"
             ]
            ],
            "type": "histogram2dcontour"
           }
          ],
          "mesh3d": [
           {
            "colorbar": {
             "outlinewidth": 0,
             "ticks": ""
            },
            "type": "mesh3d"
           }
          ],
          "parcoords": [
           {
            "line": {
             "colorbar": {
              "outlinewidth": 0,
              "ticks": ""
             }
            },
            "type": "parcoords"
           }
          ],
          "pie": [
           {
            "automargin": true,
            "type": "pie"
           }
          ],
          "scatter": [
           {
            "marker": {
             "colorbar": {
              "outlinewidth": 0,
              "ticks": ""
             }
            },
            "type": "scatter"
           }
          ],
          "scatter3d": [
           {
            "line": {
             "colorbar": {
              "outlinewidth": 0,
              "ticks": ""
             }
            },
            "marker": {
             "colorbar": {
              "outlinewidth": 0,
              "ticks": ""
             }
            },
            "type": "scatter3d"
           }
          ],
          "scattercarpet": [
           {
            "marker": {
             "colorbar": {
              "outlinewidth": 0,
              "ticks": ""
             }
            },
            "type": "scattercarpet"
           }
          ],
          "scattergeo": [
           {
            "marker": {
             "colorbar": {
              "outlinewidth": 0,
              "ticks": ""
             }
            },
            "type": "scattergeo"
           }
          ],
          "scattergl": [
           {
            "marker": {
             "colorbar": {
              "outlinewidth": 0,
              "ticks": ""
             }
            },
            "type": "scattergl"
           }
          ],
          "scattermapbox": [
           {
            "marker": {
             "colorbar": {
              "outlinewidth": 0,
              "ticks": ""
             }
            },
            "type": "scattermapbox"
           }
          ],
          "scatterpolar": [
           {
            "marker": {
             "colorbar": {
              "outlinewidth": 0,
              "ticks": ""
             }
            },
            "type": "scatterpolar"
           }
          ],
          "scatterpolargl": [
           {
            "marker": {
             "colorbar": {
              "outlinewidth": 0,
              "ticks": ""
             }
            },
            "type": "scatterpolargl"
           }
          ],
          "scatterternary": [
           {
            "marker": {
             "colorbar": {
              "outlinewidth": 0,
              "ticks": ""
             }
            },
            "type": "scatterternary"
           }
          ],
          "surface": [
           {
            "colorbar": {
             "outlinewidth": 0,
             "ticks": ""
            },
            "colorscale": [
             [
              0,
              "#0d0887"
             ],
             [
              0.1111111111111111,
              "#46039f"
             ],
             [
              0.2222222222222222,
              "#7201a8"
             ],
             [
              0.3333333333333333,
              "#9c179e"
             ],
             [
              0.4444444444444444,
              "#bd3786"
             ],
             [
              0.5555555555555556,
              "#d8576b"
             ],
             [
              0.6666666666666666,
              "#ed7953"
             ],
             [
              0.7777777777777778,
              "#fb9f3a"
             ],
             [
              0.8888888888888888,
              "#fdca26"
             ],
             [
              1,
              "#f0f921"
             ]
            ],
            "type": "surface"
           }
          ],
          "table": [
           {
            "cells": {
             "fill": {
              "color": "#EBF0F8"
             },
             "line": {
              "color": "white"
             }
            },
            "header": {
             "fill": {
              "color": "#C8D4E3"
             },
             "line": {
              "color": "white"
             }
            },
            "type": "table"
           }
          ]
         },
         "layout": {
          "annotationdefaults": {
           "arrowcolor": "#2a3f5f",
           "arrowhead": 0,
           "arrowwidth": 1
          },
          "coloraxis": {
           "colorbar": {
            "outlinewidth": 0,
            "ticks": ""
           }
          },
          "colorscale": {
           "diverging": [
            [
             0,
             "#8e0152"
            ],
            [
             0.1,
             "#c51b7d"
            ],
            [
             0.2,
             "#de77ae"
            ],
            [
             0.3,
             "#f1b6da"
            ],
            [
             0.4,
             "#fde0ef"
            ],
            [
             0.5,
             "#f7f7f7"
            ],
            [
             0.6,
             "#e6f5d0"
            ],
            [
             0.7,
             "#b8e186"
            ],
            [
             0.8,
             "#7fbc41"
            ],
            [
             0.9,
             "#4d9221"
            ],
            [
             1,
             "#276419"
            ]
           ],
           "sequential": [
            [
             0,
             "#0d0887"
            ],
            [
             0.1111111111111111,
             "#46039f"
            ],
            [
             0.2222222222222222,
             "#7201a8"
            ],
            [
             0.3333333333333333,
             "#9c179e"
            ],
            [
             0.4444444444444444,
             "#bd3786"
            ],
            [
             0.5555555555555556,
             "#d8576b"
            ],
            [
             0.6666666666666666,
             "#ed7953"
            ],
            [
             0.7777777777777778,
             "#fb9f3a"
            ],
            [
             0.8888888888888888,
             "#fdca26"
            ],
            [
             1,
             "#f0f921"
            ]
           ],
           "sequentialminus": [
            [
             0,
             "#0d0887"
            ],
            [
             0.1111111111111111,
             "#46039f"
            ],
            [
             0.2222222222222222,
             "#7201a8"
            ],
            [
             0.3333333333333333,
             "#9c179e"
            ],
            [
             0.4444444444444444,
             "#bd3786"
            ],
            [
             0.5555555555555556,
             "#d8576b"
            ],
            [
             0.6666666666666666,
             "#ed7953"
            ],
            [
             0.7777777777777778,
             "#fb9f3a"
            ],
            [
             0.8888888888888888,
             "#fdca26"
            ],
            [
             1,
             "#f0f921"
            ]
           ]
          },
          "colorway": [
           "#636efa",
           "#EF553B",
           "#00cc96",
           "#ab63fa",
           "#FFA15A",
           "#19d3f3",
           "#FF6692",
           "#B6E880",
           "#FF97FF",
           "#FECB52"
          ],
          "font": {
           "color": "#2a3f5f"
          },
          "geo": {
           "bgcolor": "white",
           "lakecolor": "white",
           "landcolor": "#E5ECF6",
           "showlakes": true,
           "showland": true,
           "subunitcolor": "white"
          },
          "hoverlabel": {
           "align": "left"
          },
          "hovermode": "closest",
          "mapbox": {
           "style": "light"
          },
          "paper_bgcolor": "white",
          "plot_bgcolor": "#E5ECF6",
          "polar": {
           "angularaxis": {
            "gridcolor": "white",
            "linecolor": "white",
            "ticks": ""
           },
           "bgcolor": "#E5ECF6",
           "radialaxis": {
            "gridcolor": "white",
            "linecolor": "white",
            "ticks": ""
           }
          },
          "scene": {
           "xaxis": {
            "backgroundcolor": "#E5ECF6",
            "gridcolor": "white",
            "gridwidth": 2,
            "linecolor": "white",
            "showbackground": true,
            "ticks": "",
            "zerolinecolor": "white"
           },
           "yaxis": {
            "backgroundcolor": "#E5ECF6",
            "gridcolor": "white",
            "gridwidth": 2,
            "linecolor": "white",
            "showbackground": true,
            "ticks": "",
            "zerolinecolor": "white"
           },
           "zaxis": {
            "backgroundcolor": "#E5ECF6",
            "gridcolor": "white",
            "gridwidth": 2,
            "linecolor": "white",
            "showbackground": true,
            "ticks": "",
            "zerolinecolor": "white"
           }
          },
          "shapedefaults": {
           "line": {
            "color": "#2a3f5f"
           }
          },
          "ternary": {
           "aaxis": {
            "gridcolor": "white",
            "linecolor": "white",
            "ticks": ""
           },
           "baxis": {
            "gridcolor": "white",
            "linecolor": "white",
            "ticks": ""
           },
           "bgcolor": "#E5ECF6",
           "caxis": {
            "gridcolor": "white",
            "linecolor": "white",
            "ticks": ""
           }
          },
          "title": {
           "x": 0.05
          },
          "xaxis": {
           "automargin": true,
           "gridcolor": "white",
           "linecolor": "white",
           "ticks": "",
           "title": {
            "standoff": 15
           },
           "zerolinecolor": "white",
           "zerolinewidth": 2
          },
          "yaxis": {
           "automargin": true,
           "gridcolor": "white",
           "linecolor": "white",
           "ticks": "",
           "title": {
            "standoff": 15
           },
           "zerolinecolor": "white",
           "zerolinewidth": 2
          }
         }
        },
        "title": {
         "font": {
          "color": "#4D5663"
         }
        },
        "xaxis": {
         "gridcolor": "#E1E5ED",
         "showgrid": true,
         "tickfont": {
          "color": "#4D5663"
         },
         "title": {
          "font": {
           "color": "#4D5663"
          },
          "text": ""
         },
         "zerolinecolor": "#E1E5ED"
        },
        "yaxis": {
         "gridcolor": "#E1E5ED",
         "showgrid": true,
         "tickfont": {
          "color": "#4D5663"
         },
         "title": {
          "font": {
           "color": "#4D5663"
          },
          "text": ""
         },
         "zerolinecolor": "#E1E5ED"
        }
       }
      },
      "text/html": [
       "<div>                            <div id=\"25a58096-5bda-4cb3-af40-e28b3302906f\" class=\"plotly-graph-div\" style=\"height:525px; width:100%;\"></div>            <script type=\"text/javascript\">                require([\"plotly\"], function(Plotly) {                    window.PLOTLYENV=window.PLOTLYENV || {};\n",
       "                    window.PLOTLYENV.BASE_URL='https://plot.ly';                                    if (document.getElementById(\"25a58096-5bda-4cb3-af40-e28b3302906f\")) {                    Plotly.newPlot(                        \"25a58096-5bda-4cb3-af40-e28b3302906f\",                        [{\"marker\": {\"color\": [\"rgb(255, 153, 51)\", \"rgb(55, 128, 191)\", \"rgb(50, 171, 96)\", \"rgb(128, 0, 128)\", \"rgb(219, 64, 82)\", \"rgb(0, 128, 128)\", \"rgb(255, 255, 51)\", \"rgb(128, 128, 0)\", \"rgb(251, 128, 114)\", \"rgb(128, 177, 211)\"], \"line\": {\"width\": 1.3}, \"size\": [34, 73, 45, 65, 60, 40, 63, 76, 48, 60, 37, 89, 42, 59, 67, 74, 58, 53, 67, 70, 57, 50, 54, 45, 32, 59, 46, 112, 79, 57, 41, 54, 42, 50, 68, 86, 56, 28, 59, 86, 25, 99, 64, 39, 32, 37, 63, 67, 84, 81, 70, 27, 82, 47, 48, 54, 40, 65, 12, 74, 89, 55, 73, 75, 66, 96, 66, 48, 71, 42, 63, 64, 65, 62, 60, 48, 34, 54, 41, 82, 56, 54, 66, 64, 60, 67, 46, 72, 65, 50, 24, 107, 84, 54, 57, 42, 72, 20, 21, 66], \"symbol\": \"circle\"}, \"mode\": \"markers\", \"text\": \"\", \"type\": \"scatter\", \"x\": [-0.13357016322871249, -0.9388099126545523, 0.5117097703051664, 1.1779855554334155, -0.4957539865499914, 0.7007226194302827, -1.618803600536682, 0.6471942674601291, 0.18380474352706944, -0.8434487884583421, -0.14225349702295875, -2.0077819846307485, 0.29759751236156534, -1.6326134094630256, -1.6519162183269995, -0.8539639548069332, 0.07536835326501973, 0.40309764714981444, 1.166158989566912, 0.46423153191010424, 1.2319341756988753, 0.4641824363846118, 0.05736669686774498, 0.39587078523377806, -0.254006178629848, -0.36263870999363906, 0.6412993423764257, -0.3700496398671861, -0.13410095704867844, 0.9817025311756228, 0.8106484353297797, -0.16205295130179306, -0.33913108062063313, 0.057469169391842496, -0.26477571549699463, 0.0024576263945883135, -0.7147944079380628, -0.9996002696309442, 0.9184922604899338, -1.1992044471144834, -0.0014854154246680376, 0.3345466304861377, -0.765893622583983, 0.10602795313048664, -1.591559038672016, -1.5312232576890508, -0.6366596842954436, 1.6225309347941257, 1.7966198104485864, 2.79022164392135, 0.27989357476789123, -0.4241064293010893, 0.8388132702372181, -1.7267818436917177, -0.19362775702521812, -0.4368430323944334, -0.10776796283523535, -0.6502442358995324, -1.6219332655111154, 1.2550106632360527, 1.1312727057858079, -0.14766825632663355, -0.8368005671070359, -0.3243847866723495, -1.2199045625041136, -0.23809218291276832, -0.08972305687923236, -0.05567665301556912, 0.7666832039503296, 0.2585425338176482, -1.3348907441116726, 0.6040795355994396, 0.6531700339950408, 1.090204612183431, -0.6137086038703986, 0.33791847895736926, -1.7392250650949956, 1.4703656663706586, 0.27668941996149615, 0.09627244902315872, -0.712464687405788, -0.9906689518375307, -0.2946382043089493, 0.5505106266683137, -0.7328233537076538, 0.07719178587171921, -0.16515491761973805, 1.2137032151240978, 0.6498073142314598, -0.36673405463231695, 0.6143438624170506, 0.04026987091933534, 1.7651119672384328, 2.504762191553729, 0.19481374841293744, -0.695399992508885, -0.98880223581316, -1.5667214570263932, -1.2968714550600573, 1.4422375463078765], \"y\": [-1.771315301053812, 0.28371580039817207, 1.303979668017339, -0.4009436724652719, -0.8421376822919558, -1.6465719848911848, 1.690845020202858, 1.6249160105450737, 1.1486402676728138, 1.2817697377258561, -2.3492865826040443, -0.7341290536641111, -1.0151774783057488, 1.302160688252516, 0.3722181611452662, -0.2537545153874133, 1.0733525558023929, 0.013311297241387236, -1.584831941900239, -0.08844080273559, -0.02523400350880266, 1.8680368996218724, 0.7902024783347283, -1.1507380031196381, 1.1533029111144617, -0.8117613170967656, 1.2916717955929897, 0.16307876825058087, -0.08776720246335248, -0.7169668323701185, 0.11547599070899921, 2.028020398950748, 2.067971296847705, -1.7679586572575203, -1.9121303185713443, 0.22433857797991286, -0.05078404839345344, -1.6452970856783191, -2.2029051986762402, 0.29089672723102883, -0.6098968844301316, 0.4910994061285502, 0.3276452956611974, -0.8080522613359631, 0.2261764224509759, -1.1643304995513808, -0.5139522934290397, 0.05652292348238001, -1.0680631748812215, -1.1211463646552, -0.4212410832484853, -1.0984757835014813, 0.32938239648772344, -0.5500316801652668, 0.24390634734471617, 0.06022437056695923, 0.10340482186120566, 0.008214440317838802, 2.0666413091693987, -0.6463373272003697, 0.7164276475627177, -0.9353036902858883, 0.2883519549522942, -0.24751466010814432, -0.07612973193853989, -1.388616457975686, 0.5765020024178159, -0.13743540087202014, 0.5969159313248671, 0.4040044827769081, 1.200730957316366, -0.6561027766889078, -0.7367026331814217, 3.182032959872631, 0.34142892232679933, -0.433666546367912, -0.45821447025373263, 1.0097119871725126, -0.5871000495758965, 1.2284393627469177, 1.1344983010102763, -0.13325128842744816, -1.1939105257456901, -2.043792821545929, 0.6485531035628525, 0.027039352355595663, 0.5899161200710822, 1.3957133480420012, -2.0924818534099088, 0.05259908472658938, -0.3149904271888376, -0.3649950991421775, 1.4506623049311254, -0.4616033155387015, 0.3976292886585956, -0.4479181999474117, -2.342225753002411, -0.6694261707440903, 1.412374347731571, -0.2622402824357615]}],                        {\"legend\": {\"bgcolor\": \"#F5F6F9\", \"font\": {\"color\": \"#4D5663\"}}, \"paper_bgcolor\": \"#F5F6F9\", \"plot_bgcolor\": \"#F5F6F9\", \"template\": {\"data\": {\"bar\": [{\"error_x\": {\"color\": \"#2a3f5f\"}, \"error_y\": {\"color\": \"#2a3f5f\"}, \"marker\": {\"line\": {\"color\": \"#E5ECF6\", \"width\": 0.5}}, \"type\": \"bar\"}], \"barpolar\": [{\"marker\": {\"line\": {\"color\": \"#E5ECF6\", \"width\": 0.5}}, \"type\": \"barpolar\"}], \"carpet\": [{\"aaxis\": {\"endlinecolor\": \"#2a3f5f\", \"gridcolor\": \"white\", \"linecolor\": \"white\", \"minorgridcolor\": \"white\", \"startlinecolor\": \"#2a3f5f\"}, \"baxis\": {\"endlinecolor\": \"#2a3f5f\", \"gridcolor\": \"white\", \"linecolor\": \"white\", \"minorgridcolor\": \"white\", \"startlinecolor\": \"#2a3f5f\"}, \"type\": \"carpet\"}], \"choropleth\": [{\"colorbar\": {\"outlinewidth\": 0, \"ticks\": \"\"}, \"type\": \"choropleth\"}], \"contour\": [{\"colorbar\": {\"outlinewidth\": 0, \"ticks\": \"\"}, \"colorscale\": [[0.0, \"#0d0887\"], [0.1111111111111111, \"#46039f\"], [0.2222222222222222, \"#7201a8\"], [0.3333333333333333, \"#9c179e\"], [0.4444444444444444, \"#bd3786\"], [0.5555555555555556, \"#d8576b\"], [0.6666666666666666, \"#ed7953\"], [0.7777777777777778, \"#fb9f3a\"], [0.8888888888888888, \"#fdca26\"], [1.0, \"#f0f921\"]], \"type\": \"contour\"}], \"contourcarpet\": [{\"colorbar\": {\"outlinewidth\": 0, \"ticks\": \"\"}, \"type\": \"contourcarpet\"}], \"heatmap\": [{\"colorbar\": {\"outlinewidth\": 0, \"ticks\": \"\"}, \"colorscale\": [[0.0, \"#0d0887\"], [0.1111111111111111, \"#46039f\"], [0.2222222222222222, \"#7201a8\"], [0.3333333333333333, \"#9c179e\"], [0.4444444444444444, \"#bd3786\"], [0.5555555555555556, \"#d8576b\"], [0.6666666666666666, \"#ed7953\"], [0.7777777777777778, \"#fb9f3a\"], [0.8888888888888888, \"#fdca26\"], [1.0, \"#f0f921\"]], \"type\": \"heatmap\"}], \"heatmapgl\": [{\"colorbar\": {\"outlinewidth\": 0, \"ticks\": \"\"}, \"colorscale\": [[0.0, \"#0d0887\"], [0.1111111111111111, \"#46039f\"], [0.2222222222222222, \"#7201a8\"], [0.3333333333333333, \"#9c179e\"], [0.4444444444444444, \"#bd3786\"], [0.5555555555555556, \"#d8576b\"], [0.6666666666666666, \"#ed7953\"], [0.7777777777777778, \"#fb9f3a\"], [0.8888888888888888, \"#fdca26\"], [1.0, \"#f0f921\"]], \"type\": \"heatmapgl\"}], \"histogram\": [{\"marker\": {\"colorbar\": {\"outlinewidth\": 0, \"ticks\": \"\"}}, \"type\": \"histogram\"}], \"histogram2d\": [{\"colorbar\": {\"outlinewidth\": 0, \"ticks\": \"\"}, \"colorscale\": [[0.0, \"#0d0887\"], [0.1111111111111111, \"#46039f\"], [0.2222222222222222, \"#7201a8\"], [0.3333333333333333, \"#9c179e\"], [0.4444444444444444, \"#bd3786\"], [0.5555555555555556, \"#d8576b\"], [0.6666666666666666, \"#ed7953\"], [0.7777777777777778, \"#fb9f3a\"], [0.8888888888888888, \"#fdca26\"], [1.0, \"#f0f921\"]], \"type\": \"histogram2d\"}], \"histogram2dcontour\": [{\"colorbar\": {\"outlinewidth\": 0, \"ticks\": \"\"}, \"colorscale\": [[0.0, \"#0d0887\"], [0.1111111111111111, \"#46039f\"], [0.2222222222222222, \"#7201a8\"], [0.3333333333333333, \"#9c179e\"], [0.4444444444444444, \"#bd3786\"], [0.5555555555555556, \"#d8576b\"], [0.6666666666666666, \"#ed7953\"], [0.7777777777777778, \"#fb9f3a\"], [0.8888888888888888, \"#fdca26\"], [1.0, \"#f0f921\"]], \"type\": \"histogram2dcontour\"}], \"mesh3d\": [{\"colorbar\": {\"outlinewidth\": 0, \"ticks\": \"\"}, \"type\": \"mesh3d\"}], \"parcoords\": [{\"line\": {\"colorbar\": {\"outlinewidth\": 0, \"ticks\": \"\"}}, \"type\": \"parcoords\"}], \"pie\": [{\"automargin\": true, \"type\": \"pie\"}], \"scatter\": [{\"marker\": {\"colorbar\": {\"outlinewidth\": 0, \"ticks\": \"\"}}, \"type\": \"scatter\"}], \"scatter3d\": [{\"line\": {\"colorbar\": {\"outlinewidth\": 0, \"ticks\": \"\"}}, \"marker\": {\"colorbar\": {\"outlinewidth\": 0, \"ticks\": \"\"}}, \"type\": \"scatter3d\"}], \"scattercarpet\": [{\"marker\": {\"colorbar\": {\"outlinewidth\": 0, \"ticks\": \"\"}}, \"type\": \"scattercarpet\"}], \"scattergeo\": [{\"marker\": {\"colorbar\": {\"outlinewidth\": 0, \"ticks\": \"\"}}, \"type\": \"scattergeo\"}], \"scattergl\": [{\"marker\": {\"colorbar\": {\"outlinewidth\": 0, \"ticks\": \"\"}}, \"type\": \"scattergl\"}], \"scattermapbox\": [{\"marker\": {\"colorbar\": {\"outlinewidth\": 0, \"ticks\": \"\"}}, \"type\": \"scattermapbox\"}], \"scatterpolar\": [{\"marker\": {\"colorbar\": {\"outlinewidth\": 0, \"ticks\": \"\"}}, \"type\": \"scatterpolar\"}], \"scatterpolargl\": [{\"marker\": {\"colorbar\": {\"outlinewidth\": 0, \"ticks\": \"\"}}, \"type\": \"scatterpolargl\"}], \"scatterternary\": [{\"marker\": {\"colorbar\": {\"outlinewidth\": 0, \"ticks\": \"\"}}, \"type\": \"scatterternary\"}], \"surface\": [{\"colorbar\": {\"outlinewidth\": 0, \"ticks\": \"\"}, \"colorscale\": [[0.0, \"#0d0887\"], [0.1111111111111111, \"#46039f\"], [0.2222222222222222, \"#7201a8\"], [0.3333333333333333, \"#9c179e\"], [0.4444444444444444, \"#bd3786\"], [0.5555555555555556, \"#d8576b\"], [0.6666666666666666, \"#ed7953\"], [0.7777777777777778, \"#fb9f3a\"], [0.8888888888888888, \"#fdca26\"], [1.0, \"#f0f921\"]], \"type\": \"surface\"}], \"table\": [{\"cells\": {\"fill\": {\"color\": \"#EBF0F8\"}, \"line\": {\"color\": \"white\"}}, \"header\": {\"fill\": {\"color\": \"#C8D4E3\"}, \"line\": {\"color\": \"white\"}}, \"type\": \"table\"}]}, \"layout\": {\"annotationdefaults\": {\"arrowcolor\": \"#2a3f5f\", \"arrowhead\": 0, \"arrowwidth\": 1}, \"coloraxis\": {\"colorbar\": {\"outlinewidth\": 0, \"ticks\": \"\"}}, \"colorscale\": {\"diverging\": [[0, \"#8e0152\"], [0.1, \"#c51b7d\"], [0.2, \"#de77ae\"], [0.3, \"#f1b6da\"], [0.4, \"#fde0ef\"], [0.5, \"#f7f7f7\"], [0.6, \"#e6f5d0\"], [0.7, \"#b8e186\"], [0.8, \"#7fbc41\"], [0.9, \"#4d9221\"], [1, \"#276419\"]], \"sequential\": [[0.0, \"#0d0887\"], [0.1111111111111111, \"#46039f\"], [0.2222222222222222, \"#7201a8\"], [0.3333333333333333, \"#9c179e\"], [0.4444444444444444, \"#bd3786\"], [0.5555555555555556, \"#d8576b\"], [0.6666666666666666, \"#ed7953\"], [0.7777777777777778, \"#fb9f3a\"], [0.8888888888888888, \"#fdca26\"], [1.0, \"#f0f921\"]], \"sequentialminus\": [[0.0, \"#0d0887\"], [0.1111111111111111, \"#46039f\"], [0.2222222222222222, \"#7201a8\"], [0.3333333333333333, \"#9c179e\"], [0.4444444444444444, \"#bd3786\"], [0.5555555555555556, \"#d8576b\"], [0.6666666666666666, \"#ed7953\"], [0.7777777777777778, \"#fb9f3a\"], [0.8888888888888888, \"#fdca26\"], [1.0, \"#f0f921\"]]}, \"colorway\": [\"#636efa\", \"#EF553B\", \"#00cc96\", \"#ab63fa\", \"#FFA15A\", \"#19d3f3\", \"#FF6692\", \"#B6E880\", \"#FF97FF\", \"#FECB52\"], \"font\": {\"color\": \"#2a3f5f\"}, \"geo\": {\"bgcolor\": \"white\", \"lakecolor\": \"white\", \"landcolor\": \"#E5ECF6\", \"showlakes\": true, \"showland\": true, \"subunitcolor\": \"white\"}, \"hoverlabel\": {\"align\": \"left\"}, \"hovermode\": \"closest\", \"mapbox\": {\"style\": \"light\"}, \"paper_bgcolor\": \"white\", \"plot_bgcolor\": \"#E5ECF6\", \"polar\": {\"angularaxis\": {\"gridcolor\": \"white\", \"linecolor\": \"white\", \"ticks\": \"\"}, \"bgcolor\": \"#E5ECF6\", \"radialaxis\": {\"gridcolor\": \"white\", \"linecolor\": \"white\", \"ticks\": \"\"}}, \"scene\": {\"xaxis\": {\"backgroundcolor\": \"#E5ECF6\", \"gridcolor\": \"white\", \"gridwidth\": 2, \"linecolor\": \"white\", \"showbackground\": true, \"ticks\": \"\", \"zerolinecolor\": \"white\"}, \"yaxis\": {\"backgroundcolor\": \"#E5ECF6\", \"gridcolor\": \"white\", \"gridwidth\": 2, \"linecolor\": \"white\", \"showbackground\": true, \"ticks\": \"\", \"zerolinecolor\": \"white\"}, \"zaxis\": {\"backgroundcolor\": \"#E5ECF6\", \"gridcolor\": \"white\", \"gridwidth\": 2, \"linecolor\": \"white\", \"showbackground\": true, \"ticks\": \"\", \"zerolinecolor\": \"white\"}}, \"shapedefaults\": {\"line\": {\"color\": \"#2a3f5f\"}}, \"ternary\": {\"aaxis\": {\"gridcolor\": \"white\", \"linecolor\": \"white\", \"ticks\": \"\"}, \"baxis\": {\"gridcolor\": \"white\", \"linecolor\": \"white\", \"ticks\": \"\"}, \"bgcolor\": \"#E5ECF6\", \"caxis\": {\"gridcolor\": \"white\", \"linecolor\": \"white\", \"ticks\": \"\"}}, \"title\": {\"x\": 0.05}, \"xaxis\": {\"automargin\": true, \"gridcolor\": \"white\", \"linecolor\": \"white\", \"ticks\": \"\", \"title\": {\"standoff\": 15}, \"zerolinecolor\": \"white\", \"zerolinewidth\": 2}, \"yaxis\": {\"automargin\": true, \"gridcolor\": \"white\", \"linecolor\": \"white\", \"ticks\": \"\", \"title\": {\"standoff\": 15}, \"zerolinecolor\": \"white\", \"zerolinewidth\": 2}}}, \"title\": {\"font\": {\"color\": \"#4D5663\"}}, \"xaxis\": {\"gridcolor\": \"#E1E5ED\", \"showgrid\": true, \"tickfont\": {\"color\": \"#4D5663\"}, \"title\": {\"font\": {\"color\": \"#4D5663\"}, \"text\": \"\"}, \"zerolinecolor\": \"#E1E5ED\"}, \"yaxis\": {\"gridcolor\": \"#E1E5ED\", \"showgrid\": true, \"tickfont\": {\"color\": \"#4D5663\"}, \"title\": {\"font\": {\"color\": \"#4D5663\"}, \"text\": \"\"}, \"zerolinecolor\": \"#E1E5ED\"}},                        {\"showLink\": true, \"linkText\": \"Export to plot.ly\", \"plotlyServerURL\": \"https://plot.ly\", \"responsive\": true}                    ).then(function(){\n",
       "                            \n",
       "var gd = document.getElementById('25a58096-5bda-4cb3-af40-e28b3302906f');\n",
       "var x = new MutationObserver(function (mutations, observer) {{\n",
       "        var display = window.getComputedStyle(gd).display;\n",
       "        if (!display || display === 'none') {{\n",
       "            console.log([gd, 'removed!']);\n",
       "            Plotly.purge(gd);\n",
       "            observer.disconnect();\n",
       "        }}\n",
       "}});\n",
       "\n",
       "// Listen for the removal of the full notebook cells\n",
       "var notebookContainer = gd.closest('#notebook-container');\n",
       "if (notebookContainer) {{\n",
       "    x.observe(notebookContainer, {childList: true});\n",
       "}}\n",
       "\n",
       "// Listen for the clearing of the current output cell\n",
       "var outputEl = gd.closest('.output');\n",
       "if (outputEl) {{\n",
       "    x.observe(outputEl, {childList: true});\n",
       "}}\n",
       "\n",
       "                        })                };                });            </script>        </div>"
      ]
     },
     "metadata": {},
     "output_type": "display_data"
    }
   ],
   "source": [
    "df.iplot(kind='bubble',x='A',y='B',size='C')"
   ]
  },
  {
   "cell_type": "markdown",
   "metadata": {},
   "source": [
    "### Scatter Matrix\n",
    "*Entspricht sns.pairplot()*"
   ]
  },
  {
   "cell_type": "code",
   "execution_count": 22,
   "metadata": {},
   "outputs": [
    {
     "data": {
      "application/vnd.plotly.v1+json": {
       "config": {
        "linkText": "Export to plot.ly",
        "plotlyServerURL": "https://plot.ly",
        "showLink": true
       },
       "data": [
        {
         "histfunc": "count",
         "histnorm": "",
         "marker": {
          "color": "rgba(255, 153, 51, 1.0)",
          "line": {
           "color": "#4D5663",
           "width": 1.3
          }
         },
         "name": "A",
         "nbinsx": 10,
         "opacity": 0.8,
         "orientation": "v",
         "type": "histogram",
         "x": [
          -0.13357016322871249,
          -0.9388099126545523,
          0.5117097703051664,
          1.1779855554334155,
          -0.4957539865499914,
          0.7007226194302827,
          -1.618803600536682,
          0.6471942674601291,
          0.18380474352706944,
          -0.8434487884583421,
          -0.14225349702295875,
          -2.0077819846307485,
          0.29759751236156534,
          -1.6326134094630256,
          -1.6519162183269995,
          -0.8539639548069332,
          0.07536835326501973,
          0.40309764714981444,
          1.166158989566912,
          0.46423153191010424,
          1.2319341756988753,
          0.4641824363846118,
          0.05736669686774498,
          0.39587078523377806,
          -0.254006178629848,
          -0.36263870999363906,
          0.6412993423764257,
          -0.3700496398671861,
          -0.13410095704867844,
          0.9817025311756228,
          0.8106484353297797,
          -0.16205295130179306,
          -0.33913108062063313,
          0.057469169391842496,
          -0.26477571549699463,
          0.0024576263945883135,
          -0.7147944079380628,
          -0.9996002696309442,
          0.9184922604899338,
          -1.1992044471144834,
          -0.0014854154246680376,
          0.3345466304861377,
          -0.765893622583983,
          0.10602795313048664,
          -1.591559038672016,
          -1.5312232576890508,
          -0.6366596842954436,
          1.6225309347941257,
          1.7966198104485864,
          2.79022164392135,
          0.27989357476789123,
          -0.4241064293010893,
          0.8388132702372181,
          -1.7267818436917177,
          -0.19362775702521812,
          -0.4368430323944334,
          -0.10776796283523535,
          -0.6502442358995324,
          -1.6219332655111154,
          1.2550106632360527,
          1.1312727057858079,
          -0.14766825632663355,
          -0.8368005671070359,
          -0.3243847866723495,
          -1.2199045625041136,
          -0.23809218291276832,
          -0.08972305687923236,
          -0.05567665301556912,
          0.7666832039503296,
          0.2585425338176482,
          -1.3348907441116726,
          0.6040795355994396,
          0.6531700339950408,
          1.090204612183431,
          -0.6137086038703986,
          0.33791847895736926,
          -1.7392250650949956,
          1.4703656663706586,
          0.27668941996149615,
          0.09627244902315872,
          -0.712464687405788,
          -0.9906689518375307,
          -0.2946382043089493,
          0.5505106266683137,
          -0.7328233537076538,
          0.07719178587171921,
          -0.16515491761973805,
          1.2137032151240978,
          0.6498073142314598,
          -0.36673405463231695,
          0.6143438624170506,
          0.04026987091933534,
          1.7651119672384328,
          2.504762191553729,
          0.19481374841293744,
          -0.695399992508885,
          -0.98880223581316,
          -1.5667214570263932,
          -1.2968714550600573,
          1.4422375463078765
         ],
         "xaxis": "x",
         "yaxis": "y"
        },
        {
         "line": {
          "color": "rgba(128, 128, 128, 1.0)",
          "dash": "solid",
          "shape": "linear",
          "width": 1.3
         },
         "marker": {
          "size": 2,
          "symbol": "circle"
         },
         "mode": "markers",
         "name": "A",
         "text": "",
         "type": "scatter",
         "x": [
          -1.771315301053812,
          0.28371580039817207,
          1.303979668017339,
          -0.4009436724652719,
          -0.8421376822919558,
          -1.6465719848911848,
          1.690845020202858,
          1.6249160105450737,
          1.1486402676728138,
          1.2817697377258561,
          -2.3492865826040443,
          -0.7341290536641111,
          -1.0151774783057488,
          1.302160688252516,
          0.3722181611452662,
          -0.2537545153874133,
          1.0733525558023929,
          0.013311297241387236,
          -1.584831941900239,
          -0.08844080273559,
          -0.02523400350880266,
          1.8680368996218724,
          0.7902024783347283,
          -1.1507380031196381,
          1.1533029111144617,
          -0.8117613170967656,
          1.2916717955929897,
          0.16307876825058087,
          -0.08776720246335248,
          -0.7169668323701185,
          0.11547599070899921,
          2.028020398950748,
          2.067971296847705,
          -1.7679586572575203,
          -1.9121303185713443,
          0.22433857797991286,
          -0.05078404839345344,
          -1.6452970856783191,
          -2.2029051986762402,
          0.29089672723102883,
          -0.6098968844301316,
          0.4910994061285502,
          0.3276452956611974,
          -0.8080522613359631,
          0.2261764224509759,
          -1.1643304995513808,
          -0.5139522934290397,
          0.05652292348238001,
          -1.0680631748812215,
          -1.1211463646552,
          -0.4212410832484853,
          -1.0984757835014813,
          0.32938239648772344,
          -0.5500316801652668,
          0.24390634734471617,
          0.06022437056695923,
          0.10340482186120566,
          0.008214440317838802,
          2.0666413091693987,
          -0.6463373272003697,
          0.7164276475627177,
          -0.9353036902858883,
          0.2883519549522942,
          -0.24751466010814432,
          -0.07612973193853989,
          -1.388616457975686,
          0.5765020024178159,
          -0.13743540087202014,
          0.5969159313248671,
          0.4040044827769081,
          1.200730957316366,
          -0.6561027766889078,
          -0.7367026331814217,
          3.182032959872631,
          0.34142892232679933,
          -0.433666546367912,
          -0.45821447025373263,
          1.0097119871725126,
          -0.5871000495758965,
          1.2284393627469177,
          1.1344983010102763,
          -0.13325128842744816,
          -1.1939105257456901,
          -2.043792821545929,
          0.6485531035628525,
          0.027039352355595663,
          0.5899161200710822,
          1.3957133480420012,
          -2.0924818534099088,
          0.05259908472658938,
          -0.3149904271888376,
          -0.3649950991421775,
          1.4506623049311254,
          -0.4616033155387015,
          0.3976292886585956,
          -0.4479181999474117,
          -2.342225753002411,
          -0.6694261707440903,
          1.412374347731571,
          -0.2622402824357615
         ],
         "xaxis": "x2",
         "y": [
          -0.13357016322871249,
          -0.9388099126545523,
          0.5117097703051664,
          1.1779855554334155,
          -0.4957539865499914,
          0.7007226194302827,
          -1.618803600536682,
          0.6471942674601291,
          0.18380474352706944,
          -0.8434487884583421,
          -0.14225349702295875,
          -2.0077819846307485,
          0.29759751236156534,
          -1.6326134094630256,
          -1.6519162183269995,
          -0.8539639548069332,
          0.07536835326501973,
          0.40309764714981444,
          1.166158989566912,
          0.46423153191010424,
          1.2319341756988753,
          0.4641824363846118,
          0.05736669686774498,
          0.39587078523377806,
          -0.254006178629848,
          -0.36263870999363906,
          0.6412993423764257,
          -0.3700496398671861,
          -0.13410095704867844,
          0.9817025311756228,
          0.8106484353297797,
          -0.16205295130179306,
          -0.33913108062063313,
          0.057469169391842496,
          -0.26477571549699463,
          0.0024576263945883135,
          -0.7147944079380628,
          -0.9996002696309442,
          0.9184922604899338,
          -1.1992044471144834,
          -0.0014854154246680376,
          0.3345466304861377,
          -0.765893622583983,
          0.10602795313048664,
          -1.591559038672016,
          -1.5312232576890508,
          -0.6366596842954436,
          1.6225309347941257,
          1.7966198104485864,
          2.79022164392135,
          0.27989357476789123,
          -0.4241064293010893,
          0.8388132702372181,
          -1.7267818436917177,
          -0.19362775702521812,
          -0.4368430323944334,
          -0.10776796283523535,
          -0.6502442358995324,
          -1.6219332655111154,
          1.2550106632360527,
          1.1312727057858079,
          -0.14766825632663355,
          -0.8368005671070359,
          -0.3243847866723495,
          -1.2199045625041136,
          -0.23809218291276832,
          -0.08972305687923236,
          -0.05567665301556912,
          0.7666832039503296,
          0.2585425338176482,
          -1.3348907441116726,
          0.6040795355994396,
          0.6531700339950408,
          1.090204612183431,
          -0.6137086038703986,
          0.33791847895736926,
          -1.7392250650949956,
          1.4703656663706586,
          0.27668941996149615,
          0.09627244902315872,
          -0.712464687405788,
          -0.9906689518375307,
          -0.2946382043089493,
          0.5505106266683137,
          -0.7328233537076538,
          0.07719178587171921,
          -0.16515491761973805,
          1.2137032151240978,
          0.6498073142314598,
          -0.36673405463231695,
          0.6143438624170506,
          0.04026987091933534,
          1.7651119672384328,
          2.504762191553729,
          0.19481374841293744,
          -0.695399992508885,
          -0.98880223581316,
          -1.5667214570263932,
          -1.2968714550600573,
          1.4422375463078765
         ],
         "yaxis": "y2"
        },
        {
         "line": {
          "color": "rgba(128, 128, 128, 1.0)",
          "dash": "solid",
          "shape": "linear",
          "width": 1.3
         },
         "marker": {
          "size": 2,
          "symbol": "circle"
         },
         "mode": "markers",
         "name": "A",
         "text": "",
         "type": "scatter",
         "x": [
          -1.2579592369558228,
          0.7528169840299983,
          -0.7212252288668569,
          0.3040167880558339,
          0.06405199364242747,
          -0.9794261253256917,
          0.2110250635216258,
          0.8695926420197316,
          -0.5471620336296431,
          0.037644641509716664,
          -1.1279175212907984,
          1.554452868061709,
          -0.8720078626974317,
          -0.010206832100415413,
          0.3959098294577444,
          0.7744721461304633,
          -0.03486702794374062,
          -0.3183871184648832,
          0.4225609493578637,
          0.552122448153061,
          -0.08383964666788961,
          -0.46655386125457127,
          -0.23922394230142296,
          -0.729788466241313,
          -1.3635738098547718,
          0.024262777689102382,
          -0.6662326400440676,
          2.711557508318987,
          1.0497030911463014,
          -0.12120104369763134,
          -0.9314714224706033,
          -0.25335313061922565,
          -0.8706468259824167,
          -0.4646738652540685,
          0.49137998555939516,
          1.4117021072978906,
          -0.13718187470684634,
          -1.615444018765306,
          0.024942414814299662,
          1.3784547189105696,
          -1.762931179346037,
          2.074684529641876,
          0.24551005940638157,
          -1.0266596524872484,
          -1.4051791994362584,
          -1.105473664398208,
          0.19999641366654805,
          0.4336689635382377,
          1.3000851057406768,
          1.1393419618167528,
          0.5490801889968279,
          -1.633631985596189,
          1.1968992342668567,
          -0.6032049920929101,
          -0.5826092395077325,
          -0.2417719225016725,
          -0.9567494384957832,
          0.3284798323601425,
          -2.4402465113975707,
          0.7729841391377279,
          1.553161106113638,
          -0.20333882339927445,
          0.7275606562778946,
          0.8424831941539155,
          0.3420886704554364,
          1.8903511329232836,
          0.36802299677888756,
          -0.5625204226160485,
          0.6096398559747628,
          -0.8744038113144517,
          0.2308186341970769,
          0.24388648034656385,
          0.3219023571744587,
          0.17622540560927966,
          0.0687200798773024,
          -0.5507174486977008,
          -1.2582786139871052,
          -0.24256808812114775,
          -0.9274303682965955,
          1.1977594438659265,
          -0.12240389967362733,
          -0.25759805955960435,
          0.34410471953012245,
          0.24912721791232564,
          0.07636262719982223,
          0.42696823820504093,
          -0.6742097764193655,
          0.6755218777428174,
          0.31694280346361214,
          -0.46585397211821045,
          -1.7707084849884613,
          2.494822526595637,
          1.2801007839658125,
          -0.25980259970521324,
          -0.11055106229552869,
          -0.8455311232198319,
          0.6829304924618667,
          -2.0230467385680986,
          -1.965899318975996,
          0.34957359104221764
         ],
         "xaxis": "x3",
         "y": [
          -0.13357016322871249,
          -0.9388099126545523,
          0.5117097703051664,
          1.1779855554334155,
          -0.4957539865499914,
          0.7007226194302827,
          -1.618803600536682,
          0.6471942674601291,
          0.18380474352706944,
          -0.8434487884583421,
          -0.14225349702295875,
          -2.0077819846307485,
          0.29759751236156534,
          -1.6326134094630256,
          -1.6519162183269995,
          -0.8539639548069332,
          0.07536835326501973,
          0.40309764714981444,
          1.166158989566912,
          0.46423153191010424,
          1.2319341756988753,
          0.4641824363846118,
          0.05736669686774498,
          0.39587078523377806,
          -0.254006178629848,
          -0.36263870999363906,
          0.6412993423764257,
          -0.3700496398671861,
          -0.13410095704867844,
          0.9817025311756228,
          0.8106484353297797,
          -0.16205295130179306,
          -0.33913108062063313,
          0.057469169391842496,
          -0.26477571549699463,
          0.0024576263945883135,
          -0.7147944079380628,
          -0.9996002696309442,
          0.9184922604899338,
          -1.1992044471144834,
          -0.0014854154246680376,
          0.3345466304861377,
          -0.765893622583983,
          0.10602795313048664,
          -1.591559038672016,
          -1.5312232576890508,
          -0.6366596842954436,
          1.6225309347941257,
          1.7966198104485864,
          2.79022164392135,
          0.27989357476789123,
          -0.4241064293010893,
          0.8388132702372181,
          -1.7267818436917177,
          -0.19362775702521812,
          -0.4368430323944334,
          -0.10776796283523535,
          -0.6502442358995324,
          -1.6219332655111154,
          1.2550106632360527,
          1.1312727057858079,
          -0.14766825632663355,
          -0.8368005671070359,
          -0.3243847866723495,
          -1.2199045625041136,
          -0.23809218291276832,
          -0.08972305687923236,
          -0.05567665301556912,
          0.7666832039503296,
          0.2585425338176482,
          -1.3348907441116726,
          0.6040795355994396,
          0.6531700339950408,
          1.090204612183431,
          -0.6137086038703986,
          0.33791847895736926,
          -1.7392250650949956,
          1.4703656663706586,
          0.27668941996149615,
          0.09627244902315872,
          -0.712464687405788,
          -0.9906689518375307,
          -0.2946382043089493,
          0.5505106266683137,
          -0.7328233537076538,
          0.07719178587171921,
          -0.16515491761973805,
          1.2137032151240978,
          0.6498073142314598,
          -0.36673405463231695,
          0.6143438624170506,
          0.04026987091933534,
          1.7651119672384328,
          2.504762191553729,
          0.19481374841293744,
          -0.695399992508885,
          -0.98880223581316,
          -1.5667214570263932,
          -1.2968714550600573,
          1.4422375463078765
         ],
         "yaxis": "y3"
        },
        {
         "line": {
          "color": "rgba(128, 128, 128, 1.0)",
          "dash": "solid",
          "shape": "linear",
          "width": 1.3
         },
         "marker": {
          "size": 2,
          "symbol": "circle"
         },
         "mode": "markers",
         "name": "A",
         "text": "",
         "type": "scatter",
         "x": [
          0.04438298901005722,
          2.01453011666514,
          -0.8277517471019805,
          -0.4800275225455572,
          -1.7434713727845639,
          1.6474424537740948,
          -0.16804861158362375,
          -0.3170576263675429,
          0.5394158840204778,
          -0.6924913946106126,
          0.12869584951149501,
          -1.7170079133817846,
          1.5497731352834976,
          -0.22265567730787772,
          -0.20622471639514134,
          -1.3309127324521304,
          -0.39665514276109454,
          0.9067267568798981,
          -1.6387895792807983,
          0.34456287952360554,
          -0.8154378946192437,
          -0.04865944942180593,
          0.5296800149132371,
          1.7698085655284084,
          -0.7880081927964421,
          0.3259051081955611,
          1.5594467061507356,
          0.6108034574271162,
          0.6846999518933515,
          -0.8729485447088208,
          -1.3139050390278892,
          -2.1655041063750904,
          -0.10354913630562142,
          1.4834866655526269,
          -1.6343680314510447,
          0.9356563089852359,
          0.007046310253665561,
          0.4558758136188569,
          0.4765068400389557,
          -1.1706733088019277,
          0.9350676613976643,
          1.4313982313549363,
          0.5954427133350423,
          0.6200068342203038,
          0.009474970656160889,
          1.1797609679208256,
          -1.1671317090374829,
          -1.0701521169839643,
          -1.7284304653292917,
          1.8470078650353527,
          1.1464085645841953,
          0.29458531691626494,
          0.08570935020443918,
          1.1435119918014651,
          -2.1360784359117577,
          0.4556847608350121,
          0.0513175755211297,
          0.42959911087376695,
          2.4045860592752346,
          -0.08207194954384621,
          -0.12435840040726509,
          -2.2452071344640325,
          2.9569042551254454,
          -0.32906049535149867,
          -0.7127842868462987,
          -0.22034371894642682,
          0.9239351909569483,
          -0.02454792415611727,
          0.5194703811559909,
          -0.7094179821624598,
          -0.016326337686232928,
          -0.4082430523401641,
          -0.7058983800826389,
          0.09316726389439584,
          -0.3845163381140667,
          -0.5644378580981232,
          -0.15046839968890366,
          -0.638550744051377,
          -1.164619415415256,
          -1.2838871358316455,
          -0.46186365658641154,
          0.5187898701446411,
          -0.011885183186334015,
          -0.22220901837735701,
          1.2780779627236407,
          -0.7656378388014617,
          -0.02346141562631671,
          -0.4343304313359113,
          -0.6382552883548942,
          -1.5396187274373607,
          -0.780158031098307,
          -0.07763908522978279,
          -1.0985136000226379,
          -0.4206320982439969,
          0.11552039962919004,
          -0.40687614072653705,
          0.17192303628777747,
          0.28869547425579645,
          -0.3195206685415462,
          0.09628554206664476
         ],
         "xaxis": "x4",
         "y": [
          -0.13357016322871249,
          -0.9388099126545523,
          0.5117097703051664,
          1.1779855554334155,
          -0.4957539865499914,
          0.7007226194302827,
          -1.618803600536682,
          0.6471942674601291,
          0.18380474352706944,
          -0.8434487884583421,
          -0.14225349702295875,
          -2.0077819846307485,
          0.29759751236156534,
          -1.6326134094630256,
          -1.6519162183269995,
          -0.8539639548069332,
          0.07536835326501973,
          0.40309764714981444,
          1.166158989566912,
          0.46423153191010424,
          1.2319341756988753,
          0.4641824363846118,
          0.05736669686774498,
          0.39587078523377806,
          -0.254006178629848,
          -0.36263870999363906,
          0.6412993423764257,
          -0.3700496398671861,
          -0.13410095704867844,
          0.9817025311756228,
          0.8106484353297797,
          -0.16205295130179306,
          -0.33913108062063313,
          0.057469169391842496,
          -0.26477571549699463,
          0.0024576263945883135,
          -0.7147944079380628,
          -0.9996002696309442,
          0.9184922604899338,
          -1.1992044471144834,
          -0.0014854154246680376,
          0.3345466304861377,
          -0.765893622583983,
          0.10602795313048664,
          -1.591559038672016,
          -1.5312232576890508,
          -0.6366596842954436,
          1.6225309347941257,
          1.7966198104485864,
          2.79022164392135,
          0.27989357476789123,
          -0.4241064293010893,
          0.8388132702372181,
          -1.7267818436917177,
          -0.19362775702521812,
          -0.4368430323944334,
          -0.10776796283523535,
          -0.6502442358995324,
          -1.6219332655111154,
          1.2550106632360527,
          1.1312727057858079,
          -0.14766825632663355,
          -0.8368005671070359,
          -0.3243847866723495,
          -1.2199045625041136,
          -0.23809218291276832,
          -0.08972305687923236,
          -0.05567665301556912,
          0.7666832039503296,
          0.2585425338176482,
          -1.3348907441116726,
          0.6040795355994396,
          0.6531700339950408,
          1.090204612183431,
          -0.6137086038703986,
          0.33791847895736926,
          -1.7392250650949956,
          1.4703656663706586,
          0.27668941996149615,
          0.09627244902315872,
          -0.712464687405788,
          -0.9906689518375307,
          -0.2946382043089493,
          0.5505106266683137,
          -0.7328233537076538,
          0.07719178587171921,
          -0.16515491761973805,
          1.2137032151240978,
          0.6498073142314598,
          -0.36673405463231695,
          0.6143438624170506,
          0.04026987091933534,
          1.7651119672384328,
          2.504762191553729,
          0.19481374841293744,
          -0.695399992508885,
          -0.98880223581316,
          -1.5667214570263932,
          -1.2968714550600573,
          1.4422375463078765
         ],
         "yaxis": "y4"
        },
        {
         "line": {
          "color": "rgba(128, 128, 128, 1.0)",
          "dash": "solid",
          "shape": "linear",
          "width": 1.3
         },
         "marker": {
          "size": 2,
          "symbol": "circle"
         },
         "mode": "markers",
         "name": "B",
         "text": "",
         "type": "scatter",
         "x": [
          -0.13357016322871249,
          -0.9388099126545523,
          0.5117097703051664,
          1.1779855554334155,
          -0.4957539865499914,
          0.7007226194302827,
          -1.618803600536682,
          0.6471942674601291,
          0.18380474352706944,
          -0.8434487884583421,
          -0.14225349702295875,
          -2.0077819846307485,
          0.29759751236156534,
          -1.6326134094630256,
          -1.6519162183269995,
          -0.8539639548069332,
          0.07536835326501973,
          0.40309764714981444,
          1.166158989566912,
          0.46423153191010424,
          1.2319341756988753,
          0.4641824363846118,
          0.05736669686774498,
          0.39587078523377806,
          -0.254006178629848,
          -0.36263870999363906,
          0.6412993423764257,
          -0.3700496398671861,
          -0.13410095704867844,
          0.9817025311756228,
          0.8106484353297797,
          -0.16205295130179306,
          -0.33913108062063313,
          0.057469169391842496,
          -0.26477571549699463,
          0.0024576263945883135,
          -0.7147944079380628,
          -0.9996002696309442,
          0.9184922604899338,
          -1.1992044471144834,
          -0.0014854154246680376,
          0.3345466304861377,
          -0.765893622583983,
          0.10602795313048664,
          -1.591559038672016,
          -1.5312232576890508,
          -0.6366596842954436,
          1.6225309347941257,
          1.7966198104485864,
          2.79022164392135,
          0.27989357476789123,
          -0.4241064293010893,
          0.8388132702372181,
          -1.7267818436917177,
          -0.19362775702521812,
          -0.4368430323944334,
          -0.10776796283523535,
          -0.6502442358995324,
          -1.6219332655111154,
          1.2550106632360527,
          1.1312727057858079,
          -0.14766825632663355,
          -0.8368005671070359,
          -0.3243847866723495,
          -1.2199045625041136,
          -0.23809218291276832,
          -0.08972305687923236,
          -0.05567665301556912,
          0.7666832039503296,
          0.2585425338176482,
          -1.3348907441116726,
          0.6040795355994396,
          0.6531700339950408,
          1.090204612183431,
          -0.6137086038703986,
          0.33791847895736926,
          -1.7392250650949956,
          1.4703656663706586,
          0.27668941996149615,
          0.09627244902315872,
          -0.712464687405788,
          -0.9906689518375307,
          -0.2946382043089493,
          0.5505106266683137,
          -0.7328233537076538,
          0.07719178587171921,
          -0.16515491761973805,
          1.2137032151240978,
          0.6498073142314598,
          -0.36673405463231695,
          0.6143438624170506,
          0.04026987091933534,
          1.7651119672384328,
          2.504762191553729,
          0.19481374841293744,
          -0.695399992508885,
          -0.98880223581316,
          -1.5667214570263932,
          -1.2968714550600573,
          1.4422375463078765
         ],
         "xaxis": "x5",
         "y": [
          -1.771315301053812,
          0.28371580039817207,
          1.303979668017339,
          -0.4009436724652719,
          -0.8421376822919558,
          -1.6465719848911848,
          1.690845020202858,
          1.6249160105450737,
          1.1486402676728138,
          1.2817697377258561,
          -2.3492865826040443,
          -0.7341290536641111,
          -1.0151774783057488,
          1.302160688252516,
          0.3722181611452662,
          -0.2537545153874133,
          1.0733525558023929,
          0.013311297241387236,
          -1.584831941900239,
          -0.08844080273559,
          -0.02523400350880266,
          1.8680368996218724,
          0.7902024783347283,
          -1.1507380031196381,
          1.1533029111144617,
          -0.8117613170967656,
          1.2916717955929897,
          0.16307876825058087,
          -0.08776720246335248,
          -0.7169668323701185,
          0.11547599070899921,
          2.028020398950748,
          2.067971296847705,
          -1.7679586572575203,
          -1.9121303185713443,
          0.22433857797991286,
          -0.05078404839345344,
          -1.6452970856783191,
          -2.2029051986762402,
          0.29089672723102883,
          -0.6098968844301316,
          0.4910994061285502,
          0.3276452956611974,
          -0.8080522613359631,
          0.2261764224509759,
          -1.1643304995513808,
          -0.5139522934290397,
          0.05652292348238001,
          -1.0680631748812215,
          -1.1211463646552,
          -0.4212410832484853,
          -1.0984757835014813,
          0.32938239648772344,
          -0.5500316801652668,
          0.24390634734471617,
          0.06022437056695923,
          0.10340482186120566,
          0.008214440317838802,
          2.0666413091693987,
          -0.6463373272003697,
          0.7164276475627177,
          -0.9353036902858883,
          0.2883519549522942,
          -0.24751466010814432,
          -0.07612973193853989,
          -1.388616457975686,
          0.5765020024178159,
          -0.13743540087202014,
          0.5969159313248671,
          0.4040044827769081,
          1.200730957316366,
          -0.6561027766889078,
          -0.7367026331814217,
          3.182032959872631,
          0.34142892232679933,
          -0.433666546367912,
          -0.45821447025373263,
          1.0097119871725126,
          -0.5871000495758965,
          1.2284393627469177,
          1.1344983010102763,
          -0.13325128842744816,
          -1.1939105257456901,
          -2.043792821545929,
          0.6485531035628525,
          0.027039352355595663,
          0.5899161200710822,
          1.3957133480420012,
          -2.0924818534099088,
          0.05259908472658938,
          -0.3149904271888376,
          -0.3649950991421775,
          1.4506623049311254,
          -0.4616033155387015,
          0.3976292886585956,
          -0.4479181999474117,
          -2.342225753002411,
          -0.6694261707440903,
          1.412374347731571,
          -0.2622402824357615
         ],
         "yaxis": "y5"
        },
        {
         "histfunc": "count",
         "histnorm": "",
         "marker": {
          "color": "rgba(55, 128, 191, 1.0)",
          "line": {
           "color": "#4D5663",
           "width": 1.3
          }
         },
         "name": "B",
         "nbinsx": 10,
         "opacity": 0.8,
         "orientation": "v",
         "type": "histogram",
         "x": [
          -1.771315301053812,
          0.28371580039817207,
          1.303979668017339,
          -0.4009436724652719,
          -0.8421376822919558,
          -1.6465719848911848,
          1.690845020202858,
          1.6249160105450737,
          1.1486402676728138,
          1.2817697377258561,
          -2.3492865826040443,
          -0.7341290536641111,
          -1.0151774783057488,
          1.302160688252516,
          0.3722181611452662,
          -0.2537545153874133,
          1.0733525558023929,
          0.013311297241387236,
          -1.584831941900239,
          -0.08844080273559,
          -0.02523400350880266,
          1.8680368996218724,
          0.7902024783347283,
          -1.1507380031196381,
          1.1533029111144617,
          -0.8117613170967656,
          1.2916717955929897,
          0.16307876825058087,
          -0.08776720246335248,
          -0.7169668323701185,
          0.11547599070899921,
          2.028020398950748,
          2.067971296847705,
          -1.7679586572575203,
          -1.9121303185713443,
          0.22433857797991286,
          -0.05078404839345344,
          -1.6452970856783191,
          -2.2029051986762402,
          0.29089672723102883,
          -0.6098968844301316,
          0.4910994061285502,
          0.3276452956611974,
          -0.8080522613359631,
          0.2261764224509759,
          -1.1643304995513808,
          -0.5139522934290397,
          0.05652292348238001,
          -1.0680631748812215,
          -1.1211463646552,
          -0.4212410832484853,
          -1.0984757835014813,
          0.32938239648772344,
          -0.5500316801652668,
          0.24390634734471617,
          0.06022437056695923,
          0.10340482186120566,
          0.008214440317838802,
          2.0666413091693987,
          -0.6463373272003697,
          0.7164276475627177,
          -0.9353036902858883,
          0.2883519549522942,
          -0.24751466010814432,
          -0.07612973193853989,
          -1.388616457975686,
          0.5765020024178159,
          -0.13743540087202014,
          0.5969159313248671,
          0.4040044827769081,
          1.200730957316366,
          -0.6561027766889078,
          -0.7367026331814217,
          3.182032959872631,
          0.34142892232679933,
          -0.433666546367912,
          -0.45821447025373263,
          1.0097119871725126,
          -0.5871000495758965,
          1.2284393627469177,
          1.1344983010102763,
          -0.13325128842744816,
          -1.1939105257456901,
          -2.043792821545929,
          0.6485531035628525,
          0.027039352355595663,
          0.5899161200710822,
          1.3957133480420012,
          -2.0924818534099088,
          0.05259908472658938,
          -0.3149904271888376,
          -0.3649950991421775,
          1.4506623049311254,
          -0.4616033155387015,
          0.3976292886585956,
          -0.4479181999474117,
          -2.342225753002411,
          -0.6694261707440903,
          1.412374347731571,
          -0.2622402824357615
         ],
         "xaxis": "x6",
         "yaxis": "y6"
        },
        {
         "line": {
          "color": "rgba(128, 128, 128, 1.0)",
          "dash": "solid",
          "shape": "linear",
          "width": 1.3
         },
         "marker": {
          "size": 2,
          "symbol": "circle"
         },
         "mode": "markers",
         "name": "B",
         "text": "",
         "type": "scatter",
         "x": [
          -1.2579592369558228,
          0.7528169840299983,
          -0.7212252288668569,
          0.3040167880558339,
          0.06405199364242747,
          -0.9794261253256917,
          0.2110250635216258,
          0.8695926420197316,
          -0.5471620336296431,
          0.037644641509716664,
          -1.1279175212907984,
          1.554452868061709,
          -0.8720078626974317,
          -0.010206832100415413,
          0.3959098294577444,
          0.7744721461304633,
          -0.03486702794374062,
          -0.3183871184648832,
          0.4225609493578637,
          0.552122448153061,
          -0.08383964666788961,
          -0.46655386125457127,
          -0.23922394230142296,
          -0.729788466241313,
          -1.3635738098547718,
          0.024262777689102382,
          -0.6662326400440676,
          2.711557508318987,
          1.0497030911463014,
          -0.12120104369763134,
          -0.9314714224706033,
          -0.25335313061922565,
          -0.8706468259824167,
          -0.4646738652540685,
          0.49137998555939516,
          1.4117021072978906,
          -0.13718187470684634,
          -1.615444018765306,
          0.024942414814299662,
          1.3784547189105696,
          -1.762931179346037,
          2.074684529641876,
          0.24551005940638157,
          -1.0266596524872484,
          -1.4051791994362584,
          -1.105473664398208,
          0.19999641366654805,
          0.4336689635382377,
          1.3000851057406768,
          1.1393419618167528,
          0.5490801889968279,
          -1.633631985596189,
          1.1968992342668567,
          -0.6032049920929101,
          -0.5826092395077325,
          -0.2417719225016725,
          -0.9567494384957832,
          0.3284798323601425,
          -2.4402465113975707,
          0.7729841391377279,
          1.553161106113638,
          -0.20333882339927445,
          0.7275606562778946,
          0.8424831941539155,
          0.3420886704554364,
          1.8903511329232836,
          0.36802299677888756,
          -0.5625204226160485,
          0.6096398559747628,
          -0.8744038113144517,
          0.2308186341970769,
          0.24388648034656385,
          0.3219023571744587,
          0.17622540560927966,
          0.0687200798773024,
          -0.5507174486977008,
          -1.2582786139871052,
          -0.24256808812114775,
          -0.9274303682965955,
          1.1977594438659265,
          -0.12240389967362733,
          -0.25759805955960435,
          0.34410471953012245,
          0.24912721791232564,
          0.07636262719982223,
          0.42696823820504093,
          -0.6742097764193655,
          0.6755218777428174,
          0.31694280346361214,
          -0.46585397211821045,
          -1.7707084849884613,
          2.494822526595637,
          1.2801007839658125,
          -0.25980259970521324,
          -0.11055106229552869,
          -0.8455311232198319,
          0.6829304924618667,
          -2.0230467385680986,
          -1.965899318975996,
          0.34957359104221764
         ],
         "xaxis": "x7",
         "y": [
          -1.771315301053812,
          0.28371580039817207,
          1.303979668017339,
          -0.4009436724652719,
          -0.8421376822919558,
          -1.6465719848911848,
          1.690845020202858,
          1.6249160105450737,
          1.1486402676728138,
          1.2817697377258561,
          -2.3492865826040443,
          -0.7341290536641111,
          -1.0151774783057488,
          1.302160688252516,
          0.3722181611452662,
          -0.2537545153874133,
          1.0733525558023929,
          0.013311297241387236,
          -1.584831941900239,
          -0.08844080273559,
          -0.02523400350880266,
          1.8680368996218724,
          0.7902024783347283,
          -1.1507380031196381,
          1.1533029111144617,
          -0.8117613170967656,
          1.2916717955929897,
          0.16307876825058087,
          -0.08776720246335248,
          -0.7169668323701185,
          0.11547599070899921,
          2.028020398950748,
          2.067971296847705,
          -1.7679586572575203,
          -1.9121303185713443,
          0.22433857797991286,
          -0.05078404839345344,
          -1.6452970856783191,
          -2.2029051986762402,
          0.29089672723102883,
          -0.6098968844301316,
          0.4910994061285502,
          0.3276452956611974,
          -0.8080522613359631,
          0.2261764224509759,
          -1.1643304995513808,
          -0.5139522934290397,
          0.05652292348238001,
          -1.0680631748812215,
          -1.1211463646552,
          -0.4212410832484853,
          -1.0984757835014813,
          0.32938239648772344,
          -0.5500316801652668,
          0.24390634734471617,
          0.06022437056695923,
          0.10340482186120566,
          0.008214440317838802,
          2.0666413091693987,
          -0.6463373272003697,
          0.7164276475627177,
          -0.9353036902858883,
          0.2883519549522942,
          -0.24751466010814432,
          -0.07612973193853989,
          -1.388616457975686,
          0.5765020024178159,
          -0.13743540087202014,
          0.5969159313248671,
          0.4040044827769081,
          1.200730957316366,
          -0.6561027766889078,
          -0.7367026331814217,
          3.182032959872631,
          0.34142892232679933,
          -0.433666546367912,
          -0.45821447025373263,
          1.0097119871725126,
          -0.5871000495758965,
          1.2284393627469177,
          1.1344983010102763,
          -0.13325128842744816,
          -1.1939105257456901,
          -2.043792821545929,
          0.6485531035628525,
          0.027039352355595663,
          0.5899161200710822,
          1.3957133480420012,
          -2.0924818534099088,
          0.05259908472658938,
          -0.3149904271888376,
          -0.3649950991421775,
          1.4506623049311254,
          -0.4616033155387015,
          0.3976292886585956,
          -0.4479181999474117,
          -2.342225753002411,
          -0.6694261707440903,
          1.412374347731571,
          -0.2622402824357615
         ],
         "yaxis": "y7"
        },
        {
         "line": {
          "color": "rgba(128, 128, 128, 1.0)",
          "dash": "solid",
          "shape": "linear",
          "width": 1.3
         },
         "marker": {
          "size": 2,
          "symbol": "circle"
         },
         "mode": "markers",
         "name": "B",
         "text": "",
         "type": "scatter",
         "x": [
          0.04438298901005722,
          2.01453011666514,
          -0.8277517471019805,
          -0.4800275225455572,
          -1.7434713727845639,
          1.6474424537740948,
          -0.16804861158362375,
          -0.3170576263675429,
          0.5394158840204778,
          -0.6924913946106126,
          0.12869584951149501,
          -1.7170079133817846,
          1.5497731352834976,
          -0.22265567730787772,
          -0.20622471639514134,
          -1.3309127324521304,
          -0.39665514276109454,
          0.9067267568798981,
          -1.6387895792807983,
          0.34456287952360554,
          -0.8154378946192437,
          -0.04865944942180593,
          0.5296800149132371,
          1.7698085655284084,
          -0.7880081927964421,
          0.3259051081955611,
          1.5594467061507356,
          0.6108034574271162,
          0.6846999518933515,
          -0.8729485447088208,
          -1.3139050390278892,
          -2.1655041063750904,
          -0.10354913630562142,
          1.4834866655526269,
          -1.6343680314510447,
          0.9356563089852359,
          0.007046310253665561,
          0.4558758136188569,
          0.4765068400389557,
          -1.1706733088019277,
          0.9350676613976643,
          1.4313982313549363,
          0.5954427133350423,
          0.6200068342203038,
          0.009474970656160889,
          1.1797609679208256,
          -1.1671317090374829,
          -1.0701521169839643,
          -1.7284304653292917,
          1.8470078650353527,
          1.1464085645841953,
          0.29458531691626494,
          0.08570935020443918,
          1.1435119918014651,
          -2.1360784359117577,
          0.4556847608350121,
          0.0513175755211297,
          0.42959911087376695,
          2.4045860592752346,
          -0.08207194954384621,
          -0.12435840040726509,
          -2.2452071344640325,
          2.9569042551254454,
          -0.32906049535149867,
          -0.7127842868462987,
          -0.22034371894642682,
          0.9239351909569483,
          -0.02454792415611727,
          0.5194703811559909,
          -0.7094179821624598,
          -0.016326337686232928,
          -0.4082430523401641,
          -0.7058983800826389,
          0.09316726389439584,
          -0.3845163381140667,
          -0.5644378580981232,
          -0.15046839968890366,
          -0.638550744051377,
          -1.164619415415256,
          -1.2838871358316455,
          -0.46186365658641154,
          0.5187898701446411,
          -0.011885183186334015,
          -0.22220901837735701,
          1.2780779627236407,
          -0.7656378388014617,
          -0.02346141562631671,
          -0.4343304313359113,
          -0.6382552883548942,
          -1.5396187274373607,
          -0.780158031098307,
          -0.07763908522978279,
          -1.0985136000226379,
          -0.4206320982439969,
          0.11552039962919004,
          -0.40687614072653705,
          0.17192303628777747,
          0.28869547425579645,
          -0.3195206685415462,
          0.09628554206664476
         ],
         "xaxis": "x8",
         "y": [
          -1.771315301053812,
          0.28371580039817207,
          1.303979668017339,
          -0.4009436724652719,
          -0.8421376822919558,
          -1.6465719848911848,
          1.690845020202858,
          1.6249160105450737,
          1.1486402676728138,
          1.2817697377258561,
          -2.3492865826040443,
          -0.7341290536641111,
          -1.0151774783057488,
          1.302160688252516,
          0.3722181611452662,
          -0.2537545153874133,
          1.0733525558023929,
          0.013311297241387236,
          -1.584831941900239,
          -0.08844080273559,
          -0.02523400350880266,
          1.8680368996218724,
          0.7902024783347283,
          -1.1507380031196381,
          1.1533029111144617,
          -0.8117613170967656,
          1.2916717955929897,
          0.16307876825058087,
          -0.08776720246335248,
          -0.7169668323701185,
          0.11547599070899921,
          2.028020398950748,
          2.067971296847705,
          -1.7679586572575203,
          -1.9121303185713443,
          0.22433857797991286,
          -0.05078404839345344,
          -1.6452970856783191,
          -2.2029051986762402,
          0.29089672723102883,
          -0.6098968844301316,
          0.4910994061285502,
          0.3276452956611974,
          -0.8080522613359631,
          0.2261764224509759,
          -1.1643304995513808,
          -0.5139522934290397,
          0.05652292348238001,
          -1.0680631748812215,
          -1.1211463646552,
          -0.4212410832484853,
          -1.0984757835014813,
          0.32938239648772344,
          -0.5500316801652668,
          0.24390634734471617,
          0.06022437056695923,
          0.10340482186120566,
          0.008214440317838802,
          2.0666413091693987,
          -0.6463373272003697,
          0.7164276475627177,
          -0.9353036902858883,
          0.2883519549522942,
          -0.24751466010814432,
          -0.07612973193853989,
          -1.388616457975686,
          0.5765020024178159,
          -0.13743540087202014,
          0.5969159313248671,
          0.4040044827769081,
          1.200730957316366,
          -0.6561027766889078,
          -0.7367026331814217,
          3.182032959872631,
          0.34142892232679933,
          -0.433666546367912,
          -0.45821447025373263,
          1.0097119871725126,
          -0.5871000495758965,
          1.2284393627469177,
          1.1344983010102763,
          -0.13325128842744816,
          -1.1939105257456901,
          -2.043792821545929,
          0.6485531035628525,
          0.027039352355595663,
          0.5899161200710822,
          1.3957133480420012,
          -2.0924818534099088,
          0.05259908472658938,
          -0.3149904271888376,
          -0.3649950991421775,
          1.4506623049311254,
          -0.4616033155387015,
          0.3976292886585956,
          -0.4479181999474117,
          -2.342225753002411,
          -0.6694261707440903,
          1.412374347731571,
          -0.2622402824357615
         ],
         "yaxis": "y8"
        },
        {
         "line": {
          "color": "rgba(128, 128, 128, 1.0)",
          "dash": "solid",
          "shape": "linear",
          "width": 1.3
         },
         "marker": {
          "size": 2,
          "symbol": "circle"
         },
         "mode": "markers",
         "name": "C",
         "text": "",
         "type": "scatter",
         "x": [
          -0.13357016322871249,
          -0.9388099126545523,
          0.5117097703051664,
          1.1779855554334155,
          -0.4957539865499914,
          0.7007226194302827,
          -1.618803600536682,
          0.6471942674601291,
          0.18380474352706944,
          -0.8434487884583421,
          -0.14225349702295875,
          -2.0077819846307485,
          0.29759751236156534,
          -1.6326134094630256,
          -1.6519162183269995,
          -0.8539639548069332,
          0.07536835326501973,
          0.40309764714981444,
          1.166158989566912,
          0.46423153191010424,
          1.2319341756988753,
          0.4641824363846118,
          0.05736669686774498,
          0.39587078523377806,
          -0.254006178629848,
          -0.36263870999363906,
          0.6412993423764257,
          -0.3700496398671861,
          -0.13410095704867844,
          0.9817025311756228,
          0.8106484353297797,
          -0.16205295130179306,
          -0.33913108062063313,
          0.057469169391842496,
          -0.26477571549699463,
          0.0024576263945883135,
          -0.7147944079380628,
          -0.9996002696309442,
          0.9184922604899338,
          -1.1992044471144834,
          -0.0014854154246680376,
          0.3345466304861377,
          -0.765893622583983,
          0.10602795313048664,
          -1.591559038672016,
          -1.5312232576890508,
          -0.6366596842954436,
          1.6225309347941257,
          1.7966198104485864,
          2.79022164392135,
          0.27989357476789123,
          -0.4241064293010893,
          0.8388132702372181,
          -1.7267818436917177,
          -0.19362775702521812,
          -0.4368430323944334,
          -0.10776796283523535,
          -0.6502442358995324,
          -1.6219332655111154,
          1.2550106632360527,
          1.1312727057858079,
          -0.14766825632663355,
          -0.8368005671070359,
          -0.3243847866723495,
          -1.2199045625041136,
          -0.23809218291276832,
          -0.08972305687923236,
          -0.05567665301556912,
          0.7666832039503296,
          0.2585425338176482,
          -1.3348907441116726,
          0.6040795355994396,
          0.6531700339950408,
          1.090204612183431,
          -0.6137086038703986,
          0.33791847895736926,
          -1.7392250650949956,
          1.4703656663706586,
          0.27668941996149615,
          0.09627244902315872,
          -0.712464687405788,
          -0.9906689518375307,
          -0.2946382043089493,
          0.5505106266683137,
          -0.7328233537076538,
          0.07719178587171921,
          -0.16515491761973805,
          1.2137032151240978,
          0.6498073142314598,
          -0.36673405463231695,
          0.6143438624170506,
          0.04026987091933534,
          1.7651119672384328,
          2.504762191553729,
          0.19481374841293744,
          -0.695399992508885,
          -0.98880223581316,
          -1.5667214570263932,
          -1.2968714550600573,
          1.4422375463078765
         ],
         "xaxis": "x9",
         "y": [
          -1.2579592369558228,
          0.7528169840299983,
          -0.7212252288668569,
          0.3040167880558339,
          0.06405199364242747,
          -0.9794261253256917,
          0.2110250635216258,
          0.8695926420197316,
          -0.5471620336296431,
          0.037644641509716664,
          -1.1279175212907984,
          1.554452868061709,
          -0.8720078626974317,
          -0.010206832100415413,
          0.3959098294577444,
          0.7744721461304633,
          -0.03486702794374062,
          -0.3183871184648832,
          0.4225609493578637,
          0.552122448153061,
          -0.08383964666788961,
          -0.46655386125457127,
          -0.23922394230142296,
          -0.729788466241313,
          -1.3635738098547718,
          0.024262777689102382,
          -0.6662326400440676,
          2.711557508318987,
          1.0497030911463014,
          -0.12120104369763134,
          -0.9314714224706033,
          -0.25335313061922565,
          -0.8706468259824167,
          -0.4646738652540685,
          0.49137998555939516,
          1.4117021072978906,
          -0.13718187470684634,
          -1.615444018765306,
          0.024942414814299662,
          1.3784547189105696,
          -1.762931179346037,
          2.074684529641876,
          0.24551005940638157,
          -1.0266596524872484,
          -1.4051791994362584,
          -1.105473664398208,
          0.19999641366654805,
          0.4336689635382377,
          1.3000851057406768,
          1.1393419618167528,
          0.5490801889968279,
          -1.633631985596189,
          1.1968992342668567,
          -0.6032049920929101,
          -0.5826092395077325,
          -0.2417719225016725,
          -0.9567494384957832,
          0.3284798323601425,
          -2.4402465113975707,
          0.7729841391377279,
          1.553161106113638,
          -0.20333882339927445,
          0.7275606562778946,
          0.8424831941539155,
          0.3420886704554364,
          1.8903511329232836,
          0.36802299677888756,
          -0.5625204226160485,
          0.6096398559747628,
          -0.8744038113144517,
          0.2308186341970769,
          0.24388648034656385,
          0.3219023571744587,
          0.17622540560927966,
          0.0687200798773024,
          -0.5507174486977008,
          -1.2582786139871052,
          -0.24256808812114775,
          -0.9274303682965955,
          1.1977594438659265,
          -0.12240389967362733,
          -0.25759805955960435,
          0.34410471953012245,
          0.24912721791232564,
          0.07636262719982223,
          0.42696823820504093,
          -0.6742097764193655,
          0.6755218777428174,
          0.31694280346361214,
          -0.46585397211821045,
          -1.7707084849884613,
          2.494822526595637,
          1.2801007839658125,
          -0.25980259970521324,
          -0.11055106229552869,
          -0.8455311232198319,
          0.6829304924618667,
          -2.0230467385680986,
          -1.965899318975996,
          0.34957359104221764
         ],
         "yaxis": "y9"
        },
        {
         "line": {
          "color": "rgba(128, 128, 128, 1.0)",
          "dash": "solid",
          "shape": "linear",
          "width": 1.3
         },
         "marker": {
          "size": 2,
          "symbol": "circle"
         },
         "mode": "markers",
         "name": "C",
         "text": "",
         "type": "scatter",
         "x": [
          -1.771315301053812,
          0.28371580039817207,
          1.303979668017339,
          -0.4009436724652719,
          -0.8421376822919558,
          -1.6465719848911848,
          1.690845020202858,
          1.6249160105450737,
          1.1486402676728138,
          1.2817697377258561,
          -2.3492865826040443,
          -0.7341290536641111,
          -1.0151774783057488,
          1.302160688252516,
          0.3722181611452662,
          -0.2537545153874133,
          1.0733525558023929,
          0.013311297241387236,
          -1.584831941900239,
          -0.08844080273559,
          -0.02523400350880266,
          1.8680368996218724,
          0.7902024783347283,
          -1.1507380031196381,
          1.1533029111144617,
          -0.8117613170967656,
          1.2916717955929897,
          0.16307876825058087,
          -0.08776720246335248,
          -0.7169668323701185,
          0.11547599070899921,
          2.028020398950748,
          2.067971296847705,
          -1.7679586572575203,
          -1.9121303185713443,
          0.22433857797991286,
          -0.05078404839345344,
          -1.6452970856783191,
          -2.2029051986762402,
          0.29089672723102883,
          -0.6098968844301316,
          0.4910994061285502,
          0.3276452956611974,
          -0.8080522613359631,
          0.2261764224509759,
          -1.1643304995513808,
          -0.5139522934290397,
          0.05652292348238001,
          -1.0680631748812215,
          -1.1211463646552,
          -0.4212410832484853,
          -1.0984757835014813,
          0.32938239648772344,
          -0.5500316801652668,
          0.24390634734471617,
          0.06022437056695923,
          0.10340482186120566,
          0.008214440317838802,
          2.0666413091693987,
          -0.6463373272003697,
          0.7164276475627177,
          -0.9353036902858883,
          0.2883519549522942,
          -0.24751466010814432,
          -0.07612973193853989,
          -1.388616457975686,
          0.5765020024178159,
          -0.13743540087202014,
          0.5969159313248671,
          0.4040044827769081,
          1.200730957316366,
          -0.6561027766889078,
          -0.7367026331814217,
          3.182032959872631,
          0.34142892232679933,
          -0.433666546367912,
          -0.45821447025373263,
          1.0097119871725126,
          -0.5871000495758965,
          1.2284393627469177,
          1.1344983010102763,
          -0.13325128842744816,
          -1.1939105257456901,
          -2.043792821545929,
          0.6485531035628525,
          0.027039352355595663,
          0.5899161200710822,
          1.3957133480420012,
          -2.0924818534099088,
          0.05259908472658938,
          -0.3149904271888376,
          -0.3649950991421775,
          1.4506623049311254,
          -0.4616033155387015,
          0.3976292886585956,
          -0.4479181999474117,
          -2.342225753002411,
          -0.6694261707440903,
          1.412374347731571,
          -0.2622402824357615
         ],
         "xaxis": "x10",
         "y": [
          -1.2579592369558228,
          0.7528169840299983,
          -0.7212252288668569,
          0.3040167880558339,
          0.06405199364242747,
          -0.9794261253256917,
          0.2110250635216258,
          0.8695926420197316,
          -0.5471620336296431,
          0.037644641509716664,
          -1.1279175212907984,
          1.554452868061709,
          -0.8720078626974317,
          -0.010206832100415413,
          0.3959098294577444,
          0.7744721461304633,
          -0.03486702794374062,
          -0.3183871184648832,
          0.4225609493578637,
          0.552122448153061,
          -0.08383964666788961,
          -0.46655386125457127,
          -0.23922394230142296,
          -0.729788466241313,
          -1.3635738098547718,
          0.024262777689102382,
          -0.6662326400440676,
          2.711557508318987,
          1.0497030911463014,
          -0.12120104369763134,
          -0.9314714224706033,
          -0.25335313061922565,
          -0.8706468259824167,
          -0.4646738652540685,
          0.49137998555939516,
          1.4117021072978906,
          -0.13718187470684634,
          -1.615444018765306,
          0.024942414814299662,
          1.3784547189105696,
          -1.762931179346037,
          2.074684529641876,
          0.24551005940638157,
          -1.0266596524872484,
          -1.4051791994362584,
          -1.105473664398208,
          0.19999641366654805,
          0.4336689635382377,
          1.3000851057406768,
          1.1393419618167528,
          0.5490801889968279,
          -1.633631985596189,
          1.1968992342668567,
          -0.6032049920929101,
          -0.5826092395077325,
          -0.2417719225016725,
          -0.9567494384957832,
          0.3284798323601425,
          -2.4402465113975707,
          0.7729841391377279,
          1.553161106113638,
          -0.20333882339927445,
          0.7275606562778946,
          0.8424831941539155,
          0.3420886704554364,
          1.8903511329232836,
          0.36802299677888756,
          -0.5625204226160485,
          0.6096398559747628,
          -0.8744038113144517,
          0.2308186341970769,
          0.24388648034656385,
          0.3219023571744587,
          0.17622540560927966,
          0.0687200798773024,
          -0.5507174486977008,
          -1.2582786139871052,
          -0.24256808812114775,
          -0.9274303682965955,
          1.1977594438659265,
          -0.12240389967362733,
          -0.25759805955960435,
          0.34410471953012245,
          0.24912721791232564,
          0.07636262719982223,
          0.42696823820504093,
          -0.6742097764193655,
          0.6755218777428174,
          0.31694280346361214,
          -0.46585397211821045,
          -1.7707084849884613,
          2.494822526595637,
          1.2801007839658125,
          -0.25980259970521324,
          -0.11055106229552869,
          -0.8455311232198319,
          0.6829304924618667,
          -2.0230467385680986,
          -1.965899318975996,
          0.34957359104221764
         ],
         "yaxis": "y10"
        },
        {
         "histfunc": "count",
         "histnorm": "",
         "marker": {
          "color": "rgba(50, 171, 96, 1.0)",
          "line": {
           "color": "#4D5663",
           "width": 1.3
          }
         },
         "name": "C",
         "nbinsx": 10,
         "opacity": 0.8,
         "orientation": "v",
         "type": "histogram",
         "x": [
          -1.2579592369558228,
          0.7528169840299983,
          -0.7212252288668569,
          0.3040167880558339,
          0.06405199364242747,
          -0.9794261253256917,
          0.2110250635216258,
          0.8695926420197316,
          -0.5471620336296431,
          0.037644641509716664,
          -1.1279175212907984,
          1.554452868061709,
          -0.8720078626974317,
          -0.010206832100415413,
          0.3959098294577444,
          0.7744721461304633,
          -0.03486702794374062,
          -0.3183871184648832,
          0.4225609493578637,
          0.552122448153061,
          -0.08383964666788961,
          -0.46655386125457127,
          -0.23922394230142296,
          -0.729788466241313,
          -1.3635738098547718,
          0.024262777689102382,
          -0.6662326400440676,
          2.711557508318987,
          1.0497030911463014,
          -0.12120104369763134,
          -0.9314714224706033,
          -0.25335313061922565,
          -0.8706468259824167,
          -0.4646738652540685,
          0.49137998555939516,
          1.4117021072978906,
          -0.13718187470684634,
          -1.615444018765306,
          0.024942414814299662,
          1.3784547189105696,
          -1.762931179346037,
          2.074684529641876,
          0.24551005940638157,
          -1.0266596524872484,
          -1.4051791994362584,
          -1.105473664398208,
          0.19999641366654805,
          0.4336689635382377,
          1.3000851057406768,
          1.1393419618167528,
          0.5490801889968279,
          -1.633631985596189,
          1.1968992342668567,
          -0.6032049920929101,
          -0.5826092395077325,
          -0.2417719225016725,
          -0.9567494384957832,
          0.3284798323601425,
          -2.4402465113975707,
          0.7729841391377279,
          1.553161106113638,
          -0.20333882339927445,
          0.7275606562778946,
          0.8424831941539155,
          0.3420886704554364,
          1.8903511329232836,
          0.36802299677888756,
          -0.5625204226160485,
          0.6096398559747628,
          -0.8744038113144517,
          0.2308186341970769,
          0.24388648034656385,
          0.3219023571744587,
          0.17622540560927966,
          0.0687200798773024,
          -0.5507174486977008,
          -1.2582786139871052,
          -0.24256808812114775,
          -0.9274303682965955,
          1.1977594438659265,
          -0.12240389967362733,
          -0.25759805955960435,
          0.34410471953012245,
          0.24912721791232564,
          0.07636262719982223,
          0.42696823820504093,
          -0.6742097764193655,
          0.6755218777428174,
          0.31694280346361214,
          -0.46585397211821045,
          -1.7707084849884613,
          2.494822526595637,
          1.2801007839658125,
          -0.25980259970521324,
          -0.11055106229552869,
          -0.8455311232198319,
          0.6829304924618667,
          -2.0230467385680986,
          -1.965899318975996,
          0.34957359104221764
         ],
         "xaxis": "x11",
         "yaxis": "y11"
        },
        {
         "line": {
          "color": "rgba(128, 128, 128, 1.0)",
          "dash": "solid",
          "shape": "linear",
          "width": 1.3
         },
         "marker": {
          "size": 2,
          "symbol": "circle"
         },
         "mode": "markers",
         "name": "C",
         "text": "",
         "type": "scatter",
         "x": [
          0.04438298901005722,
          2.01453011666514,
          -0.8277517471019805,
          -0.4800275225455572,
          -1.7434713727845639,
          1.6474424537740948,
          -0.16804861158362375,
          -0.3170576263675429,
          0.5394158840204778,
          -0.6924913946106126,
          0.12869584951149501,
          -1.7170079133817846,
          1.5497731352834976,
          -0.22265567730787772,
          -0.20622471639514134,
          -1.3309127324521304,
          -0.39665514276109454,
          0.9067267568798981,
          -1.6387895792807983,
          0.34456287952360554,
          -0.8154378946192437,
          -0.04865944942180593,
          0.5296800149132371,
          1.7698085655284084,
          -0.7880081927964421,
          0.3259051081955611,
          1.5594467061507356,
          0.6108034574271162,
          0.6846999518933515,
          -0.8729485447088208,
          -1.3139050390278892,
          -2.1655041063750904,
          -0.10354913630562142,
          1.4834866655526269,
          -1.6343680314510447,
          0.9356563089852359,
          0.007046310253665561,
          0.4558758136188569,
          0.4765068400389557,
          -1.1706733088019277,
          0.9350676613976643,
          1.4313982313549363,
          0.5954427133350423,
          0.6200068342203038,
          0.009474970656160889,
          1.1797609679208256,
          -1.1671317090374829,
          -1.0701521169839643,
          -1.7284304653292917,
          1.8470078650353527,
          1.1464085645841953,
          0.29458531691626494,
          0.08570935020443918,
          1.1435119918014651,
          -2.1360784359117577,
          0.4556847608350121,
          0.0513175755211297,
          0.42959911087376695,
          2.4045860592752346,
          -0.08207194954384621,
          -0.12435840040726509,
          -2.2452071344640325,
          2.9569042551254454,
          -0.32906049535149867,
          -0.7127842868462987,
          -0.22034371894642682,
          0.9239351909569483,
          -0.02454792415611727,
          0.5194703811559909,
          -0.7094179821624598,
          -0.016326337686232928,
          -0.4082430523401641,
          -0.7058983800826389,
          0.09316726389439584,
          -0.3845163381140667,
          -0.5644378580981232,
          -0.15046839968890366,
          -0.638550744051377,
          -1.164619415415256,
          -1.2838871358316455,
          -0.46186365658641154,
          0.5187898701446411,
          -0.011885183186334015,
          -0.22220901837735701,
          1.2780779627236407,
          -0.7656378388014617,
          -0.02346141562631671,
          -0.4343304313359113,
          -0.6382552883548942,
          -1.5396187274373607,
          -0.780158031098307,
          -0.07763908522978279,
          -1.0985136000226379,
          -0.4206320982439969,
          0.11552039962919004,
          -0.40687614072653705,
          0.17192303628777747,
          0.28869547425579645,
          -0.3195206685415462,
          0.09628554206664476
         ],
         "xaxis": "x12",
         "y": [
          -1.2579592369558228,
          0.7528169840299983,
          -0.7212252288668569,
          0.3040167880558339,
          0.06405199364242747,
          -0.9794261253256917,
          0.2110250635216258,
          0.8695926420197316,
          -0.5471620336296431,
          0.037644641509716664,
          -1.1279175212907984,
          1.554452868061709,
          -0.8720078626974317,
          -0.010206832100415413,
          0.3959098294577444,
          0.7744721461304633,
          -0.03486702794374062,
          -0.3183871184648832,
          0.4225609493578637,
          0.552122448153061,
          -0.08383964666788961,
          -0.46655386125457127,
          -0.23922394230142296,
          -0.729788466241313,
          -1.3635738098547718,
          0.024262777689102382,
          -0.6662326400440676,
          2.711557508318987,
          1.0497030911463014,
          -0.12120104369763134,
          -0.9314714224706033,
          -0.25335313061922565,
          -0.8706468259824167,
          -0.4646738652540685,
          0.49137998555939516,
          1.4117021072978906,
          -0.13718187470684634,
          -1.615444018765306,
          0.024942414814299662,
          1.3784547189105696,
          -1.762931179346037,
          2.074684529641876,
          0.24551005940638157,
          -1.0266596524872484,
          -1.4051791994362584,
          -1.105473664398208,
          0.19999641366654805,
          0.4336689635382377,
          1.3000851057406768,
          1.1393419618167528,
          0.5490801889968279,
          -1.633631985596189,
          1.1968992342668567,
          -0.6032049920929101,
          -0.5826092395077325,
          -0.2417719225016725,
          -0.9567494384957832,
          0.3284798323601425,
          -2.4402465113975707,
          0.7729841391377279,
          1.553161106113638,
          -0.20333882339927445,
          0.7275606562778946,
          0.8424831941539155,
          0.3420886704554364,
          1.8903511329232836,
          0.36802299677888756,
          -0.5625204226160485,
          0.6096398559747628,
          -0.8744038113144517,
          0.2308186341970769,
          0.24388648034656385,
          0.3219023571744587,
          0.17622540560927966,
          0.0687200798773024,
          -0.5507174486977008,
          -1.2582786139871052,
          -0.24256808812114775,
          -0.9274303682965955,
          1.1977594438659265,
          -0.12240389967362733,
          -0.25759805955960435,
          0.34410471953012245,
          0.24912721791232564,
          0.07636262719982223,
          0.42696823820504093,
          -0.6742097764193655,
          0.6755218777428174,
          0.31694280346361214,
          -0.46585397211821045,
          -1.7707084849884613,
          2.494822526595637,
          1.2801007839658125,
          -0.25980259970521324,
          -0.11055106229552869,
          -0.8455311232198319,
          0.6829304924618667,
          -2.0230467385680986,
          -1.965899318975996,
          0.34957359104221764
         ],
         "yaxis": "y12"
        },
        {
         "line": {
          "color": "rgba(128, 128, 128, 1.0)",
          "dash": "solid",
          "shape": "linear",
          "width": 1.3
         },
         "marker": {
          "size": 2,
          "symbol": "circle"
         },
         "mode": "markers",
         "name": "D",
         "text": "",
         "type": "scatter",
         "x": [
          -0.13357016322871249,
          -0.9388099126545523,
          0.5117097703051664,
          1.1779855554334155,
          -0.4957539865499914,
          0.7007226194302827,
          -1.618803600536682,
          0.6471942674601291,
          0.18380474352706944,
          -0.8434487884583421,
          -0.14225349702295875,
          -2.0077819846307485,
          0.29759751236156534,
          -1.6326134094630256,
          -1.6519162183269995,
          -0.8539639548069332,
          0.07536835326501973,
          0.40309764714981444,
          1.166158989566912,
          0.46423153191010424,
          1.2319341756988753,
          0.4641824363846118,
          0.05736669686774498,
          0.39587078523377806,
          -0.254006178629848,
          -0.36263870999363906,
          0.6412993423764257,
          -0.3700496398671861,
          -0.13410095704867844,
          0.9817025311756228,
          0.8106484353297797,
          -0.16205295130179306,
          -0.33913108062063313,
          0.057469169391842496,
          -0.26477571549699463,
          0.0024576263945883135,
          -0.7147944079380628,
          -0.9996002696309442,
          0.9184922604899338,
          -1.1992044471144834,
          -0.0014854154246680376,
          0.3345466304861377,
          -0.765893622583983,
          0.10602795313048664,
          -1.591559038672016,
          -1.5312232576890508,
          -0.6366596842954436,
          1.6225309347941257,
          1.7966198104485864,
          2.79022164392135,
          0.27989357476789123,
          -0.4241064293010893,
          0.8388132702372181,
          -1.7267818436917177,
          -0.19362775702521812,
          -0.4368430323944334,
          -0.10776796283523535,
          -0.6502442358995324,
          -1.6219332655111154,
          1.2550106632360527,
          1.1312727057858079,
          -0.14766825632663355,
          -0.8368005671070359,
          -0.3243847866723495,
          -1.2199045625041136,
          -0.23809218291276832,
          -0.08972305687923236,
          -0.05567665301556912,
          0.7666832039503296,
          0.2585425338176482,
          -1.3348907441116726,
          0.6040795355994396,
          0.6531700339950408,
          1.090204612183431,
          -0.6137086038703986,
          0.33791847895736926,
          -1.7392250650949956,
          1.4703656663706586,
          0.27668941996149615,
          0.09627244902315872,
          -0.712464687405788,
          -0.9906689518375307,
          -0.2946382043089493,
          0.5505106266683137,
          -0.7328233537076538,
          0.07719178587171921,
          -0.16515491761973805,
          1.2137032151240978,
          0.6498073142314598,
          -0.36673405463231695,
          0.6143438624170506,
          0.04026987091933534,
          1.7651119672384328,
          2.504762191553729,
          0.19481374841293744,
          -0.695399992508885,
          -0.98880223581316,
          -1.5667214570263932,
          -1.2968714550600573,
          1.4422375463078765
         ],
         "xaxis": "x13",
         "y": [
          0.04438298901005722,
          2.01453011666514,
          -0.8277517471019805,
          -0.4800275225455572,
          -1.7434713727845639,
          1.6474424537740948,
          -0.16804861158362375,
          -0.3170576263675429,
          0.5394158840204778,
          -0.6924913946106126,
          0.12869584951149501,
          -1.7170079133817846,
          1.5497731352834976,
          -0.22265567730787772,
          -0.20622471639514134,
          -1.3309127324521304,
          -0.39665514276109454,
          0.9067267568798981,
          -1.6387895792807983,
          0.34456287952360554,
          -0.8154378946192437,
          -0.04865944942180593,
          0.5296800149132371,
          1.7698085655284084,
          -0.7880081927964421,
          0.3259051081955611,
          1.5594467061507356,
          0.6108034574271162,
          0.6846999518933515,
          -0.8729485447088208,
          -1.3139050390278892,
          -2.1655041063750904,
          -0.10354913630562142,
          1.4834866655526269,
          -1.6343680314510447,
          0.9356563089852359,
          0.007046310253665561,
          0.4558758136188569,
          0.4765068400389557,
          -1.1706733088019277,
          0.9350676613976643,
          1.4313982313549363,
          0.5954427133350423,
          0.6200068342203038,
          0.009474970656160889,
          1.1797609679208256,
          -1.1671317090374829,
          -1.0701521169839643,
          -1.7284304653292917,
          1.8470078650353527,
          1.1464085645841953,
          0.29458531691626494,
          0.08570935020443918,
          1.1435119918014651,
          -2.1360784359117577,
          0.4556847608350121,
          0.0513175755211297,
          0.42959911087376695,
          2.4045860592752346,
          -0.08207194954384621,
          -0.12435840040726509,
          -2.2452071344640325,
          2.9569042551254454,
          -0.32906049535149867,
          -0.7127842868462987,
          -0.22034371894642682,
          0.9239351909569483,
          -0.02454792415611727,
          0.5194703811559909,
          -0.7094179821624598,
          -0.016326337686232928,
          -0.4082430523401641,
          -0.7058983800826389,
          0.09316726389439584,
          -0.3845163381140667,
          -0.5644378580981232,
          -0.15046839968890366,
          -0.638550744051377,
          -1.164619415415256,
          -1.2838871358316455,
          -0.46186365658641154,
          0.5187898701446411,
          -0.011885183186334015,
          -0.22220901837735701,
          1.2780779627236407,
          -0.7656378388014617,
          -0.02346141562631671,
          -0.4343304313359113,
          -0.6382552883548942,
          -1.5396187274373607,
          -0.780158031098307,
          -0.07763908522978279,
          -1.0985136000226379,
          -0.4206320982439969,
          0.11552039962919004,
          -0.40687614072653705,
          0.17192303628777747,
          0.28869547425579645,
          -0.3195206685415462,
          0.09628554206664476
         ],
         "yaxis": "y13"
        },
        {
         "line": {
          "color": "rgba(128, 128, 128, 1.0)",
          "dash": "solid",
          "shape": "linear",
          "width": 1.3
         },
         "marker": {
          "size": 2,
          "symbol": "circle"
         },
         "mode": "markers",
         "name": "D",
         "text": "",
         "type": "scatter",
         "x": [
          -1.771315301053812,
          0.28371580039817207,
          1.303979668017339,
          -0.4009436724652719,
          -0.8421376822919558,
          -1.6465719848911848,
          1.690845020202858,
          1.6249160105450737,
          1.1486402676728138,
          1.2817697377258561,
          -2.3492865826040443,
          -0.7341290536641111,
          -1.0151774783057488,
          1.302160688252516,
          0.3722181611452662,
          -0.2537545153874133,
          1.0733525558023929,
          0.013311297241387236,
          -1.584831941900239,
          -0.08844080273559,
          -0.02523400350880266,
          1.8680368996218724,
          0.7902024783347283,
          -1.1507380031196381,
          1.1533029111144617,
          -0.8117613170967656,
          1.2916717955929897,
          0.16307876825058087,
          -0.08776720246335248,
          -0.7169668323701185,
          0.11547599070899921,
          2.028020398950748,
          2.067971296847705,
          -1.7679586572575203,
          -1.9121303185713443,
          0.22433857797991286,
          -0.05078404839345344,
          -1.6452970856783191,
          -2.2029051986762402,
          0.29089672723102883,
          -0.6098968844301316,
          0.4910994061285502,
          0.3276452956611974,
          -0.8080522613359631,
          0.2261764224509759,
          -1.1643304995513808,
          -0.5139522934290397,
          0.05652292348238001,
          -1.0680631748812215,
          -1.1211463646552,
          -0.4212410832484853,
          -1.0984757835014813,
          0.32938239648772344,
          -0.5500316801652668,
          0.24390634734471617,
          0.06022437056695923,
          0.10340482186120566,
          0.008214440317838802,
          2.0666413091693987,
          -0.6463373272003697,
          0.7164276475627177,
          -0.9353036902858883,
          0.2883519549522942,
          -0.24751466010814432,
          -0.07612973193853989,
          -1.388616457975686,
          0.5765020024178159,
          -0.13743540087202014,
          0.5969159313248671,
          0.4040044827769081,
          1.200730957316366,
          -0.6561027766889078,
          -0.7367026331814217,
          3.182032959872631,
          0.34142892232679933,
          -0.433666546367912,
          -0.45821447025373263,
          1.0097119871725126,
          -0.5871000495758965,
          1.2284393627469177,
          1.1344983010102763,
          -0.13325128842744816,
          -1.1939105257456901,
          -2.043792821545929,
          0.6485531035628525,
          0.027039352355595663,
          0.5899161200710822,
          1.3957133480420012,
          -2.0924818534099088,
          0.05259908472658938,
          -0.3149904271888376,
          -0.3649950991421775,
          1.4506623049311254,
          -0.4616033155387015,
          0.3976292886585956,
          -0.4479181999474117,
          -2.342225753002411,
          -0.6694261707440903,
          1.412374347731571,
          -0.2622402824357615
         ],
         "xaxis": "x14",
         "y": [
          0.04438298901005722,
          2.01453011666514,
          -0.8277517471019805,
          -0.4800275225455572,
          -1.7434713727845639,
          1.6474424537740948,
          -0.16804861158362375,
          -0.3170576263675429,
          0.5394158840204778,
          -0.6924913946106126,
          0.12869584951149501,
          -1.7170079133817846,
          1.5497731352834976,
          -0.22265567730787772,
          -0.20622471639514134,
          -1.3309127324521304,
          -0.39665514276109454,
          0.9067267568798981,
          -1.6387895792807983,
          0.34456287952360554,
          -0.8154378946192437,
          -0.04865944942180593,
          0.5296800149132371,
          1.7698085655284084,
          -0.7880081927964421,
          0.3259051081955611,
          1.5594467061507356,
          0.6108034574271162,
          0.6846999518933515,
          -0.8729485447088208,
          -1.3139050390278892,
          -2.1655041063750904,
          -0.10354913630562142,
          1.4834866655526269,
          -1.6343680314510447,
          0.9356563089852359,
          0.007046310253665561,
          0.4558758136188569,
          0.4765068400389557,
          -1.1706733088019277,
          0.9350676613976643,
          1.4313982313549363,
          0.5954427133350423,
          0.6200068342203038,
          0.009474970656160889,
          1.1797609679208256,
          -1.1671317090374829,
          -1.0701521169839643,
          -1.7284304653292917,
          1.8470078650353527,
          1.1464085645841953,
          0.29458531691626494,
          0.08570935020443918,
          1.1435119918014651,
          -2.1360784359117577,
          0.4556847608350121,
          0.0513175755211297,
          0.42959911087376695,
          2.4045860592752346,
          -0.08207194954384621,
          -0.12435840040726509,
          -2.2452071344640325,
          2.9569042551254454,
          -0.32906049535149867,
          -0.7127842868462987,
          -0.22034371894642682,
          0.9239351909569483,
          -0.02454792415611727,
          0.5194703811559909,
          -0.7094179821624598,
          -0.016326337686232928,
          -0.4082430523401641,
          -0.7058983800826389,
          0.09316726389439584,
          -0.3845163381140667,
          -0.5644378580981232,
          -0.15046839968890366,
          -0.638550744051377,
          -1.164619415415256,
          -1.2838871358316455,
          -0.46186365658641154,
          0.5187898701446411,
          -0.011885183186334015,
          -0.22220901837735701,
          1.2780779627236407,
          -0.7656378388014617,
          -0.02346141562631671,
          -0.4343304313359113,
          -0.6382552883548942,
          -1.5396187274373607,
          -0.780158031098307,
          -0.07763908522978279,
          -1.0985136000226379,
          -0.4206320982439969,
          0.11552039962919004,
          -0.40687614072653705,
          0.17192303628777747,
          0.28869547425579645,
          -0.3195206685415462,
          0.09628554206664476
         ],
         "yaxis": "y14"
        },
        {
         "line": {
          "color": "rgba(128, 128, 128, 1.0)",
          "dash": "solid",
          "shape": "linear",
          "width": 1.3
         },
         "marker": {
          "size": 2,
          "symbol": "circle"
         },
         "mode": "markers",
         "name": "D",
         "text": "",
         "type": "scatter",
         "x": [
          -1.2579592369558228,
          0.7528169840299983,
          -0.7212252288668569,
          0.3040167880558339,
          0.06405199364242747,
          -0.9794261253256917,
          0.2110250635216258,
          0.8695926420197316,
          -0.5471620336296431,
          0.037644641509716664,
          -1.1279175212907984,
          1.554452868061709,
          -0.8720078626974317,
          -0.010206832100415413,
          0.3959098294577444,
          0.7744721461304633,
          -0.03486702794374062,
          -0.3183871184648832,
          0.4225609493578637,
          0.552122448153061,
          -0.08383964666788961,
          -0.46655386125457127,
          -0.23922394230142296,
          -0.729788466241313,
          -1.3635738098547718,
          0.024262777689102382,
          -0.6662326400440676,
          2.711557508318987,
          1.0497030911463014,
          -0.12120104369763134,
          -0.9314714224706033,
          -0.25335313061922565,
          -0.8706468259824167,
          -0.4646738652540685,
          0.49137998555939516,
          1.4117021072978906,
          -0.13718187470684634,
          -1.615444018765306,
          0.024942414814299662,
          1.3784547189105696,
          -1.762931179346037,
          2.074684529641876,
          0.24551005940638157,
          -1.0266596524872484,
          -1.4051791994362584,
          -1.105473664398208,
          0.19999641366654805,
          0.4336689635382377,
          1.3000851057406768,
          1.1393419618167528,
          0.5490801889968279,
          -1.633631985596189,
          1.1968992342668567,
          -0.6032049920929101,
          -0.5826092395077325,
          -0.2417719225016725,
          -0.9567494384957832,
          0.3284798323601425,
          -2.4402465113975707,
          0.7729841391377279,
          1.553161106113638,
          -0.20333882339927445,
          0.7275606562778946,
          0.8424831941539155,
          0.3420886704554364,
          1.8903511329232836,
          0.36802299677888756,
          -0.5625204226160485,
          0.6096398559747628,
          -0.8744038113144517,
          0.2308186341970769,
          0.24388648034656385,
          0.3219023571744587,
          0.17622540560927966,
          0.0687200798773024,
          -0.5507174486977008,
          -1.2582786139871052,
          -0.24256808812114775,
          -0.9274303682965955,
          1.1977594438659265,
          -0.12240389967362733,
          -0.25759805955960435,
          0.34410471953012245,
          0.24912721791232564,
          0.07636262719982223,
          0.42696823820504093,
          -0.6742097764193655,
          0.6755218777428174,
          0.31694280346361214,
          -0.46585397211821045,
          -1.7707084849884613,
          2.494822526595637,
          1.2801007839658125,
          -0.25980259970521324,
          -0.11055106229552869,
          -0.8455311232198319,
          0.6829304924618667,
          -2.0230467385680986,
          -1.965899318975996,
          0.34957359104221764
         ],
         "xaxis": "x15",
         "y": [
          0.04438298901005722,
          2.01453011666514,
          -0.8277517471019805,
          -0.4800275225455572,
          -1.7434713727845639,
          1.6474424537740948,
          -0.16804861158362375,
          -0.3170576263675429,
          0.5394158840204778,
          -0.6924913946106126,
          0.12869584951149501,
          -1.7170079133817846,
          1.5497731352834976,
          -0.22265567730787772,
          -0.20622471639514134,
          -1.3309127324521304,
          -0.39665514276109454,
          0.9067267568798981,
          -1.6387895792807983,
          0.34456287952360554,
          -0.8154378946192437,
          -0.04865944942180593,
          0.5296800149132371,
          1.7698085655284084,
          -0.7880081927964421,
          0.3259051081955611,
          1.5594467061507356,
          0.6108034574271162,
          0.6846999518933515,
          -0.8729485447088208,
          -1.3139050390278892,
          -2.1655041063750904,
          -0.10354913630562142,
          1.4834866655526269,
          -1.6343680314510447,
          0.9356563089852359,
          0.007046310253665561,
          0.4558758136188569,
          0.4765068400389557,
          -1.1706733088019277,
          0.9350676613976643,
          1.4313982313549363,
          0.5954427133350423,
          0.6200068342203038,
          0.009474970656160889,
          1.1797609679208256,
          -1.1671317090374829,
          -1.0701521169839643,
          -1.7284304653292917,
          1.8470078650353527,
          1.1464085645841953,
          0.29458531691626494,
          0.08570935020443918,
          1.1435119918014651,
          -2.1360784359117577,
          0.4556847608350121,
          0.0513175755211297,
          0.42959911087376695,
          2.4045860592752346,
          -0.08207194954384621,
          -0.12435840040726509,
          -2.2452071344640325,
          2.9569042551254454,
          -0.32906049535149867,
          -0.7127842868462987,
          -0.22034371894642682,
          0.9239351909569483,
          -0.02454792415611727,
          0.5194703811559909,
          -0.7094179821624598,
          -0.016326337686232928,
          -0.4082430523401641,
          -0.7058983800826389,
          0.09316726389439584,
          -0.3845163381140667,
          -0.5644378580981232,
          -0.15046839968890366,
          -0.638550744051377,
          -1.164619415415256,
          -1.2838871358316455,
          -0.46186365658641154,
          0.5187898701446411,
          -0.011885183186334015,
          -0.22220901837735701,
          1.2780779627236407,
          -0.7656378388014617,
          -0.02346141562631671,
          -0.4343304313359113,
          -0.6382552883548942,
          -1.5396187274373607,
          -0.780158031098307,
          -0.07763908522978279,
          -1.0985136000226379,
          -0.4206320982439969,
          0.11552039962919004,
          -0.40687614072653705,
          0.17192303628777747,
          0.28869547425579645,
          -0.3195206685415462,
          0.09628554206664476
         ],
         "yaxis": "y15"
        },
        {
         "histfunc": "count",
         "histnorm": "",
         "marker": {
          "color": "rgba(128, 0, 128, 1.0)",
          "line": {
           "color": "#4D5663",
           "width": 1.3
          }
         },
         "name": "D",
         "nbinsx": 10,
         "opacity": 0.8,
         "orientation": "v",
         "type": "histogram",
         "x": [
          0.04438298901005722,
          2.01453011666514,
          -0.8277517471019805,
          -0.4800275225455572,
          -1.7434713727845639,
          1.6474424537740948,
          -0.16804861158362375,
          -0.3170576263675429,
          0.5394158840204778,
          -0.6924913946106126,
          0.12869584951149501,
          -1.7170079133817846,
          1.5497731352834976,
          -0.22265567730787772,
          -0.20622471639514134,
          -1.3309127324521304,
          -0.39665514276109454,
          0.9067267568798981,
          -1.6387895792807983,
          0.34456287952360554,
          -0.8154378946192437,
          -0.04865944942180593,
          0.5296800149132371,
          1.7698085655284084,
          -0.7880081927964421,
          0.3259051081955611,
          1.5594467061507356,
          0.6108034574271162,
          0.6846999518933515,
          -0.8729485447088208,
          -1.3139050390278892,
          -2.1655041063750904,
          -0.10354913630562142,
          1.4834866655526269,
          -1.6343680314510447,
          0.9356563089852359,
          0.007046310253665561,
          0.4558758136188569,
          0.4765068400389557,
          -1.1706733088019277,
          0.9350676613976643,
          1.4313982313549363,
          0.5954427133350423,
          0.6200068342203038,
          0.009474970656160889,
          1.1797609679208256,
          -1.1671317090374829,
          -1.0701521169839643,
          -1.7284304653292917,
          1.8470078650353527,
          1.1464085645841953,
          0.29458531691626494,
          0.08570935020443918,
          1.1435119918014651,
          -2.1360784359117577,
          0.4556847608350121,
          0.0513175755211297,
          0.42959911087376695,
          2.4045860592752346,
          -0.08207194954384621,
          -0.12435840040726509,
          -2.2452071344640325,
          2.9569042551254454,
          -0.32906049535149867,
          -0.7127842868462987,
          -0.22034371894642682,
          0.9239351909569483,
          -0.02454792415611727,
          0.5194703811559909,
          -0.7094179821624598,
          -0.016326337686232928,
          -0.4082430523401641,
          -0.7058983800826389,
          0.09316726389439584,
          -0.3845163381140667,
          -0.5644378580981232,
          -0.15046839968890366,
          -0.638550744051377,
          -1.164619415415256,
          -1.2838871358316455,
          -0.46186365658641154,
          0.5187898701446411,
          -0.011885183186334015,
          -0.22220901837735701,
          1.2780779627236407,
          -0.7656378388014617,
          -0.02346141562631671,
          -0.4343304313359113,
          -0.6382552883548942,
          -1.5396187274373607,
          -0.780158031098307,
          -0.07763908522978279,
          -1.0985136000226379,
          -0.4206320982439969,
          0.11552039962919004,
          -0.40687614072653705,
          0.17192303628777747,
          0.28869547425579645,
          -0.3195206685415462,
          0.09628554206664476
         ],
         "xaxis": "x16",
         "yaxis": "y16"
        }
       ],
       "layout": {
        "bargap": 0.02,
        "legend": {
         "bgcolor": "#F5F6F9",
         "font": {
          "color": "#4D5663"
         }
        },
        "paper_bgcolor": "#F5F6F9",
        "plot_bgcolor": "#F5F6F9",
        "showlegend": false,
        "template": {
         "data": {
          "bar": [
           {
            "error_x": {
             "color": "#2a3f5f"
            },
            "error_y": {
             "color": "#2a3f5f"
            },
            "marker": {
             "line": {
              "color": "#E5ECF6",
              "width": 0.5
             }
            },
            "type": "bar"
           }
          ],
          "barpolar": [
           {
            "marker": {
             "line": {
              "color": "#E5ECF6",
              "width": 0.5
             }
            },
            "type": "barpolar"
           }
          ],
          "carpet": [
           {
            "aaxis": {
             "endlinecolor": "#2a3f5f",
             "gridcolor": "white",
             "linecolor": "white",
             "minorgridcolor": "white",
             "startlinecolor": "#2a3f5f"
            },
            "baxis": {
             "endlinecolor": "#2a3f5f",
             "gridcolor": "white",
             "linecolor": "white",
             "minorgridcolor": "white",
             "startlinecolor": "#2a3f5f"
            },
            "type": "carpet"
           }
          ],
          "choropleth": [
           {
            "colorbar": {
             "outlinewidth": 0,
             "ticks": ""
            },
            "type": "choropleth"
           }
          ],
          "contour": [
           {
            "colorbar": {
             "outlinewidth": 0,
             "ticks": ""
            },
            "colorscale": [
             [
              0,
              "#0d0887"
             ],
             [
              0.1111111111111111,
              "#46039f"
             ],
             [
              0.2222222222222222,
              "#7201a8"
             ],
             [
              0.3333333333333333,
              "#9c179e"
             ],
             [
              0.4444444444444444,
              "#bd3786"
             ],
             [
              0.5555555555555556,
              "#d8576b"
             ],
             [
              0.6666666666666666,
              "#ed7953"
             ],
             [
              0.7777777777777778,
              "#fb9f3a"
             ],
             [
              0.8888888888888888,
              "#fdca26"
             ],
             [
              1,
              "#f0f921"
             ]
            ],
            "type": "contour"
           }
          ],
          "contourcarpet": [
           {
            "colorbar": {
             "outlinewidth": 0,
             "ticks": ""
            },
            "type": "contourcarpet"
           }
          ],
          "heatmap": [
           {
            "colorbar": {
             "outlinewidth": 0,
             "ticks": ""
            },
            "colorscale": [
             [
              0,
              "#0d0887"
             ],
             [
              0.1111111111111111,
              "#46039f"
             ],
             [
              0.2222222222222222,
              "#7201a8"
             ],
             [
              0.3333333333333333,
              "#9c179e"
             ],
             [
              0.4444444444444444,
              "#bd3786"
             ],
             [
              0.5555555555555556,
              "#d8576b"
             ],
             [
              0.6666666666666666,
              "#ed7953"
             ],
             [
              0.7777777777777778,
              "#fb9f3a"
             ],
             [
              0.8888888888888888,
              "#fdca26"
             ],
             [
              1,
              "#f0f921"
             ]
            ],
            "type": "heatmap"
           }
          ],
          "heatmapgl": [
           {
            "colorbar": {
             "outlinewidth": 0,
             "ticks": ""
            },
            "colorscale": [
             [
              0,
              "#0d0887"
             ],
             [
              0.1111111111111111,
              "#46039f"
             ],
             [
              0.2222222222222222,
              "#7201a8"
             ],
             [
              0.3333333333333333,
              "#9c179e"
             ],
             [
              0.4444444444444444,
              "#bd3786"
             ],
             [
              0.5555555555555556,
              "#d8576b"
             ],
             [
              0.6666666666666666,
              "#ed7953"
             ],
             [
              0.7777777777777778,
              "#fb9f3a"
             ],
             [
              0.8888888888888888,
              "#fdca26"
             ],
             [
              1,
              "#f0f921"
             ]
            ],
            "type": "heatmapgl"
           }
          ],
          "histogram": [
           {
            "marker": {
             "colorbar": {
              "outlinewidth": 0,
              "ticks": ""
             }
            },
            "type": "histogram"
           }
          ],
          "histogram2d": [
           {
            "colorbar": {
             "outlinewidth": 0,
             "ticks": ""
            },
            "colorscale": [
             [
              0,
              "#0d0887"
             ],
             [
              0.1111111111111111,
              "#46039f"
             ],
             [
              0.2222222222222222,
              "#7201a8"
             ],
             [
              0.3333333333333333,
              "#9c179e"
             ],
             [
              0.4444444444444444,
              "#bd3786"
             ],
             [
              0.5555555555555556,
              "#d8576b"
             ],
             [
              0.6666666666666666,
              "#ed7953"
             ],
             [
              0.7777777777777778,
              "#fb9f3a"
             ],
             [
              0.8888888888888888,
              "#fdca26"
             ],
             [
              1,
              "#f0f921"
             ]
            ],
            "type": "histogram2d"
           }
          ],
          "histogram2dcontour": [
           {
            "colorbar": {
             "outlinewidth": 0,
             "ticks": ""
            },
            "colorscale": [
             [
              0,
              "#0d0887"
             ],
             [
              0.1111111111111111,
              "#46039f"
             ],
             [
              0.2222222222222222,
              "#7201a8"
             ],
             [
              0.3333333333333333,
              "#9c179e"
             ],
             [
              0.4444444444444444,
              "#bd3786"
             ],
             [
              0.5555555555555556,
              "#d8576b"
             ],
             [
              0.6666666666666666,
              "#ed7953"
             ],
             [
              0.7777777777777778,
              "#fb9f3a"
             ],
             [
              0.8888888888888888,
              "#fdca26"
             ],
             [
              1,
              "#f0f921"
             ]
            ],
            "type": "histogram2dcontour"
           }
          ],
          "mesh3d": [
           {
            "colorbar": {
             "outlinewidth": 0,
             "ticks": ""
            },
            "type": "mesh3d"
           }
          ],
          "parcoords": [
           {
            "line": {
             "colorbar": {
              "outlinewidth": 0,
              "ticks": ""
             }
            },
            "type": "parcoords"
           }
          ],
          "pie": [
           {
            "automargin": true,
            "type": "pie"
           }
          ],
          "scatter": [
           {
            "marker": {
             "colorbar": {
              "outlinewidth": 0,
              "ticks": ""
             }
            },
            "type": "scatter"
           }
          ],
          "scatter3d": [
           {
            "line": {
             "colorbar": {
              "outlinewidth": 0,
              "ticks": ""
             }
            },
            "marker": {
             "colorbar": {
              "outlinewidth": 0,
              "ticks": ""
             }
            },
            "type": "scatter3d"
           }
          ],
          "scattercarpet": [
           {
            "marker": {
             "colorbar": {
              "outlinewidth": 0,
              "ticks": ""
             }
            },
            "type": "scattercarpet"
           }
          ],
          "scattergeo": [
           {
            "marker": {
             "colorbar": {
              "outlinewidth": 0,
              "ticks": ""
             }
            },
            "type": "scattergeo"
           }
          ],
          "scattergl": [
           {
            "marker": {
             "colorbar": {
              "outlinewidth": 0,
              "ticks": ""
             }
            },
            "type": "scattergl"
           }
          ],
          "scattermapbox": [
           {
            "marker": {
             "colorbar": {
              "outlinewidth": 0,
              "ticks": ""
             }
            },
            "type": "scattermapbox"
           }
          ],
          "scatterpolar": [
           {
            "marker": {
             "colorbar": {
              "outlinewidth": 0,
              "ticks": ""
             }
            },
            "type": "scatterpolar"
           }
          ],
          "scatterpolargl": [
           {
            "marker": {
             "colorbar": {
              "outlinewidth": 0,
              "ticks": ""
             }
            },
            "type": "scatterpolargl"
           }
          ],
          "scatterternary": [
           {
            "marker": {
             "colorbar": {
              "outlinewidth": 0,
              "ticks": ""
             }
            },
            "type": "scatterternary"
           }
          ],
          "surface": [
           {
            "colorbar": {
             "outlinewidth": 0,
             "ticks": ""
            },
            "colorscale": [
             [
              0,
              "#0d0887"
             ],
             [
              0.1111111111111111,
              "#46039f"
             ],
             [
              0.2222222222222222,
              "#7201a8"
             ],
             [
              0.3333333333333333,
              "#9c179e"
             ],
             [
              0.4444444444444444,
              "#bd3786"
             ],
             [
              0.5555555555555556,
              "#d8576b"
             ],
             [
              0.6666666666666666,
              "#ed7953"
             ],
             [
              0.7777777777777778,
              "#fb9f3a"
             ],
             [
              0.8888888888888888,
              "#fdca26"
             ],
             [
              1,
              "#f0f921"
             ]
            ],
            "type": "surface"
           }
          ],
          "table": [
           {
            "cells": {
             "fill": {
              "color": "#EBF0F8"
             },
             "line": {
              "color": "white"
             }
            },
            "header": {
             "fill": {
              "color": "#C8D4E3"
             },
             "line": {
              "color": "white"
             }
            },
            "type": "table"
           }
          ]
         },
         "layout": {
          "annotationdefaults": {
           "arrowcolor": "#2a3f5f",
           "arrowhead": 0,
           "arrowwidth": 1
          },
          "coloraxis": {
           "colorbar": {
            "outlinewidth": 0,
            "ticks": ""
           }
          },
          "colorscale": {
           "diverging": [
            [
             0,
             "#8e0152"
            ],
            [
             0.1,
             "#c51b7d"
            ],
            [
             0.2,
             "#de77ae"
            ],
            [
             0.3,
             "#f1b6da"
            ],
            [
             0.4,
             "#fde0ef"
            ],
            [
             0.5,
             "#f7f7f7"
            ],
            [
             0.6,
             "#e6f5d0"
            ],
            [
             0.7,
             "#b8e186"
            ],
            [
             0.8,
             "#7fbc41"
            ],
            [
             0.9,
             "#4d9221"
            ],
            [
             1,
             "#276419"
            ]
           ],
           "sequential": [
            [
             0,
             "#0d0887"
            ],
            [
             0.1111111111111111,
             "#46039f"
            ],
            [
             0.2222222222222222,
             "#7201a8"
            ],
            [
             0.3333333333333333,
             "#9c179e"
            ],
            [
             0.4444444444444444,
             "#bd3786"
            ],
            [
             0.5555555555555556,
             "#d8576b"
            ],
            [
             0.6666666666666666,
             "#ed7953"
            ],
            [
             0.7777777777777778,
             "#fb9f3a"
            ],
            [
             0.8888888888888888,
             "#fdca26"
            ],
            [
             1,
             "#f0f921"
            ]
           ],
           "sequentialminus": [
            [
             0,
             "#0d0887"
            ],
            [
             0.1111111111111111,
             "#46039f"
            ],
            [
             0.2222222222222222,
             "#7201a8"
            ],
            [
             0.3333333333333333,
             "#9c179e"
            ],
            [
             0.4444444444444444,
             "#bd3786"
            ],
            [
             0.5555555555555556,
             "#d8576b"
            ],
            [
             0.6666666666666666,
             "#ed7953"
            ],
            [
             0.7777777777777778,
             "#fb9f3a"
            ],
            [
             0.8888888888888888,
             "#fdca26"
            ],
            [
             1,
             "#f0f921"
            ]
           ]
          },
          "colorway": [
           "#636efa",
           "#EF553B",
           "#00cc96",
           "#ab63fa",
           "#FFA15A",
           "#19d3f3",
           "#FF6692",
           "#B6E880",
           "#FF97FF",
           "#FECB52"
          ],
          "font": {
           "color": "#2a3f5f"
          },
          "geo": {
           "bgcolor": "white",
           "lakecolor": "white",
           "landcolor": "#E5ECF6",
           "showlakes": true,
           "showland": true,
           "subunitcolor": "white"
          },
          "hoverlabel": {
           "align": "left"
          },
          "hovermode": "closest",
          "mapbox": {
           "style": "light"
          },
          "paper_bgcolor": "white",
          "plot_bgcolor": "#E5ECF6",
          "polar": {
           "angularaxis": {
            "gridcolor": "white",
            "linecolor": "white",
            "ticks": ""
           },
           "bgcolor": "#E5ECF6",
           "radialaxis": {
            "gridcolor": "white",
            "linecolor": "white",
            "ticks": ""
           }
          },
          "scene": {
           "xaxis": {
            "backgroundcolor": "#E5ECF6",
            "gridcolor": "white",
            "gridwidth": 2,
            "linecolor": "white",
            "showbackground": true,
            "ticks": "",
            "zerolinecolor": "white"
           },
           "yaxis": {
            "backgroundcolor": "#E5ECF6",
            "gridcolor": "white",
            "gridwidth": 2,
            "linecolor": "white",
            "showbackground": true,
            "ticks": "",
            "zerolinecolor": "white"
           },
           "zaxis": {
            "backgroundcolor": "#E5ECF6",
            "gridcolor": "white",
            "gridwidth": 2,
            "linecolor": "white",
            "showbackground": true,
            "ticks": "",
            "zerolinecolor": "white"
           }
          },
          "shapedefaults": {
           "line": {
            "color": "#2a3f5f"
           }
          },
          "ternary": {
           "aaxis": {
            "gridcolor": "white",
            "linecolor": "white",
            "ticks": ""
           },
           "baxis": {
            "gridcolor": "white",
            "linecolor": "white",
            "ticks": ""
           },
           "bgcolor": "#E5ECF6",
           "caxis": {
            "gridcolor": "white",
            "linecolor": "white",
            "ticks": ""
           }
          },
          "title": {
           "x": 0.05
          },
          "xaxis": {
           "automargin": true,
           "gridcolor": "white",
           "linecolor": "white",
           "ticks": "",
           "title": {
            "standoff": 15
           },
           "zerolinecolor": "white",
           "zerolinewidth": 2
          },
          "yaxis": {
           "automargin": true,
           "gridcolor": "white",
           "linecolor": "white",
           "ticks": "",
           "title": {
            "standoff": 15
           },
           "zerolinecolor": "white",
           "zerolinewidth": 2
          }
         }
        },
        "title": {
         "font": {
          "color": "#4D5663"
         }
        },
        "xaxis": {
         "anchor": "y",
         "domain": [
          0,
          0.2125
         ],
         "gridcolor": "#E1E5ED",
         "showgrid": false,
         "tickfont": {
          "color": "#4D5663"
         },
         "title": {
          "font": {
           "color": "#4D5663"
          },
          "text": ""
         },
         "zerolinecolor": "#E1E5ED"
        },
        "xaxis10": {
         "anchor": "y10",
         "domain": [
          0.2625,
          0.475
         ],
         "gridcolor": "#E1E5ED",
         "showgrid": false,
         "tickfont": {
          "color": "#4D5663"
         },
         "title": {
          "font": {
           "color": "#4D5663"
          },
          "text": ""
         },
         "zerolinecolor": "#E1E5ED"
        },
        "xaxis11": {
         "anchor": "y11",
         "domain": [
          0.525,
          0.7375
         ],
         "gridcolor": "#E1E5ED",
         "showgrid": false,
         "tickfont": {
          "color": "#4D5663"
         },
         "title": {
          "font": {
           "color": "#4D5663"
          },
          "text": ""
         },
         "zerolinecolor": "#E1E5ED"
        },
        "xaxis12": {
         "anchor": "y12",
         "domain": [
          0.7875,
          1
         ],
         "gridcolor": "#E1E5ED",
         "showgrid": false,
         "tickfont": {
          "color": "#4D5663"
         },
         "title": {
          "font": {
           "color": "#4D5663"
          },
          "text": ""
         },
         "zerolinecolor": "#E1E5ED"
        },
        "xaxis13": {
         "anchor": "y13",
         "domain": [
          0,
          0.2125
         ],
         "gridcolor": "#E1E5ED",
         "showgrid": false,
         "tickfont": {
          "color": "#4D5663"
         },
         "title": {
          "font": {
           "color": "#4D5663"
          },
          "text": ""
         },
         "zerolinecolor": "#E1E5ED"
        },
        "xaxis14": {
         "anchor": "y14",
         "domain": [
          0.2625,
          0.475
         ],
         "gridcolor": "#E1E5ED",
         "showgrid": false,
         "tickfont": {
          "color": "#4D5663"
         },
         "title": {
          "font": {
           "color": "#4D5663"
          },
          "text": ""
         },
         "zerolinecolor": "#E1E5ED"
        },
        "xaxis15": {
         "anchor": "y15",
         "domain": [
          0.525,
          0.7375
         ],
         "gridcolor": "#E1E5ED",
         "showgrid": false,
         "tickfont": {
          "color": "#4D5663"
         },
         "title": {
          "font": {
           "color": "#4D5663"
          },
          "text": ""
         },
         "zerolinecolor": "#E1E5ED"
        },
        "xaxis16": {
         "anchor": "y16",
         "domain": [
          0.7875,
          1
         ],
         "gridcolor": "#E1E5ED",
         "showgrid": false,
         "tickfont": {
          "color": "#4D5663"
         },
         "title": {
          "font": {
           "color": "#4D5663"
          },
          "text": ""
         },
         "zerolinecolor": "#E1E5ED"
        },
        "xaxis2": {
         "anchor": "y2",
         "domain": [
          0.2625,
          0.475
         ],
         "gridcolor": "#E1E5ED",
         "showgrid": false,
         "tickfont": {
          "color": "#4D5663"
         },
         "title": {
          "font": {
           "color": "#4D5663"
          },
          "text": ""
         },
         "zerolinecolor": "#E1E5ED"
        },
        "xaxis3": {
         "anchor": "y3",
         "domain": [
          0.525,
          0.7375
         ],
         "gridcolor": "#E1E5ED",
         "showgrid": false,
         "tickfont": {
          "color": "#4D5663"
         },
         "title": {
          "font": {
           "color": "#4D5663"
          },
          "text": ""
         },
         "zerolinecolor": "#E1E5ED"
        },
        "xaxis4": {
         "anchor": "y4",
         "domain": [
          0.7875,
          1
         ],
         "gridcolor": "#E1E5ED",
         "showgrid": false,
         "tickfont": {
          "color": "#4D5663"
         },
         "title": {
          "font": {
           "color": "#4D5663"
          },
          "text": ""
         },
         "zerolinecolor": "#E1E5ED"
        },
        "xaxis5": {
         "anchor": "y5",
         "domain": [
          0,
          0.2125
         ],
         "gridcolor": "#E1E5ED",
         "showgrid": false,
         "tickfont": {
          "color": "#4D5663"
         },
         "title": {
          "font": {
           "color": "#4D5663"
          },
          "text": ""
         },
         "zerolinecolor": "#E1E5ED"
        },
        "xaxis6": {
         "anchor": "y6",
         "domain": [
          0.2625,
          0.475
         ],
         "gridcolor": "#E1E5ED",
         "showgrid": false,
         "tickfont": {
          "color": "#4D5663"
         },
         "title": {
          "font": {
           "color": "#4D5663"
          },
          "text": ""
         },
         "zerolinecolor": "#E1E5ED"
        },
        "xaxis7": {
         "anchor": "y7",
         "domain": [
          0.525,
          0.7375
         ],
         "gridcolor": "#E1E5ED",
         "showgrid": false,
         "tickfont": {
          "color": "#4D5663"
         },
         "title": {
          "font": {
           "color": "#4D5663"
          },
          "text": ""
         },
         "zerolinecolor": "#E1E5ED"
        },
        "xaxis8": {
         "anchor": "y8",
         "domain": [
          0.7875,
          1
         ],
         "gridcolor": "#E1E5ED",
         "showgrid": false,
         "tickfont": {
          "color": "#4D5663"
         },
         "title": {
          "font": {
           "color": "#4D5663"
          },
          "text": ""
         },
         "zerolinecolor": "#E1E5ED"
        },
        "xaxis9": {
         "anchor": "y9",
         "domain": [
          0,
          0.2125
         ],
         "gridcolor": "#E1E5ED",
         "showgrid": false,
         "tickfont": {
          "color": "#4D5663"
         },
         "title": {
          "font": {
           "color": "#4D5663"
          },
          "text": ""
         },
         "zerolinecolor": "#E1E5ED"
        },
        "yaxis": {
         "anchor": "x",
         "domain": [
          0.8025,
          1
         ],
         "gridcolor": "#E1E5ED",
         "showgrid": false,
         "tickfont": {
          "color": "#4D5663"
         },
         "title": {
          "font": {
           "color": "#4D5663"
          },
          "text": ""
         },
         "zerolinecolor": "#E1E5ED"
        },
        "yaxis10": {
         "anchor": "x10",
         "domain": [
          0.2675,
          0.465
         ],
         "gridcolor": "#E1E5ED",
         "showgrid": false,
         "tickfont": {
          "color": "#4D5663"
         },
         "title": {
          "font": {
           "color": "#4D5663"
          },
          "text": ""
         },
         "zerolinecolor": "#E1E5ED"
        },
        "yaxis11": {
         "anchor": "x11",
         "domain": [
          0.2675,
          0.465
         ],
         "gridcolor": "#E1E5ED",
         "showgrid": false,
         "tickfont": {
          "color": "#4D5663"
         },
         "title": {
          "font": {
           "color": "#4D5663"
          },
          "text": ""
         },
         "zerolinecolor": "#E1E5ED"
        },
        "yaxis12": {
         "anchor": "x12",
         "domain": [
          0.2675,
          0.465
         ],
         "gridcolor": "#E1E5ED",
         "showgrid": false,
         "tickfont": {
          "color": "#4D5663"
         },
         "title": {
          "font": {
           "color": "#4D5663"
          },
          "text": ""
         },
         "zerolinecolor": "#E1E5ED"
        },
        "yaxis13": {
         "anchor": "x13",
         "domain": [
          0,
          0.1975
         ],
         "gridcolor": "#E1E5ED",
         "showgrid": false,
         "tickfont": {
          "color": "#4D5663"
         },
         "title": {
          "font": {
           "color": "#4D5663"
          },
          "text": ""
         },
         "zerolinecolor": "#E1E5ED"
        },
        "yaxis14": {
         "anchor": "x14",
         "domain": [
          0,
          0.1975
         ],
         "gridcolor": "#E1E5ED",
         "showgrid": false,
         "tickfont": {
          "color": "#4D5663"
         },
         "title": {
          "font": {
           "color": "#4D5663"
          },
          "text": ""
         },
         "zerolinecolor": "#E1E5ED"
        },
        "yaxis15": {
         "anchor": "x15",
         "domain": [
          0,
          0.1975
         ],
         "gridcolor": "#E1E5ED",
         "showgrid": false,
         "tickfont": {
          "color": "#4D5663"
         },
         "title": {
          "font": {
           "color": "#4D5663"
          },
          "text": ""
         },
         "zerolinecolor": "#E1E5ED"
        },
        "yaxis16": {
         "anchor": "x16",
         "domain": [
          0,
          0.1975
         ],
         "gridcolor": "#E1E5ED",
         "showgrid": false,
         "tickfont": {
          "color": "#4D5663"
         },
         "title": {
          "font": {
           "color": "#4D5663"
          },
          "text": ""
         },
         "zerolinecolor": "#E1E5ED"
        },
        "yaxis2": {
         "anchor": "x2",
         "domain": [
          0.8025,
          1
         ],
         "gridcolor": "#E1E5ED",
         "showgrid": false,
         "tickfont": {
          "color": "#4D5663"
         },
         "title": {
          "font": {
           "color": "#4D5663"
          },
          "text": ""
         },
         "zerolinecolor": "#E1E5ED"
        },
        "yaxis3": {
         "anchor": "x3",
         "domain": [
          0.8025,
          1
         ],
         "gridcolor": "#E1E5ED",
         "showgrid": false,
         "tickfont": {
          "color": "#4D5663"
         },
         "title": {
          "font": {
           "color": "#4D5663"
          },
          "text": ""
         },
         "zerolinecolor": "#E1E5ED"
        },
        "yaxis4": {
         "anchor": "x4",
         "domain": [
          0.8025,
          1
         ],
         "gridcolor": "#E1E5ED",
         "showgrid": false,
         "tickfont": {
          "color": "#4D5663"
         },
         "title": {
          "font": {
           "color": "#4D5663"
          },
          "text": ""
         },
         "zerolinecolor": "#E1E5ED"
        },
        "yaxis5": {
         "anchor": "x5",
         "domain": [
          0.535,
          0.7325
         ],
         "gridcolor": "#E1E5ED",
         "showgrid": false,
         "tickfont": {
          "color": "#4D5663"
         },
         "title": {
          "font": {
           "color": "#4D5663"
          },
          "text": ""
         },
         "zerolinecolor": "#E1E5ED"
        },
        "yaxis6": {
         "anchor": "x6",
         "domain": [
          0.535,
          0.7325
         ],
         "gridcolor": "#E1E5ED",
         "showgrid": false,
         "tickfont": {
          "color": "#4D5663"
         },
         "title": {
          "font": {
           "color": "#4D5663"
          },
          "text": ""
         },
         "zerolinecolor": "#E1E5ED"
        },
        "yaxis7": {
         "anchor": "x7",
         "domain": [
          0.535,
          0.7325
         ],
         "gridcolor": "#E1E5ED",
         "showgrid": false,
         "tickfont": {
          "color": "#4D5663"
         },
         "title": {
          "font": {
           "color": "#4D5663"
          },
          "text": ""
         },
         "zerolinecolor": "#E1E5ED"
        },
        "yaxis8": {
         "anchor": "x8",
         "domain": [
          0.535,
          0.7325
         ],
         "gridcolor": "#E1E5ED",
         "showgrid": false,
         "tickfont": {
          "color": "#4D5663"
         },
         "title": {
          "font": {
           "color": "#4D5663"
          },
          "text": ""
         },
         "zerolinecolor": "#E1E5ED"
        },
        "yaxis9": {
         "anchor": "x9",
         "domain": [
          0.2675,
          0.465
         ],
         "gridcolor": "#E1E5ED",
         "showgrid": false,
         "tickfont": {
          "color": "#4D5663"
         },
         "title": {
          "font": {
           "color": "#4D5663"
          },
          "text": ""
         },
         "zerolinecolor": "#E1E5ED"
        }
       }
      },
      "text/html": [
       "<div>                            <div id=\"67a00434-a45f-4311-b303-8e7e3f265219\" class=\"plotly-graph-div\" style=\"height:525px; width:100%;\"></div>            <script type=\"text/javascript\">                require([\"plotly\"], function(Plotly) {                    window.PLOTLYENV=window.PLOTLYENV || {};\n",
       "                    window.PLOTLYENV.BASE_URL='https://plot.ly';                                    if (document.getElementById(\"67a00434-a45f-4311-b303-8e7e3f265219\")) {                    Plotly.newPlot(                        \"67a00434-a45f-4311-b303-8e7e3f265219\",                        [{\"histfunc\": \"count\", \"histnorm\": \"\", \"marker\": {\"color\": \"rgba(255, 153, 51, 1.0)\", \"line\": {\"color\": \"#4D5663\", \"width\": 1.3}}, \"name\": \"A\", \"nbinsx\": 10, \"opacity\": 0.8, \"orientation\": \"v\", \"type\": \"histogram\", \"x\": [-0.13357016322871249, -0.9388099126545523, 0.5117097703051664, 1.1779855554334155, -0.4957539865499914, 0.7007226194302827, -1.618803600536682, 0.6471942674601291, 0.18380474352706944, -0.8434487884583421, -0.14225349702295875, -2.0077819846307485, 0.29759751236156534, -1.6326134094630256, -1.6519162183269995, -0.8539639548069332, 0.07536835326501973, 0.40309764714981444, 1.166158989566912, 0.46423153191010424, 1.2319341756988753, 0.4641824363846118, 0.05736669686774498, 0.39587078523377806, -0.254006178629848, -0.36263870999363906, 0.6412993423764257, -0.3700496398671861, -0.13410095704867844, 0.9817025311756228, 0.8106484353297797, -0.16205295130179306, -0.33913108062063313, 0.057469169391842496, -0.26477571549699463, 0.0024576263945883135, -0.7147944079380628, -0.9996002696309442, 0.9184922604899338, -1.1992044471144834, -0.0014854154246680376, 0.3345466304861377, -0.765893622583983, 0.10602795313048664, -1.591559038672016, -1.5312232576890508, -0.6366596842954436, 1.6225309347941257, 1.7966198104485864, 2.79022164392135, 0.27989357476789123, -0.4241064293010893, 0.8388132702372181, -1.7267818436917177, -0.19362775702521812, -0.4368430323944334, -0.10776796283523535, -0.6502442358995324, -1.6219332655111154, 1.2550106632360527, 1.1312727057858079, -0.14766825632663355, -0.8368005671070359, -0.3243847866723495, -1.2199045625041136, -0.23809218291276832, -0.08972305687923236, -0.05567665301556912, 0.7666832039503296, 0.2585425338176482, -1.3348907441116726, 0.6040795355994396, 0.6531700339950408, 1.090204612183431, -0.6137086038703986, 0.33791847895736926, -1.7392250650949956, 1.4703656663706586, 0.27668941996149615, 0.09627244902315872, -0.712464687405788, -0.9906689518375307, -0.2946382043089493, 0.5505106266683137, -0.7328233537076538, 0.07719178587171921, -0.16515491761973805, 1.2137032151240978, 0.6498073142314598, -0.36673405463231695, 0.6143438624170506, 0.04026987091933534, 1.7651119672384328, 2.504762191553729, 0.19481374841293744, -0.695399992508885, -0.98880223581316, -1.5667214570263932, -1.2968714550600573, 1.4422375463078765], \"xaxis\": \"x\", \"yaxis\": \"y\"}, {\"line\": {\"color\": \"rgba(128, 128, 128, 1.0)\", \"dash\": \"solid\", \"shape\": \"linear\", \"width\": 1.3}, \"marker\": {\"size\": 2, \"symbol\": \"circle\"}, \"mode\": \"markers\", \"name\": \"A\", \"text\": \"\", \"type\": \"scatter\", \"x\": [-1.771315301053812, 0.28371580039817207, 1.303979668017339, -0.4009436724652719, -0.8421376822919558, -1.6465719848911848, 1.690845020202858, 1.6249160105450737, 1.1486402676728138, 1.2817697377258561, -2.3492865826040443, -0.7341290536641111, -1.0151774783057488, 1.302160688252516, 0.3722181611452662, -0.2537545153874133, 1.0733525558023929, 0.013311297241387236, -1.584831941900239, -0.08844080273559, -0.02523400350880266, 1.8680368996218724, 0.7902024783347283, -1.1507380031196381, 1.1533029111144617, -0.8117613170967656, 1.2916717955929897, 0.16307876825058087, -0.08776720246335248, -0.7169668323701185, 0.11547599070899921, 2.028020398950748, 2.067971296847705, -1.7679586572575203, -1.9121303185713443, 0.22433857797991286, -0.05078404839345344, -1.6452970856783191, -2.2029051986762402, 0.29089672723102883, -0.6098968844301316, 0.4910994061285502, 0.3276452956611974, -0.8080522613359631, 0.2261764224509759, -1.1643304995513808, -0.5139522934290397, 0.05652292348238001, -1.0680631748812215, -1.1211463646552, -0.4212410832484853, -1.0984757835014813, 0.32938239648772344, -0.5500316801652668, 0.24390634734471617, 0.06022437056695923, 0.10340482186120566, 0.008214440317838802, 2.0666413091693987, -0.6463373272003697, 0.7164276475627177, -0.9353036902858883, 0.2883519549522942, -0.24751466010814432, -0.07612973193853989, -1.388616457975686, 0.5765020024178159, -0.13743540087202014, 0.5969159313248671, 0.4040044827769081, 1.200730957316366, -0.6561027766889078, -0.7367026331814217, 3.182032959872631, 0.34142892232679933, -0.433666546367912, -0.45821447025373263, 1.0097119871725126, -0.5871000495758965, 1.2284393627469177, 1.1344983010102763, -0.13325128842744816, -1.1939105257456901, -2.043792821545929, 0.6485531035628525, 0.027039352355595663, 0.5899161200710822, 1.3957133480420012, -2.0924818534099088, 0.05259908472658938, -0.3149904271888376, -0.3649950991421775, 1.4506623049311254, -0.4616033155387015, 0.3976292886585956, -0.4479181999474117, -2.342225753002411, -0.6694261707440903, 1.412374347731571, -0.2622402824357615], \"xaxis\": \"x2\", \"y\": [-0.13357016322871249, -0.9388099126545523, 0.5117097703051664, 1.1779855554334155, -0.4957539865499914, 0.7007226194302827, -1.618803600536682, 0.6471942674601291, 0.18380474352706944, -0.8434487884583421, -0.14225349702295875, -2.0077819846307485, 0.29759751236156534, -1.6326134094630256, -1.6519162183269995, -0.8539639548069332, 0.07536835326501973, 0.40309764714981444, 1.166158989566912, 0.46423153191010424, 1.2319341756988753, 0.4641824363846118, 0.05736669686774498, 0.39587078523377806, -0.254006178629848, -0.36263870999363906, 0.6412993423764257, -0.3700496398671861, -0.13410095704867844, 0.9817025311756228, 0.8106484353297797, -0.16205295130179306, -0.33913108062063313, 0.057469169391842496, -0.26477571549699463, 0.0024576263945883135, -0.7147944079380628, -0.9996002696309442, 0.9184922604899338, -1.1992044471144834, -0.0014854154246680376, 0.3345466304861377, -0.765893622583983, 0.10602795313048664, -1.591559038672016, -1.5312232576890508, -0.6366596842954436, 1.6225309347941257, 1.7966198104485864, 2.79022164392135, 0.27989357476789123, -0.4241064293010893, 0.8388132702372181, -1.7267818436917177, -0.19362775702521812, -0.4368430323944334, -0.10776796283523535, -0.6502442358995324, -1.6219332655111154, 1.2550106632360527, 1.1312727057858079, -0.14766825632663355, -0.8368005671070359, -0.3243847866723495, -1.2199045625041136, -0.23809218291276832, -0.08972305687923236, -0.05567665301556912, 0.7666832039503296, 0.2585425338176482, -1.3348907441116726, 0.6040795355994396, 0.6531700339950408, 1.090204612183431, -0.6137086038703986, 0.33791847895736926, -1.7392250650949956, 1.4703656663706586, 0.27668941996149615, 0.09627244902315872, -0.712464687405788, -0.9906689518375307, -0.2946382043089493, 0.5505106266683137, -0.7328233537076538, 0.07719178587171921, -0.16515491761973805, 1.2137032151240978, 0.6498073142314598, -0.36673405463231695, 0.6143438624170506, 0.04026987091933534, 1.7651119672384328, 2.504762191553729, 0.19481374841293744, -0.695399992508885, -0.98880223581316, -1.5667214570263932, -1.2968714550600573, 1.4422375463078765], \"yaxis\": \"y2\"}, {\"line\": {\"color\": \"rgba(128, 128, 128, 1.0)\", \"dash\": \"solid\", \"shape\": \"linear\", \"width\": 1.3}, \"marker\": {\"size\": 2, \"symbol\": \"circle\"}, \"mode\": \"markers\", \"name\": \"A\", \"text\": \"\", \"type\": \"scatter\", \"x\": [-1.2579592369558228, 0.7528169840299983, -0.7212252288668569, 0.3040167880558339, 0.06405199364242747, -0.9794261253256917, 0.2110250635216258, 0.8695926420197316, -0.5471620336296431, 0.037644641509716664, -1.1279175212907984, 1.554452868061709, -0.8720078626974317, -0.010206832100415413, 0.3959098294577444, 0.7744721461304633, -0.03486702794374062, -0.3183871184648832, 0.4225609493578637, 0.552122448153061, -0.08383964666788961, -0.46655386125457127, -0.23922394230142296, -0.729788466241313, -1.3635738098547718, 0.024262777689102382, -0.6662326400440676, 2.711557508318987, 1.0497030911463014, -0.12120104369763134, -0.9314714224706033, -0.25335313061922565, -0.8706468259824167, -0.4646738652540685, 0.49137998555939516, 1.4117021072978906, -0.13718187470684634, -1.615444018765306, 0.024942414814299662, 1.3784547189105696, -1.762931179346037, 2.074684529641876, 0.24551005940638157, -1.0266596524872484, -1.4051791994362584, -1.105473664398208, 0.19999641366654805, 0.4336689635382377, 1.3000851057406768, 1.1393419618167528, 0.5490801889968279, -1.633631985596189, 1.1968992342668567, -0.6032049920929101, -0.5826092395077325, -0.2417719225016725, -0.9567494384957832, 0.3284798323601425, -2.4402465113975707, 0.7729841391377279, 1.553161106113638, -0.20333882339927445, 0.7275606562778946, 0.8424831941539155, 0.3420886704554364, 1.8903511329232836, 0.36802299677888756, -0.5625204226160485, 0.6096398559747628, -0.8744038113144517, 0.2308186341970769, 0.24388648034656385, 0.3219023571744587, 0.17622540560927966, 0.0687200798773024, -0.5507174486977008, -1.2582786139871052, -0.24256808812114775, -0.9274303682965955, 1.1977594438659265, -0.12240389967362733, -0.25759805955960435, 0.34410471953012245, 0.24912721791232564, 0.07636262719982223, 0.42696823820504093, -0.6742097764193655, 0.6755218777428174, 0.31694280346361214, -0.46585397211821045, -1.7707084849884613, 2.494822526595637, 1.2801007839658125, -0.25980259970521324, -0.11055106229552869, -0.8455311232198319, 0.6829304924618667, -2.0230467385680986, -1.965899318975996, 0.34957359104221764], \"xaxis\": \"x3\", \"y\": [-0.13357016322871249, -0.9388099126545523, 0.5117097703051664, 1.1779855554334155, -0.4957539865499914, 0.7007226194302827, -1.618803600536682, 0.6471942674601291, 0.18380474352706944, -0.8434487884583421, -0.14225349702295875, -2.0077819846307485, 0.29759751236156534, -1.6326134094630256, -1.6519162183269995, -0.8539639548069332, 0.07536835326501973, 0.40309764714981444, 1.166158989566912, 0.46423153191010424, 1.2319341756988753, 0.4641824363846118, 0.05736669686774498, 0.39587078523377806, -0.254006178629848, -0.36263870999363906, 0.6412993423764257, -0.3700496398671861, -0.13410095704867844, 0.9817025311756228, 0.8106484353297797, -0.16205295130179306, -0.33913108062063313, 0.057469169391842496, -0.26477571549699463, 0.0024576263945883135, -0.7147944079380628, -0.9996002696309442, 0.9184922604899338, -1.1992044471144834, -0.0014854154246680376, 0.3345466304861377, -0.765893622583983, 0.10602795313048664, -1.591559038672016, -1.5312232576890508, -0.6366596842954436, 1.6225309347941257, 1.7966198104485864, 2.79022164392135, 0.27989357476789123, -0.4241064293010893, 0.8388132702372181, -1.7267818436917177, -0.19362775702521812, -0.4368430323944334, -0.10776796283523535, -0.6502442358995324, -1.6219332655111154, 1.2550106632360527, 1.1312727057858079, -0.14766825632663355, -0.8368005671070359, -0.3243847866723495, -1.2199045625041136, -0.23809218291276832, -0.08972305687923236, -0.05567665301556912, 0.7666832039503296, 0.2585425338176482, -1.3348907441116726, 0.6040795355994396, 0.6531700339950408, 1.090204612183431, -0.6137086038703986, 0.33791847895736926, -1.7392250650949956, 1.4703656663706586, 0.27668941996149615, 0.09627244902315872, -0.712464687405788, -0.9906689518375307, -0.2946382043089493, 0.5505106266683137, -0.7328233537076538, 0.07719178587171921, -0.16515491761973805, 1.2137032151240978, 0.6498073142314598, -0.36673405463231695, 0.6143438624170506, 0.04026987091933534, 1.7651119672384328, 2.504762191553729, 0.19481374841293744, -0.695399992508885, -0.98880223581316, -1.5667214570263932, -1.2968714550600573, 1.4422375463078765], \"yaxis\": \"y3\"}, {\"line\": {\"color\": \"rgba(128, 128, 128, 1.0)\", \"dash\": \"solid\", \"shape\": \"linear\", \"width\": 1.3}, \"marker\": {\"size\": 2, \"symbol\": \"circle\"}, \"mode\": \"markers\", \"name\": \"A\", \"text\": \"\", \"type\": \"scatter\", \"x\": [0.04438298901005722, 2.01453011666514, -0.8277517471019805, -0.4800275225455572, -1.7434713727845639, 1.6474424537740948, -0.16804861158362375, -0.3170576263675429, 0.5394158840204778, -0.6924913946106126, 0.12869584951149501, -1.7170079133817846, 1.5497731352834976, -0.22265567730787772, -0.20622471639514134, -1.3309127324521304, -0.39665514276109454, 0.9067267568798981, -1.6387895792807983, 0.34456287952360554, -0.8154378946192437, -0.04865944942180593, 0.5296800149132371, 1.7698085655284084, -0.7880081927964421, 0.3259051081955611, 1.5594467061507356, 0.6108034574271162, 0.6846999518933515, -0.8729485447088208, -1.3139050390278892, -2.1655041063750904, -0.10354913630562142, 1.4834866655526269, -1.6343680314510447, 0.9356563089852359, 0.007046310253665561, 0.4558758136188569, 0.4765068400389557, -1.1706733088019277, 0.9350676613976643, 1.4313982313549363, 0.5954427133350423, 0.6200068342203038, 0.009474970656160889, 1.1797609679208256, -1.1671317090374829, -1.0701521169839643, -1.7284304653292917, 1.8470078650353527, 1.1464085645841953, 0.29458531691626494, 0.08570935020443918, 1.1435119918014651, -2.1360784359117577, 0.4556847608350121, 0.0513175755211297, 0.42959911087376695, 2.4045860592752346, -0.08207194954384621, -0.12435840040726509, -2.2452071344640325, 2.9569042551254454, -0.32906049535149867, -0.7127842868462987, -0.22034371894642682, 0.9239351909569483, -0.02454792415611727, 0.5194703811559909, -0.7094179821624598, -0.016326337686232928, -0.4082430523401641, -0.7058983800826389, 0.09316726389439584, -0.3845163381140667, -0.5644378580981232, -0.15046839968890366, -0.638550744051377, -1.164619415415256, -1.2838871358316455, -0.46186365658641154, 0.5187898701446411, -0.011885183186334015, -0.22220901837735701, 1.2780779627236407, -0.7656378388014617, -0.02346141562631671, -0.4343304313359113, -0.6382552883548942, -1.5396187274373607, -0.780158031098307, -0.07763908522978279, -1.0985136000226379, -0.4206320982439969, 0.11552039962919004, -0.40687614072653705, 0.17192303628777747, 0.28869547425579645, -0.3195206685415462, 0.09628554206664476], \"xaxis\": \"x4\", \"y\": [-0.13357016322871249, -0.9388099126545523, 0.5117097703051664, 1.1779855554334155, -0.4957539865499914, 0.7007226194302827, -1.618803600536682, 0.6471942674601291, 0.18380474352706944, -0.8434487884583421, -0.14225349702295875, -2.0077819846307485, 0.29759751236156534, -1.6326134094630256, -1.6519162183269995, -0.8539639548069332, 0.07536835326501973, 0.40309764714981444, 1.166158989566912, 0.46423153191010424, 1.2319341756988753, 0.4641824363846118, 0.05736669686774498, 0.39587078523377806, -0.254006178629848, -0.36263870999363906, 0.6412993423764257, -0.3700496398671861, -0.13410095704867844, 0.9817025311756228, 0.8106484353297797, -0.16205295130179306, -0.33913108062063313, 0.057469169391842496, -0.26477571549699463, 0.0024576263945883135, -0.7147944079380628, -0.9996002696309442, 0.9184922604899338, -1.1992044471144834, -0.0014854154246680376, 0.3345466304861377, -0.765893622583983, 0.10602795313048664, -1.591559038672016, -1.5312232576890508, -0.6366596842954436, 1.6225309347941257, 1.7966198104485864, 2.79022164392135, 0.27989357476789123, -0.4241064293010893, 0.8388132702372181, -1.7267818436917177, -0.19362775702521812, -0.4368430323944334, -0.10776796283523535, -0.6502442358995324, -1.6219332655111154, 1.2550106632360527, 1.1312727057858079, -0.14766825632663355, -0.8368005671070359, -0.3243847866723495, -1.2199045625041136, -0.23809218291276832, -0.08972305687923236, -0.05567665301556912, 0.7666832039503296, 0.2585425338176482, -1.3348907441116726, 0.6040795355994396, 0.6531700339950408, 1.090204612183431, -0.6137086038703986, 0.33791847895736926, -1.7392250650949956, 1.4703656663706586, 0.27668941996149615, 0.09627244902315872, -0.712464687405788, -0.9906689518375307, -0.2946382043089493, 0.5505106266683137, -0.7328233537076538, 0.07719178587171921, -0.16515491761973805, 1.2137032151240978, 0.6498073142314598, -0.36673405463231695, 0.6143438624170506, 0.04026987091933534, 1.7651119672384328, 2.504762191553729, 0.19481374841293744, -0.695399992508885, -0.98880223581316, -1.5667214570263932, -1.2968714550600573, 1.4422375463078765], \"yaxis\": \"y4\"}, {\"line\": {\"color\": \"rgba(128, 128, 128, 1.0)\", \"dash\": \"solid\", \"shape\": \"linear\", \"width\": 1.3}, \"marker\": {\"size\": 2, \"symbol\": \"circle\"}, \"mode\": \"markers\", \"name\": \"B\", \"text\": \"\", \"type\": \"scatter\", \"x\": [-0.13357016322871249, -0.9388099126545523, 0.5117097703051664, 1.1779855554334155, -0.4957539865499914, 0.7007226194302827, -1.618803600536682, 0.6471942674601291, 0.18380474352706944, -0.8434487884583421, -0.14225349702295875, -2.0077819846307485, 0.29759751236156534, -1.6326134094630256, -1.6519162183269995, -0.8539639548069332, 0.07536835326501973, 0.40309764714981444, 1.166158989566912, 0.46423153191010424, 1.2319341756988753, 0.4641824363846118, 0.05736669686774498, 0.39587078523377806, -0.254006178629848, -0.36263870999363906, 0.6412993423764257, -0.3700496398671861, -0.13410095704867844, 0.9817025311756228, 0.8106484353297797, -0.16205295130179306, -0.33913108062063313, 0.057469169391842496, -0.26477571549699463, 0.0024576263945883135, -0.7147944079380628, -0.9996002696309442, 0.9184922604899338, -1.1992044471144834, -0.0014854154246680376, 0.3345466304861377, -0.765893622583983, 0.10602795313048664, -1.591559038672016, -1.5312232576890508, -0.6366596842954436, 1.6225309347941257, 1.7966198104485864, 2.79022164392135, 0.27989357476789123, -0.4241064293010893, 0.8388132702372181, -1.7267818436917177, -0.19362775702521812, -0.4368430323944334, -0.10776796283523535, -0.6502442358995324, -1.6219332655111154, 1.2550106632360527, 1.1312727057858079, -0.14766825632663355, -0.8368005671070359, -0.3243847866723495, -1.2199045625041136, -0.23809218291276832, -0.08972305687923236, -0.05567665301556912, 0.7666832039503296, 0.2585425338176482, -1.3348907441116726, 0.6040795355994396, 0.6531700339950408, 1.090204612183431, -0.6137086038703986, 0.33791847895736926, -1.7392250650949956, 1.4703656663706586, 0.27668941996149615, 0.09627244902315872, -0.712464687405788, -0.9906689518375307, -0.2946382043089493, 0.5505106266683137, -0.7328233537076538, 0.07719178587171921, -0.16515491761973805, 1.2137032151240978, 0.6498073142314598, -0.36673405463231695, 0.6143438624170506, 0.04026987091933534, 1.7651119672384328, 2.504762191553729, 0.19481374841293744, -0.695399992508885, -0.98880223581316, -1.5667214570263932, -1.2968714550600573, 1.4422375463078765], \"xaxis\": \"x5\", \"y\": [-1.771315301053812, 0.28371580039817207, 1.303979668017339, -0.4009436724652719, -0.8421376822919558, -1.6465719848911848, 1.690845020202858, 1.6249160105450737, 1.1486402676728138, 1.2817697377258561, -2.3492865826040443, -0.7341290536641111, -1.0151774783057488, 1.302160688252516, 0.3722181611452662, -0.2537545153874133, 1.0733525558023929, 0.013311297241387236, -1.584831941900239, -0.08844080273559, -0.02523400350880266, 1.8680368996218724, 0.7902024783347283, -1.1507380031196381, 1.1533029111144617, -0.8117613170967656, 1.2916717955929897, 0.16307876825058087, -0.08776720246335248, -0.7169668323701185, 0.11547599070899921, 2.028020398950748, 2.067971296847705, -1.7679586572575203, -1.9121303185713443, 0.22433857797991286, -0.05078404839345344, -1.6452970856783191, -2.2029051986762402, 0.29089672723102883, -0.6098968844301316, 0.4910994061285502, 0.3276452956611974, -0.8080522613359631, 0.2261764224509759, -1.1643304995513808, -0.5139522934290397, 0.05652292348238001, -1.0680631748812215, -1.1211463646552, -0.4212410832484853, -1.0984757835014813, 0.32938239648772344, -0.5500316801652668, 0.24390634734471617, 0.06022437056695923, 0.10340482186120566, 0.008214440317838802, 2.0666413091693987, -0.6463373272003697, 0.7164276475627177, -0.9353036902858883, 0.2883519549522942, -0.24751466010814432, -0.07612973193853989, -1.388616457975686, 0.5765020024178159, -0.13743540087202014, 0.5969159313248671, 0.4040044827769081, 1.200730957316366, -0.6561027766889078, -0.7367026331814217, 3.182032959872631, 0.34142892232679933, -0.433666546367912, -0.45821447025373263, 1.0097119871725126, -0.5871000495758965, 1.2284393627469177, 1.1344983010102763, -0.13325128842744816, -1.1939105257456901, -2.043792821545929, 0.6485531035628525, 0.027039352355595663, 0.5899161200710822, 1.3957133480420012, -2.0924818534099088, 0.05259908472658938, -0.3149904271888376, -0.3649950991421775, 1.4506623049311254, -0.4616033155387015, 0.3976292886585956, -0.4479181999474117, -2.342225753002411, -0.6694261707440903, 1.412374347731571, -0.2622402824357615], \"yaxis\": \"y5\"}, {\"histfunc\": \"count\", \"histnorm\": \"\", \"marker\": {\"color\": \"rgba(55, 128, 191, 1.0)\", \"line\": {\"color\": \"#4D5663\", \"width\": 1.3}}, \"name\": \"B\", \"nbinsx\": 10, \"opacity\": 0.8, \"orientation\": \"v\", \"type\": \"histogram\", \"x\": [-1.771315301053812, 0.28371580039817207, 1.303979668017339, -0.4009436724652719, -0.8421376822919558, -1.6465719848911848, 1.690845020202858, 1.6249160105450737, 1.1486402676728138, 1.2817697377258561, -2.3492865826040443, -0.7341290536641111, -1.0151774783057488, 1.302160688252516, 0.3722181611452662, -0.2537545153874133, 1.0733525558023929, 0.013311297241387236, -1.584831941900239, -0.08844080273559, -0.02523400350880266, 1.8680368996218724, 0.7902024783347283, -1.1507380031196381, 1.1533029111144617, -0.8117613170967656, 1.2916717955929897, 0.16307876825058087, -0.08776720246335248, -0.7169668323701185, 0.11547599070899921, 2.028020398950748, 2.067971296847705, -1.7679586572575203, -1.9121303185713443, 0.22433857797991286, -0.05078404839345344, -1.6452970856783191, -2.2029051986762402, 0.29089672723102883, -0.6098968844301316, 0.4910994061285502, 0.3276452956611974, -0.8080522613359631, 0.2261764224509759, -1.1643304995513808, -0.5139522934290397, 0.05652292348238001, -1.0680631748812215, -1.1211463646552, -0.4212410832484853, -1.0984757835014813, 0.32938239648772344, -0.5500316801652668, 0.24390634734471617, 0.06022437056695923, 0.10340482186120566, 0.008214440317838802, 2.0666413091693987, -0.6463373272003697, 0.7164276475627177, -0.9353036902858883, 0.2883519549522942, -0.24751466010814432, -0.07612973193853989, -1.388616457975686, 0.5765020024178159, -0.13743540087202014, 0.5969159313248671, 0.4040044827769081, 1.200730957316366, -0.6561027766889078, -0.7367026331814217, 3.182032959872631, 0.34142892232679933, -0.433666546367912, -0.45821447025373263, 1.0097119871725126, -0.5871000495758965, 1.2284393627469177, 1.1344983010102763, -0.13325128842744816, -1.1939105257456901, -2.043792821545929, 0.6485531035628525, 0.027039352355595663, 0.5899161200710822, 1.3957133480420012, -2.0924818534099088, 0.05259908472658938, -0.3149904271888376, -0.3649950991421775, 1.4506623049311254, -0.4616033155387015, 0.3976292886585956, -0.4479181999474117, -2.342225753002411, -0.6694261707440903, 1.412374347731571, -0.2622402824357615], \"xaxis\": \"x6\", \"yaxis\": \"y6\"}, {\"line\": {\"color\": \"rgba(128, 128, 128, 1.0)\", \"dash\": \"solid\", \"shape\": \"linear\", \"width\": 1.3}, \"marker\": {\"size\": 2, \"symbol\": \"circle\"}, \"mode\": \"markers\", \"name\": \"B\", \"text\": \"\", \"type\": \"scatter\", \"x\": [-1.2579592369558228, 0.7528169840299983, -0.7212252288668569, 0.3040167880558339, 0.06405199364242747, -0.9794261253256917, 0.2110250635216258, 0.8695926420197316, -0.5471620336296431, 0.037644641509716664, -1.1279175212907984, 1.554452868061709, -0.8720078626974317, -0.010206832100415413, 0.3959098294577444, 0.7744721461304633, -0.03486702794374062, -0.3183871184648832, 0.4225609493578637, 0.552122448153061, -0.08383964666788961, -0.46655386125457127, -0.23922394230142296, -0.729788466241313, -1.3635738098547718, 0.024262777689102382, -0.6662326400440676, 2.711557508318987, 1.0497030911463014, -0.12120104369763134, -0.9314714224706033, -0.25335313061922565, -0.8706468259824167, -0.4646738652540685, 0.49137998555939516, 1.4117021072978906, -0.13718187470684634, -1.615444018765306, 0.024942414814299662, 1.3784547189105696, -1.762931179346037, 2.074684529641876, 0.24551005940638157, -1.0266596524872484, -1.4051791994362584, -1.105473664398208, 0.19999641366654805, 0.4336689635382377, 1.3000851057406768, 1.1393419618167528, 0.5490801889968279, -1.633631985596189, 1.1968992342668567, -0.6032049920929101, -0.5826092395077325, -0.2417719225016725, -0.9567494384957832, 0.3284798323601425, -2.4402465113975707, 0.7729841391377279, 1.553161106113638, -0.20333882339927445, 0.7275606562778946, 0.8424831941539155, 0.3420886704554364, 1.8903511329232836, 0.36802299677888756, -0.5625204226160485, 0.6096398559747628, -0.8744038113144517, 0.2308186341970769, 0.24388648034656385, 0.3219023571744587, 0.17622540560927966, 0.0687200798773024, -0.5507174486977008, -1.2582786139871052, -0.24256808812114775, -0.9274303682965955, 1.1977594438659265, -0.12240389967362733, -0.25759805955960435, 0.34410471953012245, 0.24912721791232564, 0.07636262719982223, 0.42696823820504093, -0.6742097764193655, 0.6755218777428174, 0.31694280346361214, -0.46585397211821045, -1.7707084849884613, 2.494822526595637, 1.2801007839658125, -0.25980259970521324, -0.11055106229552869, -0.8455311232198319, 0.6829304924618667, -2.0230467385680986, -1.965899318975996, 0.34957359104221764], \"xaxis\": \"x7\", \"y\": [-1.771315301053812, 0.28371580039817207, 1.303979668017339, -0.4009436724652719, -0.8421376822919558, -1.6465719848911848, 1.690845020202858, 1.6249160105450737, 1.1486402676728138, 1.2817697377258561, -2.3492865826040443, -0.7341290536641111, -1.0151774783057488, 1.302160688252516, 0.3722181611452662, -0.2537545153874133, 1.0733525558023929, 0.013311297241387236, -1.584831941900239, -0.08844080273559, -0.02523400350880266, 1.8680368996218724, 0.7902024783347283, -1.1507380031196381, 1.1533029111144617, -0.8117613170967656, 1.2916717955929897, 0.16307876825058087, -0.08776720246335248, -0.7169668323701185, 0.11547599070899921, 2.028020398950748, 2.067971296847705, -1.7679586572575203, -1.9121303185713443, 0.22433857797991286, -0.05078404839345344, -1.6452970856783191, -2.2029051986762402, 0.29089672723102883, -0.6098968844301316, 0.4910994061285502, 0.3276452956611974, -0.8080522613359631, 0.2261764224509759, -1.1643304995513808, -0.5139522934290397, 0.05652292348238001, -1.0680631748812215, -1.1211463646552, -0.4212410832484853, -1.0984757835014813, 0.32938239648772344, -0.5500316801652668, 0.24390634734471617, 0.06022437056695923, 0.10340482186120566, 0.008214440317838802, 2.0666413091693987, -0.6463373272003697, 0.7164276475627177, -0.9353036902858883, 0.2883519549522942, -0.24751466010814432, -0.07612973193853989, -1.388616457975686, 0.5765020024178159, -0.13743540087202014, 0.5969159313248671, 0.4040044827769081, 1.200730957316366, -0.6561027766889078, -0.7367026331814217, 3.182032959872631, 0.34142892232679933, -0.433666546367912, -0.45821447025373263, 1.0097119871725126, -0.5871000495758965, 1.2284393627469177, 1.1344983010102763, -0.13325128842744816, -1.1939105257456901, -2.043792821545929, 0.6485531035628525, 0.027039352355595663, 0.5899161200710822, 1.3957133480420012, -2.0924818534099088, 0.05259908472658938, -0.3149904271888376, -0.3649950991421775, 1.4506623049311254, -0.4616033155387015, 0.3976292886585956, -0.4479181999474117, -2.342225753002411, -0.6694261707440903, 1.412374347731571, -0.2622402824357615], \"yaxis\": \"y7\"}, {\"line\": {\"color\": \"rgba(128, 128, 128, 1.0)\", \"dash\": \"solid\", \"shape\": \"linear\", \"width\": 1.3}, \"marker\": {\"size\": 2, \"symbol\": \"circle\"}, \"mode\": \"markers\", \"name\": \"B\", \"text\": \"\", \"type\": \"scatter\", \"x\": [0.04438298901005722, 2.01453011666514, -0.8277517471019805, -0.4800275225455572, -1.7434713727845639, 1.6474424537740948, -0.16804861158362375, -0.3170576263675429, 0.5394158840204778, -0.6924913946106126, 0.12869584951149501, -1.7170079133817846, 1.5497731352834976, -0.22265567730787772, -0.20622471639514134, -1.3309127324521304, -0.39665514276109454, 0.9067267568798981, -1.6387895792807983, 0.34456287952360554, -0.8154378946192437, -0.04865944942180593, 0.5296800149132371, 1.7698085655284084, -0.7880081927964421, 0.3259051081955611, 1.5594467061507356, 0.6108034574271162, 0.6846999518933515, -0.8729485447088208, -1.3139050390278892, -2.1655041063750904, -0.10354913630562142, 1.4834866655526269, -1.6343680314510447, 0.9356563089852359, 0.007046310253665561, 0.4558758136188569, 0.4765068400389557, -1.1706733088019277, 0.9350676613976643, 1.4313982313549363, 0.5954427133350423, 0.6200068342203038, 0.009474970656160889, 1.1797609679208256, -1.1671317090374829, -1.0701521169839643, -1.7284304653292917, 1.8470078650353527, 1.1464085645841953, 0.29458531691626494, 0.08570935020443918, 1.1435119918014651, -2.1360784359117577, 0.4556847608350121, 0.0513175755211297, 0.42959911087376695, 2.4045860592752346, -0.08207194954384621, -0.12435840040726509, -2.2452071344640325, 2.9569042551254454, -0.32906049535149867, -0.7127842868462987, -0.22034371894642682, 0.9239351909569483, -0.02454792415611727, 0.5194703811559909, -0.7094179821624598, -0.016326337686232928, -0.4082430523401641, -0.7058983800826389, 0.09316726389439584, -0.3845163381140667, -0.5644378580981232, -0.15046839968890366, -0.638550744051377, -1.164619415415256, -1.2838871358316455, -0.46186365658641154, 0.5187898701446411, -0.011885183186334015, -0.22220901837735701, 1.2780779627236407, -0.7656378388014617, -0.02346141562631671, -0.4343304313359113, -0.6382552883548942, -1.5396187274373607, -0.780158031098307, -0.07763908522978279, -1.0985136000226379, -0.4206320982439969, 0.11552039962919004, -0.40687614072653705, 0.17192303628777747, 0.28869547425579645, -0.3195206685415462, 0.09628554206664476], \"xaxis\": \"x8\", \"y\": [-1.771315301053812, 0.28371580039817207, 1.303979668017339, -0.4009436724652719, -0.8421376822919558, -1.6465719848911848, 1.690845020202858, 1.6249160105450737, 1.1486402676728138, 1.2817697377258561, -2.3492865826040443, -0.7341290536641111, -1.0151774783057488, 1.302160688252516, 0.3722181611452662, -0.2537545153874133, 1.0733525558023929, 0.013311297241387236, -1.584831941900239, -0.08844080273559, -0.02523400350880266, 1.8680368996218724, 0.7902024783347283, -1.1507380031196381, 1.1533029111144617, -0.8117613170967656, 1.2916717955929897, 0.16307876825058087, -0.08776720246335248, -0.7169668323701185, 0.11547599070899921, 2.028020398950748, 2.067971296847705, -1.7679586572575203, -1.9121303185713443, 0.22433857797991286, -0.05078404839345344, -1.6452970856783191, -2.2029051986762402, 0.29089672723102883, -0.6098968844301316, 0.4910994061285502, 0.3276452956611974, -0.8080522613359631, 0.2261764224509759, -1.1643304995513808, -0.5139522934290397, 0.05652292348238001, -1.0680631748812215, -1.1211463646552, -0.4212410832484853, -1.0984757835014813, 0.32938239648772344, -0.5500316801652668, 0.24390634734471617, 0.06022437056695923, 0.10340482186120566, 0.008214440317838802, 2.0666413091693987, -0.6463373272003697, 0.7164276475627177, -0.9353036902858883, 0.2883519549522942, -0.24751466010814432, -0.07612973193853989, -1.388616457975686, 0.5765020024178159, -0.13743540087202014, 0.5969159313248671, 0.4040044827769081, 1.200730957316366, -0.6561027766889078, -0.7367026331814217, 3.182032959872631, 0.34142892232679933, -0.433666546367912, -0.45821447025373263, 1.0097119871725126, -0.5871000495758965, 1.2284393627469177, 1.1344983010102763, -0.13325128842744816, -1.1939105257456901, -2.043792821545929, 0.6485531035628525, 0.027039352355595663, 0.5899161200710822, 1.3957133480420012, -2.0924818534099088, 0.05259908472658938, -0.3149904271888376, -0.3649950991421775, 1.4506623049311254, -0.4616033155387015, 0.3976292886585956, -0.4479181999474117, -2.342225753002411, -0.6694261707440903, 1.412374347731571, -0.2622402824357615], \"yaxis\": \"y8\"}, {\"line\": {\"color\": \"rgba(128, 128, 128, 1.0)\", \"dash\": \"solid\", \"shape\": \"linear\", \"width\": 1.3}, \"marker\": {\"size\": 2, \"symbol\": \"circle\"}, \"mode\": \"markers\", \"name\": \"C\", \"text\": \"\", \"type\": \"scatter\", \"x\": [-0.13357016322871249, -0.9388099126545523, 0.5117097703051664, 1.1779855554334155, -0.4957539865499914, 0.7007226194302827, -1.618803600536682, 0.6471942674601291, 0.18380474352706944, -0.8434487884583421, -0.14225349702295875, -2.0077819846307485, 0.29759751236156534, -1.6326134094630256, -1.6519162183269995, -0.8539639548069332, 0.07536835326501973, 0.40309764714981444, 1.166158989566912, 0.46423153191010424, 1.2319341756988753, 0.4641824363846118, 0.05736669686774498, 0.39587078523377806, -0.254006178629848, -0.36263870999363906, 0.6412993423764257, -0.3700496398671861, -0.13410095704867844, 0.9817025311756228, 0.8106484353297797, -0.16205295130179306, -0.33913108062063313, 0.057469169391842496, -0.26477571549699463, 0.0024576263945883135, -0.7147944079380628, -0.9996002696309442, 0.9184922604899338, -1.1992044471144834, -0.0014854154246680376, 0.3345466304861377, -0.765893622583983, 0.10602795313048664, -1.591559038672016, -1.5312232576890508, -0.6366596842954436, 1.6225309347941257, 1.7966198104485864, 2.79022164392135, 0.27989357476789123, -0.4241064293010893, 0.8388132702372181, -1.7267818436917177, -0.19362775702521812, -0.4368430323944334, -0.10776796283523535, -0.6502442358995324, -1.6219332655111154, 1.2550106632360527, 1.1312727057858079, -0.14766825632663355, -0.8368005671070359, -0.3243847866723495, -1.2199045625041136, -0.23809218291276832, -0.08972305687923236, -0.05567665301556912, 0.7666832039503296, 0.2585425338176482, -1.3348907441116726, 0.6040795355994396, 0.6531700339950408, 1.090204612183431, -0.6137086038703986, 0.33791847895736926, -1.7392250650949956, 1.4703656663706586, 0.27668941996149615, 0.09627244902315872, -0.712464687405788, -0.9906689518375307, -0.2946382043089493, 0.5505106266683137, -0.7328233537076538, 0.07719178587171921, -0.16515491761973805, 1.2137032151240978, 0.6498073142314598, -0.36673405463231695, 0.6143438624170506, 0.04026987091933534, 1.7651119672384328, 2.504762191553729, 0.19481374841293744, -0.695399992508885, -0.98880223581316, -1.5667214570263932, -1.2968714550600573, 1.4422375463078765], \"xaxis\": \"x9\", \"y\": [-1.2579592369558228, 0.7528169840299983, -0.7212252288668569, 0.3040167880558339, 0.06405199364242747, -0.9794261253256917, 0.2110250635216258, 0.8695926420197316, -0.5471620336296431, 0.037644641509716664, -1.1279175212907984, 1.554452868061709, -0.8720078626974317, -0.010206832100415413, 0.3959098294577444, 0.7744721461304633, -0.03486702794374062, -0.3183871184648832, 0.4225609493578637, 0.552122448153061, -0.08383964666788961, -0.46655386125457127, -0.23922394230142296, -0.729788466241313, -1.3635738098547718, 0.024262777689102382, -0.6662326400440676, 2.711557508318987, 1.0497030911463014, -0.12120104369763134, -0.9314714224706033, -0.25335313061922565, -0.8706468259824167, -0.4646738652540685, 0.49137998555939516, 1.4117021072978906, -0.13718187470684634, -1.615444018765306, 0.024942414814299662, 1.3784547189105696, -1.762931179346037, 2.074684529641876, 0.24551005940638157, -1.0266596524872484, -1.4051791994362584, -1.105473664398208, 0.19999641366654805, 0.4336689635382377, 1.3000851057406768, 1.1393419618167528, 0.5490801889968279, -1.633631985596189, 1.1968992342668567, -0.6032049920929101, -0.5826092395077325, -0.2417719225016725, -0.9567494384957832, 0.3284798323601425, -2.4402465113975707, 0.7729841391377279, 1.553161106113638, -0.20333882339927445, 0.7275606562778946, 0.8424831941539155, 0.3420886704554364, 1.8903511329232836, 0.36802299677888756, -0.5625204226160485, 0.6096398559747628, -0.8744038113144517, 0.2308186341970769, 0.24388648034656385, 0.3219023571744587, 0.17622540560927966, 0.0687200798773024, -0.5507174486977008, -1.2582786139871052, -0.24256808812114775, -0.9274303682965955, 1.1977594438659265, -0.12240389967362733, -0.25759805955960435, 0.34410471953012245, 0.24912721791232564, 0.07636262719982223, 0.42696823820504093, -0.6742097764193655, 0.6755218777428174, 0.31694280346361214, -0.46585397211821045, -1.7707084849884613, 2.494822526595637, 1.2801007839658125, -0.25980259970521324, -0.11055106229552869, -0.8455311232198319, 0.6829304924618667, -2.0230467385680986, -1.965899318975996, 0.34957359104221764], \"yaxis\": \"y9\"}, {\"line\": {\"color\": \"rgba(128, 128, 128, 1.0)\", \"dash\": \"solid\", \"shape\": \"linear\", \"width\": 1.3}, \"marker\": {\"size\": 2, \"symbol\": \"circle\"}, \"mode\": \"markers\", \"name\": \"C\", \"text\": \"\", \"type\": \"scatter\", \"x\": [-1.771315301053812, 0.28371580039817207, 1.303979668017339, -0.4009436724652719, -0.8421376822919558, -1.6465719848911848, 1.690845020202858, 1.6249160105450737, 1.1486402676728138, 1.2817697377258561, -2.3492865826040443, -0.7341290536641111, -1.0151774783057488, 1.302160688252516, 0.3722181611452662, -0.2537545153874133, 1.0733525558023929, 0.013311297241387236, -1.584831941900239, -0.08844080273559, -0.02523400350880266, 1.8680368996218724, 0.7902024783347283, -1.1507380031196381, 1.1533029111144617, -0.8117613170967656, 1.2916717955929897, 0.16307876825058087, -0.08776720246335248, -0.7169668323701185, 0.11547599070899921, 2.028020398950748, 2.067971296847705, -1.7679586572575203, -1.9121303185713443, 0.22433857797991286, -0.05078404839345344, -1.6452970856783191, -2.2029051986762402, 0.29089672723102883, -0.6098968844301316, 0.4910994061285502, 0.3276452956611974, -0.8080522613359631, 0.2261764224509759, -1.1643304995513808, -0.5139522934290397, 0.05652292348238001, -1.0680631748812215, -1.1211463646552, -0.4212410832484853, -1.0984757835014813, 0.32938239648772344, -0.5500316801652668, 0.24390634734471617, 0.06022437056695923, 0.10340482186120566, 0.008214440317838802, 2.0666413091693987, -0.6463373272003697, 0.7164276475627177, -0.9353036902858883, 0.2883519549522942, -0.24751466010814432, -0.07612973193853989, -1.388616457975686, 0.5765020024178159, -0.13743540087202014, 0.5969159313248671, 0.4040044827769081, 1.200730957316366, -0.6561027766889078, -0.7367026331814217, 3.182032959872631, 0.34142892232679933, -0.433666546367912, -0.45821447025373263, 1.0097119871725126, -0.5871000495758965, 1.2284393627469177, 1.1344983010102763, -0.13325128842744816, -1.1939105257456901, -2.043792821545929, 0.6485531035628525, 0.027039352355595663, 0.5899161200710822, 1.3957133480420012, -2.0924818534099088, 0.05259908472658938, -0.3149904271888376, -0.3649950991421775, 1.4506623049311254, -0.4616033155387015, 0.3976292886585956, -0.4479181999474117, -2.342225753002411, -0.6694261707440903, 1.412374347731571, -0.2622402824357615], \"xaxis\": \"x10\", \"y\": [-1.2579592369558228, 0.7528169840299983, -0.7212252288668569, 0.3040167880558339, 0.06405199364242747, -0.9794261253256917, 0.2110250635216258, 0.8695926420197316, -0.5471620336296431, 0.037644641509716664, -1.1279175212907984, 1.554452868061709, -0.8720078626974317, -0.010206832100415413, 0.3959098294577444, 0.7744721461304633, -0.03486702794374062, -0.3183871184648832, 0.4225609493578637, 0.552122448153061, -0.08383964666788961, -0.46655386125457127, -0.23922394230142296, -0.729788466241313, -1.3635738098547718, 0.024262777689102382, -0.6662326400440676, 2.711557508318987, 1.0497030911463014, -0.12120104369763134, -0.9314714224706033, -0.25335313061922565, -0.8706468259824167, -0.4646738652540685, 0.49137998555939516, 1.4117021072978906, -0.13718187470684634, -1.615444018765306, 0.024942414814299662, 1.3784547189105696, -1.762931179346037, 2.074684529641876, 0.24551005940638157, -1.0266596524872484, -1.4051791994362584, -1.105473664398208, 0.19999641366654805, 0.4336689635382377, 1.3000851057406768, 1.1393419618167528, 0.5490801889968279, -1.633631985596189, 1.1968992342668567, -0.6032049920929101, -0.5826092395077325, -0.2417719225016725, -0.9567494384957832, 0.3284798323601425, -2.4402465113975707, 0.7729841391377279, 1.553161106113638, -0.20333882339927445, 0.7275606562778946, 0.8424831941539155, 0.3420886704554364, 1.8903511329232836, 0.36802299677888756, -0.5625204226160485, 0.6096398559747628, -0.8744038113144517, 0.2308186341970769, 0.24388648034656385, 0.3219023571744587, 0.17622540560927966, 0.0687200798773024, -0.5507174486977008, -1.2582786139871052, -0.24256808812114775, -0.9274303682965955, 1.1977594438659265, -0.12240389967362733, -0.25759805955960435, 0.34410471953012245, 0.24912721791232564, 0.07636262719982223, 0.42696823820504093, -0.6742097764193655, 0.6755218777428174, 0.31694280346361214, -0.46585397211821045, -1.7707084849884613, 2.494822526595637, 1.2801007839658125, -0.25980259970521324, -0.11055106229552869, -0.8455311232198319, 0.6829304924618667, -2.0230467385680986, -1.965899318975996, 0.34957359104221764], \"yaxis\": \"y10\"}, {\"histfunc\": \"count\", \"histnorm\": \"\", \"marker\": {\"color\": \"rgba(50, 171, 96, 1.0)\", \"line\": {\"color\": \"#4D5663\", \"width\": 1.3}}, \"name\": \"C\", \"nbinsx\": 10, \"opacity\": 0.8, \"orientation\": \"v\", \"type\": \"histogram\", \"x\": [-1.2579592369558228, 0.7528169840299983, -0.7212252288668569, 0.3040167880558339, 0.06405199364242747, -0.9794261253256917, 0.2110250635216258, 0.8695926420197316, -0.5471620336296431, 0.037644641509716664, -1.1279175212907984, 1.554452868061709, -0.8720078626974317, -0.010206832100415413, 0.3959098294577444, 0.7744721461304633, -0.03486702794374062, -0.3183871184648832, 0.4225609493578637, 0.552122448153061, -0.08383964666788961, -0.46655386125457127, -0.23922394230142296, -0.729788466241313, -1.3635738098547718, 0.024262777689102382, -0.6662326400440676, 2.711557508318987, 1.0497030911463014, -0.12120104369763134, -0.9314714224706033, -0.25335313061922565, -0.8706468259824167, -0.4646738652540685, 0.49137998555939516, 1.4117021072978906, -0.13718187470684634, -1.615444018765306, 0.024942414814299662, 1.3784547189105696, -1.762931179346037, 2.074684529641876, 0.24551005940638157, -1.0266596524872484, -1.4051791994362584, -1.105473664398208, 0.19999641366654805, 0.4336689635382377, 1.3000851057406768, 1.1393419618167528, 0.5490801889968279, -1.633631985596189, 1.1968992342668567, -0.6032049920929101, -0.5826092395077325, -0.2417719225016725, -0.9567494384957832, 0.3284798323601425, -2.4402465113975707, 0.7729841391377279, 1.553161106113638, -0.20333882339927445, 0.7275606562778946, 0.8424831941539155, 0.3420886704554364, 1.8903511329232836, 0.36802299677888756, -0.5625204226160485, 0.6096398559747628, -0.8744038113144517, 0.2308186341970769, 0.24388648034656385, 0.3219023571744587, 0.17622540560927966, 0.0687200798773024, -0.5507174486977008, -1.2582786139871052, -0.24256808812114775, -0.9274303682965955, 1.1977594438659265, -0.12240389967362733, -0.25759805955960435, 0.34410471953012245, 0.24912721791232564, 0.07636262719982223, 0.42696823820504093, -0.6742097764193655, 0.6755218777428174, 0.31694280346361214, -0.46585397211821045, -1.7707084849884613, 2.494822526595637, 1.2801007839658125, -0.25980259970521324, -0.11055106229552869, -0.8455311232198319, 0.6829304924618667, -2.0230467385680986, -1.965899318975996, 0.34957359104221764], \"xaxis\": \"x11\", \"yaxis\": \"y11\"}, {\"line\": {\"color\": \"rgba(128, 128, 128, 1.0)\", \"dash\": \"solid\", \"shape\": \"linear\", \"width\": 1.3}, \"marker\": {\"size\": 2, \"symbol\": \"circle\"}, \"mode\": \"markers\", \"name\": \"C\", \"text\": \"\", \"type\": \"scatter\", \"x\": [0.04438298901005722, 2.01453011666514, -0.8277517471019805, -0.4800275225455572, -1.7434713727845639, 1.6474424537740948, -0.16804861158362375, -0.3170576263675429, 0.5394158840204778, -0.6924913946106126, 0.12869584951149501, -1.7170079133817846, 1.5497731352834976, -0.22265567730787772, -0.20622471639514134, -1.3309127324521304, -0.39665514276109454, 0.9067267568798981, -1.6387895792807983, 0.34456287952360554, -0.8154378946192437, -0.04865944942180593, 0.5296800149132371, 1.7698085655284084, -0.7880081927964421, 0.3259051081955611, 1.5594467061507356, 0.6108034574271162, 0.6846999518933515, -0.8729485447088208, -1.3139050390278892, -2.1655041063750904, -0.10354913630562142, 1.4834866655526269, -1.6343680314510447, 0.9356563089852359, 0.007046310253665561, 0.4558758136188569, 0.4765068400389557, -1.1706733088019277, 0.9350676613976643, 1.4313982313549363, 0.5954427133350423, 0.6200068342203038, 0.009474970656160889, 1.1797609679208256, -1.1671317090374829, -1.0701521169839643, -1.7284304653292917, 1.8470078650353527, 1.1464085645841953, 0.29458531691626494, 0.08570935020443918, 1.1435119918014651, -2.1360784359117577, 0.4556847608350121, 0.0513175755211297, 0.42959911087376695, 2.4045860592752346, -0.08207194954384621, -0.12435840040726509, -2.2452071344640325, 2.9569042551254454, -0.32906049535149867, -0.7127842868462987, -0.22034371894642682, 0.9239351909569483, -0.02454792415611727, 0.5194703811559909, -0.7094179821624598, -0.016326337686232928, -0.4082430523401641, -0.7058983800826389, 0.09316726389439584, -0.3845163381140667, -0.5644378580981232, -0.15046839968890366, -0.638550744051377, -1.164619415415256, -1.2838871358316455, -0.46186365658641154, 0.5187898701446411, -0.011885183186334015, -0.22220901837735701, 1.2780779627236407, -0.7656378388014617, -0.02346141562631671, -0.4343304313359113, -0.6382552883548942, -1.5396187274373607, -0.780158031098307, -0.07763908522978279, -1.0985136000226379, -0.4206320982439969, 0.11552039962919004, -0.40687614072653705, 0.17192303628777747, 0.28869547425579645, -0.3195206685415462, 0.09628554206664476], \"xaxis\": \"x12\", \"y\": [-1.2579592369558228, 0.7528169840299983, -0.7212252288668569, 0.3040167880558339, 0.06405199364242747, -0.9794261253256917, 0.2110250635216258, 0.8695926420197316, -0.5471620336296431, 0.037644641509716664, -1.1279175212907984, 1.554452868061709, -0.8720078626974317, -0.010206832100415413, 0.3959098294577444, 0.7744721461304633, -0.03486702794374062, -0.3183871184648832, 0.4225609493578637, 0.552122448153061, -0.08383964666788961, -0.46655386125457127, -0.23922394230142296, -0.729788466241313, -1.3635738098547718, 0.024262777689102382, -0.6662326400440676, 2.711557508318987, 1.0497030911463014, -0.12120104369763134, -0.9314714224706033, -0.25335313061922565, -0.8706468259824167, -0.4646738652540685, 0.49137998555939516, 1.4117021072978906, -0.13718187470684634, -1.615444018765306, 0.024942414814299662, 1.3784547189105696, -1.762931179346037, 2.074684529641876, 0.24551005940638157, -1.0266596524872484, -1.4051791994362584, -1.105473664398208, 0.19999641366654805, 0.4336689635382377, 1.3000851057406768, 1.1393419618167528, 0.5490801889968279, -1.633631985596189, 1.1968992342668567, -0.6032049920929101, -0.5826092395077325, -0.2417719225016725, -0.9567494384957832, 0.3284798323601425, -2.4402465113975707, 0.7729841391377279, 1.553161106113638, -0.20333882339927445, 0.7275606562778946, 0.8424831941539155, 0.3420886704554364, 1.8903511329232836, 0.36802299677888756, -0.5625204226160485, 0.6096398559747628, -0.8744038113144517, 0.2308186341970769, 0.24388648034656385, 0.3219023571744587, 0.17622540560927966, 0.0687200798773024, -0.5507174486977008, -1.2582786139871052, -0.24256808812114775, -0.9274303682965955, 1.1977594438659265, -0.12240389967362733, -0.25759805955960435, 0.34410471953012245, 0.24912721791232564, 0.07636262719982223, 0.42696823820504093, -0.6742097764193655, 0.6755218777428174, 0.31694280346361214, -0.46585397211821045, -1.7707084849884613, 2.494822526595637, 1.2801007839658125, -0.25980259970521324, -0.11055106229552869, -0.8455311232198319, 0.6829304924618667, -2.0230467385680986, -1.965899318975996, 0.34957359104221764], \"yaxis\": \"y12\"}, {\"line\": {\"color\": \"rgba(128, 128, 128, 1.0)\", \"dash\": \"solid\", \"shape\": \"linear\", \"width\": 1.3}, \"marker\": {\"size\": 2, \"symbol\": \"circle\"}, \"mode\": \"markers\", \"name\": \"D\", \"text\": \"\", \"type\": \"scatter\", \"x\": [-0.13357016322871249, -0.9388099126545523, 0.5117097703051664, 1.1779855554334155, -0.4957539865499914, 0.7007226194302827, -1.618803600536682, 0.6471942674601291, 0.18380474352706944, -0.8434487884583421, -0.14225349702295875, -2.0077819846307485, 0.29759751236156534, -1.6326134094630256, -1.6519162183269995, -0.8539639548069332, 0.07536835326501973, 0.40309764714981444, 1.166158989566912, 0.46423153191010424, 1.2319341756988753, 0.4641824363846118, 0.05736669686774498, 0.39587078523377806, -0.254006178629848, -0.36263870999363906, 0.6412993423764257, -0.3700496398671861, -0.13410095704867844, 0.9817025311756228, 0.8106484353297797, -0.16205295130179306, -0.33913108062063313, 0.057469169391842496, -0.26477571549699463, 0.0024576263945883135, -0.7147944079380628, -0.9996002696309442, 0.9184922604899338, -1.1992044471144834, -0.0014854154246680376, 0.3345466304861377, -0.765893622583983, 0.10602795313048664, -1.591559038672016, -1.5312232576890508, -0.6366596842954436, 1.6225309347941257, 1.7966198104485864, 2.79022164392135, 0.27989357476789123, -0.4241064293010893, 0.8388132702372181, -1.7267818436917177, -0.19362775702521812, -0.4368430323944334, -0.10776796283523535, -0.6502442358995324, -1.6219332655111154, 1.2550106632360527, 1.1312727057858079, -0.14766825632663355, -0.8368005671070359, -0.3243847866723495, -1.2199045625041136, -0.23809218291276832, -0.08972305687923236, -0.05567665301556912, 0.7666832039503296, 0.2585425338176482, -1.3348907441116726, 0.6040795355994396, 0.6531700339950408, 1.090204612183431, -0.6137086038703986, 0.33791847895736926, -1.7392250650949956, 1.4703656663706586, 0.27668941996149615, 0.09627244902315872, -0.712464687405788, -0.9906689518375307, -0.2946382043089493, 0.5505106266683137, -0.7328233537076538, 0.07719178587171921, -0.16515491761973805, 1.2137032151240978, 0.6498073142314598, -0.36673405463231695, 0.6143438624170506, 0.04026987091933534, 1.7651119672384328, 2.504762191553729, 0.19481374841293744, -0.695399992508885, -0.98880223581316, -1.5667214570263932, -1.2968714550600573, 1.4422375463078765], \"xaxis\": \"x13\", \"y\": [0.04438298901005722, 2.01453011666514, -0.8277517471019805, -0.4800275225455572, -1.7434713727845639, 1.6474424537740948, -0.16804861158362375, -0.3170576263675429, 0.5394158840204778, -0.6924913946106126, 0.12869584951149501, -1.7170079133817846, 1.5497731352834976, -0.22265567730787772, -0.20622471639514134, -1.3309127324521304, -0.39665514276109454, 0.9067267568798981, -1.6387895792807983, 0.34456287952360554, -0.8154378946192437, -0.04865944942180593, 0.5296800149132371, 1.7698085655284084, -0.7880081927964421, 0.3259051081955611, 1.5594467061507356, 0.6108034574271162, 0.6846999518933515, -0.8729485447088208, -1.3139050390278892, -2.1655041063750904, -0.10354913630562142, 1.4834866655526269, -1.6343680314510447, 0.9356563089852359, 0.007046310253665561, 0.4558758136188569, 0.4765068400389557, -1.1706733088019277, 0.9350676613976643, 1.4313982313549363, 0.5954427133350423, 0.6200068342203038, 0.009474970656160889, 1.1797609679208256, -1.1671317090374829, -1.0701521169839643, -1.7284304653292917, 1.8470078650353527, 1.1464085645841953, 0.29458531691626494, 0.08570935020443918, 1.1435119918014651, -2.1360784359117577, 0.4556847608350121, 0.0513175755211297, 0.42959911087376695, 2.4045860592752346, -0.08207194954384621, -0.12435840040726509, -2.2452071344640325, 2.9569042551254454, -0.32906049535149867, -0.7127842868462987, -0.22034371894642682, 0.9239351909569483, -0.02454792415611727, 0.5194703811559909, -0.7094179821624598, -0.016326337686232928, -0.4082430523401641, -0.7058983800826389, 0.09316726389439584, -0.3845163381140667, -0.5644378580981232, -0.15046839968890366, -0.638550744051377, -1.164619415415256, -1.2838871358316455, -0.46186365658641154, 0.5187898701446411, -0.011885183186334015, -0.22220901837735701, 1.2780779627236407, -0.7656378388014617, -0.02346141562631671, -0.4343304313359113, -0.6382552883548942, -1.5396187274373607, -0.780158031098307, -0.07763908522978279, -1.0985136000226379, -0.4206320982439969, 0.11552039962919004, -0.40687614072653705, 0.17192303628777747, 0.28869547425579645, -0.3195206685415462, 0.09628554206664476], \"yaxis\": \"y13\"}, {\"line\": {\"color\": \"rgba(128, 128, 128, 1.0)\", \"dash\": \"solid\", \"shape\": \"linear\", \"width\": 1.3}, \"marker\": {\"size\": 2, \"symbol\": \"circle\"}, \"mode\": \"markers\", \"name\": \"D\", \"text\": \"\", \"type\": \"scatter\", \"x\": [-1.771315301053812, 0.28371580039817207, 1.303979668017339, -0.4009436724652719, -0.8421376822919558, -1.6465719848911848, 1.690845020202858, 1.6249160105450737, 1.1486402676728138, 1.2817697377258561, -2.3492865826040443, -0.7341290536641111, -1.0151774783057488, 1.302160688252516, 0.3722181611452662, -0.2537545153874133, 1.0733525558023929, 0.013311297241387236, -1.584831941900239, -0.08844080273559, -0.02523400350880266, 1.8680368996218724, 0.7902024783347283, -1.1507380031196381, 1.1533029111144617, -0.8117613170967656, 1.2916717955929897, 0.16307876825058087, -0.08776720246335248, -0.7169668323701185, 0.11547599070899921, 2.028020398950748, 2.067971296847705, -1.7679586572575203, -1.9121303185713443, 0.22433857797991286, -0.05078404839345344, -1.6452970856783191, -2.2029051986762402, 0.29089672723102883, -0.6098968844301316, 0.4910994061285502, 0.3276452956611974, -0.8080522613359631, 0.2261764224509759, -1.1643304995513808, -0.5139522934290397, 0.05652292348238001, -1.0680631748812215, -1.1211463646552, -0.4212410832484853, -1.0984757835014813, 0.32938239648772344, -0.5500316801652668, 0.24390634734471617, 0.06022437056695923, 0.10340482186120566, 0.008214440317838802, 2.0666413091693987, -0.6463373272003697, 0.7164276475627177, -0.9353036902858883, 0.2883519549522942, -0.24751466010814432, -0.07612973193853989, -1.388616457975686, 0.5765020024178159, -0.13743540087202014, 0.5969159313248671, 0.4040044827769081, 1.200730957316366, -0.6561027766889078, -0.7367026331814217, 3.182032959872631, 0.34142892232679933, -0.433666546367912, -0.45821447025373263, 1.0097119871725126, -0.5871000495758965, 1.2284393627469177, 1.1344983010102763, -0.13325128842744816, -1.1939105257456901, -2.043792821545929, 0.6485531035628525, 0.027039352355595663, 0.5899161200710822, 1.3957133480420012, -2.0924818534099088, 0.05259908472658938, -0.3149904271888376, -0.3649950991421775, 1.4506623049311254, -0.4616033155387015, 0.3976292886585956, -0.4479181999474117, -2.342225753002411, -0.6694261707440903, 1.412374347731571, -0.2622402824357615], \"xaxis\": \"x14\", \"y\": [0.04438298901005722, 2.01453011666514, -0.8277517471019805, -0.4800275225455572, -1.7434713727845639, 1.6474424537740948, -0.16804861158362375, -0.3170576263675429, 0.5394158840204778, -0.6924913946106126, 0.12869584951149501, -1.7170079133817846, 1.5497731352834976, -0.22265567730787772, -0.20622471639514134, -1.3309127324521304, -0.39665514276109454, 0.9067267568798981, -1.6387895792807983, 0.34456287952360554, -0.8154378946192437, -0.04865944942180593, 0.5296800149132371, 1.7698085655284084, -0.7880081927964421, 0.3259051081955611, 1.5594467061507356, 0.6108034574271162, 0.6846999518933515, -0.8729485447088208, -1.3139050390278892, -2.1655041063750904, -0.10354913630562142, 1.4834866655526269, -1.6343680314510447, 0.9356563089852359, 0.007046310253665561, 0.4558758136188569, 0.4765068400389557, -1.1706733088019277, 0.9350676613976643, 1.4313982313549363, 0.5954427133350423, 0.6200068342203038, 0.009474970656160889, 1.1797609679208256, -1.1671317090374829, -1.0701521169839643, -1.7284304653292917, 1.8470078650353527, 1.1464085645841953, 0.29458531691626494, 0.08570935020443918, 1.1435119918014651, -2.1360784359117577, 0.4556847608350121, 0.0513175755211297, 0.42959911087376695, 2.4045860592752346, -0.08207194954384621, -0.12435840040726509, -2.2452071344640325, 2.9569042551254454, -0.32906049535149867, -0.7127842868462987, -0.22034371894642682, 0.9239351909569483, -0.02454792415611727, 0.5194703811559909, -0.7094179821624598, -0.016326337686232928, -0.4082430523401641, -0.7058983800826389, 0.09316726389439584, -0.3845163381140667, -0.5644378580981232, -0.15046839968890366, -0.638550744051377, -1.164619415415256, -1.2838871358316455, -0.46186365658641154, 0.5187898701446411, -0.011885183186334015, -0.22220901837735701, 1.2780779627236407, -0.7656378388014617, -0.02346141562631671, -0.4343304313359113, -0.6382552883548942, -1.5396187274373607, -0.780158031098307, -0.07763908522978279, -1.0985136000226379, -0.4206320982439969, 0.11552039962919004, -0.40687614072653705, 0.17192303628777747, 0.28869547425579645, -0.3195206685415462, 0.09628554206664476], \"yaxis\": \"y14\"}, {\"line\": {\"color\": \"rgba(128, 128, 128, 1.0)\", \"dash\": \"solid\", \"shape\": \"linear\", \"width\": 1.3}, \"marker\": {\"size\": 2, \"symbol\": \"circle\"}, \"mode\": \"markers\", \"name\": \"D\", \"text\": \"\", \"type\": \"scatter\", \"x\": [-1.2579592369558228, 0.7528169840299983, -0.7212252288668569, 0.3040167880558339, 0.06405199364242747, -0.9794261253256917, 0.2110250635216258, 0.8695926420197316, -0.5471620336296431, 0.037644641509716664, -1.1279175212907984, 1.554452868061709, -0.8720078626974317, -0.010206832100415413, 0.3959098294577444, 0.7744721461304633, -0.03486702794374062, -0.3183871184648832, 0.4225609493578637, 0.552122448153061, -0.08383964666788961, -0.46655386125457127, -0.23922394230142296, -0.729788466241313, -1.3635738098547718, 0.024262777689102382, -0.6662326400440676, 2.711557508318987, 1.0497030911463014, -0.12120104369763134, -0.9314714224706033, -0.25335313061922565, -0.8706468259824167, -0.4646738652540685, 0.49137998555939516, 1.4117021072978906, -0.13718187470684634, -1.615444018765306, 0.024942414814299662, 1.3784547189105696, -1.762931179346037, 2.074684529641876, 0.24551005940638157, -1.0266596524872484, -1.4051791994362584, -1.105473664398208, 0.19999641366654805, 0.4336689635382377, 1.3000851057406768, 1.1393419618167528, 0.5490801889968279, -1.633631985596189, 1.1968992342668567, -0.6032049920929101, -0.5826092395077325, -0.2417719225016725, -0.9567494384957832, 0.3284798323601425, -2.4402465113975707, 0.7729841391377279, 1.553161106113638, -0.20333882339927445, 0.7275606562778946, 0.8424831941539155, 0.3420886704554364, 1.8903511329232836, 0.36802299677888756, -0.5625204226160485, 0.6096398559747628, -0.8744038113144517, 0.2308186341970769, 0.24388648034656385, 0.3219023571744587, 0.17622540560927966, 0.0687200798773024, -0.5507174486977008, -1.2582786139871052, -0.24256808812114775, -0.9274303682965955, 1.1977594438659265, -0.12240389967362733, -0.25759805955960435, 0.34410471953012245, 0.24912721791232564, 0.07636262719982223, 0.42696823820504093, -0.6742097764193655, 0.6755218777428174, 0.31694280346361214, -0.46585397211821045, -1.7707084849884613, 2.494822526595637, 1.2801007839658125, -0.25980259970521324, -0.11055106229552869, -0.8455311232198319, 0.6829304924618667, -2.0230467385680986, -1.965899318975996, 0.34957359104221764], \"xaxis\": \"x15\", \"y\": [0.04438298901005722, 2.01453011666514, -0.8277517471019805, -0.4800275225455572, -1.7434713727845639, 1.6474424537740948, -0.16804861158362375, -0.3170576263675429, 0.5394158840204778, -0.6924913946106126, 0.12869584951149501, -1.7170079133817846, 1.5497731352834976, -0.22265567730787772, -0.20622471639514134, -1.3309127324521304, -0.39665514276109454, 0.9067267568798981, -1.6387895792807983, 0.34456287952360554, -0.8154378946192437, -0.04865944942180593, 0.5296800149132371, 1.7698085655284084, -0.7880081927964421, 0.3259051081955611, 1.5594467061507356, 0.6108034574271162, 0.6846999518933515, -0.8729485447088208, -1.3139050390278892, -2.1655041063750904, -0.10354913630562142, 1.4834866655526269, -1.6343680314510447, 0.9356563089852359, 0.007046310253665561, 0.4558758136188569, 0.4765068400389557, -1.1706733088019277, 0.9350676613976643, 1.4313982313549363, 0.5954427133350423, 0.6200068342203038, 0.009474970656160889, 1.1797609679208256, -1.1671317090374829, -1.0701521169839643, -1.7284304653292917, 1.8470078650353527, 1.1464085645841953, 0.29458531691626494, 0.08570935020443918, 1.1435119918014651, -2.1360784359117577, 0.4556847608350121, 0.0513175755211297, 0.42959911087376695, 2.4045860592752346, -0.08207194954384621, -0.12435840040726509, -2.2452071344640325, 2.9569042551254454, -0.32906049535149867, -0.7127842868462987, -0.22034371894642682, 0.9239351909569483, -0.02454792415611727, 0.5194703811559909, -0.7094179821624598, -0.016326337686232928, -0.4082430523401641, -0.7058983800826389, 0.09316726389439584, -0.3845163381140667, -0.5644378580981232, -0.15046839968890366, -0.638550744051377, -1.164619415415256, -1.2838871358316455, -0.46186365658641154, 0.5187898701446411, -0.011885183186334015, -0.22220901837735701, 1.2780779627236407, -0.7656378388014617, -0.02346141562631671, -0.4343304313359113, -0.6382552883548942, -1.5396187274373607, -0.780158031098307, -0.07763908522978279, -1.0985136000226379, -0.4206320982439969, 0.11552039962919004, -0.40687614072653705, 0.17192303628777747, 0.28869547425579645, -0.3195206685415462, 0.09628554206664476], \"yaxis\": \"y15\"}, {\"histfunc\": \"count\", \"histnorm\": \"\", \"marker\": {\"color\": \"rgba(128, 0, 128, 1.0)\", \"line\": {\"color\": \"#4D5663\", \"width\": 1.3}}, \"name\": \"D\", \"nbinsx\": 10, \"opacity\": 0.8, \"orientation\": \"v\", \"type\": \"histogram\", \"x\": [0.04438298901005722, 2.01453011666514, -0.8277517471019805, -0.4800275225455572, -1.7434713727845639, 1.6474424537740948, -0.16804861158362375, -0.3170576263675429, 0.5394158840204778, -0.6924913946106126, 0.12869584951149501, -1.7170079133817846, 1.5497731352834976, -0.22265567730787772, -0.20622471639514134, -1.3309127324521304, -0.39665514276109454, 0.9067267568798981, -1.6387895792807983, 0.34456287952360554, -0.8154378946192437, -0.04865944942180593, 0.5296800149132371, 1.7698085655284084, -0.7880081927964421, 0.3259051081955611, 1.5594467061507356, 0.6108034574271162, 0.6846999518933515, -0.8729485447088208, -1.3139050390278892, -2.1655041063750904, -0.10354913630562142, 1.4834866655526269, -1.6343680314510447, 0.9356563089852359, 0.007046310253665561, 0.4558758136188569, 0.4765068400389557, -1.1706733088019277, 0.9350676613976643, 1.4313982313549363, 0.5954427133350423, 0.6200068342203038, 0.009474970656160889, 1.1797609679208256, -1.1671317090374829, -1.0701521169839643, -1.7284304653292917, 1.8470078650353527, 1.1464085645841953, 0.29458531691626494, 0.08570935020443918, 1.1435119918014651, -2.1360784359117577, 0.4556847608350121, 0.0513175755211297, 0.42959911087376695, 2.4045860592752346, -0.08207194954384621, -0.12435840040726509, -2.2452071344640325, 2.9569042551254454, -0.32906049535149867, -0.7127842868462987, -0.22034371894642682, 0.9239351909569483, -0.02454792415611727, 0.5194703811559909, -0.7094179821624598, -0.016326337686232928, -0.4082430523401641, -0.7058983800826389, 0.09316726389439584, -0.3845163381140667, -0.5644378580981232, -0.15046839968890366, -0.638550744051377, -1.164619415415256, -1.2838871358316455, -0.46186365658641154, 0.5187898701446411, -0.011885183186334015, -0.22220901837735701, 1.2780779627236407, -0.7656378388014617, -0.02346141562631671, -0.4343304313359113, -0.6382552883548942, -1.5396187274373607, -0.780158031098307, -0.07763908522978279, -1.0985136000226379, -0.4206320982439969, 0.11552039962919004, -0.40687614072653705, 0.17192303628777747, 0.28869547425579645, -0.3195206685415462, 0.09628554206664476], \"xaxis\": \"x16\", \"yaxis\": \"y16\"}],                        {\"bargap\": 0.02, \"legend\": {\"bgcolor\": \"#F5F6F9\", \"font\": {\"color\": \"#4D5663\"}}, \"paper_bgcolor\": \"#F5F6F9\", \"plot_bgcolor\": \"#F5F6F9\", \"showlegend\": false, \"template\": {\"data\": {\"bar\": [{\"error_x\": {\"color\": \"#2a3f5f\"}, \"error_y\": {\"color\": \"#2a3f5f\"}, \"marker\": {\"line\": {\"color\": \"#E5ECF6\", \"width\": 0.5}}, \"type\": \"bar\"}], \"barpolar\": [{\"marker\": {\"line\": {\"color\": \"#E5ECF6\", \"width\": 0.5}}, \"type\": \"barpolar\"}], \"carpet\": [{\"aaxis\": {\"endlinecolor\": \"#2a3f5f\", \"gridcolor\": \"white\", \"linecolor\": \"white\", \"minorgridcolor\": \"white\", \"startlinecolor\": \"#2a3f5f\"}, \"baxis\": {\"endlinecolor\": \"#2a3f5f\", \"gridcolor\": \"white\", \"linecolor\": \"white\", \"minorgridcolor\": \"white\", \"startlinecolor\": \"#2a3f5f\"}, \"type\": \"carpet\"}], \"choropleth\": [{\"colorbar\": {\"outlinewidth\": 0, \"ticks\": \"\"}, \"type\": \"choropleth\"}], \"contour\": [{\"colorbar\": {\"outlinewidth\": 0, \"ticks\": \"\"}, \"colorscale\": [[0.0, \"#0d0887\"], [0.1111111111111111, \"#46039f\"], [0.2222222222222222, \"#7201a8\"], [0.3333333333333333, \"#9c179e\"], [0.4444444444444444, \"#bd3786\"], [0.5555555555555556, \"#d8576b\"], [0.6666666666666666, \"#ed7953\"], [0.7777777777777778, \"#fb9f3a\"], [0.8888888888888888, \"#fdca26\"], [1.0, \"#f0f921\"]], \"type\": \"contour\"}], \"contourcarpet\": [{\"colorbar\": {\"outlinewidth\": 0, \"ticks\": \"\"}, \"type\": \"contourcarpet\"}], \"heatmap\": [{\"colorbar\": {\"outlinewidth\": 0, \"ticks\": \"\"}, \"colorscale\": [[0.0, \"#0d0887\"], [0.1111111111111111, \"#46039f\"], [0.2222222222222222, \"#7201a8\"], [0.3333333333333333, \"#9c179e\"], [0.4444444444444444, \"#bd3786\"], [0.5555555555555556, \"#d8576b\"], [0.6666666666666666, \"#ed7953\"], [0.7777777777777778, \"#fb9f3a\"], [0.8888888888888888, \"#fdca26\"], [1.0, \"#f0f921\"]], \"type\": \"heatmap\"}], \"heatmapgl\": [{\"colorbar\": {\"outlinewidth\": 0, \"ticks\": \"\"}, \"colorscale\": [[0.0, \"#0d0887\"], [0.1111111111111111, \"#46039f\"], [0.2222222222222222, \"#7201a8\"], [0.3333333333333333, \"#9c179e\"], [0.4444444444444444, \"#bd3786\"], [0.5555555555555556, \"#d8576b\"], [0.6666666666666666, \"#ed7953\"], [0.7777777777777778, \"#fb9f3a\"], [0.8888888888888888, \"#fdca26\"], [1.0, \"#f0f921\"]], \"type\": \"heatmapgl\"}], \"histogram\": [{\"marker\": {\"colorbar\": {\"outlinewidth\": 0, \"ticks\": \"\"}}, \"type\": \"histogram\"}], \"histogram2d\": [{\"colorbar\": {\"outlinewidth\": 0, \"ticks\": \"\"}, \"colorscale\": [[0.0, \"#0d0887\"], [0.1111111111111111, \"#46039f\"], [0.2222222222222222, \"#7201a8\"], [0.3333333333333333, \"#9c179e\"], [0.4444444444444444, \"#bd3786\"], [0.5555555555555556, \"#d8576b\"], [0.6666666666666666, \"#ed7953\"], [0.7777777777777778, \"#fb9f3a\"], [0.8888888888888888, \"#fdca26\"], [1.0, \"#f0f921\"]], \"type\": \"histogram2d\"}], \"histogram2dcontour\": [{\"colorbar\": {\"outlinewidth\": 0, \"ticks\": \"\"}, \"colorscale\": [[0.0, \"#0d0887\"], [0.1111111111111111, \"#46039f\"], [0.2222222222222222, \"#7201a8\"], [0.3333333333333333, \"#9c179e\"], [0.4444444444444444, \"#bd3786\"], [0.5555555555555556, \"#d8576b\"], [0.6666666666666666, \"#ed7953\"], [0.7777777777777778, \"#fb9f3a\"], [0.8888888888888888, \"#fdca26\"], [1.0, \"#f0f921\"]], \"type\": \"histogram2dcontour\"}], \"mesh3d\": [{\"colorbar\": {\"outlinewidth\": 0, \"ticks\": \"\"}, \"type\": \"mesh3d\"}], \"parcoords\": [{\"line\": {\"colorbar\": {\"outlinewidth\": 0, \"ticks\": \"\"}}, \"type\": \"parcoords\"}], \"pie\": [{\"automargin\": true, \"type\": \"pie\"}], \"scatter\": [{\"marker\": {\"colorbar\": {\"outlinewidth\": 0, \"ticks\": \"\"}}, \"type\": \"scatter\"}], \"scatter3d\": [{\"line\": {\"colorbar\": {\"outlinewidth\": 0, \"ticks\": \"\"}}, \"marker\": {\"colorbar\": {\"outlinewidth\": 0, \"ticks\": \"\"}}, \"type\": \"scatter3d\"}], \"scattercarpet\": [{\"marker\": {\"colorbar\": {\"outlinewidth\": 0, \"ticks\": \"\"}}, \"type\": \"scattercarpet\"}], \"scattergeo\": [{\"marker\": {\"colorbar\": {\"outlinewidth\": 0, \"ticks\": \"\"}}, \"type\": \"scattergeo\"}], \"scattergl\": [{\"marker\": {\"colorbar\": {\"outlinewidth\": 0, \"ticks\": \"\"}}, \"type\": \"scattergl\"}], \"scattermapbox\": [{\"marker\": {\"colorbar\": {\"outlinewidth\": 0, \"ticks\": \"\"}}, \"type\": \"scattermapbox\"}], \"scatterpolar\": [{\"marker\": {\"colorbar\": {\"outlinewidth\": 0, \"ticks\": \"\"}}, \"type\": \"scatterpolar\"}], \"scatterpolargl\": [{\"marker\": {\"colorbar\": {\"outlinewidth\": 0, \"ticks\": \"\"}}, \"type\": \"scatterpolargl\"}], \"scatterternary\": [{\"marker\": {\"colorbar\": {\"outlinewidth\": 0, \"ticks\": \"\"}}, \"type\": \"scatterternary\"}], \"surface\": [{\"colorbar\": {\"outlinewidth\": 0, \"ticks\": \"\"}, \"colorscale\": [[0.0, \"#0d0887\"], [0.1111111111111111, \"#46039f\"], [0.2222222222222222, \"#7201a8\"], [0.3333333333333333, \"#9c179e\"], [0.4444444444444444, \"#bd3786\"], [0.5555555555555556, \"#d8576b\"], [0.6666666666666666, \"#ed7953\"], [0.7777777777777778, \"#fb9f3a\"], [0.8888888888888888, \"#fdca26\"], [1.0, \"#f0f921\"]], \"type\": \"surface\"}], \"table\": [{\"cells\": {\"fill\": {\"color\": \"#EBF0F8\"}, \"line\": {\"color\": \"white\"}}, \"header\": {\"fill\": {\"color\": \"#C8D4E3\"}, \"line\": {\"color\": \"white\"}}, \"type\": \"table\"}]}, \"layout\": {\"annotationdefaults\": {\"arrowcolor\": \"#2a3f5f\", \"arrowhead\": 0, \"arrowwidth\": 1}, \"coloraxis\": {\"colorbar\": {\"outlinewidth\": 0, \"ticks\": \"\"}}, \"colorscale\": {\"diverging\": [[0, \"#8e0152\"], [0.1, \"#c51b7d\"], [0.2, \"#de77ae\"], [0.3, \"#f1b6da\"], [0.4, \"#fde0ef\"], [0.5, \"#f7f7f7\"], [0.6, \"#e6f5d0\"], [0.7, \"#b8e186\"], [0.8, \"#7fbc41\"], [0.9, \"#4d9221\"], [1, \"#276419\"]], \"sequential\": [[0.0, \"#0d0887\"], [0.1111111111111111, \"#46039f\"], [0.2222222222222222, \"#7201a8\"], [0.3333333333333333, \"#9c179e\"], [0.4444444444444444, \"#bd3786\"], [0.5555555555555556, \"#d8576b\"], [0.6666666666666666, \"#ed7953\"], [0.7777777777777778, \"#fb9f3a\"], [0.8888888888888888, \"#fdca26\"], [1.0, \"#f0f921\"]], \"sequentialminus\": [[0.0, \"#0d0887\"], [0.1111111111111111, \"#46039f\"], [0.2222222222222222, \"#7201a8\"], [0.3333333333333333, \"#9c179e\"], [0.4444444444444444, \"#bd3786\"], [0.5555555555555556, \"#d8576b\"], [0.6666666666666666, \"#ed7953\"], [0.7777777777777778, \"#fb9f3a\"], [0.8888888888888888, \"#fdca26\"], [1.0, \"#f0f921\"]]}, \"colorway\": [\"#636efa\", \"#EF553B\", \"#00cc96\", \"#ab63fa\", \"#FFA15A\", \"#19d3f3\", \"#FF6692\", \"#B6E880\", \"#FF97FF\", \"#FECB52\"], \"font\": {\"color\": \"#2a3f5f\"}, \"geo\": {\"bgcolor\": \"white\", \"lakecolor\": \"white\", \"landcolor\": \"#E5ECF6\", \"showlakes\": true, \"showland\": true, \"subunitcolor\": \"white\"}, \"hoverlabel\": {\"align\": \"left\"}, \"hovermode\": \"closest\", \"mapbox\": {\"style\": \"light\"}, \"paper_bgcolor\": \"white\", \"plot_bgcolor\": \"#E5ECF6\", \"polar\": {\"angularaxis\": {\"gridcolor\": \"white\", \"linecolor\": \"white\", \"ticks\": \"\"}, \"bgcolor\": \"#E5ECF6\", \"radialaxis\": {\"gridcolor\": \"white\", \"linecolor\": \"white\", \"ticks\": \"\"}}, \"scene\": {\"xaxis\": {\"backgroundcolor\": \"#E5ECF6\", \"gridcolor\": \"white\", \"gridwidth\": 2, \"linecolor\": \"white\", \"showbackground\": true, \"ticks\": \"\", \"zerolinecolor\": \"white\"}, \"yaxis\": {\"backgroundcolor\": \"#E5ECF6\", \"gridcolor\": \"white\", \"gridwidth\": 2, \"linecolor\": \"white\", \"showbackground\": true, \"ticks\": \"\", \"zerolinecolor\": \"white\"}, \"zaxis\": {\"backgroundcolor\": \"#E5ECF6\", \"gridcolor\": \"white\", \"gridwidth\": 2, \"linecolor\": \"white\", \"showbackground\": true, \"ticks\": \"\", \"zerolinecolor\": \"white\"}}, \"shapedefaults\": {\"line\": {\"color\": \"#2a3f5f\"}}, \"ternary\": {\"aaxis\": {\"gridcolor\": \"white\", \"linecolor\": \"white\", \"ticks\": \"\"}, \"baxis\": {\"gridcolor\": \"white\", \"linecolor\": \"white\", \"ticks\": \"\"}, \"bgcolor\": \"#E5ECF6\", \"caxis\": {\"gridcolor\": \"white\", \"linecolor\": \"white\", \"ticks\": \"\"}}, \"title\": {\"x\": 0.05}, \"xaxis\": {\"automargin\": true, \"gridcolor\": \"white\", \"linecolor\": \"white\", \"ticks\": \"\", \"title\": {\"standoff\": 15}, \"zerolinecolor\": \"white\", \"zerolinewidth\": 2}, \"yaxis\": {\"automargin\": true, \"gridcolor\": \"white\", \"linecolor\": \"white\", \"ticks\": \"\", \"title\": {\"standoff\": 15}, \"zerolinecolor\": \"white\", \"zerolinewidth\": 2}}}, \"title\": {\"font\": {\"color\": \"#4D5663\"}}, \"xaxis\": {\"anchor\": \"y\", \"domain\": [0.0, 0.2125], \"gridcolor\": \"#E1E5ED\", \"showgrid\": false, \"tickfont\": {\"color\": \"#4D5663\"}, \"title\": {\"font\": {\"color\": \"#4D5663\"}, \"text\": \"\"}, \"zerolinecolor\": \"#E1E5ED\"}, \"xaxis10\": {\"anchor\": \"y10\", \"domain\": [0.2625, 0.475], \"gridcolor\": \"#E1E5ED\", \"showgrid\": false, \"tickfont\": {\"color\": \"#4D5663\"}, \"title\": {\"font\": {\"color\": \"#4D5663\"}, \"text\": \"\"}, \"zerolinecolor\": \"#E1E5ED\"}, \"xaxis11\": {\"anchor\": \"y11\", \"domain\": [0.525, 0.7375], \"gridcolor\": \"#E1E5ED\", \"showgrid\": false, \"tickfont\": {\"color\": \"#4D5663\"}, \"title\": {\"font\": {\"color\": \"#4D5663\"}, \"text\": \"\"}, \"zerolinecolor\": \"#E1E5ED\"}, \"xaxis12\": {\"anchor\": \"y12\", \"domain\": [0.7875, 1.0], \"gridcolor\": \"#E1E5ED\", \"showgrid\": false, \"tickfont\": {\"color\": \"#4D5663\"}, \"title\": {\"font\": {\"color\": \"#4D5663\"}, \"text\": \"\"}, \"zerolinecolor\": \"#E1E5ED\"}, \"xaxis13\": {\"anchor\": \"y13\", \"domain\": [0.0, 0.2125], \"gridcolor\": \"#E1E5ED\", \"showgrid\": false, \"tickfont\": {\"color\": \"#4D5663\"}, \"title\": {\"font\": {\"color\": \"#4D5663\"}, \"text\": \"\"}, \"zerolinecolor\": \"#E1E5ED\"}, \"xaxis14\": {\"anchor\": \"y14\", \"domain\": [0.2625, 0.475], \"gridcolor\": \"#E1E5ED\", \"showgrid\": false, \"tickfont\": {\"color\": \"#4D5663\"}, \"title\": {\"font\": {\"color\": \"#4D5663\"}, \"text\": \"\"}, \"zerolinecolor\": \"#E1E5ED\"}, \"xaxis15\": {\"anchor\": \"y15\", \"domain\": [0.525, 0.7375], \"gridcolor\": \"#E1E5ED\", \"showgrid\": false, \"tickfont\": {\"color\": \"#4D5663\"}, \"title\": {\"font\": {\"color\": \"#4D5663\"}, \"text\": \"\"}, \"zerolinecolor\": \"#E1E5ED\"}, \"xaxis16\": {\"anchor\": \"y16\", \"domain\": [0.7875, 1.0], \"gridcolor\": \"#E1E5ED\", \"showgrid\": false, \"tickfont\": {\"color\": \"#4D5663\"}, \"title\": {\"font\": {\"color\": \"#4D5663\"}, \"text\": \"\"}, \"zerolinecolor\": \"#E1E5ED\"}, \"xaxis2\": {\"anchor\": \"y2\", \"domain\": [0.2625, 0.475], \"gridcolor\": \"#E1E5ED\", \"showgrid\": false, \"tickfont\": {\"color\": \"#4D5663\"}, \"title\": {\"font\": {\"color\": \"#4D5663\"}, \"text\": \"\"}, \"zerolinecolor\": \"#E1E5ED\"}, \"xaxis3\": {\"anchor\": \"y3\", \"domain\": [0.525, 0.7375], \"gridcolor\": \"#E1E5ED\", \"showgrid\": false, \"tickfont\": {\"color\": \"#4D5663\"}, \"title\": {\"font\": {\"color\": \"#4D5663\"}, \"text\": \"\"}, \"zerolinecolor\": \"#E1E5ED\"}, \"xaxis4\": {\"anchor\": \"y4\", \"domain\": [0.7875, 1.0], \"gridcolor\": \"#E1E5ED\", \"showgrid\": false, \"tickfont\": {\"color\": \"#4D5663\"}, \"title\": {\"font\": {\"color\": \"#4D5663\"}, \"text\": \"\"}, \"zerolinecolor\": \"#E1E5ED\"}, \"xaxis5\": {\"anchor\": \"y5\", \"domain\": [0.0, 0.2125], \"gridcolor\": \"#E1E5ED\", \"showgrid\": false, \"tickfont\": {\"color\": \"#4D5663\"}, \"title\": {\"font\": {\"color\": \"#4D5663\"}, \"text\": \"\"}, \"zerolinecolor\": \"#E1E5ED\"}, \"xaxis6\": {\"anchor\": \"y6\", \"domain\": [0.2625, 0.475], \"gridcolor\": \"#E1E5ED\", \"showgrid\": false, \"tickfont\": {\"color\": \"#4D5663\"}, \"title\": {\"font\": {\"color\": \"#4D5663\"}, \"text\": \"\"}, \"zerolinecolor\": \"#E1E5ED\"}, \"xaxis7\": {\"anchor\": \"y7\", \"domain\": [0.525, 0.7375], \"gridcolor\": \"#E1E5ED\", \"showgrid\": false, \"tickfont\": {\"color\": \"#4D5663\"}, \"title\": {\"font\": {\"color\": \"#4D5663\"}, \"text\": \"\"}, \"zerolinecolor\": \"#E1E5ED\"}, \"xaxis8\": {\"anchor\": \"y8\", \"domain\": [0.7875, 1.0], \"gridcolor\": \"#E1E5ED\", \"showgrid\": false, \"tickfont\": {\"color\": \"#4D5663\"}, \"title\": {\"font\": {\"color\": \"#4D5663\"}, \"text\": \"\"}, \"zerolinecolor\": \"#E1E5ED\"}, \"xaxis9\": {\"anchor\": \"y9\", \"domain\": [0.0, 0.2125], \"gridcolor\": \"#E1E5ED\", \"showgrid\": false, \"tickfont\": {\"color\": \"#4D5663\"}, \"title\": {\"font\": {\"color\": \"#4D5663\"}, \"text\": \"\"}, \"zerolinecolor\": \"#E1E5ED\"}, \"yaxis\": {\"anchor\": \"x\", \"domain\": [0.8025, 1.0], \"gridcolor\": \"#E1E5ED\", \"showgrid\": false, \"tickfont\": {\"color\": \"#4D5663\"}, \"title\": {\"font\": {\"color\": \"#4D5663\"}, \"text\": \"\"}, \"zerolinecolor\": \"#E1E5ED\"}, \"yaxis10\": {\"anchor\": \"x10\", \"domain\": [0.2675, 0.465], \"gridcolor\": \"#E1E5ED\", \"showgrid\": false, \"tickfont\": {\"color\": \"#4D5663\"}, \"title\": {\"font\": {\"color\": \"#4D5663\"}, \"text\": \"\"}, \"zerolinecolor\": \"#E1E5ED\"}, \"yaxis11\": {\"anchor\": \"x11\", \"domain\": [0.2675, 0.465], \"gridcolor\": \"#E1E5ED\", \"showgrid\": false, \"tickfont\": {\"color\": \"#4D5663\"}, \"title\": {\"font\": {\"color\": \"#4D5663\"}, \"text\": \"\"}, \"zerolinecolor\": \"#E1E5ED\"}, \"yaxis12\": {\"anchor\": \"x12\", \"domain\": [0.2675, 0.465], \"gridcolor\": \"#E1E5ED\", \"showgrid\": false, \"tickfont\": {\"color\": \"#4D5663\"}, \"title\": {\"font\": {\"color\": \"#4D5663\"}, \"text\": \"\"}, \"zerolinecolor\": \"#E1E5ED\"}, \"yaxis13\": {\"anchor\": \"x13\", \"domain\": [0.0, 0.1975], \"gridcolor\": \"#E1E5ED\", \"showgrid\": false, \"tickfont\": {\"color\": \"#4D5663\"}, \"title\": {\"font\": {\"color\": \"#4D5663\"}, \"text\": \"\"}, \"zerolinecolor\": \"#E1E5ED\"}, \"yaxis14\": {\"anchor\": \"x14\", \"domain\": [0.0, 0.1975], \"gridcolor\": \"#E1E5ED\", \"showgrid\": false, \"tickfont\": {\"color\": \"#4D5663\"}, \"title\": {\"font\": {\"color\": \"#4D5663\"}, \"text\": \"\"}, \"zerolinecolor\": \"#E1E5ED\"}, \"yaxis15\": {\"anchor\": \"x15\", \"domain\": [0.0, 0.1975], \"gridcolor\": \"#E1E5ED\", \"showgrid\": false, \"tickfont\": {\"color\": \"#4D5663\"}, \"title\": {\"font\": {\"color\": \"#4D5663\"}, \"text\": \"\"}, \"zerolinecolor\": \"#E1E5ED\"}, \"yaxis16\": {\"anchor\": \"x16\", \"domain\": [0.0, 0.1975], \"gridcolor\": \"#E1E5ED\", \"showgrid\": false, \"tickfont\": {\"color\": \"#4D5663\"}, \"title\": {\"font\": {\"color\": \"#4D5663\"}, \"text\": \"\"}, \"zerolinecolor\": \"#E1E5ED\"}, \"yaxis2\": {\"anchor\": \"x2\", \"domain\": [0.8025, 1.0], \"gridcolor\": \"#E1E5ED\", \"showgrid\": false, \"tickfont\": {\"color\": \"#4D5663\"}, \"title\": {\"font\": {\"color\": \"#4D5663\"}, \"text\": \"\"}, \"zerolinecolor\": \"#E1E5ED\"}, \"yaxis3\": {\"anchor\": \"x3\", \"domain\": [0.8025, 1.0], \"gridcolor\": \"#E1E5ED\", \"showgrid\": false, \"tickfont\": {\"color\": \"#4D5663\"}, \"title\": {\"font\": {\"color\": \"#4D5663\"}, \"text\": \"\"}, \"zerolinecolor\": \"#E1E5ED\"}, \"yaxis4\": {\"anchor\": \"x4\", \"domain\": [0.8025, 1.0], \"gridcolor\": \"#E1E5ED\", \"showgrid\": false, \"tickfont\": {\"color\": \"#4D5663\"}, \"title\": {\"font\": {\"color\": \"#4D5663\"}, \"text\": \"\"}, \"zerolinecolor\": \"#E1E5ED\"}, \"yaxis5\": {\"anchor\": \"x5\", \"domain\": [0.535, 0.7325], \"gridcolor\": \"#E1E5ED\", \"showgrid\": false, \"tickfont\": {\"color\": \"#4D5663\"}, \"title\": {\"font\": {\"color\": \"#4D5663\"}, \"text\": \"\"}, \"zerolinecolor\": \"#E1E5ED\"}, \"yaxis6\": {\"anchor\": \"x6\", \"domain\": [0.535, 0.7325], \"gridcolor\": \"#E1E5ED\", \"showgrid\": false, \"tickfont\": {\"color\": \"#4D5663\"}, \"title\": {\"font\": {\"color\": \"#4D5663\"}, \"text\": \"\"}, \"zerolinecolor\": \"#E1E5ED\"}, \"yaxis7\": {\"anchor\": \"x7\", \"domain\": [0.535, 0.7325], \"gridcolor\": \"#E1E5ED\", \"showgrid\": false, \"tickfont\": {\"color\": \"#4D5663\"}, \"title\": {\"font\": {\"color\": \"#4D5663\"}, \"text\": \"\"}, \"zerolinecolor\": \"#E1E5ED\"}, \"yaxis8\": {\"anchor\": \"x8\", \"domain\": [0.535, 0.7325], \"gridcolor\": \"#E1E5ED\", \"showgrid\": false, \"tickfont\": {\"color\": \"#4D5663\"}, \"title\": {\"font\": {\"color\": \"#4D5663\"}, \"text\": \"\"}, \"zerolinecolor\": \"#E1E5ED\"}, \"yaxis9\": {\"anchor\": \"x9\", \"domain\": [0.2675, 0.465], \"gridcolor\": \"#E1E5ED\", \"showgrid\": false, \"tickfont\": {\"color\": \"#4D5663\"}, \"title\": {\"font\": {\"color\": \"#4D5663\"}, \"text\": \"\"}, \"zerolinecolor\": \"#E1E5ED\"}},                        {\"showLink\": true, \"linkText\": \"Export to plot.ly\", \"plotlyServerURL\": \"https://plot.ly\", \"responsive\": true}                    ).then(function(){\n",
       "                            \n",
       "var gd = document.getElementById('67a00434-a45f-4311-b303-8e7e3f265219');\n",
       "var x = new MutationObserver(function (mutations, observer) {{\n",
       "        var display = window.getComputedStyle(gd).display;\n",
       "        if (!display || display === 'none') {{\n",
       "            console.log([gd, 'removed!']);\n",
       "            Plotly.purge(gd);\n",
       "            observer.disconnect();\n",
       "        }}\n",
       "}});\n",
       "\n",
       "// Listen for the removal of the full notebook cells\n",
       "var notebookContainer = gd.closest('#notebook-container');\n",
       "if (notebookContainer) {{\n",
       "    x.observe(notebookContainer, {childList: true});\n",
       "}}\n",
       "\n",
       "// Listen for the clearing of the current output cell\n",
       "var outputEl = gd.closest('.output');\n",
       "if (outputEl) {{\n",
       "    x.observe(outputEl, {childList: true});\n",
       "}}\n",
       "\n",
       "                        })                };                });            </script>        </div>"
      ]
     },
     "metadata": {},
     "output_type": "display_data"
    }
   ],
   "source": [
    "df.scatter_matrix()"
   ]
  },
  {
   "cell_type": "markdown",
   "metadata": {},
   "source": [
    "# Gut gemacht!"
   ]
  }
 ],
 "metadata": {
  "kernelspec": {
   "display_name": "Python 3",
   "language": "python",
   "name": "python3"
  },
  "language_info": {
   "codemirror_mode": {
    "name": "ipython",
    "version": 3
   },
   "file_extension": ".py",
   "mimetype": "text/x-python",
   "name": "python",
   "nbconvert_exporter": "python",
   "pygments_lexer": "ipython3",
   "version": "3.8.5"
  }
 },
 "nbformat": 4,
 "nbformat_minor": 2
}
