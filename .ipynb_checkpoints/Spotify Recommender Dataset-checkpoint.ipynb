{
 "cells": [
  {
   "cell_type": "code",
   "execution_count": 35,
   "id": "48436832",
   "metadata": {},
   "outputs": [],
   "source": [
    "import config"
   ]
  },
  {
   "cell_type": "code",
   "execution_count": 36,
   "id": "fdd84259",
   "metadata": {},
   "outputs": [],
   "source": [
    "import numpy as np\n",
    "import pandas as pd\n",
    "import pickle\n",
    "from sklearn import datasets # sklearn comes with some toy datasets to practise\n",
    "from sklearn.preprocessing import StandardScaler\n",
    "from sklearn.cluster import KMeans\n",
    "from matplotlib import pyplot\n",
    "from sklearn.metrics import silhouette_score\n",
    "from spotipy.oauth2 import SpotifyClientCredentials\n",
    "import spotipy\n",
    "from IPython.display import IFrame\n",
    "import config\n"
   ]
  },
  {
   "cell_type": "code",
   "execution_count": 37,
   "id": "595baa19",
   "metadata": {},
   "outputs": [],
   "source": [
    "sp = spotipy.Spotify(auth_manager=SpotifyClientCredentials(client_id= config.c_id,\n",
    "                                                           client_secret= config.c_se))"
   ]
  },
  {
   "cell_type": "code",
   "execution_count": 38,
   "id": "1a2cc664",
   "metadata": {},
   "outputs": [],
   "source": [
    "playlist = sp.user_playlist_tracks(\"spotify\", \"6yPiKpy7evrwvZodByKvM9\", market=\"GB\")"
   ]
  },
  {
   "cell_type": "code",
   "execution_count": 39,
   "id": "845eefe5",
   "metadata": {},
   "outputs": [],
   "source": [
    "def get_playlist_tracks(username, playlist_id):\n",
    "    results = sp.user_playlist_tracks(username,playlist_id,market=\"GB\")\n",
    "    tracks = results['items']\n",
    "    while results['next']:\n",
    "        results = sp.next(results)\n",
    "        tracks.extend(results['items'])\n",
    "    return tracks\n",
    "\n",
    "result = get_playlist_tracks('Spotify','6yPiKpy7evrwvZodByKvM9')"
   ]
  },
  {
   "cell_type": "code",
   "execution_count": 40,
   "id": "7901a960",
   "metadata": {
    "scrolled": true
   },
   "outputs": [
    {
     "name": "stdout",
     "output_type": "stream",
     "text": [
      "added_at\n",
      "added_by\n",
      "is_local\n",
      "primary_color\n",
      "track\n",
      "video_thumbnail\n"
     ]
    }
   ],
   "source": [
    "for song in result[22]:\n",
    "    print(song)"
   ]
  },
  {
   "cell_type": "code",
   "execution_count": 41,
   "id": "0bb71a9b",
   "metadata": {},
   "outputs": [],
   "source": [
    "id_= result[0]['track']['id']"
   ]
  },
  {
   "cell_type": "code",
   "execution_count": 42,
   "id": "2bfccce2",
   "metadata": {},
   "outputs": [
    {
     "data": {
      "text/plain": [
       "'3lMSWyB8H0A0rSRhUDSwoz'"
      ]
     },
     "execution_count": 42,
     "metadata": {},
     "output_type": "execute_result"
    }
   ],
   "source": [
    "id_"
   ]
  },
  {
   "cell_type": "code",
   "execution_count": 43,
   "id": "e21e18b3",
   "metadata": {},
   "outputs": [
    {
     "data": {
      "text/plain": [
       "[{'danceability': 0.406,\n",
       "  'energy': 0.445,\n",
       "  'key': 7,\n",
       "  'loudness': -13.355,\n",
       "  'mode': 0,\n",
       "  'speechiness': 0.0745,\n",
       "  'acousticness': 0.093,\n",
       "  'instrumentalness': 0.0721,\n",
       "  'liveness': 0.113,\n",
       "  'valence': 0.123,\n",
       "  'tempo': 134.972,\n",
       "  'type': 'audio_features',\n",
       "  'id': '3lMSWyB8H0A0rSRhUDSwoz',\n",
       "  'uri': 'spotify:track:3lMSWyB8H0A0rSRhUDSwoz',\n",
       "  'track_href': 'https://api.spotify.com/v1/tracks/3lMSWyB8H0A0rSRhUDSwoz',\n",
       "  'analysis_url': 'https://api.spotify.com/v1/audio-analysis/3lMSWyB8H0A0rSRhUDSwoz',\n",
       "  'duration_ms': 152560,\n",
       "  'time_signature': 4}]"
      ]
     },
     "execution_count": 43,
     "metadata": {},
     "output_type": "execute_result"
    }
   ],
   "source": [
    "sp.audio_features(id_)"
   ]
  },
  {
   "cell_type": "code",
   "execution_count": 44,
   "id": "ddc98453",
   "metadata": {},
   "outputs": [],
   "source": [
    "list_of_songs=[]\n",
    "\n",
    "for song in result:\n",
    "    try:\n",
    "        list_of_songs.append(sp.audio_features(song['track']['id'])[0])\n",
    "    except TypeError:\n",
    "        continue\n",
    "\n"
   ]
  },
  {
   "cell_type": "code",
   "execution_count": 52,
   "id": "b03efa4d",
   "metadata": {},
   "outputs": [],
   "source": [
    "list_of_songs = [item for item in list_of_songs if item]"
   ]
  },
  {
   "cell_type": "code",
   "execution_count": 53,
   "id": "8aaa33c6",
   "metadata": {},
   "outputs": [
    {
     "data": {
      "text/html": [
       "<div>\n",
       "<style scoped>\n",
       "    .dataframe tbody tr th:only-of-type {\n",
       "        vertical-align: middle;\n",
       "    }\n",
       "\n",
       "    .dataframe tbody tr th {\n",
       "        vertical-align: top;\n",
       "    }\n",
       "\n",
       "    .dataframe thead th {\n",
       "        text-align: right;\n",
       "    }\n",
       "</style>\n",
       "<table border=\"1\" class=\"dataframe\">\n",
       "  <thead>\n",
       "    <tr style=\"text-align: right;\">\n",
       "      <th></th>\n",
       "      <th>danceability</th>\n",
       "      <th>energy</th>\n",
       "      <th>loudness</th>\n",
       "      <th>speechiness</th>\n",
       "      <th>acousticness</th>\n",
       "      <th>instrumentalness</th>\n",
       "      <th>liveness</th>\n",
       "      <th>valence</th>\n",
       "      <th>tempo</th>\n",
       "      <th>id</th>\n",
       "      <th>duration_ms</th>\n",
       "    </tr>\n",
       "  </thead>\n",
       "  <tbody>\n",
       "    <tr>\n",
       "      <th>0</th>\n",
       "      <td>0.406</td>\n",
       "      <td>0.445</td>\n",
       "      <td>-13.355</td>\n",
       "      <td>0.0745</td>\n",
       "      <td>0.09300</td>\n",
       "      <td>0.072100</td>\n",
       "      <td>0.1130</td>\n",
       "      <td>0.123</td>\n",
       "      <td>134.972</td>\n",
       "      <td>3lMSWyB8H0A0rSRhUDSwoz</td>\n",
       "      <td>152560</td>\n",
       "    </tr>\n",
       "    <tr>\n",
       "      <th>1</th>\n",
       "      <td>0.419</td>\n",
       "      <td>0.565</td>\n",
       "      <td>-11.565</td>\n",
       "      <td>0.0347</td>\n",
       "      <td>0.13700</td>\n",
       "      <td>0.337000</td>\n",
       "      <td>0.1280</td>\n",
       "      <td>0.648</td>\n",
       "      <td>151.277</td>\n",
       "      <td>3UnyplmZaq547hwsfOR5yy</td>\n",
       "      <td>197707</td>\n",
       "    </tr>\n",
       "    <tr>\n",
       "      <th>2</th>\n",
       "      <td>0.532</td>\n",
       "      <td>0.303</td>\n",
       "      <td>-13.076</td>\n",
       "      <td>0.0311</td>\n",
       "      <td>0.58700</td>\n",
       "      <td>0.065700</td>\n",
       "      <td>0.1110</td>\n",
       "      <td>0.225</td>\n",
       "      <td>124.157</td>\n",
       "      <td>3HPLfZhQUds6N6tZ4WiApn</td>\n",
       "      <td>244285</td>\n",
       "    </tr>\n",
       "    <tr>\n",
       "      <th>3</th>\n",
       "      <td>0.717</td>\n",
       "      <td>0.800</td>\n",
       "      <td>-5.794</td>\n",
       "      <td>0.0497</td>\n",
       "      <td>0.37100</td>\n",
       "      <td>0.158000</td>\n",
       "      <td>0.3270</td>\n",
       "      <td>0.954</td>\n",
       "      <td>129.642</td>\n",
       "      <td>5iFhkFf9JLA3XiROdYsg1i</td>\n",
       "      <td>250000</td>\n",
       "    </tr>\n",
       "    <tr>\n",
       "      <th>4</th>\n",
       "      <td>0.571</td>\n",
       "      <td>0.724</td>\n",
       "      <td>-5.967</td>\n",
       "      <td>0.0260</td>\n",
       "      <td>0.02310</td>\n",
       "      <td>0.003110</td>\n",
       "      <td>0.0919</td>\n",
       "      <td>0.385</td>\n",
       "      <td>116.755</td>\n",
       "      <td>1VZedwJj1gyi88WFRhfThb</td>\n",
       "      <td>278320</td>\n",
       "    </tr>\n",
       "    <tr>\n",
       "      <th>...</th>\n",
       "      <td>...</td>\n",
       "      <td>...</td>\n",
       "      <td>...</td>\n",
       "      <td>...</td>\n",
       "      <td>...</td>\n",
       "      <td>...</td>\n",
       "      <td>...</td>\n",
       "      <td>...</td>\n",
       "      <td>...</td>\n",
       "      <td>...</td>\n",
       "      <td>...</td>\n",
       "    </tr>\n",
       "    <tr>\n",
       "      <th>9912</th>\n",
       "      <td>0.651</td>\n",
       "      <td>0.801</td>\n",
       "      <td>-7.340</td>\n",
       "      <td>0.0514</td>\n",
       "      <td>0.12300</td>\n",
       "      <td>0.000000</td>\n",
       "      <td>0.0825</td>\n",
       "      <td>0.776</td>\n",
       "      <td>133.769</td>\n",
       "      <td>5jzma6gCzYtKB1DbEwFZKH</td>\n",
       "      <td>200480</td>\n",
       "    </tr>\n",
       "    <tr>\n",
       "      <th>9913</th>\n",
       "      <td>0.812</td>\n",
       "      <td>0.644</td>\n",
       "      <td>-10.761</td>\n",
       "      <td>0.0493</td>\n",
       "      <td>0.08770</td>\n",
       "      <td>0.785000</td>\n",
       "      <td>0.0563</td>\n",
       "      <td>0.989</td>\n",
       "      <td>140.075</td>\n",
       "      <td>7Bz8yww6UMbTgTVLG6zbI4</td>\n",
       "      <td>190827</td>\n",
       "    </tr>\n",
       "    <tr>\n",
       "      <th>9914</th>\n",
       "      <td>0.678</td>\n",
       "      <td>0.608</td>\n",
       "      <td>-5.924</td>\n",
       "      <td>0.0276</td>\n",
       "      <td>0.19200</td>\n",
       "      <td>0.000926</td>\n",
       "      <td>0.1000</td>\n",
       "      <td>0.725</td>\n",
       "      <td>80.520</td>\n",
       "      <td>2O8EVtQtfsKBABn0hOxs8Y</td>\n",
       "      <td>205467</td>\n",
       "    </tr>\n",
       "    <tr>\n",
       "      <th>9915</th>\n",
       "      <td>0.711</td>\n",
       "      <td>0.718</td>\n",
       "      <td>-5.739</td>\n",
       "      <td>0.0380</td>\n",
       "      <td>0.00824</td>\n",
       "      <td>0.002080</td>\n",
       "      <td>0.0732</td>\n",
       "      <td>0.688</td>\n",
       "      <td>117.071</td>\n",
       "      <td>0sEm1ld0V8YTCPcjPVfIsc</td>\n",
       "      <td>200293</td>\n",
       "    </tr>\n",
       "    <tr>\n",
       "      <th>9916</th>\n",
       "      <td>0.323</td>\n",
       "      <td>0.997</td>\n",
       "      <td>-3.440</td>\n",
       "      <td>0.2640</td>\n",
       "      <td>0.00767</td>\n",
       "      <td>0.110000</td>\n",
       "      <td>0.9480</td>\n",
       "      <td>0.315</td>\n",
       "      <td>199.962</td>\n",
       "      <td>6LgtE9Xe3ZMG0NpNflBtIv</td>\n",
       "      <td>409013</td>\n",
       "    </tr>\n",
       "  </tbody>\n",
       "</table>\n",
       "<p>9917 rows × 11 columns</p>\n",
       "</div>"
      ],
      "text/plain": [
       "      danceability  energy  loudness  speechiness  acousticness  \\\n",
       "0            0.406   0.445   -13.355       0.0745       0.09300   \n",
       "1            0.419   0.565   -11.565       0.0347       0.13700   \n",
       "2            0.532   0.303   -13.076       0.0311       0.58700   \n",
       "3            0.717   0.800    -5.794       0.0497       0.37100   \n",
       "4            0.571   0.724    -5.967       0.0260       0.02310   \n",
       "...            ...     ...       ...          ...           ...   \n",
       "9912         0.651   0.801    -7.340       0.0514       0.12300   \n",
       "9913         0.812   0.644   -10.761       0.0493       0.08770   \n",
       "9914         0.678   0.608    -5.924       0.0276       0.19200   \n",
       "9915         0.711   0.718    -5.739       0.0380       0.00824   \n",
       "9916         0.323   0.997    -3.440       0.2640       0.00767   \n",
       "\n",
       "      instrumentalness  liveness  valence    tempo                      id  \\\n",
       "0             0.072100    0.1130    0.123  134.972  3lMSWyB8H0A0rSRhUDSwoz   \n",
       "1             0.337000    0.1280    0.648  151.277  3UnyplmZaq547hwsfOR5yy   \n",
       "2             0.065700    0.1110    0.225  124.157  3HPLfZhQUds6N6tZ4WiApn   \n",
       "3             0.158000    0.3270    0.954  129.642  5iFhkFf9JLA3XiROdYsg1i   \n",
       "4             0.003110    0.0919    0.385  116.755  1VZedwJj1gyi88WFRhfThb   \n",
       "...                ...       ...      ...      ...                     ...   \n",
       "9912          0.000000    0.0825    0.776  133.769  5jzma6gCzYtKB1DbEwFZKH   \n",
       "9913          0.785000    0.0563    0.989  140.075  7Bz8yww6UMbTgTVLG6zbI4   \n",
       "9914          0.000926    0.1000    0.725   80.520  2O8EVtQtfsKBABn0hOxs8Y   \n",
       "9915          0.002080    0.0732    0.688  117.071  0sEm1ld0V8YTCPcjPVfIsc   \n",
       "9916          0.110000    0.9480    0.315  199.962  6LgtE9Xe3ZMG0NpNflBtIv   \n",
       "\n",
       "      duration_ms  \n",
       "0          152560  \n",
       "1          197707  \n",
       "2          244285  \n",
       "3          250000  \n",
       "4          278320  \n",
       "...           ...  \n",
       "9912       200480  \n",
       "9913       190827  \n",
       "9914       205467  \n",
       "9915       200293  \n",
       "9916       409013  \n",
       "\n",
       "[9917 rows x 11 columns]"
      ]
     },
     "execution_count": 53,
     "metadata": {},
     "output_type": "execute_result"
    }
   ],
   "source": [
    "df = pd.DataFrame(list_of_songs)    \n",
    "df = df[[\"danceability\",\"energy\",\"loudness\",\"speechiness\",\"acousticness\",\n",
    "    \"instrumentalness\",\"liveness\",\"valence\",\"tempo\",\"id\",\"duration_ms\"]]\n",
    "\n",
    "df"
   ]
  },
  {
   "cell_type": "code",
   "execution_count": 54,
   "id": "b3a0dbda",
   "metadata": {},
   "outputs": [],
   "source": [
    "features = df.drop(['id'], axis=1)"
   ]
  },
  {
   "cell_type": "code",
   "execution_count": 55,
   "id": "9e8190e5",
   "metadata": {},
   "outputs": [
    {
     "data": {
      "text/plain": [
       "array([[-1.01579418, -0.73398009, -1.18569763, ..., -1.46147816,\n",
       "         0.50108901, -0.92424515],\n",
       "       [-0.9340696 , -0.22270306, -0.77298567, ...,  0.65762494,\n",
       "         1.06560409, -0.40039122],\n",
       "       [-0.22369434, -1.33899124, -1.1213699 , ..., -1.0497667 ,\n",
       "         0.12664984,  0.14006702],\n",
       "       ...,\n",
       "       [ 0.69413563, -0.03949546,  0.5276334 , ...,  0.96842673,\n",
       "        -1.38415938, -0.31034966],\n",
       "       [ 0.90159035,  0.42917515,  0.57028798, ...,  0.81908041,\n",
       "        -0.11868311, -0.3703851 ],\n",
       "       [-1.53757424,  1.61789424,  1.10035769, ..., -0.68649188,\n",
       "         2.75118621,  2.05145447]])"
      ]
     },
     "execution_count": 55,
     "metadata": {},
     "output_type": "execute_result"
    }
   ],
   "source": [
    "scaler = StandardScaler()\n",
    "scaler.fit(features)\n",
    "audio_features_scaled = scaler.transform(features)\n",
    "audio_features_scaled"
   ]
  },
  {
   "cell_type": "code",
   "execution_count": 58,
   "id": "cdcd31ae",
   "metadata": {},
   "outputs": [],
   "source": [
    "features_scaled= pd.DataFrame(audio_features_scaled, columns=features.columns)"
   ]
  },
  {
   "cell_type": "code",
   "execution_count": 59,
   "id": "79b7035b",
   "metadata": {},
   "outputs": [
    {
     "name": "stdout",
     "output_type": "stream",
     "text": [
      "Training a K-Means model with 2 clusters! \n",
      "\n",
      "Training a K-Means model with 3 clusters! \n",
      "\n",
      "Training a K-Means model with 4 clusters! \n",
      "\n",
      "Training a K-Means model with 5 clusters! \n",
      "\n",
      "Training a K-Means model with 6 clusters! \n",
      "\n",
      "Training a K-Means model with 7 clusters! \n",
      "\n",
      "Training a K-Means model with 8 clusters! \n",
      "\n",
      "Training a K-Means model with 9 clusters! \n",
      "\n",
      "Training a K-Means model with 10 clusters! \n",
      "\n",
      "Training a K-Means model with 11 clusters! \n",
      "\n",
      "Training a K-Means model with 12 clusters! \n",
      "\n",
      "Training a K-Means model with 13 clusters! \n",
      "\n",
      "Training a K-Means model with 14 clusters! \n",
      "\n",
      "Training a K-Means model with 15 clusters! \n",
      "\n",
      "Training a K-Means model with 16 clusters! \n",
      "\n",
      "Training a K-Means model with 17 clusters! \n",
      "\n",
      "Training a K-Means model with 18 clusters! \n",
      "\n",
      "Training a K-Means model with 19 clusters! \n",
      "\n",
      "Training a K-Means model with 20 clusters! \n",
      "\n"
     ]
    },
    {
     "data": {
      "text/plain": [
       "Text(0.5, 1.0, 'Elbow Method showing the optimal k')"
      ]
     },
     "execution_count": 59,
     "metadata": {},
     "output_type": "execute_result"
    },
    {
     "data": {
      "image/png": "[encoded data removed]",
      "text/plain": [
       "<Figure size 1152x576 with 1 Axes>"
      ]
     },
     "metadata": {
      "needs_background": "light"
     },
     "output_type": "display_data"
    }
   ],
   "source": [
    "K = range(2, 21)\n",
    "inertia = []\n",
    "\n",
    "for k in K:\n",
    "    print(\"Training a K-Means model with {} clusters! \".format(k))\n",
    "    print()\n",
    "    kmeans = KMeans(n_clusters=k,\n",
    "                    random_state=1234)\n",
    "    kmeans.fit(features_scaled)\n",
    "    inertia.append(kmeans.inertia_)\n",
    "\n",
    "import numpy as np\n",
    "import matplotlib.pyplot as plt\n",
    "%matplotlib inline\n",
    "\n",
    "plt.figure(figsize=(16,8))\n",
    "plt.plot(K, inertia, 'bx-')\n",
    "plt.xlabel('k')\n",
    "plt.ylabel('inertia')\n",
    "plt.xticks(np.arange(min(K), max(K)+1, 1.0))\n",
    "plt.title('Elbow Method showing the optimal k')\n",
    "\n"
   ]
  },
  {
   "cell_type": "code",
   "execution_count": 60,
   "id": "d27648d1",
   "metadata": {},
   "outputs": [
    {
     "data": {
      "text/plain": [
       "Text(0.5, 1.0, 'Silhouette Method showing the optimal k')"
      ]
     },
     "execution_count": 60,
     "metadata": {},
     "output_type": "execute_result"
    },
    {
     "data": {
      "image/png": "[encoded data removed]",
      "text/plain": [
       "<Figure size 1152x576 with 1 Axes>"
      ]
     },
     "metadata": {
      "needs_background": "light"
     },
     "output_type": "display_data"
    }
   ],
   "source": [
    "K = range(2, 20)\n",
    "silhouette = []\n",
    "\n",
    "for k in K:\n",
    "    kmeans = KMeans(n_clusters=k,\n",
    "                    random_state=1234)\n",
    "    kmeans.fit(features_scaled)    \n",
    "    silhouette.append(silhouette_score(features_scaled, kmeans.predict(features_scaled)))\n",
    "\n",
    "\n",
    "plt.figure(figsize=(16,8))\n",
    "plt.plot(K, silhouette, 'bx-')\n",
    "plt.xlabel('k')\n",
    "plt.ylabel('silhouette score')\n",
    "plt.xticks(np.arange(min(K), max(K)+1, 1.0))\n",
    "plt.title('Silhouette Method showing the optimal k')"
   ]
  },
  {
   "cell_type": "code",
   "execution_count": 61,
   "id": "f9d195a8",
   "metadata": {},
   "outputs": [
    {
     "data": {
      "text/plain": [
       "KMeans(random_state=1234)"
      ]
     },
     "execution_count": 61,
     "metadata": {},
     "output_type": "execute_result"
    }
   ],
   "source": [
    "kmeans = KMeans(n_clusters=8,\n",
    "                    random_state=1234)\n",
    "kmeans.fit(features_scaled)"
   ]
  },
  {
   "cell_type": "code",
   "execution_count": 64,
   "id": "5575a314",
   "metadata": {},
   "outputs": [],
   "source": [
    "cluster = kmeans.predict(features_scaled)"
   ]
  },
  {
   "cell_type": "code",
   "execution_count": 67,
   "id": "aa5d4830",
   "metadata": {},
   "outputs": [],
   "source": [
    "almost_final = pd.concat([df['id'],features_scaled],axis=1)"
   ]
  },
  {
   "cell_type": "code",
   "execution_count": 68,
   "id": "fba0dff6",
   "metadata": {},
   "outputs": [],
   "source": [
    "almost_final['cluster']=cluster"
   ]
  },
  {
   "cell_type": "code",
   "execution_count": 69,
   "id": "8f6751ed",
   "metadata": {},
   "outputs": [
    {
     "data": {
      "text/html": [
       "<div>\n",
       "<style scoped>\n",
       "    .dataframe tbody tr th:only-of-type {\n",
       "        vertical-align: middle;\n",
       "    }\n",
       "\n",
       "    .dataframe tbody tr th {\n",
       "        vertical-align: top;\n",
       "    }\n",
       "\n",
       "    .dataframe thead th {\n",
       "        text-align: right;\n",
       "    }\n",
       "</style>\n",
       "<table border=\"1\" class=\"dataframe\">\n",
       "  <thead>\n",
       "    <tr style=\"text-align: right;\">\n",
       "      <th></th>\n",
       "      <th>id</th>\n",
       "      <th>danceability</th>\n",
       "      <th>energy</th>\n",
       "      <th>loudness</th>\n",
       "      <th>speechiness</th>\n",
       "      <th>acousticness</th>\n",
       "      <th>instrumentalness</th>\n",
       "      <th>liveness</th>\n",
       "      <th>valence</th>\n",
       "      <th>tempo</th>\n",
       "      <th>duration_ms</th>\n",
       "      <th>cluster</th>\n",
       "    </tr>\n",
       "  </thead>\n",
       "  <tbody>\n",
       "    <tr>\n",
       "      <th>0</th>\n",
       "      <td>3lMSWyB8H0A0rSRhUDSwoz</td>\n",
       "      <td>-1.015794</td>\n",
       "      <td>-0.733980</td>\n",
       "      <td>-1.185698</td>\n",
       "      <td>0.019241</td>\n",
       "      <td>-0.628277</td>\n",
       "      <td>-0.177796</td>\n",
       "      <td>-0.482639</td>\n",
       "      <td>-1.461478</td>\n",
       "      <td>0.501089</td>\n",
       "      <td>-0.924245</td>\n",
       "      <td>7</td>\n",
       "    </tr>\n",
       "    <tr>\n",
       "      <th>1</th>\n",
       "      <td>3UnyplmZaq547hwsfOR5yy</td>\n",
       "      <td>-0.934070</td>\n",
       "      <td>-0.222703</td>\n",
       "      <td>-0.772986</td>\n",
       "      <td>-0.462665</td>\n",
       "      <td>-0.488930</td>\n",
       "      <td>0.832137</td>\n",
       "      <td>-0.391165</td>\n",
       "      <td>0.657625</td>\n",
       "      <td>1.065604</td>\n",
       "      <td>-0.400391</td>\n",
       "      <td>2</td>\n",
       "    </tr>\n",
       "    <tr>\n",
       "      <th>2</th>\n",
       "      <td>3HPLfZhQUds6N6tZ4WiApn</td>\n",
       "      <td>-0.223694</td>\n",
       "      <td>-1.338991</td>\n",
       "      <td>-1.121370</td>\n",
       "      <td>-0.506255</td>\n",
       "      <td>0.936205</td>\n",
       "      <td>-0.202196</td>\n",
       "      <td>-0.494836</td>\n",
       "      <td>-1.049767</td>\n",
       "      <td>0.126650</td>\n",
       "      <td>0.140067</td>\n",
       "      <td>7</td>\n",
       "    </tr>\n",
       "    <tr>\n",
       "      <th>3</th>\n",
       "      <td>5iFhkFf9JLA3XiROdYsg1i</td>\n",
       "      <td>0.939309</td>\n",
       "      <td>0.778548</td>\n",
       "      <td>0.557607</td>\n",
       "      <td>-0.281042</td>\n",
       "      <td>0.252140</td>\n",
       "      <td>0.149698</td>\n",
       "      <td>0.822400</td>\n",
       "      <td>1.892759</td>\n",
       "      <td>0.316553</td>\n",
       "      <td>0.206380</td>\n",
       "      <td>5</td>\n",
       "    </tr>\n",
       "    <tr>\n",
       "      <th>4</th>\n",
       "      <td>1VZedwJj1gyi88WFRhfThb</td>\n",
       "      <td>0.021479</td>\n",
       "      <td>0.454739</td>\n",
       "      <td>0.517719</td>\n",
       "      <td>-0.568007</td>\n",
       "      <td>-0.849648</td>\n",
       "      <td>-0.440821</td>\n",
       "      <td>-0.611314</td>\n",
       "      <td>-0.403945</td>\n",
       "      <td>-0.129624</td>\n",
       "      <td>0.534985</td>\n",
       "      <td>2</td>\n",
       "    </tr>\n",
       "    <tr>\n",
       "      <th>...</th>\n",
       "      <td>...</td>\n",
       "      <td>...</td>\n",
       "      <td>...</td>\n",
       "      <td>...</td>\n",
       "      <td>...</td>\n",
       "      <td>...</td>\n",
       "      <td>...</td>\n",
       "      <td>...</td>\n",
       "      <td>...</td>\n",
       "      <td>...</td>\n",
       "      <td>...</td>\n",
       "      <td>...</td>\n",
       "    </tr>\n",
       "    <tr>\n",
       "      <th>9912</th>\n",
       "      <td>5jzma6gCzYtKB1DbEwFZKH</td>\n",
       "      <td>0.524400</td>\n",
       "      <td>0.782808</td>\n",
       "      <td>0.201153</td>\n",
       "      <td>-0.260458</td>\n",
       "      <td>-0.533268</td>\n",
       "      <td>-0.452678</td>\n",
       "      <td>-0.668638</td>\n",
       "      <td>1.174282</td>\n",
       "      <td>0.459438</td>\n",
       "      <td>-0.368215</td>\n",
       "      <td>5</td>\n",
       "    </tr>\n",
       "    <tr>\n",
       "      <th>9913</th>\n",
       "      <td>7Bz8yww6UMbTgTVLG6zbI4</td>\n",
       "      <td>1.536528</td>\n",
       "      <td>0.113888</td>\n",
       "      <td>-0.587611</td>\n",
       "      <td>-0.285885</td>\n",
       "      <td>-0.645062</td>\n",
       "      <td>2.540139</td>\n",
       "      <td>-0.828414</td>\n",
       "      <td>2.034033</td>\n",
       "      <td>0.677766</td>\n",
       "      <td>-0.480222</td>\n",
       "      <td>4</td>\n",
       "    </tr>\n",
       "    <tr>\n",
       "      <th>9914</th>\n",
       "      <td>2O8EVtQtfsKBABn0hOxs8Y</td>\n",
       "      <td>0.694136</td>\n",
       "      <td>-0.039495</td>\n",
       "      <td>0.527633</td>\n",
       "      <td>-0.548633</td>\n",
       "      <td>-0.314747</td>\n",
       "      <td>-0.449147</td>\n",
       "      <td>-0.561917</td>\n",
       "      <td>0.968427</td>\n",
       "      <td>-1.384159</td>\n",
       "      <td>-0.310350</td>\n",
       "      <td>5</td>\n",
       "    </tr>\n",
       "    <tr>\n",
       "      <th>9915</th>\n",
       "      <td>0sEm1ld0V8YTCPcjPVfIsc</td>\n",
       "      <td>0.901590</td>\n",
       "      <td>0.429175</td>\n",
       "      <td>0.570288</td>\n",
       "      <td>-0.422708</td>\n",
       "      <td>-0.896709</td>\n",
       "      <td>-0.444748</td>\n",
       "      <td>-0.725352</td>\n",
       "      <td>0.819080</td>\n",
       "      <td>-0.118683</td>\n",
       "      <td>-0.370385</td>\n",
       "      <td>5</td>\n",
       "    </tr>\n",
       "    <tr>\n",
       "      <th>9916</th>\n",
       "      <td>6LgtE9Xe3ZMG0NpNflBtIv</td>\n",
       "      <td>-1.537574</td>\n",
       "      <td>1.617894</td>\n",
       "      <td>1.100358</td>\n",
       "      <td>2.313746</td>\n",
       "      <td>-0.898514</td>\n",
       "      <td>-0.033302</td>\n",
       "      <td>4.609453</td>\n",
       "      <td>-0.686492</td>\n",
       "      <td>2.751186</td>\n",
       "      <td>2.051454</td>\n",
       "      <td>1</td>\n",
       "    </tr>\n",
       "  </tbody>\n",
       "</table>\n",
       "<p>9917 rows × 12 columns</p>\n",
       "</div>"
      ],
      "text/plain": [
       "                          id  danceability    energy  loudness  speechiness  \\\n",
       "0     3lMSWyB8H0A0rSRhUDSwoz     -1.015794 -0.733980 -1.185698     0.019241   \n",
       "1     3UnyplmZaq547hwsfOR5yy     -0.934070 -0.222703 -0.772986    -0.462665   \n",
       "2     3HPLfZhQUds6N6tZ4WiApn     -0.223694 -1.338991 -1.121370    -0.506255   \n",
       "3     5iFhkFf9JLA3XiROdYsg1i      0.939309  0.778548  0.557607    -0.281042   \n",
       "4     1VZedwJj1gyi88WFRhfThb      0.021479  0.454739  0.517719    -0.568007   \n",
       "...                      ...           ...       ...       ...          ...   \n",
       "9912  5jzma6gCzYtKB1DbEwFZKH      0.524400  0.782808  0.201153    -0.260458   \n",
       "9913  7Bz8yww6UMbTgTVLG6zbI4      1.536528  0.113888 -0.587611    -0.285885   \n",
       "9914  2O8EVtQtfsKBABn0hOxs8Y      0.694136 -0.039495  0.527633    -0.548633   \n",
       "9915  0sEm1ld0V8YTCPcjPVfIsc      0.901590  0.429175  0.570288    -0.422708   \n",
       "9916  6LgtE9Xe3ZMG0NpNflBtIv     -1.537574  1.617894  1.100358     2.313746   \n",
       "\n",
       "      acousticness  instrumentalness  liveness   valence     tempo  \\\n",
       "0        -0.628277         -0.177796 -0.482639 -1.461478  0.501089   \n",
       "1        -0.488930          0.832137 -0.391165  0.657625  1.065604   \n",
       "2         0.936205         -0.202196 -0.494836 -1.049767  0.126650   \n",
       "3         0.252140          0.149698  0.822400  1.892759  0.316553   \n",
       "4        -0.849648         -0.440821 -0.611314 -0.403945 -0.129624   \n",
       "...            ...               ...       ...       ...       ...   \n",
       "9912     -0.533268         -0.452678 -0.668638  1.174282  0.459438   \n",
       "9913     -0.645062          2.540139 -0.828414  2.034033  0.677766   \n",
       "9914     -0.314747         -0.449147 -0.561917  0.968427 -1.384159   \n",
       "9915     -0.896709         -0.444748 -0.725352  0.819080 -0.118683   \n",
       "9916     -0.898514         -0.033302  4.609453 -0.686492  2.751186   \n",
       "\n",
       "      duration_ms  cluster  \n",
       "0       -0.924245        7  \n",
       "1       -0.400391        2  \n",
       "2        0.140067        7  \n",
       "3        0.206380        5  \n",
       "4        0.534985        2  \n",
       "...           ...      ...  \n",
       "9912    -0.368215        5  \n",
       "9913    -0.480222        4  \n",
       "9914    -0.310350        5  \n",
       "9915    -0.370385        5  \n",
       "9916     2.051454        1  \n",
       "\n",
       "[9917 rows x 12 columns]"
      ]
     },
     "execution_count": 69,
     "metadata": {},
     "output_type": "execute_result"
    }
   ],
   "source": [
    "almost_final"
   ]
  },
  {
   "cell_type": "code",
   "execution_count": 73,
   "id": "222c64e6",
   "metadata": {},
   "outputs": [],
   "source": [
    "with open(\"scaled_final.pickle\", \"wb\") as f:\n",
    "    pickle.dump(almost_final,f)"
   ]
  },
  {
   "cell_type": "code",
   "execution_count": 74,
   "id": "23b3d8f3",
   "metadata": {},
   "outputs": [],
   "source": [
    "with open(\"kmeans8_final.pickle\", \"wb\") as f:\n",
    "    pickle.dump(kmeans,f)"
   ]
  },
  {
   "cell_type": "code",
   "execution_count": 75,
   "id": "8851d672",
   "metadata": {},
   "outputs": [],
   "source": [
    "with open(\"scaler_final.pickle\", \"wb\") as f:\n",
    "    pickle.dump(scaler,f)"
   ]
  },
  {
   "cell_type": "code",
   "execution_count": null,
   "id": "b863164a",
   "metadata": {},
   "outputs": [],
   "source": []
  }
 ],
 "metadata": {
  "kernelspec": {
   "display_name": "Python 3 (ipykernel)",
   "language": "python",
   "name": "python3"
  },
  "language_info": {
   "codemirror_mode": {
    "name": "ipython",
    "version": 3
   },
   "file_extension": ".py",
   "mimetype": "text/x-python",
   "name": "python",
   "nbconvert_exporter": "python",
   "pygments_lexer": "ipython3",
   "version": "3.9.12"
  },
  "toc": {
   "base_numbering": 1,
   "nav_menu": {},
   "number_sections": true,
   "sideBar": true,
   "skip_h1_title": false,
   "title_cell": "Table of Contents",
   "title_sidebar": "Contents",
   "toc_cell": false,
   "toc_position": {},
   "toc_section_display": true,
   "toc_window_display": false
  },
  "varInspector": {
   "cols": {
    "lenName": 16,
    "lenType": 16,
    "lenVar": 40
   },
   "kernels_config": {
    "python": {
     "delete_cmd_postfix": "",
     "delete_cmd_prefix": "del ",
     "library": "var_list.py",
     "varRefreshCmd": "print(var_dic_list())"
    },
    "r": {
     "delete_cmd_postfix": ") ",
     "delete_cmd_prefix": "rm(",
     "library": "var_list.r",
     "varRefreshCmd": "cat(var_dic_list()) "
    }
   },
   "types_to_exclude": [
    "module",
    "function",
    "builtin_function_or_method",
    "instance",
    "_Feature"
   ],
   "window_display": false
  }
 },
 "nbformat": 4,
 "nbformat_minor": 5
}
