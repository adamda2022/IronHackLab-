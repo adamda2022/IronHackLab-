{
 "cells": [
  {
   "cell_type": "code",
   "execution_count": 32,
   "id": "a103e4a3",
   "metadata": {},
   "outputs": [],
   "source": [
    "import numpy as np\n",
    "import pandas as pd\n",
    "import pickle\n",
    "\n",
    "from sklearn.preprocessing import StandardScaler\n",
    "from sklearn.cluster import KMeans\n",
    "\n",
    "import spotipy\n",
    "from spotipy.oauth2 import SpotifyClientCredentials\n",
    "import config\n",
    "\n",
    "from IPython.display import IFrame"
   ]
  },
  {
   "cell_type": "code",
   "execution_count": 33,
   "id": "ad4144d6",
   "metadata": {},
   "outputs": [],
   "source": [
    "with open('scaled_final.pickle', \"rb\") as f: \n",
    "    scaled_features= pickle.load(f)\n",
    "\n",
    "with open('kmeans8_final.pickle', \"rb\") as f: \n",
    "    kmeans8= pickle.load(f)\n",
    "    \n",
    "with open('scaler_final.pickle', \"rb\") as f: \n",
    "    scaler= pickle.load(f)\n",
    "    "
   ]
  },
  {
   "cell_type": "code",
   "execution_count": 34,
   "id": "f6d27108",
   "metadata": {},
   "outputs": [],
   "source": [
    "sp = spotipy.Spotify(auth_manager=SpotifyClientCredentials(client_id= config.c_id,\n",
    "                                                           client_secret= config.c_se))"
   ]
  },
  {
   "cell_type": "code",
   "execution_count": 35,
   "id": "74a45551",
   "metadata": {},
   "outputs": [],
   "source": [
    "def play_song(track_id):\n",
    "    return IFrame(src=\"https://open.spotify.com/embed/track/\"+track_id,\n",
    "       width=\"320\",\n",
    "       height=\"80\",\n",
    "       frameborder=\"0\",\n",
    "       allowtransparency=\"true\",\n",
    "       allow=\"encrypted-media\",\n",
    "      )"
   ]
  },
  {
   "cell_type": "code",
   "execution_count": 36,
   "id": "210166cb",
   "metadata": {},
   "outputs": [
    {
     "name": "stdout",
     "output_type": "stream",
     "text": [
      "Enter a song: no woman no cry\n",
      "0 Artist: Bob Marley & The Wailers \n",
      "  Album: Live!\n",
      "1 Artist: Bob Marley & The Wailers \n",
      "  Album: Natty Dread\n",
      "2 Artist: Fugees \n",
      "  Album: The Score (Expanded Edition)\n",
      "Chose a Song: 0\n"
     ]
    },
    {
     "name": "stderr",
     "output_type": "stream",
     "text": [
      "/Users/adamkoziak/opt/anaconda3/envs/DA_Env/lib/python3.9/site-packages/sklearn/base.py:450: UserWarning: X does not have valid feature names, but KMeans was fitted with feature names\n",
      "  warnings.warn(\n"
     ]
    },
    {
     "data": {
      "text/html": [
       "\n",
       "        <iframe\n",
       "            width=\"320\"\n",
       "            height=\"80\"\n",
       "            src=\"https://open.spotify.com/embed/track/423hwXFgoN8RYmqLoLuVvY?frameborder=0&allowtransparency=true&allow=encrypted-media\"\n",
       "            frameborder=\"0\"\n",
       "            allowfullscreen\n",
       "            \n",
       "        ></iframe>\n",
       "        "
      ],
      "text/plain": [
       "<IPython.lib.display.IFrame at 0x7fb1d02135b0>"
      ]
     },
     "metadata": {},
     "output_type": "display_data"
    },
    {
     "data": {
      "text/html": [
       "\n",
       "        <iframe\n",
       "            width=\"320\"\n",
       "            height=\"80\"\n",
       "            src=\"https://open.spotify.com/embed/track/3ftHrCjsTUPLgI48m67byk?frameborder=0&allowtransparency=true&allow=encrypted-media\"\n",
       "            frameborder=\"0\"\n",
       "            allowfullscreen\n",
       "            \n",
       "        ></iframe>\n",
       "        "
      ],
      "text/plain": [
       "<IPython.lib.display.IFrame at 0x7fb1d02135b0>"
      ]
     },
     "metadata": {},
     "output_type": "display_data"
    }
   ],
   "source": [
    "def Recommender():\n",
    "    name = input('Enter a song: ')\n",
    "    track = sp.search(q=name, type='track',limit=3)\n",
    "    n_songs = len(track['tracks']['items'])\n",
    "    for i in range(n_songs):\n",
    "        artist = track['tracks']['items'][i]['artists'][0]['name']\n",
    "        album = track ['tracks']['items'][i]['album']['name']\n",
    "        print(i ,'Artist:',artist, '\\n  Album:',album)\n",
    "    select = int(input('Chose a Song: '))\n",
    "    id_ = track['tracks']['items'][select]['id']\n",
    "    x = sp.audio_features(id_)\n",
    "    x =pd.DataFrame(x)[[\"danceability\",\"energy\",\"loudness\",\"speechiness\",\"acousticness\",\n",
    "    \"instrumentalness\",\"liveness\",\"valence\",\"tempo\",\"duration_ms\"]]\n",
    "    scaled_x = scaler.transform(x)\n",
    "    cluster = kmeans8.predict(scaled_x)[0]\n",
    "    recommendation = scaled_features[scaled_features['cluster']==cluster].sample(1)\n",
    "    recommendation_id = recommendation['id'].iloc[0]\n",
    "    \n",
    "    display(play_song(id_))\n",
    "    display(play_song(recommendation_id))\n",
    "    \n",
    "    \n",
    "Recommender()"
   ]
  },
  {
   "cell_type": "code",
   "execution_count": null,
   "id": "a308ce4f",
   "metadata": {},
   "outputs": [],
   "source": []
  },
  {
   "cell_type": "code",
   "execution_count": null,
   "id": "0c812b05",
   "metadata": {},
   "outputs": [],
   "source": []
  }
 ],
 "metadata": {
  "kernelspec": {
   "display_name": "Python 3 (ipykernel)",
   "language": "python",
   "name": "python3"
  },
  "language_info": {
   "codemirror_mode": {
    "name": "ipython",
    "version": 3
   },
   "file_extension": ".py",
   "mimetype": "text/x-python",
   "name": "python",
   "nbconvert_exporter": "python",
   "pygments_lexer": "ipython3",
   "version": "3.9.12"
  },
  "toc": {
   "base_numbering": 1,
   "nav_menu": {},
   "number_sections": true,
   "sideBar": true,
   "skip_h1_title": false,
   "title_cell": "Table of Contents",
   "title_sidebar": "Contents",
   "toc_cell": false,
   "toc_position": {},
   "toc_section_display": true,
   "toc_window_display": false
  },
  "varInspector": {
   "cols": {
    "lenName": 16,
    "lenType": 16,
    "lenVar": 40
   },
   "kernels_config": {
    "python": {
     "delete_cmd_postfix": "",
     "delete_cmd_prefix": "del ",
     "library": "var_list.py",
     "varRefreshCmd": "print(var_dic_list())"
    },
    "r": {
     "delete_cmd_postfix": ") ",
     "delete_cmd_prefix": "rm(",
     "library": "var_list.r",
     "varRefreshCmd": "cat(var_dic_list()) "
    }
   },
   "types_to_exclude": [
    "module",
    "function",
    "builtin_function_or_method",
    "instance",
    "_Feature"
   ],
   "window_display": false
  }
 },
 "nbformat": 4,
 "nbformat_minor": 5
}
