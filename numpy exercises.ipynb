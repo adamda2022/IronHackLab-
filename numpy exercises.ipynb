{
 "cells": [
  {
   "cell_type": "code",
   "execution_count": 177,
   "id": "db3d56ac",
   "metadata": {},
   "outputs": [],
   "source": [
    "import numpy as np"
   ]
  },
  {
   "cell_type": "code",
   "execution_count": 178,
   "id": "0270cd54",
   "metadata": {},
   "outputs": [
    {
     "data": {
      "text/plain": [
       "'1.22.3'"
      ]
     },
     "execution_count": 178,
     "metadata": {},
     "output_type": "execute_result"
    }
   ],
   "source": [
    "np.__version__"
   ]
  },
  {
   "cell_type": "code",
   "execution_count": 179,
   "id": "6ba34aac",
   "metadata": {},
   "outputs": [
    {
     "data": {
      "text/plain": [
       "array([0., 0., 0., 0., 0., 0., 0., 0., 0., 0.])"
      ]
     },
     "execution_count": 179,
     "metadata": {},
     "output_type": "execute_result"
    }
   ],
   "source": [
    "a =np.zeros(10)\n",
    "a"
   ]
  },
  {
   "cell_type": "code",
   "execution_count": 180,
   "id": "1650feea",
   "metadata": {},
   "outputs": [
    {
     "data": {
      "text/plain": [
       "array([0., 0., 0., 0., 1., 0., 0., 0., 0., 0.])"
      ]
     },
     "execution_count": 180,
     "metadata": {},
     "output_type": "execute_result"
    }
   ],
   "source": [
    "a[4]=(1)\n",
    "a"
   ]
  },
  {
   "cell_type": "code",
   "execution_count": 181,
   "id": "c0702234",
   "metadata": {},
   "outputs": [
    {
     "data": {
      "text/plain": [
       "array([10, 11, 12, 13, 14, 15, 16, 17, 18, 19, 20, 21, 22, 23, 24, 25, 26,\n",
       "       27, 28, 29, 30, 31, 32, 33, 34, 35, 36, 37, 38, 39, 40, 41, 42, 43,\n",
       "       44, 45, 46, 47, 48])"
      ]
     },
     "execution_count": 181,
     "metadata": {},
     "output_type": "execute_result"
    }
   ],
   "source": [
    "np.arange(10,49)"
   ]
  },
  {
   "cell_type": "code",
   "execution_count": 182,
   "id": "fa02c6b0",
   "metadata": {},
   "outputs": [
    {
     "data": {
      "text/plain": [
       "array([[0, 1, 2],\n",
       "       [3, 4, 5],\n",
       "       [6, 7, 8]])"
      ]
     },
     "execution_count": 182,
     "metadata": {},
     "output_type": "execute_result"
    }
   ],
   "source": [
    "x =  np.arange(0, 9).reshape(3,3)\n",
    "x\n"
   ]
  },
  {
   "cell_type": "code",
   "execution_count": 183,
   "id": "d4994639",
   "metadata": {},
   "outputs": [
    {
     "data": {
      "text/plain": [
       "(array([0, 1, 4]),)"
      ]
     },
     "execution_count": 183,
     "metadata": {},
     "output_type": "execute_result"
    }
   ],
   "source": [
    "a = np.array ([1,2,0,0,4,0])\n",
    "b =np.nonzero(a)\n",
    "b"
   ]
  },
  {
   "cell_type": "code",
   "execution_count": 184,
   "id": "3d3b9c59",
   "metadata": {},
   "outputs": [
    {
     "data": {
      "text/plain": [
       "array([[1., 0., 0.],\n",
       "       [0., 1., 0.],\n",
       "       [0., 0., 1.]])"
      ]
     },
     "execution_count": 184,
     "metadata": {},
     "output_type": "execute_result"
    }
   ],
   "source": [
    "np.eye(3)"
   ]
  },
  {
   "cell_type": "code",
   "execution_count": 185,
   "id": "34bc3f19",
   "metadata": {},
   "outputs": [
    {
     "data": {
      "text/plain": [
       "array([0.73832064, 0.06253706, 0.55707001])"
      ]
     },
     "execution_count": 185,
     "metadata": {},
     "output_type": "execute_result"
    }
   ],
   "source": [
    "np.random.random(3)"
   ]
  },
  {
   "cell_type": "code",
   "execution_count": 186,
   "id": "dbd78389",
   "metadata": {},
   "outputs": [],
   "source": [
    "z=np.random.random(10)"
   ]
  },
  {
   "cell_type": "code",
   "execution_count": 187,
   "id": "bb6efe29",
   "metadata": {},
   "outputs": [
    {
     "data": {
      "text/plain": [
       "0.0903513067325945"
      ]
     },
     "execution_count": 187,
     "metadata": {},
     "output_type": "execute_result"
    }
   ],
   "source": [
    "np.min(z)"
   ]
  },
  {
   "cell_type": "code",
   "execution_count": 188,
   "id": "9057abeb",
   "metadata": {},
   "outputs": [
    {
     "data": {
      "text/plain": [
       "0.8870812012959122"
      ]
     },
     "execution_count": 188,
     "metadata": {},
     "output_type": "execute_result"
    }
   ],
   "source": [
    "np.max(z)"
   ]
  },
  {
   "cell_type": "code",
   "execution_count": 189,
   "id": "6377a16b",
   "metadata": {},
   "outputs": [
    {
     "data": {
      "text/plain": [
       "0.5291524331565898"
      ]
     },
     "execution_count": 189,
     "metadata": {},
     "output_type": "execute_result"
    }
   ],
   "source": [
    "u= np.random.random(30)\n",
    "np.mean(u)"
   ]
  },
  {
   "cell_type": "code",
   "execution_count": 190,
   "id": "e2e4f4bf",
   "metadata": {},
   "outputs": [
    {
     "name": "stdout",
     "output_type": "stream",
     "text": [
      "[[0 0 0 0 0]\n",
      " [1 0 0 0 0]\n",
      " [0 2 0 0 0]\n",
      " [0 0 3 0 0]\n",
      " [0 0 0 4 0]]\n"
     ]
    }
   ],
   "source": [
    "Z = np.diag(1+np.arange(4), k = -1)\n",
    "print (Z)"
   ]
  },
  {
   "cell_type": "code",
   "execution_count": 191,
   "id": "4d73d1b7",
   "metadata": {},
   "outputs": [
    {
     "name": "stdout",
     "output_type": "stream",
     "text": [
      "[[0.35505961 0.41655823 1.         0.31894589 0.40652154]\n",
      " [0.86212183 0.0853108  0.91587513 0.95189731 0.10782398]\n",
      " [0.         0.74322443 0.64366374 0.40979693 0.33598704]\n",
      " [0.30539298 0.64324604 0.2971521  0.85040582 0.8306413 ]\n",
      " [0.11743289 0.05593644 0.30417886 0.40532911 0.7716474 ]]\n"
     ]
    }
   ],
   "source": [
    "Z = np.random.random((5,5))\n",
    "Zmax, Zmin = Z.max(), Z.min()\n",
    "Z= (Z-Zmin)/(Zmax-Zmin)\n",
    "print (Z)"
   ]
  },
  {
   "cell_type": "code",
   "execution_count": 192,
   "id": "a9afef5b",
   "metadata": {},
   "outputs": [
    {
     "name": "stdout",
     "output_type": "stream",
     "text": [
      "[[1 2 0]\n",
      " [2 5 5]\n",
      " [1 2 4]]\n",
      "[[2 4 3]\n",
      " [2 3 5]\n",
      " [5 5 3]]\n"
     ]
    },
    {
     "data": {
      "text/plain": [
       "array([2, 4, 5])"
      ]
     },
     "execution_count": 192,
     "metadata": {},
     "output_type": "execute_result"
    }
   ],
   "source": [
    "d=np.random.randint(0,6,(3,3))\n",
    "e=np.random.randint(2,6,(3,3))\n",
    "print(d)\n",
    "print(e)\n",
    "np.intersect1d(d,e)"
   ]
  },
  {
   "cell_type": "code",
   "execution_count": 193,
   "id": "1a200506",
   "metadata": {},
   "outputs": [
    {
     "data": {
      "text/plain": [
       "array([0.02793183, 0.08774092, 0.11883991, 0.15131276, 0.17518534,\n",
       "       0.20089624, 0.6694007 , 0.73377766, 0.84693822, 0.96709866])"
      ]
     },
     "execution_count": 193,
     "metadata": {},
     "output_type": "execute_result"
    }
   ],
   "source": [
    "f=np.random.rand(10)\n",
    "np.sort(f)"
   ]
  },
  {
   "cell_type": "code",
   "execution_count": 194,
   "id": "a81ca507",
   "metadata": {},
   "outputs": [
    {
     "name": "stdout",
     "output_type": "stream",
     "text": [
      "[0.57491338 0.8870812  0.09035131 0.74639375 0.19657879 0.69317529\n",
      " 0.62411574 0.17848444 0.49798085 0.41521611]\n",
      "[0.41342939 0.         0.07336519 0.16664137 0.026013   0.81598945\n",
      " 0.75360997 0.78639403 0.87238372 0.26628892]\n"
     ]
    }
   ],
   "source": [
    "Z = np.random.random(10)\n",
    "print(z)\n",
    "Z[Z.argmax()] = 0\n",
    "print(Z)"
   ]
  },
  {
   "cell_type": "code",
   "execution_count": 195,
   "id": "331bb721",
   "metadata": {},
   "outputs": [
    {
     "data": {
      "text/plain": [
       "array([[1.],\n",
       "       [4.],\n",
       "       [7.]])"
      ]
     },
     "execution_count": 195,
     "metadata": {},
     "output_type": "execute_result"
    }
   ],
   "source": [
    "X = np.random.rand(5, 10)\n",
    "x.mean(axis=1,keepdims=True)"
   ]
  },
  {
   "cell_type": "code",
   "execution_count": 196,
   "id": "3c99b9eb",
   "metadata": {},
   "outputs": [
    {
     "name": "stdout",
     "output_type": "stream",
     "text": [
      "[9995 9996 9997 9998 9999]\n",
      "[9997 9998 9999 9996 9995]\n"
     ]
    }
   ],
   "source": [
    "Z = np.arange(10000)\n",
    "np.random.shuffle(Z)\n",
    "n = 5\n",
    "\n",
    "print (Z[np.argsort(Z)[-n:]])\n",
    "\n",
    "print (Z[np.argpartition(-Z,n)[:n]])"
   ]
  },
  {
   "cell_type": "code",
   "execution_count": 197,
   "id": "14260446",
   "metadata": {},
   "outputs": [
    {
     "data": {
      "text/plain": [
       "array([[-0.12807462,  3.31695297, -0.8759313 , -2.70308917,  1.1088108 ],\n",
       "       [-5.64116773, -3.41871048,  2.2436485 , -1.69950302, -1.54259358],\n",
       "       [ 0.03577589, -0.14538965,  0.7466148 , -2.47908765,  5.90307662]])"
      ]
     },
     "execution_count": 197,
     "metadata": {},
     "output_type": "execute_result"
    }
   ],
   "source": [
    "x = 3*np.random.randn(3, 5)\n",
    "x"
   ]
  },
  {
   "cell_type": "code",
   "execution_count": 198,
   "id": "12df7feb",
   "metadata": {},
   "outputs": [
    {
     "data": {
      "text/plain": [
       "array([[-0.12807462,  3.31695297, -0.8759313 , -2.70308917,  1.1088108 ],\n",
       "       [-5.64116773, -3.41871048,  2.2436485 , -1.69950302, -1.54259358],\n",
       "       [ 0.03577589, -0.14538965,  0.7466148 , -2.47908765, 34.84631362]])"
      ]
     },
     "execution_count": 198,
     "metadata": {},
     "output_type": "execute_result"
    }
   ],
   "source": [
    "z=np.where(x<4,x,x**2)\n",
    "z"
   ]
  },
  {
   "cell_type": "code",
   "execution_count": null,
   "id": "3222c851",
   "metadata": {},
   "outputs": [],
   "source": []
  },
  {
   "cell_type": "code",
   "execution_count": null,
   "id": "b7caaa40",
   "metadata": {},
   "outputs": [],
   "source": []
  },
  {
   "cell_type": "code",
   "execution_count": null,
   "id": "84f75981",
   "metadata": {},
   "outputs": [],
   "source": []
  }
 ],
 "metadata": {
  "kernelspec": {
   "display_name": "Python 3 (ipykernel)",
   "language": "python",
   "name": "python3"
  },
  "language_info": {
   "codemirror_mode": {
    "name": "ipython",
    "version": 3
   },
   "file_extension": ".py",
   "mimetype": "text/x-python",
   "name": "python",
   "nbconvert_exporter": "python",
   "pygments_lexer": "ipython3",
   "version": "3.9.12"
  }
 },
 "nbformat": 4,
 "nbformat_minor": 5
}
