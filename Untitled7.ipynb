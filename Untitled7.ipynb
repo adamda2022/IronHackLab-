{
 "cells": [
  {
   "cell_type": "code",
   "execution_count": 29,
   "id": "03178551",
   "metadata": {},
   "outputs": [],
   "source": [
    "import numpy as np\n",
    "import pandas as pd\n",
    "import pickle\n",
    "from sklearn import datasets # sklearn comes with some toy datasets to practise\n",
    "from sklearn.preprocessing import StandardScaler\n",
    "from sklearn.cluster import KMeans\n",
    "from matplotlib import pyplot\n",
    "from sklearn.metrics import silhouette_score\n",
    "from spotipy.oauth2 import SpotifyClientCredentials\n",
    "import spotipy\n",
    "from IPython.display import IFrame\n",
    "import config\n"
   ]
  },
  {
   "cell_type": "code",
   "execution_count": 30,
   "id": "b76cd2af",
   "metadata": {},
   "outputs": [],
   "source": [
    "sp = spotipy.Spotify(auth_manager=SpotifyClientCredentials(client_id= config.c_id,\n",
    "                                                           client_secret= config.c_se))"
   ]
  },
  {
   "cell_type": "code",
   "execution_count": 61,
   "id": "bf1a3788",
   "metadata": {},
   "outputs": [
    {
     "name": "stdout",
     "output_type": "stream",
     "text": [
      "Enter a song: bilie jean\n"
     ]
    },
    {
     "ename": "TypeError",
     "evalue": "list.append() takes exactly one argument (2 given)",
     "output_type": "error",
     "traceback": [
      "\u001b[0;31m---------------------------------------------------------------------------\u001b[0m",
      "\u001b[0;31mTypeError\u001b[0m                                 Traceback (most recent call last)",
      "Input \u001b[0;32mIn [61]\u001b[0m, in \u001b[0;36m<cell line: 14>\u001b[0;34m()\u001b[0m\n\u001b[1;32m     11\u001b[0m     select \u001b[38;5;241m=\u001b[39m \u001b[38;5;28mint\u001b[39m(\u001b[38;5;28minput\u001b[39m(\u001b[38;5;124m'\u001b[39m\u001b[38;5;124mChose a Song: \u001b[39m\u001b[38;5;124m'\u001b[39m))\n\u001b[1;32m     12\u001b[0m     \u001b[38;5;28mprint\u001b[39m([select])\n\u001b[0;32m---> 14\u001b[0m \u001b[43mRecommender\u001b[49m\u001b[43m(\u001b[49m\u001b[43m)\u001b[49m\n",
      "Input \u001b[0;32mIn [61]\u001b[0m, in \u001b[0;36mRecommender\u001b[0;34m()\u001b[0m\n\u001b[1;32m      7\u001b[0m     artist \u001b[38;5;241m=\u001b[39m track[\u001b[38;5;124m'\u001b[39m\u001b[38;5;124mtracks\u001b[39m\u001b[38;5;124m'\u001b[39m][\u001b[38;5;124m'\u001b[39m\u001b[38;5;124mitems\u001b[39m\u001b[38;5;124m'\u001b[39m][i][\u001b[38;5;124m'\u001b[39m\u001b[38;5;124martists\u001b[39m\u001b[38;5;124m'\u001b[39m][\u001b[38;5;241m0\u001b[39m][\u001b[38;5;124m'\u001b[39m\u001b[38;5;124mname\u001b[39m\u001b[38;5;124m'\u001b[39m]\n\u001b[1;32m      8\u001b[0m     album \u001b[38;5;241m=\u001b[39m track [\u001b[38;5;124m'\u001b[39m\u001b[38;5;124mtracks\u001b[39m\u001b[38;5;124m'\u001b[39m][\u001b[38;5;124m'\u001b[39m\u001b[38;5;124mitems\u001b[39m\u001b[38;5;124m'\u001b[39m][i][\u001b[38;5;124m'\u001b[39m\u001b[38;5;124malbum\u001b[39m\u001b[38;5;124m'\u001b[39m][\u001b[38;5;124m'\u001b[39m\u001b[38;5;124mname\u001b[39m\u001b[38;5;124m'\u001b[39m]\n\u001b[0;32m----> 9\u001b[0m     \u001b[38;5;28;43mlist\u001b[39;49m\u001b[38;5;241;43m.\u001b[39;49m\u001b[43mappend\u001b[49m\u001b[43m(\u001b[49m\u001b[43martist\u001b[49m\u001b[43m,\u001b[49m\u001b[43malbum\u001b[49m\u001b[43m)\u001b[49m\n\u001b[1;32m     10\u001b[0m \u001b[38;5;28mprint\u001b[39m(i,\u001b[38;5;124m'\u001b[39m\u001b[38;5;124mArtist: \u001b[39m\u001b[38;5;124m'\u001b[39m, artist, \u001b[38;5;124m'\u001b[39m\u001b[38;5;124mAlbum :\u001b[39m\u001b[38;5;124m'\u001b[39m,album)\n\u001b[1;32m     11\u001b[0m select \u001b[38;5;241m=\u001b[39m \u001b[38;5;28mint\u001b[39m(\u001b[38;5;28minput\u001b[39m(\u001b[38;5;124m'\u001b[39m\u001b[38;5;124mChose a Song: \u001b[39m\u001b[38;5;124m'\u001b[39m))\n",
      "\u001b[0;31mTypeError\u001b[0m: list.append() takes exactly one argument (2 given)"
     ]
    }
   ],
   "source": [
    "def Recommender():\n",
    "    dict= {}\n",
    "    name = input('Enter a song: ')\n",
    "    track = sp.search(q=name, type ='track', limit=3)\n",
    "    n_songs = len(track['tracks']['items'])\n",
    "    for i in range(n_songs):\n",
    "        artist = track['tracks']['items'][i]['artists'][0]['name']\n",
    "        album = track ['tracks']['items'][i]['album']['name']\n",
    "        dict.append(artist,album)\n",
    "    print(i,'Artist: ', artist, 'Album :',album)\n",
    "    select = int(input('Chose a Song: '))\n",
    "    print([select])\n",
    "    \n",
    "Recommender()"
   ]
  },
  {
   "cell_type": "code",
   "execution_count": 59,
   "id": "4e0a548b",
   "metadata": {},
   "outputs": [
    {
     "ename": "SyntaxError",
     "evalue": "invalid syntax (4035683860.py, line 8)",
     "output_type": "error",
     "traceback": [
      "\u001b[0;36m  Input \u001b[0;32mIn [59]\u001b[0;36m\u001b[0m\n\u001b[0;31m    my cluster = int(kmeans.predict(features))\u001b[0m\n\u001b[0m       ^\u001b[0m\n\u001b[0;31mSyntaxError\u001b[0m\u001b[0;31m:\u001b[0m invalid syntax\n"
     ]
    }
   ],
   "source": [
    "track = sp.search(q='somebody to love', type='track', limit=5)\n",
    "artist = track['tracks']['items'][0]['artist'][0]['name']\n",
    "uri = track['tracks']['items'][0]['id']\n",
    "features = pd.DataFrame(sp.audio_features(tracks=uri))\n",
    "features = features[['danceability','energy','loudness','speechiness', 'acousticness','instrumentalness','liveness','valence','tempo']]\n",
    "\n",
    "features\n",
    "my cluster = int(kmeans.predict(features))\n",
    "my cluster"
   ]
  },
  {
   "cell_type": "code",
   "execution_count": 47,
   "id": "ff0f57ef",
   "metadata": {},
   "outputs": [
    {
     "ename": "SyntaxError",
     "evalue": "invalid syntax (851564964.py, line 6)",
     "output_type": "error",
     "traceback": [
      "\u001b[0;36m  Input \u001b[0;32mIn [47]\u001b[0;36m\u001b[0m\n\u001b[0;31m    my cluster\u001b[0m\n\u001b[0m       ^\u001b[0m\n\u001b[0;31mSyntaxError\u001b[0m\u001b[0;31m:\u001b[0m invalid syntax\n"
     ]
    }
   ],
   "source": [
    "kmeans = load(\"kmeans tommella.pickle\")\n",
    "features=pd.DataFrame(sp.audio_features(tracks=uri))\n",
    "features = features[['danceability','energy' ,'loudness','instrumentalness','liveness','valence','tempo']]\n",
    "features\n",
    "my_cluster = int(kmeans.predict (features))\n",
    "my cluster\n",
    "features_db = features_db[(features _db['cluster'] == my_cluster)]\n",
    "features db"
   ]
  },
  {
   "cell_type": "code",
   "execution_count": null,
   "id": "d699f8d3",
   "metadata": {},
   "outputs": [],
   "source": [
    "lenght = len(features_db.index)\n",
    "r = randint(1, length)\n",
    "new_song = features_db[(features_db.index ==r)]\n",
    "print(new_song['id'])\n",
    "track_id = str(new_song['id'].value)\n",
    "track_id"
   ]
  }
 ],
 "metadata": {
  "kernelspec": {
   "display_name": "Python 3 (ipykernel)",
   "language": "python",
   "name": "python3"
  },
  "language_info": {
   "codemirror_mode": {
    "name": "ipython",
    "version": 3
   },
   "file_extension": ".py",
   "mimetype": "text/x-python",
   "name": "python",
   "nbconvert_exporter": "python",
   "pygments_lexer": "ipython3",
   "version": "3.9.12"
  },
  "toc": {
   "base_numbering": 1,
   "nav_menu": {},
   "number_sections": true,
   "sideBar": true,
   "skip_h1_title": false,
   "title_cell": "Table of Contents",
   "title_sidebar": "Contents",
   "toc_cell": false,
   "toc_position": {},
   "toc_section_display": true,
   "toc_window_display": false
  },
  "varInspector": {
   "cols": {
    "lenName": 16,
    "lenType": 16,
    "lenVar": 40
   },
   "kernels_config": {
    "python": {
     "delete_cmd_postfix": "",
     "delete_cmd_prefix": "del ",
     "library": "var_list.py",
     "varRefreshCmd": "print(var_dic_list())"
    },
    "r": {
     "delete_cmd_postfix": ") ",
     "delete_cmd_prefix": "rm(",
     "library": "var_list.r",
     "varRefreshCmd": "cat(var_dic_list()) "
    }
   },
   "types_to_exclude": [
    "module",
    "function",
    "builtin_function_or_method",
    "instance",
    "_Feature"
   ],
   "window_display": false
  }
 },
 "nbformat": 4,
 "nbformat_minor": 5
}
